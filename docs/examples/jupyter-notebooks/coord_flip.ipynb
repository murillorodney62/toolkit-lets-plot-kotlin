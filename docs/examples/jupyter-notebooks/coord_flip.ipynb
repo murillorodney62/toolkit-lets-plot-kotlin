{
 "cells": [
  {
   "cell_type": "code",
   "execution_count": 1,
   "id": "confident-catalyst",
   "metadata": {},
   "outputs": [
    {
     "data": {
      "text/html": [
       "   <div id=\"nLi6IV\"></div>\n",
       "   <script type=\"text/javascript\" data-lets-plot-script=\"library\">\n",
       "       if(!window.letsPlotCallQueue) {\n",
       "           window.letsPlotCallQueue = [];\n",
       "       }; \n",
       "       window.letsPlotCall = function(f) {\n",
       "           window.letsPlotCallQueue.push(f);\n",
       "       };\n",
       "       (function() {\n",
       "           var script = document.createElement(\"script\");\n",
       "           script.type = \"text/javascript\";\n",
       "           script.src = \"https://cdn.jsdelivr.net/gh/JetBrains/lets-plot@v2.2.1/js-package/distr/lets-plot.min.js\";\n",
       "           script.onload = function() {\n",
       "               window.letsPlotCall = function(f) {f();};\n",
       "               window.letsPlotCallQueue.forEach(function(f) {f();});\n",
       "               window.letsPlotCallQueue = [];\n",
       "               \n",
       "               \n",
       "           };\n",
       "           script.onerror = function(event) {\n",
       "               window.letsPlotCall = function(f) {};\n",
       "               window.letsPlotCallQueue = [];\n",
       "               var div = document.createElement(\"div\");\n",
       "               div.style.color = 'darkred';\n",
       "               div.textContent = 'Error loading Lets-Plot JS';\n",
       "               document.getElementById(\"nLi6IV\").appendChild(div);\n",
       "           };\n",
       "           var e = document.getElementById(\"nLi6IV\");\n",
       "           e.appendChild(script);\n",
       "       })();\n",
       "   </script>"
      ]
     },
     "metadata": {},
     "output_type": "display_data"
    }
   ],
   "source": [
    "%useLatestDescriptors\n",
    "%use lets-plot\n",
    "%use krangl"
   ]
  },
  {
   "cell_type": "code",
   "execution_count": 2,
   "id": "straight-security",
   "metadata": {},
   "outputs": [
    {
     "data": {
      "text/html": [
       "<html><body><table><tr><th style=\"text-align:left\"></th><th style=\"text-align:left\">manufacturer</th><th style=\"text-align:left\">model</th><th style=\"text-align:left\">displ</th><th style=\"text-align:left\">year</th><th style=\"text-align:left\">cyl</th><th style=\"text-align:left\">trans</th><th style=\"text-align:left\">drv</th><th style=\"text-align:left\">cty</th><th style=\"text-align:left\">hwy</th><th style=\"text-align:left\">fl</th><th style=\"text-align:left\">class</th></tr><tr><td style=\"text-align:left\" title=\"1\">1</td><td style=\"text-align:left\" title=\"audi\">audi</td><td style=\"text-align:left\" title=\"a4\">a4</td><td style=\"text-align:left\" title=\"1.8\">1.8</td><td style=\"text-align:left\" title=\"1999\">1999</td><td style=\"text-align:left\" title=\"4\">4</td><td style=\"text-align:left\" title=\"auto(l5)\">auto(l5)</td><td style=\"text-align:left\" title=\"f\">f</td><td style=\"text-align:left\" title=\"18\">18</td><td style=\"text-align:left\" title=\"29\">29</td><td style=\"text-align:left\" title=\"p\">p</td><td style=\"text-align:left\" title=\"compact\">compact</td></tr><tr><td style=\"text-align:left\" title=\"2\">2</td><td style=\"text-align:left\" title=\"audi\">audi</td><td style=\"text-align:left\" title=\"a4\">a4</td><td style=\"text-align:left\" title=\"1.8\">1.8</td><td style=\"text-align:left\" title=\"1999\">1999</td><td style=\"text-align:left\" title=\"4\">4</td><td style=\"text-align:left\" title=\"manual(m5)\">manual(m5)</td><td style=\"text-align:left\" title=\"f\">f</td><td style=\"text-align:left\" title=\"21\">21</td><td style=\"text-align:left\" title=\"29\">29</td><td style=\"text-align:left\" title=\"p\">p</td><td style=\"text-align:left\" title=\"compact\">compact</td></tr><tr><td style=\"text-align:left\" title=\"3\">3</td><td style=\"text-align:left\" title=\"audi\">audi</td><td style=\"text-align:left\" title=\"a4\">a4</td><td style=\"text-align:left\" title=\"2.0\">2.0</td><td style=\"text-align:left\" title=\"2008\">2008</td><td style=\"text-align:left\" title=\"4\">4</td><td style=\"text-align:left\" title=\"manual(m6)\">manual(m6)</td><td style=\"text-align:left\" title=\"f\">f</td><td style=\"text-align:left\" title=\"20\">20</td><td style=\"text-align:left\" title=\"31\">31</td><td style=\"text-align:left\" title=\"p\">p</td><td style=\"text-align:left\" title=\"compact\">compact</td></tr></table><p>Shape: 3 x 12. \n",
       "</p></body></html>"
      ]
     },
     "execution_count": 2,
     "metadata": {},
     "output_type": "execute_result"
    }
   ],
   "source": [
    "var mpg = DataFrame.readCSV(\"https://raw.githubusercontent.com/JetBrains/lets-plot-kotlin/master/docs/examples/data/mpg.csv\")\n",
    "mpg.head(3)"
   ]
  },
  {
   "cell_type": "code",
   "execution_count": 3,
   "id": "vital-amendment",
   "metadata": {},
   "outputs": [],
   "source": [
    "val p = letsPlot(mpg.toMap()) + theme(axisTitleX=\"blank\")"
   ]
  },
  {
   "cell_type": "code",
   "execution_count": 4,
   "id": "exotic-diagnosis",
   "metadata": {},
   "outputs": [
    {
     "data": {
      "text/html": [
       "   <div id=\"MthojE\"></div>\n",
       "   <script type=\"text/javascript\" data-lets-plot-script=\"plot\">\n",
       "       (function() {\n",
       "           var plotSpec={\n",
       "\"ggtitle\":{\n",
       "\"text\":\"Default\"\n",
       "},\n",
       "\"mapping\":{\n",
       "},\n",
       "\"data\":{\n",
       "},\n",
       "\"ggsize\":{\n",
       "\"width\":750.0,\n",
       "\"height\":300.0\n",
       "},\n",
       "\"kind\":\"plot\",\n",
       "\"scales\":[],\n",
       "\"layers\":[{\n",
       "\"mapping\":{\n",
       "\"x\":\"@as_discrete@class\",\n",
       "\"y\":\"hwy\"\n",
       "},\n",
       "\"stat\":\"boxplot\",\n",
       "\"color\":\"#579673\",\n",
       "\"size\":1.5,\n",
       "\"position\":\"dodge\",\n",
       "\"geom\":\"boxplot\",\n",
       "\"fill\":\"#9AC0B3\",\n",
       "\"data_meta\":{\n",
       "\"mapping_annotations\":[{\n",
       "\"aes\":\"x\",\n",
       "\"annotation\":\"as_discrete\",\n",
       "\"parameters\":{\n",
       "\"label\":\"class\",\n",
       "\"order_by\":\"..middle..\",\n",
       "\"order\":1\n",
       "}\n",
       "}]\n",
       "},\n",
       "\"data\":{\n",
       "\"..middle..\":[NaN,NaN,NaN,NaN,27.0,27.0,NaN,NaN,NaN,NaN,NaN,NaN,NaN,NaN,17.5,NaN,23.0,NaN,NaN,NaN,NaN,17.0,25.0,NaN,NaN,26.0],\n",
       "\"..upper..\":[NaN,NaN,NaN,NaN,29.0,29.0,NaN,NaN,NaN,NaN,NaN,NaN,NaN,NaN,19.0,NaN,24.0,NaN,NaN,NaN,NaN,18.0,26.0,NaN,NaN,30.5],\n",
       "\"..ymax..\":[NaN,NaN,NaN,NaN,33.0,32.0,NaN,NaN,NaN,NaN,NaN,NaN,NaN,NaN,22.0,NaN,24.0,NaN,NaN,NaN,NaN,20.0,26.0,NaN,NaN,36.0],\n",
       "\"..lower..\":[NaN,NaN,NaN,NaN,26.0,26.0,NaN,NaN,NaN,NaN,NaN,NaN,NaN,NaN,17.0,NaN,22.0,NaN,NaN,NaN,NaN,16.0,24.0,NaN,NaN,24.5],\n",
       "\"..ymin..\":[NaN,NaN,NaN,NaN,23.0,23.0,NaN,NaN,NaN,NaN,NaN,NaN,NaN,NaN,14.0,NaN,21.0,NaN,NaN,NaN,NaN,15.0,23.0,NaN,NaN,20.0],\n",
       "\"hwy\":[35.0,37.0,35.0,44.0,NaN,NaN,12.0,12.0,25.0,24.0,27.0,25.0,26.0,23.0,NaN,17.0,NaN,12.0,12.0,12.0,22.0,NaN,NaN,44.0,41.0,NaN],\n",
       "\"@as_discrete@class\":[\"compact\",\"compact\",\"compact\",\"compact\",\"compact\",\"midsize\",\"suv\",\"suv\",\"suv\",\"suv\",\"suv\",\"suv\",\"suv\",\"suv\",\"suv\",\"minivan\",\"minivan\",\"pickup\",\"pickup\",\"pickup\",\"pickup\",\"pickup\",\"2seater\",\"subcompact\",\"subcompact\",\"subcompact\"]\n",
       "}\n",
       "}],\n",
       "\"theme\":{\n",
       "\"axis_title_x\":\"blank\"\n",
       "}\n",
       "};\n",
       "           var plotContainer = document.getElementById(\"MthojE\");\n",
       "           window.letsPlotCall(function() {{\n",
       "               LetsPlot.buildPlotFromProcessedSpecs(plotSpec, -1, -1, plotContainer);\n",
       "           }});\n",
       "       })();    \n",
       "   </script>"
      ]
     },
     "execution_count": 4,
     "metadata": {},
     "output_type": "execute_result"
    }
   ],
   "source": [
    "val boxPlot = p + \n",
    "    geomBoxplot(color=\"#579673\", fill=\"#9AC0B3\", size=1.5) {\n",
    "        x = asDiscrete(\"class\", order=1, orderBy=\"..middle..\")\n",
    "        y = \"hwy\" \n",
    "    } + \n",
    "    ggsize(750, 300)\n",
    "    \n",
    "boxPlot + ggtitle(\"Default\")    "
   ]
  },
  {
   "cell_type": "code",
   "execution_count": 5,
   "id": "touched-bicycle",
   "metadata": {},
   "outputs": [
    {
     "data": {
      "text/html": [
       "   <div id=\"nKD311\"></div>\n",
       "   <script type=\"text/javascript\" data-lets-plot-script=\"plot\">\n",
       "       (function() {\n",
       "           var plotSpec={\n",
       "\"ggtitle\":{\n",
       "\"text\":\"Flipped\"\n",
       "},\n",
       "\"mapping\":{\n",
       "},\n",
       "\"coord\":{\n",
       "\"name\":\"flip\",\n",
       "\"flip\":true\n",
       "},\n",
       "\"data\":{\n",
       "},\n",
       "\"ggsize\":{\n",
       "\"width\":750.0,\n",
       "\"height\":300.0\n",
       "},\n",
       "\"kind\":\"plot\",\n",
       "\"scales\":[],\n",
       "\"layers\":[{\n",
       "\"mapping\":{\n",
       "\"x\":\"@as_discrete@class\",\n",
       "\"y\":\"hwy\"\n",
       "},\n",
       "\"stat\":\"boxplot\",\n",
       "\"color\":\"#579673\",\n",
       "\"size\":1.5,\n",
       "\"position\":\"dodge\",\n",
       "\"geom\":\"boxplot\",\n",
       "\"fill\":\"#9AC0B3\",\n",
       "\"data_meta\":{\n",
       "\"mapping_annotations\":[{\n",
       "\"aes\":\"x\",\n",
       "\"annotation\":\"as_discrete\",\n",
       "\"parameters\":{\n",
       "\"label\":\"class\",\n",
       "\"order_by\":\"..middle..\",\n",
       "\"order\":1\n",
       "}\n",
       "}]\n",
       "},\n",
       "\"data\":{\n",
       "\"..middle..\":[NaN,NaN,NaN,NaN,27.0,27.0,NaN,NaN,NaN,NaN,NaN,NaN,NaN,NaN,17.5,NaN,23.0,NaN,NaN,NaN,NaN,17.0,25.0,NaN,NaN,26.0],\n",
       "\"..upper..\":[NaN,NaN,NaN,NaN,29.0,29.0,NaN,NaN,NaN,NaN,NaN,NaN,NaN,NaN,19.0,NaN,24.0,NaN,NaN,NaN,NaN,18.0,26.0,NaN,NaN,30.5],\n",
       "\"..ymax..\":[NaN,NaN,NaN,NaN,33.0,32.0,NaN,NaN,NaN,NaN,NaN,NaN,NaN,NaN,22.0,NaN,24.0,NaN,NaN,NaN,NaN,20.0,26.0,NaN,NaN,36.0],\n",
       "\"..lower..\":[NaN,NaN,NaN,NaN,26.0,26.0,NaN,NaN,NaN,NaN,NaN,NaN,NaN,NaN,17.0,NaN,22.0,NaN,NaN,NaN,NaN,16.0,24.0,NaN,NaN,24.5],\n",
       "\"..ymin..\":[NaN,NaN,NaN,NaN,23.0,23.0,NaN,NaN,NaN,NaN,NaN,NaN,NaN,NaN,14.0,NaN,21.0,NaN,NaN,NaN,NaN,15.0,23.0,NaN,NaN,20.0],\n",
       "\"@as_discrete@class\":[\"compact\",\"compact\",\"compact\",\"compact\",\"compact\",\"midsize\",\"suv\",\"suv\",\"suv\",\"suv\",\"suv\",\"suv\",\"suv\",\"suv\",\"suv\",\"minivan\",\"minivan\",\"pickup\",\"pickup\",\"pickup\",\"pickup\",\"pickup\",\"2seater\",\"subcompact\",\"subcompact\",\"subcompact\"],\n",
       "\"hwy\":[35.0,37.0,35.0,44.0,NaN,NaN,12.0,12.0,25.0,24.0,27.0,25.0,26.0,23.0,NaN,17.0,NaN,12.0,12.0,12.0,22.0,NaN,NaN,44.0,41.0,NaN]\n",
       "}\n",
       "}],\n",
       "\"theme\":{\n",
       "\"axis_title_x\":\"blank\"\n",
       "}\n",
       "};\n",
       "           var plotContainer = document.getElementById(\"nKD311\");\n",
       "           window.letsPlotCall(function() {{\n",
       "               LetsPlot.buildPlotFromProcessedSpecs(plotSpec, -1, -1, plotContainer);\n",
       "           }});\n",
       "       })();    \n",
       "   </script>"
      ]
     },
     "execution_count": 5,
     "metadata": {},
     "output_type": "execute_result"
    }
   ],
   "source": [
    "boxPlot + ggtitle(\"Flipped\") + coordFlip()"
   ]
  },
  {
   "cell_type": "code",
   "execution_count": 6,
   "id": "egyptian-speech",
   "metadata": {},
   "outputs": [
    {
     "data": {
      "text/html": [
       "   <div id=\"KFpnoB\"></div>\n",
       "   <script type=\"text/javascript\" data-lets-plot-script=\"plot\">\n",
       "       (function() {\n",
       "           var plotSpec={\n",
       "\"ggtitle\":{\n",
       "\"text\":\"Default\"\n",
       "},\n",
       "\"mapping\":{\n",
       "},\n",
       "\"data\":{\n",
       "},\n",
       "\"ggsize\":{\n",
       "\"width\":800.0,\n",
       "\"height\":300.0\n",
       "},\n",
       "\"kind\":\"plot\",\n",
       "\"scales\":[],\n",
       "\"layers\":[{\n",
       "\"mapping\":{\n",
       "\"x\":\"@as_discrete@manufacturer\",\n",
       "\"color\":\"class\",\n",
       "\"fill\":\"class\"\n",
       "},\n",
       "\"stat\":\"count\",\n",
       "\"size\":1.5,\n",
       "\"alpha\":0.7,\n",
       "\"width\":0.7,\n",
       "\"position\":\"stack\",\n",
       "\"geom\":\"bar\",\n",
       "\"data_meta\":{\n",
       "\"mapping_annotations\":[{\n",
       "\"aes\":\"x\",\n",
       "\"annotation\":\"as_discrete\",\n",
       "\"parameters\":{\n",
       "\"label\":\"manufacturer\",\n",
       "\"order_by\":\"..count..\"\n",
       "}\n",
       "}]\n",
       "},\n",
       "\"data\":{\n",
       "\"..count..\":[15.0,2.0,4.0,12.0,14.0,3.0,5.0,7.0,7.0,5.0,7.0,7.0,9.0,7.0,9.0,8.0,4.0,3.0,4.0,4.0,6.0,8.0,5.0,11.0,19.0,7.0,7.0,9.0,9.0,7.0,4.0,6.0],\n",
       "\"class\":[\"compact\",\"compact\",\"compact\",\"compact\",\"compact\",\"midsize\",\"midsize\",\"midsize\",\"midsize\",\"midsize\",\"midsize\",\"midsize\",\"suv\",\"suv\",\"suv\",\"suv\",\"suv\",\"suv\",\"suv\",\"suv\",\"suv\",\"suv\",\"2seater\",\"minivan\",\"pickup\",\"pickup\",\"pickup\",\"subcompact\",\"subcompact\",\"subcompact\",\"subcompact\",\"subcompact\"],\n",
       "\"@as_discrete@manufacturer\":[\"audi\",\"nissan\",\"subaru\",\"toyota\",\"volkswagen\",\"audi\",\"chevrolet\",\"hyundai\",\"nissan\",\"pontiac\",\"toyota\",\"volkswagen\",\"chevrolet\",\"dodge\",\"ford\",\"jeep\",\"land rover\",\"lincoln\",\"mercury\",\"nissan\",\"subaru\",\"toyota\",\"chevrolet\",\"dodge\",\"dodge\",\"ford\",\"toyota\",\"ford\",\"honda\",\"hyundai\",\"subaru\",\"volkswagen\"]\n",
       "}\n",
       "}],\n",
       "\"theme\":{\n",
       "\"axis_title_x\":\"blank\"\n",
       "}\n",
       "};\n",
       "           var plotContainer = document.getElementById(\"KFpnoB\");\n",
       "           window.letsPlotCall(function() {{\n",
       "               LetsPlot.buildPlotFromProcessedSpecs(plotSpec, -1, -1, plotContainer);\n",
       "           }});\n",
       "       })();    \n",
       "   </script>"
      ]
     },
     "execution_count": 6,
     "metadata": {},
     "output_type": "execute_result"
    }
   ],
   "source": [
    "val barPlot = p + \n",
    "    geomBar(size=1.5, alpha=0.7, width=0.7) {\n",
    "        x = asDiscrete(\"manufacturer\", orderBy=\"..count..\")\n",
    "        fill = \"class\"\n",
    "        color = \"class\"\n",
    "    } +\n",
    "    ggsize(800, 300)\n",
    "    \n",
    "barPlot + ggtitle(\"Default\")"
   ]
  },
  {
   "cell_type": "code",
   "execution_count": 7,
   "id": "major-royal",
   "metadata": {},
   "outputs": [
    {
     "data": {
      "text/html": [
       "   <div id=\"zF8Ukr\"></div>\n",
       "   <script type=\"text/javascript\" data-lets-plot-script=\"plot\">\n",
       "       (function() {\n",
       "           var plotSpec={\n",
       "\"ggtitle\":{\n",
       "\"text\":\"Flipped\"\n",
       "},\n",
       "\"mapping\":{\n",
       "},\n",
       "\"coord\":{\n",
       "\"name\":\"flip\",\n",
       "\"flip\":true\n",
       "},\n",
       "\"data\":{\n",
       "},\n",
       "\"ggsize\":{\n",
       "\"width\":800.0,\n",
       "\"height\":300.0\n",
       "},\n",
       "\"kind\":\"plot\",\n",
       "\"scales\":[],\n",
       "\"layers\":[{\n",
       "\"mapping\":{\n",
       "\"x\":\"@as_discrete@manufacturer\",\n",
       "\"color\":\"class\",\n",
       "\"fill\":\"class\"\n",
       "},\n",
       "\"stat\":\"count\",\n",
       "\"size\":1.5,\n",
       "\"alpha\":0.7,\n",
       "\"width\":0.7,\n",
       "\"position\":\"stack\",\n",
       "\"geom\":\"bar\",\n",
       "\"data_meta\":{\n",
       "\"mapping_annotations\":[{\n",
       "\"aes\":\"x\",\n",
       "\"annotation\":\"as_discrete\",\n",
       "\"parameters\":{\n",
       "\"label\":\"manufacturer\",\n",
       "\"order_by\":\"..count..\"\n",
       "}\n",
       "}]\n",
       "},\n",
       "\"data\":{\n",
       "\"..count..\":[15.0,2.0,4.0,12.0,14.0,3.0,5.0,7.0,7.0,5.0,7.0,7.0,9.0,7.0,9.0,8.0,4.0,3.0,4.0,4.0,6.0,8.0,5.0,11.0,19.0,7.0,7.0,9.0,9.0,7.0,4.0,6.0],\n",
       "\"class\":[\"compact\",\"compact\",\"compact\",\"compact\",\"compact\",\"midsize\",\"midsize\",\"midsize\",\"midsize\",\"midsize\",\"midsize\",\"midsize\",\"suv\",\"suv\",\"suv\",\"suv\",\"suv\",\"suv\",\"suv\",\"suv\",\"suv\",\"suv\",\"2seater\",\"minivan\",\"pickup\",\"pickup\",\"pickup\",\"subcompact\",\"subcompact\",\"subcompact\",\"subcompact\",\"subcompact\"],\n",
       "\"@as_discrete@manufacturer\":[\"audi\",\"nissan\",\"subaru\",\"toyota\",\"volkswagen\",\"audi\",\"chevrolet\",\"hyundai\",\"nissan\",\"pontiac\",\"toyota\",\"volkswagen\",\"chevrolet\",\"dodge\",\"ford\",\"jeep\",\"land rover\",\"lincoln\",\"mercury\",\"nissan\",\"subaru\",\"toyota\",\"chevrolet\",\"dodge\",\"dodge\",\"ford\",\"toyota\",\"ford\",\"honda\",\"hyundai\",\"subaru\",\"volkswagen\"]\n",
       "}\n",
       "}],\n",
       "\"theme\":{\n",
       "\"axis_title_x\":\"blank\"\n",
       "}\n",
       "};\n",
       "           var plotContainer = document.getElementById(\"zF8Ukr\");\n",
       "           window.letsPlotCall(function() {{\n",
       "               LetsPlot.buildPlotFromProcessedSpecs(plotSpec, -1, -1, plotContainer);\n",
       "           }});\n",
       "       })();    \n",
       "   </script>"
      ]
     },
     "execution_count": 7,
     "metadata": {},
     "output_type": "execute_result"
    }
   ],
   "source": [
    "barPlot + ggtitle(\"Flipped\") + coordFlip()"
   ]
  }
 ],
 "metadata": {
  "kernelspec": {
   "display_name": "Kotlin",
   "language": "kotlin",
   "name": "kotlin"
  },
  "language_info": {
   "codemirror_mode": "text/x-kotlin",
   "file_extension": ".kt",
   "mimetype": "text/x-kotlin",
   "name": "kotlin",
   "nbconvert_exporter": "",
   "pygments_lexer": "kotlin",
   "version": "1.6.20-dev-6372"
  }
 },
 "nbformat": 4,
 "nbformat_minor": 5
}
