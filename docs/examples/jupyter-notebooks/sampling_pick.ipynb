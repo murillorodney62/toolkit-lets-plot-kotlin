{
 "cells": [
  {
   "cell_type": "markdown",
   "metadata": {},
   "source": [
    "<em><sub>This page is available as an executable or viewable <strong>Jupyter Notebook</strong>:</sub></em>\n",
    "<br/><br/>\n",
    "<a href=\"https://mybinder.org/v2/gh/JetBrains/lets-plot-kotlin/v3.0.1demos1?filepath=docs%2Fexamples%2Fjupyter-notebooks%2Fsampling_pick.ipynb\"\n",
    "   target=\"_parent\">\n",
    "   <img align=\"left\"\n",
    "        src=\"https://mybinder.org/badge_logo.svg\">\n",
    "</a>\n",
    "<a href=\"https://nbviewer.jupyter.org/github/JetBrains/lets-plot-kotlin/blob/master/docs/examples/jupyter-notebooks/sampling_pick.ipynb\"\n",
    "   target=\"_parent\">\n",
    "   <img align=\"right\"\n",
    "        src=\"https://raw.githubusercontent.com/jupyter/design/master/logos/Badges/nbviewer_badge.png\"\n",
    "        width=\"109\" height=\"20\">\n",
    "</a>\n",
    "<br/>\n",
    "<br/>"
   ]
  },
  {
   "cell_type": "markdown",
   "metadata": {},
   "source": [
    "### Pick Sampling"
   ]
  },
  {
   "cell_type": "code",
   "execution_count": 1,
   "metadata": {},
   "outputs": [
    {
     "data": {
      "text/html": [
       "   <div id=\"jHXQFb\"></div>\n",
       "   <script type=\"text/javascript\" data-lets-plot-script=\"library\">\n",
       "       if(!window.letsPlotCallQueue) {\n",
       "           window.letsPlotCallQueue = [];\n",
       "       }; \n",
       "       window.letsPlotCall = function(f) {\n",
       "           window.letsPlotCallQueue.push(f);\n",
       "       };\n",
       "       (function() {\n",
       "           var script = document.createElement(\"script\");\n",
       "           script.type = \"text/javascript\";\n",
       "           script.src = \"https://cdn.jsdelivr.net/gh/JetBrains/lets-plot@v2.0.4/js-package/distr/lets-plot.min.js\";\n",
       "           script.onload = function() {\n",
       "               window.letsPlotCall = function(f) {f();};\n",
       "               window.letsPlotCallQueue.forEach(function(f) {f();});\n",
       "               window.letsPlotCallQueue = [];\n",
       "               \n",
       "               \n",
       "           };\n",
       "           script.onerror = function(event) {\n",
       "               window.letsPlotCall = function(f) {};\n",
       "               window.letsPlotCallQueue = [];\n",
       "               var div = document.createElement(\"div\");\n",
       "               div.style.color = 'darkred';\n",
       "               div.textContent = 'Error loading Lets-Plot JS';\n",
       "               document.getElementById(\"jHXQFb\").appendChild(div);\n",
       "           };\n",
       "           var e = document.getElementById(\"jHXQFb\");\n",
       "           e.appendChild(script);\n",
       "       })();\n",
       "   </script>"
      ]
     },
     "metadata": {},
     "output_type": "display_data"
    }
   ],
   "source": [
    "%useLatestDescriptors\n",
    "%use lets-plot"
   ]
  },
  {
   "cell_type": "code",
   "execution_count": 2,
   "metadata": {},
   "outputs": [],
   "source": [
    "fun genWord(length:Int):String {\n",
    "    val letters = ('a'..'z')\n",
    "    return List(length) { letters.random() }.joinToString(\"\")\n",
    "}    \n",
    "\n",
    "fun genWordSet(n:Int):Set<String> {\n",
    "    val words = HashSet<String>()\n",
    "    while(words.size < n) {\n",
    "        words.add(genWord(5))\n",
    "    }\n",
    "    return words\n",
    "}\n",
    "\n",
    "fun data(n:Int, words:Set<String>):Map<String, *> {\n",
    "    return mapOf(\n",
    "            \"word\" to List(n) { words.random() },\n",
    "            \"g\" to List(n) { listOf('a','b','c').random() }\n",
    "        )\n",
    "}"
   ]
  },
  {
   "cell_type": "code",
   "execution_count": 3,
   "metadata": {},
   "outputs": [],
   "source": [
    "// Number of unique words exceeds threshold (50) of default 'pick' sampling on bar chart.\n",
    "val words = genWordSet(500)\n",
    "val dat = data(1000, words)\n",
    "val p = ggplot(dat) { x = \"word\" }"
   ]
  },
  {
   "cell_type": "code",
   "execution_count": 4,
   "metadata": {},
   "outputs": [
    {
     "data": {
      "text/html": [
       "   <div id=\"zpiRvo\"></div>\n",
       "   <script type=\"text/javascript\" data-lets-plot-script=\"plot\">\n",
       "       (function() {\n",
       "           var plotSpec={\n",
       "\"mapping\":{\n",
       "\"x\":\"word\"\n",
       "},\n",
       "\"data\":{\n",
       "},\n",
       "\"kind\":\"plot\",\n",
       "\"scales\":[],\n",
       "\"layers\":[{\n",
       "\"mapping\":{\n",
       "},\n",
       "\"stat\":\"count\",\n",
       "\"data\":{\n",
       "\"..count..\":[2.0,1.0,1.0,5.0,3.0,2.0,1.0,2.0,1.0,5.0,9.0,2.0,3.0,2.0,2.0,1.0,3.0,1.0,3.0,3.0,3.0,3.0,1.0,4.0,2.0,3.0,3.0,6.0,2.0,4.0,3.0,1.0,3.0,5.0,3.0,3.0,2.0,2.0,3.0,1.0,2.0,1.0,3.0,2.0,2.0,3.0,2.0,5.0,2.0,3.0,3.0,3.0,4.0,5.0,2.0,4.0,3.0,3.0,3.0,5.0,3.0,3.0,3.0,1.0,1.0,6.0,3.0,2.0,4.0,4.0,1.0,3.0,3.0,1.0,3.0,2.0,1.0,1.0,3.0,3.0,1.0,2.0,3.0,2.0,3.0,1.0,4.0,4.0,2.0,2.0,4.0,3.0,1.0,2.0,4.0,3.0,2.0,1.0,3.0,4.0,2.0,1.0,3.0,2.0,2.0,5.0,3.0,2.0,2.0,4.0,3.0,4.0,4.0,4.0,2.0,3.0,2.0,4.0,6.0,5.0,3.0,2.0,3.0,3.0,3.0,3.0,4.0,2.0,3.0,1.0,1.0,2.0,2.0,2.0,3.0,7.0,2.0,2.0,2.0,3.0,6.0,1.0,3.0,2.0,6.0,2.0,4.0,1.0,2.0,3.0,1.0,3.0,4.0,1.0,2.0,3.0,3.0,4.0,2.0,2.0,1.0,4.0,4.0,4.0,2.0,4.0,1.0,1.0,3.0,2.0,2.0,3.0,2.0,4.0,3.0,2.0,2.0,4.0,3.0,2.0,1.0,3.0,1.0,3.0,3.0,3.0,3.0,1.0,2.0,1.0,1.0,3.0,1.0,2.0,5.0,3.0,1.0,1.0,5.0,4.0,3.0,4.0,4.0,2.0,1.0,1.0,2.0,3.0,1.0,3.0,3.0,4.0,2.0,1.0,2.0,2.0,1.0,2.0,2.0,1.0,3.0,2.0,1.0,3.0,2.0,3.0,2.0,2.0,3.0,1.0,1.0,1.0,3.0,1.0,2.0,1.0,4.0,2.0,3.0,3.0,3.0,4.0,2.0,1.0,2.0,2.0,6.0,3.0,2.0,1.0,2.0,3.0,1.0,3.0,3.0,2.0,2.0,4.0,2.0,3.0,5.0,3.0,2.0,3.0,2.0,1.0,2.0,2.0,2.0,2.0,1.0,1.0,2.0,3.0,2.0,3.0,2.0,2.0,1.0,4.0,3.0,1.0,3.0,1.0,2.0,2.0,2.0,4.0,2.0,1.0,3.0,3.0,1.0,1.0,4.0,2.0,2.0,2.0,2.0,2.0,3.0,1.0,4.0,1.0,3.0,1.0,1.0,1.0,2.0,2.0,1.0,3.0,3.0,3.0,2.0,1.0,3.0,1.0,2.0,1.0,2.0,1.0,2.0,2.0,2.0,2.0,1.0,1.0,1.0,1.0,2.0,1.0,1.0,2.0,1.0,4.0,1.0,1.0,1.0,2.0,3.0,1.0,2.0,1.0,1.0,1.0,1.0,2.0,3.0,3.0,2.0,2.0,2.0,2.0,3.0,3.0,1.0,1.0,5.0,2.0,1.0,1.0,4.0,2.0,3.0,1.0,2.0,1.0,1.0,2.0,4.0,1.0,1.0,2.0,1.0,4.0,3.0,1.0,1.0,2.0,1.0,1.0,2.0,2.0,2.0,1.0,1.0,3.0,1.0,5.0,2.0,1.0,3.0,1.0,1.0,1.0,2.0,3.0,3.0,2.0,1.0,1.0,2.0,1.0,2.0,2.0,1.0,2.0,1.0,2.0,2.0,2.0,1.0,1.0,2.0,1.0,2.0,1.0,1.0,1.0,1.0,1.0,2.0,1.0,1.0,1.0,1.0,1.0,2.0,1.0,1.0,1.0,1.0,1.0],\n",
       "\"word\":[\"gmxxk\",\"npppl\",\"dqjmi\",\"eowvi\",\"bkfwy\",\"afycr\",\"avpuc\",\"rxduh\",\"jtjzq\",\"yyrpi\",\"laafl\",\"hcvzl\",\"mipir\",\"cxzkp\",\"rjqfb\",\"eqvnt\",\"vckcb\",\"mdird\",\"rdtxp\",\"cnkpw\",\"njuex\",\"mruzy\",\"eikln\",\"bknqe\",\"tjpjv\",\"mluxp\",\"hxmrc\",\"jtkzk\",\"ucggy\",\"ofnce\",\"gdsvg\",\"hmgvz\",\"niaby\",\"ngfmw\",\"tceqa\",\"qiyhj\",\"stjgk\",\"qjtef\",\"vzesb\",\"gkocx\",\"kmnqs\",\"hfuze\",\"eklnn\",\"rzwct\",\"vcmbp\",\"oenxw\",\"royaw\",\"qkgtt\",\"kzcjm\",\"uygow\",\"nvypl\",\"pmitr\",\"flydz\",\"acvaq\",\"ikzmu\",\"etgdk\",\"cvqdf\",\"tcdhv\",\"civbz\",\"midpk\",\"hosjz\",\"vzrmx\",\"iiwag\",\"iztpq\",\"lebqr\",\"jioai\",\"qvqwy\",\"wjhlx\",\"ggvlz\",\"cskqt\",\"ikzyj\",\"eozfo\",\"hhebc\",\"sgcjh\",\"umdfm\",\"cqwgn\",\"fdeem\",\"drqvl\",\"hlymb\",\"jvasn\",\"mwlmp\",\"zingw\",\"bkeyi\",\"nvgyh\",\"ztoyh\",\"arhyw\",\"goraa\",\"qfifi\",\"gxqjd\",\"ejtcp\",\"vzari\",\"ygqrn\",\"wjddi\",\"cauyy\",\"mkfot\",\"qxsdr\",\"drguk\",\"iemzu\",\"hvmqz\",\"ffqxp\",\"uaiir\",\"umbmm\",\"rwnzv\",\"zsbod\",\"npuzw\",\"snxvs\",\"fulfn\",\"jiohu\",\"qcwej\",\"wprjt\",\"qupcc\",\"rpign\",\"xkuun\",\"zmnng\",\"pojut\",\"hcfqu\",\"wgskt\",\"nkltw\",\"kofvz\",\"hkoyh\",\"gojqx\",\"gdamm\",\"jqack\",\"xnqjr\",\"snvbe\",\"wbmhm\",\"hxbbc\",\"gcuas\",\"nlqmm\",\"lduhh\",\"wehbc\",\"xiean\",\"cdsrf\",\"vwqjb\",\"evszh\",\"mwenf\",\"vdhag\",\"xhzxe\",\"iqjdd\",\"jtnjc\",\"kqkzr\",\"xcklc\",\"uawwv\",\"cesfc\",\"gvncc\",\"suijy\",\"zrawv\",\"bnokr\",\"abjzj\",\"yywjg\",\"qpquk\",\"hvcoj\",\"dqihh\",\"hgozv\",\"xykan\",\"fhtip\",\"ulvnw\",\"utnpe\",\"eqxwy\",\"qmgis\",\"bdjfq\",\"cntmg\",\"epktv\",\"zwpat\",\"eudrz\",\"qerjh\",\"cbuul\",\"fgrmi\",\"gwuxv\",\"nbojb\",\"uitos\",\"wanhs\",\"pyuin\",\"rtary\",\"pjidd\",\"katnm\",\"arlmv\",\"sfqnd\",\"rrjsw\",\"qgwhc\",\"pwuof\",\"kujtm\",\"jkxsw\",\"ndxib\",\"hziet\",\"uyqet\",\"ixzlw\",\"twdom\",\"iemzm\",\"chiyp\",\"qhnac\",\"wxmud\",\"mnycw\",\"dakbi\",\"bcdja\",\"mimgr\",\"qpzjs\",\"cnole\",\"aswwn\",\"iygjg\",\"rmshk\",\"wicos\",\"zwprb\",\"bkpft\",\"srgtu\",\"kflcn\",\"nxxgj\",\"mbkma\",\"likco\",\"jxekl\",\"pxzqg\",\"mutdq\",\"haiso\",\"hgulh\",\"fodbw\",\"tiioa\",\"rwkkh\",\"jxpzq\",\"sghzm\",\"ofqfv\",\"rxxbs\",\"pcdgh\",\"fbqkj\",\"micjv\",\"mstgb\",\"wmjte\",\"ztgyt\",\"wzezw\",\"okukf\",\"ottfk\",\"zizqx\",\"gwwjv\",\"dldir\",\"ngjms\",\"vxnci\",\"rkiap\",\"qfeoj\",\"hhhwo\",\"dacwt\",\"yafrf\",\"hicrx\",\"deaom\",\"ucpts\",\"igtxc\",\"ukdzy\",\"rhbeo\",\"pjome\",\"mbdwf\",\"gbigg\",\"ekexs\",\"jrdxd\",\"ovibp\",\"afpzk\",\"rpokw\",\"vlljm\",\"rektk\",\"zirvn\",\"ojdvl\",\"hhrea\",\"oworf\",\"gqdud\",\"vsjgk\",\"tztqk\",\"xznbx\",\"hsuzb\",\"ivwou\",\"emkbj\",\"whrqn\",\"zpaqb\",\"hnubn\",\"eeozf\",\"hwgsn\",\"ydrwv\",\"dlkmj\",\"byrsn\",\"ypifg\",\"nflpc\",\"hdiut\",\"omsdc\",\"obqjk\",\"leoic\",\"mbqgf\",\"ibdak\",\"mmkze\",\"ahrbn\",\"yneqq\",\"xwjnd\",\"ysgvi\",\"uyaif\",\"hgvvm\",\"bpgdc\",\"dcblv\",\"secpr\",\"fntzi\",\"ieyjj\",\"okhrh\",\"mdoek\",\"anmyn\",\"xxjce\",\"muykb\",\"nuxwh\",\"eoloj\",\"uuhfv\",\"ueoox\",\"vebex\",\"mjizc\",\"uuibq\",\"bpnsh\",\"dgree\",\"qgmir\",\"xgryl\",\"wivyx\",\"reffi\",\"yzzhy\",\"pdmtn\",\"zgizy\",\"zrkqn\",\"xipxo\",\"wdfrf\",\"gyppj\",\"erhqm\",\"urlto\",\"guxxr\",\"awogn\",\"waehx\",\"kxmjt\",\"jnzno\",\"jaxhf\",\"qxaqg\",\"hjqgh\",\"frjuh\",\"vthlj\",\"gunvr\",\"fnoka\",\"kzmde\",\"dnrmk\",\"wwhzj\",\"abtlh\",\"xzsrc\",\"hcxoi\",\"avhhm\",\"cvysp\",\"cszpa\",\"myohx\",\"weblu\",\"rfmev\",\"xtrux\",\"toppu\",\"urblo\",\"feefg\",\"zbotb\",\"nrteu\",\"eculk\",\"ldlzg\",\"lzbjv\",\"hgudh\",\"zmesk\",\"upstn\",\"gdztn\",\"aegzc\",\"tnyae\",\"jnnye\",\"xmvng\",\"mkana\",\"irvrs\",\"quepq\",\"crhro\",\"qfyxo\",\"acamg\",\"rblao\",\"uaiyc\",\"zuxby\",\"byzam\",\"abfph\",\"lsbzn\",\"fnavw\",\"wztlt\",\"wpavd\",\"kxtnc\",\"wxnzy\",\"wvlzo\",\"kaoky\",\"cwuxz\",\"jqgxa\",\"sjrpp\",\"dwkhv\",\"tjexd\",\"kcerc\",\"zxwdp\",\"urvkq\",\"yffwn\",\"ukzez\",\"rqhho\",\"vsefk\",\"qikul\",\"qvzbg\",\"sxduc\",\"mpyoi\",\"ddcto\",\"hkgsw\",\"rkiuc\",\"bxyzk\",\"jfpku\",\"oekzf\",\"rudbj\",\"hskpk\",\"kabqp\",\"taykl\",\"ispty\",\"gyyox\",\"ambns\",\"hpldv\",\"fhobe\",\"pcxds\",\"ralws\",\"utupc\",\"kkfdf\",\"veoox\",\"lqxin\",\"goysj\",\"cypbj\",\"yfgfc\",\"mhakr\",\"lriaf\",\"gqdaj\",\"ljkfg\",\"mundr\",\"gwjht\",\"jdtik\",\"gylej\",\"mgdea\",\"pzulz\",\"ipjyn\",\"ksxkv\"]\n",
       "},\n",
       "\"sampling\":\"none\",\n",
       "\"position\":\"stack\",\n",
       "\"geom\":\"bar\"\n",
       "}]\n",
       "};\n",
       "           var plotContainer = document.getElementById(\"zpiRvo\");\n",
       "           window.letsPlotCall(function() {{\n",
       "               LetsPlot.buildPlotFromProcessedSpecs(plotSpec, -1, -1, plotContainer);\n",
       "           }});\n",
       "       })();    \n",
       "   </script>"
      ]
     },
     "execution_count": 4,
     "metadata": {},
     "output_type": "execute_result"
    }
   ],
   "source": [
    "// Disable sampling to see the overplotting.\n",
    "p + geomBar(sampling = samplingNone)"
   ]
  },
  {
   "cell_type": "code",
   "execution_count": 5,
   "metadata": {},
   "outputs": [
    {
     "data": {
      "text/html": [
       "   <div id=\"ZsKEvv\"></div>\n",
       "   <script type=\"text/javascript\" data-lets-plot-script=\"plot\">\n",
       "       (function() {\n",
       "           var plotSpec={\n",
       "\"mapping\":{\n",
       "\"x\":\"word\"\n",
       "},\n",
       "\"data\":{\n",
       "},\n",
       "\"kind\":\"plot\",\n",
       "\"computation_messages\":[\"sampling_pick(n=50) was applied to [bar/count stat] layer\"],\n",
       "\"scales\":[],\n",
       "\"layers\":[{\n",
       "\"mapping\":{\n",
       "},\n",
       "\"stat\":\"count\",\n",
       "\"data\":{\n",
       "\"..count..\":[2.0,1.0,1.0,5.0,3.0,2.0,1.0,2.0,1.0,5.0,9.0,2.0,3.0,2.0,2.0,1.0,3.0,1.0,3.0,3.0,3.0,3.0,1.0,4.0,2.0,3.0,3.0,6.0,2.0,4.0,3.0,1.0,3.0,5.0,3.0,3.0,2.0,2.0,3.0,1.0,2.0,1.0,3.0,2.0,2.0,3.0,2.0,5.0,2.0,3.0],\n",
       "\"word\":[\"gmxxk\",\"npppl\",\"dqjmi\",\"eowvi\",\"bkfwy\",\"afycr\",\"avpuc\",\"rxduh\",\"jtjzq\",\"yyrpi\",\"laafl\",\"hcvzl\",\"mipir\",\"cxzkp\",\"rjqfb\",\"eqvnt\",\"vckcb\",\"mdird\",\"rdtxp\",\"cnkpw\",\"njuex\",\"mruzy\",\"eikln\",\"bknqe\",\"tjpjv\",\"mluxp\",\"hxmrc\",\"jtkzk\",\"ucggy\",\"ofnce\",\"gdsvg\",\"hmgvz\",\"niaby\",\"ngfmw\",\"tceqa\",\"qiyhj\",\"stjgk\",\"qjtef\",\"vzesb\",\"gkocx\",\"kmnqs\",\"hfuze\",\"eklnn\",\"rzwct\",\"vcmbp\",\"oenxw\",\"royaw\",\"qkgtt\",\"kzcjm\",\"uygow\"]\n",
       "},\n",
       "\"position\":\"stack\",\n",
       "\"geom\":\"bar\"\n",
       "}]\n",
       "};\n",
       "           var plotContainer = document.getElementById(\"ZsKEvv\");\n",
       "           window.letsPlotCall(function() {{\n",
       "               LetsPlot.buildPlotFromProcessedSpecs(plotSpec, -1, -1, plotContainer);\n",
       "           }});\n",
       "       })();    \n",
       "   </script>"
      ]
     },
     "execution_count": 5,
     "metadata": {},
     "output_type": "execute_result"
    }
   ],
   "source": [
    "// Draw plot with default sampling.\n",
    "p + geomBar()"
   ]
  },
  {
   "cell_type": "code",
   "execution_count": 6,
   "metadata": {},
   "outputs": [
    {
     "data": {
      "text/html": [
       "   <div id=\"ntVhq7\"></div>\n",
       "   <script type=\"text/javascript\" data-lets-plot-script=\"plot\">\n",
       "       (function() {\n",
       "           var plotSpec={\n",
       "\"mapping\":{\n",
       "\"x\":\"word\"\n",
       "},\n",
       "\"data\":{\n",
       "},\n",
       "\"kind\":\"plot\",\n",
       "\"computation_messages\":[\"sampling_pick(n=50) was applied to [bar/count stat] layer\"],\n",
       "\"scales\":[],\n",
       "\"layers\":[{\n",
       "\"mapping\":{\n",
       "\"fill\":\"g\"\n",
       "},\n",
       "\"stat\":\"count\",\n",
       "\"data\":{\n",
       "\"..count..\":[1.0,2.0,1.0,1.0,1.0,1.0,1.0,1.0,4.0,1.0,1.0,2.0,2.0,3.0,1.0,1.0,1.0,4.0,1.0,1.0,2.0,1.0,3.0,1.0,1.0,4.0,2.0,2.0,2.0,1.0,2.0,1.0,2.0,4.0,1.0,2.0,2.0,1.0,3.0,1.0,1.0,1.0,1.0,1.0,3.0,1.0,2.0,1.0,1.0,1.0,1.0,3.0,1.0,2.0,2.0,2.0,1.0,2.0,1.0,1.0,2.0,1.0,1.0,3.0,2.0,1.0,1.0,1.0,3.0,2.0,1.0,1.0,1.0,3.0,3.0,1.0,2.0,1.0,1.0,1.0,1.0,3.0,3.0,2.0,3.0,3.0,1.0,2.0,1.0,1.0,1.0,1.0,2.0,1.0,1.0,1.0,1.0],\n",
       "\"g\":[\"c\",\"c\",\"c\",\"c\",\"c\",\"c\",\"c\",\"c\",\"c\",\"c\",\"c\",\"c\",\"c\",\"c\",\"c\",\"c\",\"c\",\"c\",\"c\",\"c\",\"c\",\"c\",\"c\",\"c\",\"c\",\"c\",\"c\",\"c\",\"c\",\"c\",\"c\",\"c\",\"c\",\"c\",\"c\",\"c\",\"c\",\"c\",\"c\",\"c\",\"c\",\"c\",\"c\",\"c\",\"c\",\"c\",\"c\",\"c\",\"c\",\"c\",\"a\",\"a\",\"a\",\"a\",\"a\",\"a\",\"a\",\"a\",\"a\",\"a\",\"a\",\"a\",\"a\",\"a\",\"a\",\"a\",\"a\",\"a\",\"a\",\"a\",\"a\",\"a\",\"a\",\"b\",\"b\",\"b\",\"b\",\"b\",\"b\",\"b\",\"b\",\"b\",\"b\",\"b\",\"b\",\"b\",\"b\",\"b\",\"b\",\"b\",\"b\",\"b\",\"b\",\"b\",\"b\",\"b\",\"b\"],\n",
       "\"word\":[\"gmxxk\",\"eowvi\",\"afycr\",\"avpuc\",\"eqvnt\",\"eikln\",\"bknqe\",\"tjpjv\",\"jtkzk\",\"ucggy\",\"eklnn\",\"rzwct\",\"vcmbp\",\"flydz\",\"cvqdf\",\"iztpq\",\"eozfo\",\"laafl\",\"sgcjh\",\"drqvl\",\"cskqt\",\"qkgtt\",\"jvasn\",\"ztoyh\",\"arhyw\",\"qfifi\",\"gxqjd\",\"vzari\",\"ygqrn\",\"wjddi\",\"cauyy\",\"mkfot\",\"drguk\",\"jioai\",\"rwnzv\",\"fulfn\",\"xkuun\",\"hcfqu\",\"kofvz\",\"hkoyh\",\"gdamm\",\"mluxp\",\"snvbe\",\"wprjt\",\"mwenf\",\"jtnjc\",\"kqkzr\",\"bkeyi\",\"xcklc\",\"cnkpw\",\"mluxp\",\"qkgtt\",\"jioai\",\"laafl\",\"mkfot\",\"rwnzv\",\"eozfo\",\"cvqdf\",\"xkuun\",\"eklnn\",\"jtkzk\",\"cnkpw\",\"ucggy\",\"mwenf\",\"hcfqu\",\"afycr\",\"gmxxk\",\"kqkzr\",\"kofvz\",\"jtnjc\",\"hkoyh\",\"fulfn\",\"bkeyi\",\"eowvi\",\"laafl\",\"cnkpw\",\"cskqt\",\"eklnn\",\"bkeyi\",\"jioai\",\"mkfot\",\"wprjt\",\"bknqe\",\"ztoyh\",\"hkoyh\",\"kqkzr\",\"tjpjv\",\"vzari\",\"mluxp\",\"gdamm\",\"xkuun\",\"eozfo\",\"snvbe\",\"qkgtt\",\"flydz\",\"mwenf\",\"ygqrn\"]\n",
       "},\n",
       "\"position\":\"stack\",\n",
       "\"geom\":\"bar\"\n",
       "}]\n",
       "};\n",
       "           var plotContainer = document.getElementById(\"ntVhq7\");\n",
       "           window.letsPlotCall(function() {{\n",
       "               LetsPlot.buildPlotFromProcessedSpecs(plotSpec, -1, -1, plotContainer);\n",
       "           }});\n",
       "       })();    \n",
       "   </script>"
      ]
     },
     "execution_count": 6,
     "metadata": {},
     "output_type": "execute_result"
    }
   ],
   "source": [
    "// 'pick' sampling preserves groups on bar chart.\n",
    "p + geomBar { fill=\"g\" }"
   ]
  }
 ],
 "metadata": {
  "kernelspec": {
   "display_name": "Kotlin",
   "language": "kotlin",
   "name": "kotlin"
  },
  "language_info": {
   "codemirror_mode": "text/x-kotlin",
   "file_extension": ".kt",
   "mimetype": "text/x-kotlin",
   "name": "kotlin",
   "nbconvert_exporter": "",
   "pygments_lexer": "kotlin",
   "version": "1.5.30-dev-598"
  }
 },
 "nbformat": 4,
 "nbformat_minor": 4
}
