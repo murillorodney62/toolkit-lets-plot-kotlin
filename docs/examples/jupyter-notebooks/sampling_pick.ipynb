{
 "cells": [
  {
   "cell_type": "markdown",
   "metadata": {},
   "source": [
    "### Pick Sampling"
   ]
  },
  {
   "cell_type": "code",
   "execution_count": 1,
   "metadata": {},
   "outputs": [
    {
     "data": {
      "text/html": [
       "   <div id=\"lRjcP5\"></div>\n",
       "   <script type=\"text/javascript\" data-lets-plot-script=\"library\">\n",
       "       if(!window.letsPlotCallQueue) {\n",
       "           window.letsPlotCallQueue = [];\n",
       "       }; \n",
       "       window.letsPlotCall = function(f) {\n",
       "           window.letsPlotCallQueue.push(f);\n",
       "       };\n",
       "       (function() {\n",
       "           var script = document.createElement(\"script\");\n",
       "           script.type = \"text/javascript\";\n",
       "           script.src = \"https://cdn.jsdelivr.net/gh/JetBrains/lets-plot@v2.1.0/js-package/distr/lets-plot.min.js\";\n",
       "           script.onload = function() {\n",
       "               window.letsPlotCall = function(f) {f();};\n",
       "               window.letsPlotCallQueue.forEach(function(f) {f();});\n",
       "               window.letsPlotCallQueue = [];\n",
       "               \n",
       "               \n",
       "           };\n",
       "           script.onerror = function(event) {\n",
       "               window.letsPlotCall = function(f) {};\n",
       "               window.letsPlotCallQueue = [];\n",
       "               var div = document.createElement(\"div\");\n",
       "               div.style.color = 'darkred';\n",
       "               div.textContent = 'Error loading Lets-Plot JS';\n",
       "               document.getElementById(\"lRjcP5\").appendChild(div);\n",
       "           };\n",
       "           var e = document.getElementById(\"lRjcP5\");\n",
       "           e.appendChild(script);\n",
       "       })();\n",
       "   </script>"
      ]
     },
     "metadata": {},
     "output_type": "display_data"
    }
   ],
   "source": [
    "%useLatestDescriptors\n",
    "%use lets-plot"
   ]
  },
  {
   "cell_type": "code",
   "execution_count": 2,
   "metadata": {},
   "outputs": [],
   "source": [
    "fun genWord(length:Int):String {\n",
    "    val letters = ('a'..'z')\n",
    "    return List(length) { letters.random() }.joinToString(\"\")\n",
    "}    \n",
    "\n",
    "fun genWordSet(n:Int):Set<String> {\n",
    "    val words = HashSet<String>()\n",
    "    while(words.size < n) {\n",
    "        words.add(genWord(5))\n",
    "    }\n",
    "    return words\n",
    "}\n",
    "\n",
    "fun data(n:Int, words:Set<String>):Map<String, *> {\n",
    "    return mapOf(\n",
    "            \"word\" to List(n) { words.random() },\n",
    "            \"g\" to List(n) { listOf('a','b','c').random() }\n",
    "        )\n",
    "}"
   ]
  },
  {
   "cell_type": "code",
   "execution_count": 3,
   "metadata": {},
   "outputs": [],
   "source": [
    "// Number of unique words exceeds threshold (50) of default 'pick' sampling on bar chart.\n",
    "val words = genWordSet(500)\n",
    "val dat = data(1000, words)\n",
    "val p = ggplot(dat) { x = \"word\" }"
   ]
  },
  {
   "cell_type": "code",
   "execution_count": 4,
   "metadata": {},
   "outputs": [
    {
     "data": {
      "text/html": [
       "   <div id=\"wN8OxM\"></div>\n",
       "   <script type=\"text/javascript\" data-lets-plot-script=\"plot\">\n",
       "       (function() {\n",
       "           var plotSpec={\n",
       "\"mapping\":{\n",
       "\"x\":\"word\"\n",
       "},\n",
       "\"data\":{\n",
       "},\n",
       "\"kind\":\"plot\",\n",
       "\"scales\":[],\n",
       "\"layers\":[{\n",
       "\"mapping\":{\n",
       "},\n",
       "\"stat\":\"count\",\n",
       "\"data\":{\n",
       "\"..count..\":[3.0,3.0,3.0,4.0,3.0,6.0,4.0,1.0,2.0,3.0,2.0,4.0,3.0,2.0,4.0,6.0,3.0,4.0,5.0,1.0,3.0,3.0,2.0,3.0,2.0,2.0,5.0,3.0,2.0,2.0,3.0,2.0,1.0,3.0,3.0,1.0,1.0,3.0,6.0,4.0,1.0,3.0,4.0,2.0,2.0,1.0,1.0,4.0,5.0,2.0,2.0,4.0,3.0,5.0,4.0,5.0,2.0,5.0,2.0,4.0,2.0,3.0,3.0,5.0,2.0,3.0,3.0,3.0,4.0,4.0,2.0,2.0,3.0,3.0,5.0,6.0,3.0,3.0,5.0,4.0,2.0,3.0,3.0,3.0,3.0,1.0,4.0,1.0,4.0,3.0,3.0,2.0,3.0,6.0,2.0,3.0,2.0,5.0,1.0,3.0,4.0,6.0,3.0,3.0,2.0,3.0,4.0,3.0,5.0,2.0,2.0,3.0,2.0,2.0,1.0,2.0,3.0,1.0,4.0,2.0,2.0,2.0,2.0,1.0,1.0,3.0,3.0,1.0,1.0,5.0,1.0,3.0,3.0,2.0,2.0,2.0,1.0,3.0,2.0,3.0,2.0,4.0,3.0,2.0,4.0,3.0,7.0,1.0,2.0,2.0,1.0,2.0,4.0,3.0,3.0,3.0,2.0,4.0,5.0,2.0,5.0,1.0,2.0,2.0,4.0,3.0,3.0,3.0,2.0,4.0,3.0,2.0,2.0,2.0,2.0,1.0,1.0,3.0,1.0,2.0,3.0,3.0,1.0,2.0,2.0,1.0,5.0,2.0,1.0,2.0,4.0,5.0,3.0,1.0,4.0,2.0,3.0,2.0,6.0,2.0,1.0,7.0,3.0,1.0,4.0,1.0,2.0,1.0,1.0,1.0,1.0,3.0,3.0,3.0,2.0,1.0,1.0,3.0,1.0,2.0,4.0,2.0,1.0,2.0,2.0,3.0,3.0,2.0,3.0,1.0,5.0,3.0,3.0,1.0,1.0,3.0,2.0,1.0,4.0,4.0,3.0,1.0,1.0,5.0,2.0,4.0,1.0,2.0,4.0,1.0,3.0,3.0,3.0,1.0,1.0,1.0,2.0,1.0,2.0,1.0,4.0,2.0,1.0,1.0,1.0,2.0,2.0,2.0,1.0,3.0,5.0,3.0,1.0,2.0,1.0,2.0,2.0,2.0,1.0,2.0,3.0,2.0,1.0,1.0,3.0,3.0,1.0,2.0,2.0,5.0,3.0,1.0,2.0,3.0,2.0,1.0,5.0,1.0,3.0,1.0,1.0,2.0,1.0,2.0,1.0,3.0,1.0,1.0,2.0,3.0,1.0,2.0,1.0,1.0,2.0,5.0,1.0,1.0,2.0,2.0,1.0,2.0,1.0,2.0,3.0,3.0,2.0,2.0,1.0,5.0,2.0,2.0,2.0,1.0,1.0,2.0,1.0,3.0,2.0,2.0,1.0,3.0,3.0,1.0,1.0,2.0,3.0,2.0,3.0,1.0,1.0,1.0,3.0,2.0,1.0,2.0,1.0,1.0,2.0,1.0,3.0,1.0,1.0,1.0,1.0,1.0,1.0,1.0,2.0,1.0,3.0,3.0,1.0,2.0,1.0,1.0,2.0,2.0,2.0,1.0,3.0,1.0,3.0,1.0,1.0,1.0,1.0,2.0,2.0,1.0,3.0,1.0,1.0,1.0,1.0,1.0,2.0,2.0,1.0,2.0,2.0,1.0,1.0,1.0,3.0,1.0,1.0,1.0,1.0,1.0,2.0,1.0,1.0,1.0,1.0,1.0,2.0,1.0,1.0,1.0,1.0,1.0,1.0,1.0,1.0,1.0,1.0,1.0,1.0,1.0,1.0,1.0,1.0,2.0,1.0,1.0],\n",
       "\"word\":[\"isopm\",\"mxhlz\",\"zevjm\",\"pwtjx\",\"srldc\",\"aajui\",\"lwpku\",\"rkqfz\",\"usnne\",\"tqsap\",\"sqwfm\",\"ttnyg\",\"ghrtu\",\"kmrmj\",\"zqjyl\",\"tmmrt\",\"vslzv\",\"svqkp\",\"uxqkp\",\"fmonp\",\"abixd\",\"wbexk\",\"yrnag\",\"nzxfg\",\"zqxtq\",\"dwaki\",\"kzqud\",\"aiwej\",\"cxgwn\",\"ihric\",\"duiel\",\"vpmpk\",\"wnusm\",\"vnqlo\",\"feaxe\",\"hwxfm\",\"lxaxb\",\"fsmkn\",\"rmqyy\",\"ldwli\",\"quqef\",\"fiekr\",\"czsdl\",\"ujjfc\",\"ixslt\",\"ehcku\",\"svahn\",\"dhigj\",\"lpjgi\",\"rdzlz\",\"srucn\",\"vtzdt\",\"klcho\",\"najey\",\"uxkoj\",\"vaolt\",\"cgizk\",\"fbowl\",\"gnoxw\",\"njhrp\",\"ytbuf\",\"lgelt\",\"ofacx\",\"ocvax\",\"abspd\",\"dqcmt\",\"sidrx\",\"kqemb\",\"xynyo\",\"lkftp\",\"ghzou\",\"jpxdo\",\"bwefs\",\"qcops\",\"dzevh\",\"csisd\",\"jttcq\",\"fizlr\",\"csasd\",\"ogdir\",\"jcxsh\",\"nkubn\",\"eqbbw\",\"ppuhm\",\"yyaji\",\"ehcvp\",\"jarhk\",\"crije\",\"cyrvp\",\"jkjsy\",\"fmaow\",\"wojmi\",\"dmoqb\",\"kdzqw\",\"wrgzt\",\"nzogj\",\"jttqb\",\"totsq\",\"ihznb\",\"zzrfr\",\"fggew\",\"urocc\",\"unxzw\",\"cekcy\",\"rlolr\",\"dpxtf\",\"hqzon\",\"vusrj\",\"lwgnw\",\"dymbh\",\"felvw\",\"mstsq\",\"kneci\",\"vceqy\",\"ehcpe\",\"amshx\",\"ubrup\",\"qbzib\",\"sqaie\",\"foyyd\",\"ebina\",\"lohem\",\"ztqcl\",\"bafap\",\"unknl\",\"rzyst\",\"mfabm\",\"npvrw\",\"lmpor\",\"dhxfg\",\"wevkj\",\"whsaj\",\"vlybf\",\"mzzlg\",\"sorch\",\"rhtpa\",\"axqov\",\"dcjlf\",\"glfld\",\"cppxl\",\"bhbdl\",\"wgrpi\",\"lktjy\",\"kreck\",\"zyiyn\",\"kcygy\",\"kwxii\",\"etbmb\",\"fipeg\",\"wxjfv\",\"hmqka\",\"lsegc\",\"rohvu\",\"bmjqu\",\"hipni\",\"yogep\",\"zlxlh\",\"yqvdg\",\"ucbef\",\"saieb\",\"oscbg\",\"enyxw\",\"otaje\",\"ftlhq\",\"myiar\",\"zsqsy\",\"xxkfe\",\"jkmja\",\"iupxu\",\"goiyw\",\"igryw\",\"qqpcb\",\"wdziv\",\"kjboh\",\"wxtbc\",\"getuj\",\"fnxaf\",\"oagbv\",\"ehffu\",\"zukcv\",\"spedv\",\"pbrgx\",\"sxmhc\",\"axfxq\",\"byadi\",\"szsvq\",\"gnrfn\",\"dsrni\",\"vjvhg\",\"appyf\",\"jorlf\",\"tarep\",\"emquo\",\"kgvbz\",\"wutco\",\"gckvj\",\"vhslx\",\"meuhi\",\"edgwl\",\"zglqa\",\"jjlbz\",\"glvzl\",\"dbgwn\",\"asyyh\",\"tcjsl\",\"ytuxq\",\"mnbqb\",\"unfrq\",\"irfgb\",\"scxrn\",\"upldc\",\"zrvwf\",\"hvucl\",\"kvyle\",\"tvfvm\",\"feeyk\",\"ptfrc\",\"gnxcg\",\"nktwp\",\"zfrdm\",\"rvpom\",\"gafll\",\"sihkm\",\"yijbd\",\"csrea\",\"olsch\",\"zioum\",\"pbtrx\",\"jxdhd\",\"ijkng\",\"zjtdo\",\"hmegk\",\"adyii\",\"aqdyf\",\"iyetr\",\"cullf\",\"tbpge\",\"jqfyy\",\"oytvg\",\"rgtyy\",\"rrzwr\",\"cgscc\",\"jpjrx\",\"bmiga\",\"lqniw\",\"fnmyb\",\"rmnay\",\"cdbyl\",\"mdtrj\",\"ukwbz\",\"doesg\",\"nrspz\",\"ufrjm\",\"wjebk\",\"patoq\",\"zruqd\",\"ipxxr\",\"urwem\",\"nrdas\",\"kpmoz\",\"zgwxi\",\"rncli\",\"oyofi\",\"mzjqt\",\"kenpo\",\"ccuwh\",\"vtkni\",\"ehwdm\",\"sujdg\",\"pezob\",\"auqaw\",\"suldm\",\"pjvxw\",\"moreb\",\"zobfi\",\"urppr\",\"mswxp\",\"aojhh\",\"tygcv\",\"lzzfa\",\"spvsc\",\"ytwmj\",\"pikav\",\"gjcuf\",\"ljast\",\"yrpsk\",\"tdcwi\",\"nlfyo\",\"bznau\",\"jwwwk\",\"vbdpo\",\"qmpna\",\"kvnty\",\"kastr\",\"gaaqd\",\"dpgci\",\"yaurp\",\"yscjv\",\"vxdpo\",\"hgjhr\",\"ungrz\",\"rhgrh\",\"tgpfj\",\"bcped\",\"fjqpp\",\"xnfra\",\"xvnev\",\"xrhsa\",\"gtcmo\",\"genal\",\"iwcxp\",\"xdvdf\",\"ttsig\",\"gbwrb\",\"xfbaw\",\"whcci\",\"duubt\",\"ebyie\",\"fhstn\",\"lbzhe\",\"tqrhy\",\"srorz\",\"qxyqx\",\"djwpf\",\"ssfzf\",\"gjxyk\",\"blysx\",\"rxxzi\",\"slicf\",\"nvkex\",\"swici\",\"hpnav\",\"gcqqk\",\"edhij\",\"sxnlr\",\"tgfep\",\"ehzqt\",\"pgnbm\",\"ouuam\",\"fonfk\",\"rafmp\",\"msqpg\",\"bquyt\",\"kegkz\",\"uvzph\",\"vpswj\",\"yrqgv\",\"hrept\",\"yzqhh\",\"rddnh\",\"ufkkg\",\"mkhkr\",\"ohkbt\",\"yfwef\",\"zvhke\",\"vffxv\",\"aqrei\",\"whjaw\",\"urjdk\",\"jgnnr\",\"fiyzv\",\"sajby\",\"kphft\",\"vzhzx\",\"syvoq\",\"tiymh\",\"uogwo\",\"tykyy\",\"gtcgt\",\"xyxoc\",\"vjmci\",\"vbpgv\",\"zsanh\",\"ovwjz\",\"aaifj\",\"ypckk\",\"vzmvc\",\"wvabi\",\"zerub\",\"mfmdu\",\"eriea\",\"zdqiq\",\"fiaey\",\"fhbnw\",\"kjtgs\",\"faush\",\"anbkt\",\"wslky\",\"wmeca\",\"uyzdy\",\"wvvtd\",\"ufbjj\",\"afyid\",\"txqxj\",\"pyuqz\",\"zxwox\",\"myals\",\"shfkl\",\"kcsvh\",\"jkvqf\",\"xkftd\",\"qmzjw\",\"ndsxn\",\"zqnul\",\"xajbd\",\"peydp\",\"uxuzy\",\"hismx\",\"ddlrq\",\"ckgxt\",\"ovdvh\",\"pzluf\",\"hjrol\",\"kyhmq\",\"hjstk\",\"hamdq\",\"gwwru\",\"cruwm\",\"aalhh\",\"mcncz\",\"nwwnt\",\"vpumc\",\"bdnye\",\"jdxpv\",\"kihwc\",\"ehudy\",\"yqoca\",\"djirf\",\"ivhin\",\"vtyas\",\"nfbji\",\"yuibs\",\"zajmb\",\"dupyk\",\"bwiuc\",\"dvygt\"]\n",
       "},\n",
       "\"sampling\":\"none\",\n",
       "\"position\":\"stack\",\n",
       "\"geom\":\"bar\"\n",
       "}]\n",
       "};\n",
       "           var plotContainer = document.getElementById(\"wN8OxM\");\n",
       "           window.letsPlotCall(function() {{\n",
       "               LetsPlot.buildPlotFromProcessedSpecs(plotSpec, -1, -1, plotContainer);\n",
       "           }});\n",
       "       })();    \n",
       "   </script>"
      ]
     },
     "execution_count": 4,
     "metadata": {},
     "output_type": "execute_result"
    }
   ],
   "source": [
    "// Disable sampling to see the overplotting.\n",
    "p + geomBar(sampling = samplingNone)"
   ]
  },
  {
   "cell_type": "code",
   "execution_count": 5,
   "metadata": {},
   "outputs": [
    {
     "data": {
      "text/html": [
       "   <div id=\"mZRRTE\"></div>\n",
       "   <script type=\"text/javascript\" data-lets-plot-script=\"plot\">\n",
       "       (function() {\n",
       "           var plotSpec={\n",
       "\"mapping\":{\n",
       "\"x\":\"word\"\n",
       "},\n",
       "\"data\":{\n",
       "},\n",
       "\"kind\":\"plot\",\n",
       "\"computation_messages\":[\"sampling_pick(n=50) was applied to [bar/count stat] layer\"],\n",
       "\"scales\":[],\n",
       "\"layers\":[{\n",
       "\"mapping\":{\n",
       "},\n",
       "\"stat\":\"count\",\n",
       "\"data\":{\n",
       "\"..count..\":[3.0,3.0,3.0,4.0,3.0,6.0,4.0,1.0,2.0,3.0,2.0,4.0,3.0,2.0,4.0,6.0,3.0,4.0,5.0,1.0,3.0,3.0,2.0,3.0,2.0,2.0,5.0,3.0,2.0,2.0,3.0,2.0,1.0,3.0,3.0,1.0,1.0,3.0,6.0,4.0,1.0,3.0,4.0,2.0,2.0,1.0,1.0,4.0,5.0,2.0],\n",
       "\"word\":[\"isopm\",\"mxhlz\",\"zevjm\",\"pwtjx\",\"srldc\",\"aajui\",\"lwpku\",\"rkqfz\",\"usnne\",\"tqsap\",\"sqwfm\",\"ttnyg\",\"ghrtu\",\"kmrmj\",\"zqjyl\",\"tmmrt\",\"vslzv\",\"svqkp\",\"uxqkp\",\"fmonp\",\"abixd\",\"wbexk\",\"yrnag\",\"nzxfg\",\"zqxtq\",\"dwaki\",\"kzqud\",\"aiwej\",\"cxgwn\",\"ihric\",\"duiel\",\"vpmpk\",\"wnusm\",\"vnqlo\",\"feaxe\",\"hwxfm\",\"lxaxb\",\"fsmkn\",\"rmqyy\",\"ldwli\",\"quqef\",\"fiekr\",\"czsdl\",\"ujjfc\",\"ixslt\",\"ehcku\",\"svahn\",\"dhigj\",\"lpjgi\",\"rdzlz\"]\n",
       "},\n",
       "\"position\":\"stack\",\n",
       "\"geom\":\"bar\"\n",
       "}]\n",
       "};\n",
       "           var plotContainer = document.getElementById(\"mZRRTE\");\n",
       "           window.letsPlotCall(function() {{\n",
       "               LetsPlot.buildPlotFromProcessedSpecs(plotSpec, -1, -1, plotContainer);\n",
       "           }});\n",
       "       })();    \n",
       "   </script>"
      ]
     },
     "execution_count": 5,
     "metadata": {},
     "output_type": "execute_result"
    }
   ],
   "source": [
    "// Draw plot with default sampling.\n",
    "p + geomBar()"
   ]
  },
  {
   "cell_type": "code",
   "execution_count": 6,
   "metadata": {},
   "outputs": [
    {
     "data": {
      "text/html": [
       "   <div id=\"jvNq31\"></div>\n",
       "   <script type=\"text/javascript\" data-lets-plot-script=\"plot\">\n",
       "       (function() {\n",
       "           var plotSpec={\n",
       "\"mapping\":{\n",
       "\"x\":\"word\"\n",
       "},\n",
       "\"data\":{\n",
       "},\n",
       "\"kind\":\"plot\",\n",
       "\"computation_messages\":[\"sampling_pick(n=50) was applied to [bar/count stat] layer\"],\n",
       "\"scales\":[],\n",
       "\"layers\":[{\n",
       "\"mapping\":{\n",
       "\"fill\":\"g\"\n",
       "},\n",
       "\"stat\":\"count\",\n",
       "\"data\":{\n",
       "\"..count..\":[2.0,2.0,1.0,1.0,2.0,2.0,2.0,1.0,2.0,1.0,2.0,1.0,1.0,1.0,1.0,1.0,2.0,1.0,2.0,1.0,1.0,2.0,2.0,1.0,1.0,2.0,1.0,2.0,2.0,3.0,2.0,3.0,1.0,1.0,1.0,1.0,1.0,2.0,3.0,1.0,1.0,1.0,1.0,2.0,2.0,1.0,2.0,1.0,2.0,1.0,1.0,2.0,1.0,1.0,1.0,2.0,2.0,1.0,1.0,1.0,1.0,1.0,1.0,1.0,1.0,1.0,1.0,1.0,1.0,2.0,1.0,1.0,1.0,1.0,1.0,1.0,2.0,3.0,1.0,2.0,1.0,2.0,1.0,1.0,1.0,2.0,3.0,1.0,1.0,1.0,1.0,3.0,1.0,1.0,1.0,2.0,1.0,2.0,1.0,1.0,1.0,1.0,1.0,1.0,1.0],\n",
       "\"g\":[\"a\",\"a\",\"a\",\"a\",\"a\",\"a\",\"a\",\"a\",\"a\",\"a\",\"a\",\"a\",\"a\",\"a\",\"a\",\"a\",\"a\",\"a\",\"a\",\"a\",\"a\",\"a\",\"a\",\"a\",\"a\",\"a\",\"a\",\"a\",\"a\",\"a\",\"a\",\"a\",\"a\",\"a\",\"a\",\"a\",\"a\",\"a\",\"a\",\"a\",\"a\",\"a\",\"a\",\"a\",\"a\",\"a\",\"a\",\"a\",\"a\",\"a\",\"c\",\"c\",\"c\",\"c\",\"c\",\"c\",\"c\",\"c\",\"c\",\"c\",\"c\",\"c\",\"c\",\"c\",\"c\",\"c\",\"c\",\"c\",\"c\",\"c\",\"c\",\"c\",\"c\",\"c\",\"c\",\"c\",\"b\",\"b\",\"b\",\"b\",\"b\",\"b\",\"b\",\"b\",\"b\",\"b\",\"b\",\"b\",\"b\",\"b\",\"b\",\"b\",\"b\",\"b\",\"b\",\"b\",\"b\",\"b\",\"b\",\"b\",\"b\",\"b\",\"b\",\"b\",\"b\"],\n",
       "\"word\":[\"isopm\",\"lwpku\",\"rkqfz\",\"sqwfm\",\"zqjyl\",\"tmmrt\",\"vslzv\",\"wbexk\",\"aajui\",\"cxgwn\",\"duiel\",\"vpmpk\",\"vnqlo\",\"feaxe\",\"hwxfm\",\"ldwli\",\"pwtjx\",\"ujjfc\",\"ixslt\",\"ehcku\",\"svahn\",\"lpjgi\",\"klcho\",\"cgizk\",\"fbowl\",\"njhrp\",\"lgelt\",\"ofacx\",\"dqcmt\",\"bwefs\",\"qcops\",\"fizlr\",\"ogdir\",\"jcxsh\",\"nkubn\",\"eqbbw\",\"ehcvp\",\"jarhk\",\"cyrvp\",\"jkjsy\",\"fmaow\",\"dmoqb\",\"wrgzt\",\"nzogj\",\"jttqb\",\"ihznb\",\"zzrfr\",\"fggew\",\"unxzw\",\"rlolr\",\"cgizk\",\"lwpku\",\"jarhk\",\"lpjgi\",\"isopm\",\"dmoqb\",\"ldwli\",\"fggew\",\"nzogj\",\"lgelt\",\"njhrp\",\"vpmpk\",\"sqwfm\",\"fbowl\",\"zqjyl\",\"cxgwn\",\"jcxsh\",\"tmmrt\",\"zzrfr\",\"ogdir\",\"aajui\",\"jkjsy\",\"vnqlo\",\"nkubn\",\"wbexk\",\"vslzv\",\"pwtjx\",\"aajui\",\"rlolr\",\"fggew\",\"ogdir\",\"feaxe\",\"ldwli\",\"ofacx\",\"ujjfc\",\"lpjgi\",\"fbowl\",\"jarhk\",\"zqjyl\",\"duiel\",\"vnqlo\",\"tmmrt\",\"wbexk\",\"lgelt\",\"qcops\",\"eqbbw\",\"dqcmt\",\"fmaow\",\"klcho\",\"njhrp\",\"unxzw\",\"jkjsy\",\"wrgzt\",\"nkubn\",\"cyrvp\"]\n",
       "},\n",
       "\"position\":\"stack\",\n",
       "\"geom\":\"bar\"\n",
       "}]\n",
       "};\n",
       "           var plotContainer = document.getElementById(\"jvNq31\");\n",
       "           window.letsPlotCall(function() {{\n",
       "               LetsPlot.buildPlotFromProcessedSpecs(plotSpec, -1, -1, plotContainer);\n",
       "           }});\n",
       "       })();    \n",
       "   </script>"
      ]
     },
     "execution_count": 6,
     "metadata": {},
     "output_type": "execute_result"
    }
   ],
   "source": [
    "// 'pick' sampling preserves groups on bar chart.\n",
    "p + geomBar { fill=\"g\" }"
   ]
  },
  {
   "cell_type": "code",
   "execution_count": 7,
   "metadata": {},
   "outputs": [
    {
     "data": {
      "text/html": [
       "   <div id=\"1WD6rP\"></div>\n",
       "   <script type=\"text/javascript\" data-lets-plot-script=\"plot\">\n",
       "       (function() {\n",
       "           var plotSpec={\n",
       "\"mapping\":{\n",
       "\"x\":\"word\"\n",
       "},\n",
       "\"data\":{\n",
       "},\n",
       "\"kind\":\"plot\",\n",
       "\"computation_messages\":[\"sampling_pick(n=50) was applied to [bar/count stat] layer\"],\n",
       "\"scales\":[],\n",
       "\"layers\":[{\n",
       "\"mapping\":{\n",
       "\"x\":\"@as_discrete@word\",\n",
       "\"fill\":\"g\"\n",
       "},\n",
       "\"stat\":\"count\",\n",
       "\"data\":{\n",
       "\"..count..\":[2.0,2.0,2.0,1.0,1.0,2.0,3.0,3.0,1.0,3.0,1.0,2.0,2.0,2.0,3.0,1.0,1.0,5.0,2.0,2.0,2.0,3.0,2.0,2.0,2.0,3.0,1.0,2.0,2.0,2.0,2.0,1.0,1.0,1.0,1.0,1.0,1.0,1.0,2.0,1.0,1.0,1.0,1.0,1.0,1.0,3.0,2.0,2.0,1.0,3.0,1.0,2.0,2.0,2.0,1.0,2.0,1.0,1.0,2.0,2.0,1.0,1.0,1.0,1.0,2.0,1.0,3.0,4.0,1.0,2.0,2.0,1.0,2.0,1.0,1.0,4.0,2.0,2.0,4.0,1.0,1.0,2.0,1.0,1.0,2.0,3.0,1.0,2.0,1.0,1.0,3.0,2.0,2.0,3.0,4.0,1.0,2.0,3.0,2.0,2.0,2.0,2.0,3.0,3.0,2.0,1.0,2.0,2.0,2.0,1.0,3.0,1.0,1.0,2.0,2.0,4.0,3.0,2.0,3.0,4.0,2.0,3.0,1.0,1.0,1.0,1.0,1.0,2.0,1.0,2.0,1.0],\n",
       "\"@as_discrete@word\":[\"tmmrt\",\"aajui\",\"lpjgi\",\"fbowl\",\"fggew\",\"zyiyn\",\"rohvu\",\"totsq\",\"gnrfn\",\"vaolt\",\"tarep\",\"wutco\",\"oscbg\",\"hqzon\",\"lwgnw\",\"kdzqw\",\"rvpom\",\"bmiga\",\"kwxii\",\"fnmyb\",\"najey\",\"rmqyy\",\"glvzl\",\"rgtyy\",\"csisd\",\"edgwl\",\"urocc\",\"jwwwk\",\"nvkex\",\"dzevh\",\"whcci\",\"zgwxi\",\"ocvax\",\"sqaie\",\"csasd\",\"wgrpi\",\"ucbef\",\"tcjsl\",\"uxqkp\",\"yqvdg\",\"yaurp\",\"kzqud\",\"myiar\",\"dhxfg\",\"jorlf\",\"kzqud\",\"rmqyy\",\"najey\",\"vaolt\",\"ocvax\",\"dzevh\",\"csisd\",\"csasd\",\"totsq\",\"urocc\",\"hqzon\",\"wgrpi\",\"kwxii\",\"yqvdg\",\"ucbef\",\"myiar\",\"lpjgi\",\"rohvu\",\"edgwl\",\"glvzl\",\"oscbg\",\"rvpom\",\"oytvg\",\"rgtyy\",\"tarep\",\"fnmyb\",\"mdtrj\",\"zyiyn\",\"tcjsl\",\"fggew\",\"auqaw\",\"zgwxi\",\"kdzqw\",\"yaurp\",\"uxqkp\",\"lwgnw\",\"whcci\",\"fbowl\",\"goiyw\",\"nvkex\",\"zjtdo\",\"tmmrt\",\"dhxfg\",\"jwwwk\",\"aajui\",\"aajui\",\"uxqkp\",\"csasd\",\"kdzqw\",\"urocc\",\"lwgnw\",\"csisd\",\"sqaie\",\"fggew\",\"dhxfg\",\"ucbef\",\"oscbg\",\"goiyw\",\"jorlf\",\"tarep\",\"vaolt\",\"tcjsl\",\"zjtdo\",\"lpjgi\",\"rgtyy\",\"fbowl\",\"rmqyy\",\"zgwxi\",\"wutco\",\"wgrpi\",\"kwxii\",\"mdtrj\",\"jwwwk\",\"tmmrt\",\"gnrfn\",\"edgwl\",\"glvzl\",\"kzqud\",\"auqaw\",\"ocvax\",\"yqvdg\",\"nvkex\",\"myiar\",\"whcci\",\"dzevh\",\"najey\"],\n",
       "\"g\":[\"a\",\"a\",\"a\",\"a\",\"a\",\"a\",\"a\",\"a\",\"a\",\"a\",\"a\",\"a\",\"a\",\"a\",\"a\",\"a\",\"a\",\"a\",\"a\",\"a\",\"a\",\"a\",\"a\",\"a\",\"a\",\"a\",\"a\",\"a\",\"a\",\"a\",\"a\",\"a\",\"a\",\"a\",\"a\",\"a\",\"a\",\"a\",\"a\",\"a\",\"a\",\"a\",\"a\",\"a\",\"a\",\"c\",\"c\",\"c\",\"c\",\"c\",\"c\",\"c\",\"c\",\"c\",\"c\",\"c\",\"c\",\"c\",\"c\",\"c\",\"c\",\"c\",\"c\",\"c\",\"c\",\"c\",\"c\",\"c\",\"c\",\"c\",\"c\",\"c\",\"c\",\"c\",\"c\",\"c\",\"c\",\"c\",\"c\",\"c\",\"c\",\"c\",\"c\",\"c\",\"c\",\"c\",\"c\",\"c\",\"c\",\"c\",\"b\",\"b\",\"b\",\"b\",\"b\",\"b\",\"b\",\"b\",\"b\",\"b\",\"b\",\"b\",\"b\",\"b\",\"b\",\"b\",\"b\",\"b\",\"b\",\"b\",\"b\",\"b\",\"b\",\"b\",\"b\",\"b\",\"b\",\"b\",\"b\",\"b\",\"b\",\"b\",\"b\",\"b\",\"b\",\"b\",\"b\",\"b\",\"b\",\"b\",\"b\"]\n",
       "},\n",
       "\"position\":\"stack\",\n",
       "\"geom\":\"bar\",\n",
       "\"data_meta\":{\n",
       "\"mapping_annotations\":[{\n",
       "\"annotation\":\"as_discrete\",\n",
       "\"parameters\":{\n",
       "\"order_by\":\"..count..\",\n",
       "\"label\":\"word\"\n",
       "},\n",
       "\"aes\":\"x\"\n",
       "}]\n",
       "}\n",
       "}]\n",
       "};\n",
       "           var plotContainer = document.getElementById(\"1WD6rP\");\n",
       "           window.letsPlotCall(function() {{\n",
       "               LetsPlot.buildPlotFromProcessedSpecs(plotSpec, -1, -1, plotContainer);\n",
       "           }});\n",
       "       })();    \n",
       "   </script>"
      ]
     },
     "execution_count": 7,
     "metadata": {},
     "output_type": "execute_result"
    }
   ],
   "source": [
    "// Orgering words by `count` might be a good idea.\n",
    "p + geomBar {\n",
    "    fill = \"g\"\n",
    "    x = asDiscrete(\"word\", orderBy = \"..count..\")\n",
    "}"
   ]
  }
 ],
 "metadata": {
  "kernelspec": {
   "display_name": "Kotlin",
   "language": "kotlin",
   "name": "kotlin"
  },
  "language_info": {
   "codemirror_mode": "kotlin",
   "file_extension": ".kt",
   "mimetype": "text/x-kotlin",
   "name": "kotlin",
   "nbconvert_exporter": "",
   "pygments_lexer": "kotlin",
   "version": "1.6.0-dev-1733"
  }
 },
 "nbformat": 4,
 "nbformat_minor": 4
}