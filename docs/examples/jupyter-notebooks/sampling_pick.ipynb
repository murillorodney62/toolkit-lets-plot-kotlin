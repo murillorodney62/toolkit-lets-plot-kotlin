{
 "cells": [
  {
   "cell_type": "markdown",
   "metadata": {},
   "source": [
    "### Pick Sampling"
   ]
  },
  {
   "cell_type": "code",
   "execution_count": 1,
   "metadata": {},
   "outputs": [
    {
     "data": {
      "text/html": [
       "   <div id=\"lFpf50\"></div>\n",
       "   <script type=\"text/javascript\" data-lets-plot-script=\"library\">\n",
       "       if(!window.letsPlotCallQueue) {\n",
       "           window.letsPlotCallQueue = [];\n",
       "       }; \n",
       "       window.letsPlotCall = function(f) {\n",
       "           window.letsPlotCallQueue.push(f);\n",
       "       };\n",
       "       (function() {\n",
       "           var script = document.createElement(\"script\");\n",
       "           script.type = \"text/javascript\";\n",
       "           script.src = \"https://cdn.jsdelivr.net/gh/JetBrains/lets-plot@v2.3.0/js-package/distr/lets-plot.min.js\";\n",
       "           script.onload = function() {\n",
       "               window.letsPlotCall = function(f) {f();};\n",
       "               window.letsPlotCallQueue.forEach(function(f) {f();});\n",
       "               window.letsPlotCallQueue = [];\n",
       "               \n",
       "               \n",
       "           };\n",
       "           script.onerror = function(event) {\n",
       "               window.letsPlotCall = function(f) {};\n",
       "               window.letsPlotCallQueue = [];\n",
       "               var div = document.createElement(\"div\");\n",
       "               div.style.color = 'darkred';\n",
       "               div.textContent = 'Error loading Lets-Plot JS';\n",
       "               document.getElementById(\"lFpf50\").appendChild(div);\n",
       "           };\n",
       "           var e = document.getElementById(\"lFpf50\");\n",
       "           e.appendChild(script);\n",
       "       })();\n",
       "   </script>"
      ]
     },
     "metadata": {},
     "output_type": "display_data"
    }
   ],
   "source": [
    "%useLatestDescriptors\n",
    "%use lets-plot"
   ]
  },
  {
   "cell_type": "code",
   "execution_count": 2,
   "metadata": {},
   "outputs": [],
   "source": [
    "fun genWord(length:Int):String {\n",
    "    val letters = ('a'..'z')\n",
    "    return List(length) { letters.random() }.joinToString(\"\")\n",
    "}    \n",
    "\n",
    "fun genWordSet(n:Int):Set<String> {\n",
    "    val words = HashSet<String>()\n",
    "    while(words.size < n) {\n",
    "        words.add(genWord(5))\n",
    "    }\n",
    "    return words\n",
    "}\n",
    "\n",
    "fun data(n:Int, words:Set<String>):Map<String, *> {\n",
    "    return mapOf(\n",
    "            \"word\" to List(n) { words.random() },\n",
    "            \"g\" to List(n) { listOf('a','b','c').random() }\n",
    "        )\n",
    "}"
   ]
  },
  {
   "cell_type": "code",
   "execution_count": 3,
   "metadata": {},
   "outputs": [],
   "source": [
    "// Number of unique words exceeds threshold (50) of default 'pick' sampling on bar chart.\n",
    "val words = genWordSet(500)\n",
    "val dat = data(1000, words)\n",
    "val p = ggplot(dat) { x = \"word\" }"
   ]
  },
  {
   "cell_type": "code",
   "execution_count": 4,
   "metadata": {},
   "outputs": [
    {
     "data": {
      "text/html": [
       "   <div id=\"g0k3fx\"></div>\n",
       "   <script type=\"text/javascript\" data-lets-plot-script=\"plot\">\n",
       "       (function() {\n",
       "           var plotSpec={\n",
       "\"mapping\":{\n",
       "\"x\":\"word\"\n",
       "},\n",
       "\"data\":{\n",
       "},\n",
       "\"kind\":\"plot\",\n",
       "\"scales\":[],\n",
       "\"layers\":[{\n",
       "\"mapping\":{\n",
       "},\n",
       "\"stat\":\"count\",\n",
       "\"sampling\":\"none\",\n",
       "\"position\":\"stack\",\n",
       "\"geom\":\"bar\",\n",
       "\"data\":{\n",
       "\"..count..\":[3.0,1.0,1.0,3.0,3.0,3.0,3.0,4.0,3.0,2.0,3.0,4.0,3.0,2.0,3.0,5.0,3.0,1.0,3.0,3.0,3.0,4.0,1.0,4.0,4.0,6.0,1.0,4.0,2.0,3.0,3.0,1.0,3.0,4.0,6.0,1.0,6.0,2.0,4.0,4.0,4.0,1.0,4.0,3.0,2.0,3.0,4.0,5.0,3.0,2.0,3.0,1.0,2.0,2.0,1.0,2.0,2.0,2.0,3.0,2.0,4.0,5.0,4.0,2.0,2.0,1.0,3.0,3.0,3.0,3.0,5.0,1.0,4.0,3.0,4.0,3.0,3.0,1.0,3.0,2.0,5.0,4.0,2.0,3.0,4.0,4.0,1.0,2.0,1.0,5.0,3.0,3.0,2.0,1.0,5.0,3.0,5.0,1.0,3.0,2.0,3.0,6.0,2.0,4.0,2.0,5.0,2.0,2.0,2.0,3.0,1.0,6.0,5.0,3.0,5.0,3.0,3.0,1.0,2.0,3.0,2.0,4.0,3.0,3.0,2.0,1.0,1.0,3.0,5.0,2.0,3.0,2.0,2.0,5.0,2.0,6.0,5.0,2.0,1.0,1.0,2.0,1.0,2.0,3.0,2.0,2.0,1.0,5.0,5.0,4.0,1.0,5.0,1.0,1.0,1.0,4.0,5.0,2.0,3.0,1.0,3.0,4.0,3.0,1.0,3.0,4.0,2.0,1.0,3.0,2.0,6.0,2.0,1.0,2.0,3.0,3.0,2.0,2.0,1.0,2.0,5.0,6.0,4.0,3.0,2.0,1.0,2.0,5.0,2.0,3.0,2.0,1.0,4.0,2.0,3.0,2.0,3.0,4.0,3.0,4.0,2.0,2.0,1.0,2.0,3.0,2.0,1.0,5.0,1.0,4.0,2.0,4.0,3.0,2.0,3.0,3.0,3.0,5.0,3.0,3.0,3.0,1.0,1.0,1.0,4.0,4.0,2.0,5.0,1.0,2.0,2.0,3.0,2.0,2.0,3.0,1.0,2.0,2.0,2.0,1.0,4.0,3.0,1.0,2.0,3.0,2.0,2.0,2.0,4.0,3.0,3.0,2.0,3.0,2.0,4.0,3.0,2.0,1.0,2.0,1.0,2.0,3.0,4.0,1.0,3.0,2.0,2.0,2.0,1.0,2.0,1.0,3.0,1.0,2.0,2.0,3.0,2.0,2.0,5.0,2.0,1.0,2.0,2.0,4.0,3.0,3.0,1.0,2.0,5.0,2.0,3.0,1.0,2.0,3.0,2.0,2.0,1.0,2.0,4.0,3.0,2.0,1.0,2.0,1.0,4.0,2.0,1.0,2.0,5.0,1.0,2.0,3.0,1.0,2.0,1.0,1.0,3.0,2.0,1.0,2.0,1.0,1.0,2.0,2.0,1.0,2.0,1.0,1.0,1.0,2.0,1.0,1.0,2.0,1.0,1.0,3.0,1.0,1.0,3.0,3.0,3.0,1.0,2.0,1.0,3.0,6.0,2.0,2.0,1.0,3.0,1.0,1.0,1.0,3.0,1.0,1.0,2.0,1.0,1.0,1.0,1.0,1.0,1.0,1.0,1.0,2.0,1.0,1.0,2.0,2.0,1.0,3.0,2.0,1.0,1.0,1.0,1.0,1.0,1.0,2.0,2.0,1.0,1.0,1.0,2.0,2.0,3.0,1.0,1.0,2.0,1.0,1.0,1.0,1.0,1.0,1.0,1.0,2.0,1.0,1.0,1.0,1.0,1.0,2.0,1.0,1.0,1.0,1.0,1.0,1.0,1.0,1.0,2.0,2.0,1.0,1.0,1.0,1.0,1.0,1.0,2.0,1.0,1.0,1.0],\n",
       "\"word\":[\"tobpl\",\"yagtd\",\"jdiue\",\"xmsaz\",\"ajbsa\",\"qnjhf\",\"ozafg\",\"qlfzm\",\"qyrrl\",\"iourv\",\"uvawx\",\"kzxat\",\"pnwtq\",\"nyibh\",\"ororr\",\"guygi\",\"bzjvk\",\"bxnbo\",\"tfmbp\",\"arqei\",\"bvzzr\",\"nfocr\",\"cmcqn\",\"zauzx\",\"ggjdu\",\"ngsdz\",\"hzuss\",\"ulcco\",\"cqhlf\",\"cvovq\",\"prkwm\",\"obrim\",\"fytaa\",\"oybzq\",\"gqrnh\",\"toloj\",\"kdxdb\",\"ofljm\",\"zluqa\",\"pmlar\",\"ofnfs\",\"glyqm\",\"tfwfm\",\"nszit\",\"bjplk\",\"ywalh\",\"vcphw\",\"gyfbm\",\"hsllv\",\"ncabs\",\"anoyj\",\"cekbf\",\"rzgxa\",\"cbtmt\",\"fmutg\",\"dycax\",\"xctdf\",\"ftvrp\",\"rgeth\",\"ruprn\",\"nmiyb\",\"uicbc\",\"lfyxe\",\"bskxd\",\"qsqpk\",\"rktvi\",\"exazu\",\"fbpmq\",\"czvvj\",\"bexpm\",\"buyms\",\"ucbvy\",\"rjfnw\",\"jfxwd\",\"kgkqa\",\"tcvbh\",\"ihzef\",\"kzhvy\",\"qxavu\",\"hxugt\",\"ngtjb\",\"pvwmt\",\"noawn\",\"xqrdh\",\"zpkmm\",\"ecrvd\",\"dsxdz\",\"tvppz\",\"cjqjb\",\"wkskl\",\"sakgp\",\"wsila\",\"tptmu\",\"ftjhe\",\"hgxmt\",\"graem\",\"ewpeg\",\"skmry\",\"agwqb\",\"qxpjv\",\"ididu\",\"wvzvv\",\"ahruh\",\"lnprc\",\"abdrp\",\"ydxak\",\"hhqos\",\"puegs\",\"kzwgm\",\"cwgsd\",\"gnkdi\",\"qwojk\",\"hcddp\",\"qmxlg\",\"sjihz\",\"iluaa\",\"dkxkt\",\"ipxsp\",\"wevzc\",\"diywy\",\"vtgbe\",\"bmqrf\",\"lddox\",\"jbexv\",\"qaorj\",\"jorty\",\"uijrf\",\"atjsn\",\"ygwcf\",\"qnkwb\",\"qkbbd\",\"mffct\",\"pztfa\",\"oeybu\",\"mucam\",\"gdvuo\",\"iawbr\",\"epdbh\",\"zeucv\",\"tznhi\",\"atbek\",\"gjvrn\",\"djcoq\",\"njxoa\",\"nauav\",\"dnyjy\",\"hiroe\",\"xroal\",\"ntlsq\",\"rpwen\",\"uyikv\",\"ajlri\",\"moxvg\",\"pomdl\",\"vnzbb\",\"vqksu\",\"yamqy\",\"iluyh\",\"ybehw\",\"ndopp\",\"calqs\",\"xxfrd\",\"hzlwx\",\"kjtyb\",\"qixiv\",\"nqjdz\",\"eobbi\",\"qehoi\",\"erykm\",\"hdfku\",\"froaj\",\"sxrnu\",\"qjadm\",\"xjndc\",\"taixu\",\"jfpnb\",\"ucokx\",\"eyozm\",\"zvymt\",\"ciicp\",\"lftas\",\"gcxxp\",\"jupqp\",\"vwslb\",\"ffyii\",\"nsmna\",\"zmism\",\"smnnd\",\"swosm\",\"imbjt\",\"gujsh\",\"zuqcx\",\"mdosc\",\"glcvt\",\"oebhp\",\"ikmdh\",\"ruxvt\",\"tspej\",\"nnfvr\",\"ammhd\",\"mhgto\",\"igihl\",\"hwwie\",\"qqfod\",\"dfrzg\",\"wqppj\",\"woijp\",\"ubrfc\",\"oehzk\",\"tvlus\",\"gbvvu\",\"xuluq\",\"xpoph\",\"lcduf\",\"ivkxo\",\"ividc\",\"bmzgr\",\"xbnqn\",\"jlcsj\",\"jnsfu\",\"uitso\",\"veqvf\",\"puhrq\",\"zhxls\",\"ofrvi\",\"bqqpp\",\"eccfl\",\"jaoxd\",\"afchn\",\"pfzbh\",\"iifgh\",\"mgmfh\",\"mnrbg\",\"eclso\",\"kqunn\",\"ezfxa\",\"xgruq\",\"dauel\",\"seesd\",\"chuzv\",\"fufcx\",\"fwnln\",\"wjsua\",\"amzjf\",\"ukqdj\",\"cnnma\",\"nzkdu\",\"xbawg\",\"valpn\",\"vpskl\",\"bfcle\",\"eooyb\",\"sqvqp\",\"zolox\",\"qbxxn\",\"gldob\",\"rjzrc\",\"mkoek\",\"ymuqr\",\"yksyb\",\"canfy\",\"hgsqe\",\"dlbpw\",\"sjgay\",\"ggigd\",\"jfggg\",\"kzezy\",\"oatci\",\"ciwot\",\"jrhhz\",\"oifkt\",\"wpaxd\",\"yozai\",\"zlmei\",\"htbzw\",\"heelw\",\"oebvm\",\"ldsvg\",\"kspar\",\"cuaeg\",\"gzhri\",\"tgaig\",\"guywj\",\"tljgx\",\"njkzq\",\"cklfq\",\"bcuvq\",\"xilxz\",\"jzjng\",\"uoxym\",\"qpdxp\",\"jujin\",\"jhguu\",\"czpey\",\"jdlcr\",\"mlprl\",\"yprpd\",\"hunoh\",\"rglms\",\"woaos\",\"swyzb\",\"kswot\",\"viioc\",\"dfqll\",\"uvdeo\",\"qyhwy\",\"vatbg\",\"pybbd\",\"gprhx\",\"xbqyu\",\"jvigb\",\"cfdyv\",\"smccr\",\"pafrd\",\"kcbkf\",\"bndmp\",\"slpth\",\"nruxd\",\"wnafh\",\"gcmjt\",\"ujkra\",\"cqspo\",\"jocpt\",\"kyryv\",\"igule\",\"ixqrm\",\"wvmbp\",\"lpoki\",\"mzzlz\",\"azavj\",\"ipfaj\",\"xiogy\",\"jwczt\",\"yjlxs\",\"djlsa\",\"xodef\",\"nykqz\",\"gsfum\",\"temop\",\"uevac\",\"xanze\",\"dtcjz\",\"swamz\",\"zeqjq\",\"gugpm\",\"fwfrx\",\"deqtr\",\"klkzs\",\"oswqs\",\"dunzx\",\"hstsw\",\"yvhlt\",\"pdghv\",\"yofcb\",\"akabp\",\"zbvkt\",\"suscl\",\"rhgac\",\"qkbdr\",\"foepr\",\"ewptn\",\"qrqib\",\"dwduw\",\"szlnu\",\"nigho\",\"ewxzt\",\"ybuvh\",\"mkkhg\",\"adxup\",\"rwhnq\",\"sdhew\",\"gcsvo\",\"agdil\",\"sbpko\",\"fvevn\",\"qteaz\",\"gxgtv\",\"vserl\",\"cwomk\",\"bnpcm\",\"ldwxa\",\"sryha\",\"mowmo\",\"zfsrz\",\"xamdz\",\"kkiqu\",\"jihpr\",\"jcbse\",\"efzna\",\"jgycm\",\"revkx\",\"bqexo\",\"eocmr\",\"xrdrt\",\"cfqtg\",\"mblqh\",\"hpmkw\",\"ivymq\",\"gvhun\",\"qiunt\",\"vpzzt\",\"ndeyg\",\"gokri\",\"svwoe\",\"louwv\",\"zzutn\",\"ttiyl\",\"sxjuz\",\"zmhwi\",\"ixzwg\",\"szjqz\",\"xduud\",\"aqpzg\",\"rgpss\",\"kaldu\",\"nszvp\",\"swmsy\",\"cjozh\",\"vjtxx\",\"pgnbm\",\"yliol\",\"dqref\",\"oeimc\",\"vutne\"]\n",
       "}\n",
       "}]\n",
       "};\n",
       "           var plotContainer = document.getElementById(\"g0k3fx\");\n",
       "           window.letsPlotCall(function() {{\n",
       "               LetsPlot.buildPlotFromProcessedSpecs(plotSpec, -1, -1, plotContainer);\n",
       "           }});\n",
       "       })();    \n",
       "   </script>"
      ]
     },
     "execution_count": 4,
     "metadata": {},
     "output_type": "execute_result"
    }
   ],
   "source": [
    "// Disable sampling to see the overplotting.\n",
    "p + geomBar(sampling = samplingNone)"
   ]
  },
  {
   "cell_type": "code",
   "execution_count": 5,
   "metadata": {},
   "outputs": [
    {
     "data": {
      "text/html": [
       "   <div id=\"T4LbtT\"></div>\n",
       "   <script type=\"text/javascript\" data-lets-plot-script=\"plot\">\n",
       "       (function() {\n",
       "           var plotSpec={\n",
       "\"mapping\":{\n",
       "\"x\":\"word\"\n",
       "},\n",
       "\"data\":{\n",
       "},\n",
       "\"kind\":\"plot\",\n",
       "\"scales\":[],\n",
       "\"layers\":[{\n",
       "\"mapping\":{\n",
       "},\n",
       "\"stat\":\"count\",\n",
       "\"position\":\"stack\",\n",
       "\"geom\":\"bar\",\n",
       "\"data\":{\n",
       "\"..count..\":[3.0,1.0,1.0,3.0,3.0,3.0,3.0,4.0,3.0,2.0,3.0,4.0,3.0,2.0,3.0,5.0,3.0,1.0,3.0,3.0,3.0,4.0,1.0,4.0,4.0,6.0,1.0,4.0,2.0,3.0,3.0,1.0,3.0,4.0,6.0,1.0,6.0,2.0,4.0,4.0,4.0,1.0,4.0,3.0,2.0,3.0,4.0,5.0,3.0,2.0],\n",
       "\"word\":[\"tobpl\",\"yagtd\",\"jdiue\",\"xmsaz\",\"ajbsa\",\"qnjhf\",\"ozafg\",\"qlfzm\",\"qyrrl\",\"iourv\",\"uvawx\",\"kzxat\",\"pnwtq\",\"nyibh\",\"ororr\",\"guygi\",\"bzjvk\",\"bxnbo\",\"tfmbp\",\"arqei\",\"bvzzr\",\"nfocr\",\"cmcqn\",\"zauzx\",\"ggjdu\",\"ngsdz\",\"hzuss\",\"ulcco\",\"cqhlf\",\"cvovq\",\"prkwm\",\"obrim\",\"fytaa\",\"oybzq\",\"gqrnh\",\"toloj\",\"kdxdb\",\"ofljm\",\"zluqa\",\"pmlar\",\"ofnfs\",\"glyqm\",\"tfwfm\",\"nszit\",\"bjplk\",\"ywalh\",\"vcphw\",\"gyfbm\",\"hsllv\",\"ncabs\"]\n",
       "}\n",
       "}],\n",
       "\"computation_messages\":[\"sampling_pick(n=50) was applied to [bar/count stat] layer\"]\n",
       "};\n",
       "           var plotContainer = document.getElementById(\"T4LbtT\");\n",
       "           window.letsPlotCall(function() {{\n",
       "               LetsPlot.buildPlotFromProcessedSpecs(plotSpec, -1, -1, plotContainer);\n",
       "           }});\n",
       "       })();    \n",
       "   </script>"
      ]
     },
     "execution_count": 5,
     "metadata": {},
     "output_type": "execute_result"
    }
   ],
   "source": [
    "// Draw plot with default sampling.\n",
    "p + geomBar()"
   ]
  },
  {
   "cell_type": "code",
   "execution_count": 6,
   "metadata": {},
   "outputs": [
    {
     "data": {
      "text/html": [
       "   <div id=\"WdcF1y\"></div>\n",
       "   <script type=\"text/javascript\" data-lets-plot-script=\"plot\">\n",
       "       (function() {\n",
       "           var plotSpec={\n",
       "\"mapping\":{\n",
       "\"x\":\"word\"\n",
       "},\n",
       "\"data\":{\n",
       "},\n",
       "\"kind\":\"plot\",\n",
       "\"scales\":[],\n",
       "\"layers\":[{\n",
       "\"mapping\":{\n",
       "\"fill\":\"g\"\n",
       "},\n",
       "\"stat\":\"count\",\n",
       "\"position\":\"stack\",\n",
       "\"geom\":\"bar\",\n",
       "\"data\":{\n",
       "\"..count..\":[3.0,1.0,1.0,2.0,2.0,1.0,2.0,3.0,3.0,1.0,2.0,2.0,2.0,3.0,3.0,2.0,2.0,3.0,1.0,2.0,1.0,1.0,1.0,1.0,2.0,1.0,2.0,1.0,2.0,2.0,4.0,2.0,2.0,2.0,3.0,1.0,2.0,1.0,2.0,1.0,1.0,3.0,1.0,1.0,1.0,3.0,1.0,1.0,1.0,1.0,2.0,1.0,1.0,2.0,1.0,1.0,1.0,1.0,1.0,1.0,1.0,1.0,2.0,1.0,1.0,1.0,1.0,1.0,1.0,1.0,1.0,2.0,3.0,2.0,2.0,2.0,3.0,1.0,1.0,1.0,1.0,1.0,1.0,1.0,2.0,1.0,1.0,1.0,1.0,2.0,1.0,2.0,1.0,1.0,1.0,1.0,1.0,1.0],\n",
       "\"g\":[\"c\",\"c\",\"c\",\"c\",\"c\",\"c\",\"c\",\"c\",\"c\",\"c\",\"c\",\"c\",\"c\",\"c\",\"c\",\"c\",\"c\",\"c\",\"c\",\"c\",\"c\",\"c\",\"c\",\"c\",\"c\",\"c\",\"c\",\"c\",\"c\",\"c\",\"c\",\"c\",\"c\",\"c\",\"c\",\"c\",\"c\",\"c\",\"c\",\"c\",\"c\",\"c\",\"c\",\"c\",\"c\",\"c\",\"c\",\"c\",\"c\",\"c\",\"b\",\"b\",\"b\",\"b\",\"b\",\"b\",\"b\",\"b\",\"b\",\"b\",\"b\",\"b\",\"b\",\"b\",\"b\",\"b\",\"b\",\"b\",\"b\",\"b\",\"b\",\"b\",\"a\",\"a\",\"a\",\"a\",\"a\",\"a\",\"a\",\"a\",\"a\",\"a\",\"a\",\"a\",\"a\",\"a\",\"a\",\"a\",\"a\",\"a\",\"a\",\"a\",\"a\",\"a\",\"a\",\"a\",\"a\",\"a\"],\n",
       "\"word\":[\"tobpl\",\"yagtd\",\"jdiue\",\"qnjhf\",\"ozafg\",\"iourv\",\"uvawx\",\"ororr\",\"guygi\",\"cmcqn\",\"ggjdu\",\"ngsdz\",\"prkwm\",\"oybzq\",\"gqrnh\",\"ofljm\",\"ofnfs\",\"ywalh\",\"vcphw\",\"hsllv\",\"rktvi\",\"arqei\",\"jfxwd\",\"kgkqa\",\"tcvbh\",\"qxavu\",\"hxugt\",\"cjqjb\",\"tptmu\",\"ewpeg\",\"wvzvv\",\"ydxak\",\"puegs\",\"kzxat\",\"hcddp\",\"qmxlg\",\"sjihz\",\"ipxsp\",\"bmqrf\",\"pztfa\",\"mucam\",\"iawbr\",\"atbek\",\"gjvrn\",\"djcoq\",\"njxoa\",\"hiroe\",\"ntlsq\",\"uyikv\",\"pomdl\",\"kzxat\",\"arqei\",\"uvawx\",\"gqrnh\",\"wvzvv\",\"kgkqa\",\"ydxak\",\"oybzq\",\"ntlsq\",\"qmxlg\",\"guygi\",\"ozafg\",\"hcddp\",\"ngsdz\",\"prkwm\",\"ggjdu\",\"ofnfs\",\"vcphw\",\"sjihz\",\"bmqrf\",\"qxavu\",\"ewpeg\",\"ngsdz\",\"kgkqa\",\"vcphw\",\"sjihz\",\"ntlsq\",\"pztfa\",\"ofnfs\",\"hsllv\",\"arqei\",\"iourv\",\"qnjhf\",\"qmxlg\",\"iawbr\",\"wvzvv\",\"ewpeg\",\"tcvbh\",\"djcoq\",\"ydxak\",\"bmqrf\",\"jfxwd\",\"qxavu\",\"guygi\",\"mucam\",\"gqrnh\",\"atbek\",\"ggjdu\"]\n",
       "}\n",
       "}],\n",
       "\"computation_messages\":[\"sampling_pick(n=50) was applied to [bar/count stat] layer\"]\n",
       "};\n",
       "           var plotContainer = document.getElementById(\"WdcF1y\");\n",
       "           window.letsPlotCall(function() {{\n",
       "               LetsPlot.buildPlotFromProcessedSpecs(plotSpec, -1, -1, plotContainer);\n",
       "           }});\n",
       "       })();    \n",
       "   </script>"
      ]
     },
     "execution_count": 6,
     "metadata": {},
     "output_type": "execute_result"
    }
   ],
   "source": [
    "// 'pick' sampling preserves groups on bar chart.\n",
    "p + geomBar { fill=\"g\" }"
   ]
  },
  {
   "cell_type": "code",
   "execution_count": 7,
   "metadata": {},
   "outputs": [
    {
     "data": {
      "text/html": [
       "   <div id=\"2ICmj2\"></div>\n",
       "   <script type=\"text/javascript\" data-lets-plot-script=\"plot\">\n",
       "       (function() {\n",
       "           var plotSpec={\n",
       "\"mapping\":{\n",
       "\"x\":\"word\"\n",
       "},\n",
       "\"data\":{\n",
       "},\n",
       "\"kind\":\"plot\",\n",
       "\"scales\":[],\n",
       "\"layers\":[{\n",
       "\"mapping\":{\n",
       "\"x\":\"@as_discrete@word\",\n",
       "\"fill\":\"g\"\n",
       "},\n",
       "\"stat\":\"count\",\n",
       "\"position\":\"stack\",\n",
       "\"geom\":\"bar\",\n",
       "\"data_meta\":{\n",
       "\"mapping_annotations\":[{\n",
       "\"aes\":\"x\",\n",
       "\"annotation\":\"as_discrete\",\n",
       "\"parameters\":{\n",
       "\"label\":\"word\",\n",
       "\"order_by\":\"..count..\"\n",
       "}\n",
       "}]\n",
       "},\n",
       "\"data\":{\n",
       "\"..count..\":[3.0,2.0,3.0,1.0,2.0,4.0,2.0,3.0,2.0,3.0,1.0,2.0,2.0,1.0,1.0,2.0,3.0,3.0,2.0,3.0,1.0,1.0,1.0,2.0,1.0,1.0,2.0,2.0,1.0,2.0,3.0,2.0,1.0,1.0,2.0,2.0,1.0,1.0,1.0,1.0,4.0,1.0,3.0,3.0,2.0,3.0,4.0,2.0,6.0,1.0,3.0,3.0,2.0,2.0,1.0,4.0,3.0,1.0,1.0,1.0,1.0,2.0,2.0,1.0,2.0,1.0,2.0,2.0,1.0,2.0,4.0,2.0,1.0,2.0,1.0,1.0,2.0,1.0,1.0,1.0,2.0,1.0,1.0,2.0,1.0,3.0,1.0,2.0,3.0,2.0,2.0,1.0,2.0,4.0,2.0,2.0,3.0,2.0,1.0,4.0,2.0,1.0,3.0,1.0,2.0,3.0,2.0,1.0,1.0,2.0,1.0,1.0,1.0,2.0,4.0,2.0,2.0,1.0,1.0,1.0,2.0,2.0,2.0,2.0,1.0,1.0,1.0,1.0,1.0],\n",
       "\"g\":[\"c\",\"c\",\"c\",\"c\",\"c\",\"c\",\"c\",\"c\",\"c\",\"c\",\"c\",\"c\",\"c\",\"c\",\"c\",\"c\",\"c\",\"c\",\"c\",\"c\",\"c\",\"c\",\"c\",\"c\",\"c\",\"c\",\"c\",\"c\",\"c\",\"c\",\"c\",\"c\",\"c\",\"c\",\"c\",\"c\",\"c\",\"c\",\"c\",\"c\",\"b\",\"b\",\"b\",\"b\",\"b\",\"b\",\"b\",\"b\",\"b\",\"b\",\"b\",\"b\",\"b\",\"b\",\"b\",\"b\",\"b\",\"b\",\"b\",\"b\",\"b\",\"b\",\"b\",\"b\",\"b\",\"b\",\"b\",\"b\",\"b\",\"b\",\"b\",\"b\",\"b\",\"b\",\"b\",\"b\",\"b\",\"b\",\"b\",\"b\",\"b\",\"b\",\"b\",\"b\",\"b\",\"a\",\"a\",\"a\",\"a\",\"a\",\"a\",\"a\",\"a\",\"a\",\"a\",\"a\",\"a\",\"a\",\"a\",\"a\",\"a\",\"a\",\"a\",\"a\",\"a\",\"a\",\"a\",\"a\",\"a\",\"a\",\"a\",\"a\",\"a\",\"a\",\"a\",\"a\",\"a\",\"a\",\"a\",\"a\",\"a\",\"a\",\"a\",\"a\",\"a\",\"a\",\"a\",\"a\",\"a\"],\n",
       "\"@as_discrete@word\":[\"guygi\",\"ngsdz\",\"gqrnh\",\"vcphw\",\"ewpeg\",\"wvzvv\",\"ydxak\",\"hcddp\",\"sjihz\",\"iawbr\",\"ntlsq\",\"froaj\",\"ubrfc\",\"tvlus\",\"xbnqn\",\"xxfrd\",\"jaoxd\",\"tfwfm\",\"zpkmm\",\"valpn\",\"xuluq\",\"gyfbm\",\"hgxmt\",\"gprhx\",\"rpwen\",\"vqksu\",\"buyms\",\"uicbc\",\"tljgx\",\"xroal\",\"fwfrx\",\"jzjng\",\"kspar\",\"wkskl\",\"oeybu\",\"ulcco\",\"tspej\",\"kdxdb\",\"qwojk\",\"yamqy\",\"zauzx\",\"ulcco\",\"zluqa\",\"gyfbm\",\"uicbc\",\"ngtjb\",\"qwojk\",\"gqrnh\",\"gdvuo\",\"ygwcf\",\"wkskl\",\"rpwen\",\"ajlri\",\"yamqy\",\"wvzvv\",\"gcxxp\",\"smnnd\",\"ydxak\",\"xxfrd\",\"ntlsq\",\"vqksu\",\"ubrfc\",\"xbnqn\",\"lftas\",\"tvlus\",\"guygi\",\"tspej\",\"hgxmt\",\"valpn\",\"jzjng\",\"uvdeo\",\"hcddp\",\"ngsdz\",\"kdxdb\",\"buyms\",\"jaoxd\",\"tljgx\",\"xuluq\",\"vcphw\",\"sjihz\",\"kspar\",\"gprhx\",\"oeybu\",\"ewpeg\",\"fwfrx\",\"kdxdb\",\"tfwfm\",\"buyms\",\"ngsdz\",\"ngtjb\",\"zpkmm\",\"wkskl\",\"hgxmt\",\"ygwcf\",\"vcphw\",\"oeybu\",\"xroal\",\"vqksu\",\"xxfrd\",\"lftas\",\"sjihz\",\"tspej\",\"ntlsq\",\"ulcco\",\"xuluq\",\"ajlri\",\"xbnqn\",\"jaoxd\",\"tvlus\",\"kspar\",\"tljgx\",\"jzjng\",\"ubrfc\",\"smnnd\",\"froaj\",\"yamqy\",\"iawbr\",\"qwojk\",\"wvzvv\",\"ewpeg\",\"gprhx\",\"gcxxp\",\"ydxak\",\"fwfrx\",\"gyfbm\",\"guygi\",\"zluqa\",\"uicbc\",\"gqrnh\"]\n",
       "}\n",
       "}],\n",
       "\"computation_messages\":[\"sampling_pick(n=50) was applied to [bar/count stat] layer\"]\n",
       "};\n",
       "           var plotContainer = document.getElementById(\"2ICmj2\");\n",
       "           window.letsPlotCall(function() {{\n",
       "               LetsPlot.buildPlotFromProcessedSpecs(plotSpec, -1, -1, plotContainer);\n",
       "           }});\n",
       "       })();    \n",
       "   </script>"
      ]
     },
     "execution_count": 7,
     "metadata": {},
     "output_type": "execute_result"
    }
   ],
   "source": [
    "// Orgering words by `count` might be a good idea.\n",
    "p + geomBar {\n",
    "    fill = \"g\"\n",
    "    x = asDiscrete(\"word\", orderBy = \"..count..\")\n",
    "}"
   ]
  }
 ],
 "metadata": {
  "kernelspec": {
   "display_name": "Kotlin",
   "language": "kotlin",
   "name": "kotlin"
  },
  "language_info": {
   "codemirror_mode": "text/x-kotlin",
   "file_extension": ".kt",
   "mimetype": "text/x-kotlin",
   "name": "kotlin",
   "nbconvert_exporter": "",
   "pygments_lexer": "kotlin",
   "version": "1.7.0-dev-1825"
  }
 },
 "nbformat": 4,
 "nbformat_minor": 4
}
