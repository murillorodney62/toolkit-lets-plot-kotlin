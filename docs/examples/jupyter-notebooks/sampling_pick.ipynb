{
 "cells": [
  {
   "cell_type": "markdown",
   "metadata": {},
   "source": [
    "<em><sub>This page is available as an executable or viewable <strong>Jupyter Notebook</strong>:</sub></em>\n",
    "<br/><br/>\n",
    "<a href=\"https://mybinder.org/v2/gh/JetBrains/lets-plot-kotlin/v1.2.0demos2?filepath=docs%2Fexamples%2Fjupyter-notebooks%2Fsampling_pick.ipynb\"\n",
    "   target=\"_parent\">\n",
    "   <img align=\"left\"\n",
    "        src=\"https://mybinder.org/badge_logo.svg\">\n",
    "</a>\n",
    "<a href=\"https://nbviewer.jupyter.org/github/JetBrains/lets-plot-kotlin/blob/master/docs/examples/jupyter-notebooks/sampling_pick.ipynb\"\n",
    "   target=\"_parent\">\n",
    "   <img align=\"right\"\n",
    "        src=\"https://raw.githubusercontent.com/jupyter/design/master/logos/Badges/nbviewer_badge.png\"\n",
    "        width=\"109\" height=\"20\">\n",
    "</a>\n",
    "<br/>\n",
    "<br/>"
   ]
  },
  {
   "cell_type": "markdown",
   "metadata": {},
   "source": [
    "### Pick Sampling"
   ]
  },
  {
   "cell_type": "code",
   "execution_count": 1,
   "metadata": {},
   "outputs": [
    {
     "data": {
      "text/html": [
       "   <div id=\"Duu8PG\"></div>\n",
       "   <script type=\"text/javascript\" data-lets-plot-script=\"library\">\n",
       "       if(!window.letsPlotCallQueue) {\n",
       "           window.letsPlotCallQueue = [];\n",
       "       }; \n",
       "       window.letsPlotCall = function(f) {\n",
       "           window.letsPlotCallQueue.push(f);\n",
       "       };\n",
       "       (function() {\n",
       "           var script = document.createElement(\"script\");\n",
       "           script.type = \"text/javascript\";\n",
       "           script.src = \"https://dl.bintray.com/jetbrains/lets-plot/lets-plot-1.5.4.min.js\";\n",
       "           script.onload = function() {\n",
       "               window.letsPlotCall = function(f) {f();};\n",
       "               window.letsPlotCallQueue.forEach(function(f) {f();});\n",
       "               window.letsPlotCallQueue = [];\n",
       "               \n",
       "               \n",
       "           };\n",
       "           script.onerror = function(event) {\n",
       "               window.letsPlotCall = function(f) {};\n",
       "               window.letsPlotCallQueue = [];\n",
       "               var div = document.createElement(\"div\");\n",
       "               div.style.color = 'darkred';\n",
       "               div.textContent = 'Error loading Lets-Plot JS';\n",
       "               document.getElementById(\"Duu8PG\").appendChild(div);\n",
       "           };\n",
       "           var e = document.getElementById(\"Duu8PG\");\n",
       "           e.appendChild(script);\n",
       "       })();\n",
       "   </script>"
      ]
     },
     "metadata": {},
     "output_type": "display_data"
    }
   ],
   "source": [
    "%useLatestDescriptors\n",
    "%use lets-plot"
   ]
  },
  {
   "cell_type": "code",
   "execution_count": 2,
   "metadata": {},
   "outputs": [],
   "source": [
    "fun genWord(length:Int):String {\n",
    "    val letters = ('a'..'z')\n",
    "    return List(length) { letters.random() }.joinToString(\"\")\n",
    "}    \n",
    "\n",
    "fun genWordSet(n:Int):Set<String> {\n",
    "    val words = HashSet<String>()\n",
    "    while(words.size < n) {\n",
    "        words.add(genWord(5))\n",
    "    }\n",
    "    return words\n",
    "}\n",
    "\n",
    "fun data(n:Int, words:Set<String>):Map<String, *> {\n",
    "    return mapOf(\n",
    "            \"word\" to List(n) { words.random() },\n",
    "            \"g\" to List(n) { listOf('a','b','c').random() }\n",
    "        )\n",
    "}"
   ]
  },
  {
   "cell_type": "code",
   "execution_count": 3,
   "metadata": {},
   "outputs": [],
   "source": [
    "// Number of unique words exceeds threshold (50) of default 'pick' sampling on bar chart.\n",
    "val words = genWordSet(500)\n",
    "val dat = data(1000, words)\n",
    "val p = ggplot(dat) { x = \"word\" }"
   ]
  },
  {
   "cell_type": "code",
   "execution_count": 4,
   "metadata": {},
   "outputs": [
    {
     "data": {
      "text/html": [
       "   <div id=\"lMkZFT\"></div>\n",
       "   <script type=\"text/javascript\" data-lets-plot-script=\"plot\">\n",
       "       (function() {\n",
       "           var plotSpec={\n",
       "'mapping':{\n",
       "'x':\"word\"\n",
       "},\n",
       "'data':{\n",
       "},\n",
       "'kind':\"plot\",\n",
       "'scales':[],\n",
       "'layers':[{\n",
       "'mapping':{\n",
       "},\n",
       "'stat':\"count\",\n",
       "'data':{\n",
       "'..count..':[1.0,4.0,4.0,2.0,2.0,3.0,1.0,3.0,3.0,1.0,4.0,2.0,3.0,2.0,1.0,5.0,3.0,3.0,4.0,2.0,2.0,1.0,2.0,4.0,4.0,2.0,3.0,1.0,2.0,5.0,3.0,1.0,4.0,4.0,5.0,1.0,5.0,6.0,1.0,4.0,5.0,3.0,3.0,5.0,3.0,2.0,4.0,2.0,4.0,2.0,4.0,3.0,1.0,6.0,5.0,2.0,4.0,1.0,3.0,1.0,3.0,2.0,1.0,1.0,3.0,2.0,3.0,3.0,3.0,3.0,3.0,2.0,2.0,3.0,1.0,2.0,2.0,3.0,2.0,3.0,2.0,4.0,2.0,3.0,3.0,3.0,3.0,4.0,2.0,2.0,3.0,3.0,2.0,3.0,2.0,2.0,3.0,6.0,1.0,3.0,4.0,1.0,2.0,3.0,3.0,5.0,3.0,2.0,3.0,4.0,5.0,2.0,3.0,1.0,1.0,2.0,2.0,4.0,1.0,5.0,2.0,4.0,5.0,5.0,2.0,3.0,2.0,3.0,2.0,4.0,3.0,3.0,1.0,4.0,2.0,5.0,1.0,1.0,1.0,1.0,1.0,2.0,3.0,2.0,2.0,1.0,2.0,5.0,1.0,2.0,3.0,4.0,2.0,4.0,4.0,1.0,2.0,3.0,6.0,1.0,3.0,2.0,4.0,1.0,1.0,4.0,4.0,4.0,1.0,3.0,3.0,1.0,5.0,5.0,3.0,3.0,1.0,2.0,4.0,3.0,4.0,1.0,3.0,2.0,3.0,2.0,2.0,2.0,3.0,2.0,2.0,2.0,5.0,2.0,2.0,2.0,1.0,3.0,3.0,1.0,5.0,4.0,4.0,4.0,1.0,2.0,2.0,1.0,2.0,1.0,3.0,2.0,5.0,1.0,3.0,1.0,2.0,3.0,3.0,8.0,1.0,3.0,2.0,2.0,2.0,1.0,1.0,1.0,2.0,4.0,2.0,1.0,2.0,3.0,4.0,4.0,4.0,1.0,2.0,2.0,1.0,6.0,3.0,2.0,4.0,5.0,3.0,1.0,2.0,2.0,3.0,1.0,3.0,3.0,5.0,3.0,3.0,2.0,2.0,3.0,1.0,3.0,2.0,3.0,2.0,1.0,2.0,1.0,2.0,2.0,5.0,2.0,4.0,2.0,3.0,5.0,2.0,3.0,3.0,2.0,2.0,1.0,1.0,1.0,1.0,1.0,2.0,3.0,1.0,1.0,1.0,3.0,3.0,3.0,2.0,2.0,2.0,2.0,4.0,1.0,3.0,2.0,2.0,2.0,3.0,1.0,3.0,2.0,2.0,1.0,4.0,2.0,2.0,1.0,1.0,2.0,1.0,2.0,1.0,1.0,2.0,1.0,2.0,3.0,1.0,2.0,2.0,2.0,2.0,1.0,3.0,2.0,2.0,1.0,1.0,3.0,1.0,2.0,2.0,2.0,3.0,1.0,2.0,1.0,4.0,2.0,1.0,4.0,1.0,1.0,1.0,3.0,1.0,1.0,2.0,1.0,1.0,3.0,2.0,2.0,3.0,3.0,2.0,1.0,1.0,1.0,2.0,1.0,1.0,1.0,1.0,1.0,1.0,1.0,2.0,2.0,1.0,2.0,1.0,1.0,1.0,1.0,1.0,1.0,1.0,2.0,1.0,2.0,3.0,1.0,1.0,3.0,1.0,1.0,1.0,1.0,1.0,1.0,1.0,1.0,1.0,1.0,1.0,2.0,1.0,1.0,2.0,1.0,2.0,2.0,1.0,1.0,1.0,2.0,1.0,1.0,1.0,1.0,1.0,1.0,1.0,1.0,2.0,1.0,1.0,1.0,1.0,1.0,1.0,1.0,1.0,1.0,1.0,1.0,2.0,1.0,1.0],\n",
       "'word':[\"ybgvk\",\"govpg\",\"tslti\",\"dlzde\",\"iskkt\",\"eoxap\",\"vkseb\",\"pkymv\",\"psvsj\",\"rqoow\",\"mlcez\",\"xqdoi\",\"llhpl\",\"uxrap\",\"ofdug\",\"nzqpm\",\"ohyob\",\"sober\",\"uqqwy\",\"plkzl\",\"zatox\",\"bqvrj\",\"copvu\",\"mvmrs\",\"khpuj\",\"fsalr\",\"bieta\",\"bqwfw\",\"ukizn\",\"rwnbv\",\"azwls\",\"nqctf\",\"uuxfy\",\"gkfdy\",\"xqaxm\",\"vbwcv\",\"ykjiz\",\"qbuly\",\"kditl\",\"wrqyy\",\"ffzwv\",\"dhncv\",\"usbws\",\"oxotb\",\"vteib\",\"bdkwm\",\"oikfq\",\"ozpwp\",\"vgzjs\",\"uvpoy\",\"gfrca\",\"xxnaz\",\"uirmp\",\"oammb\",\"sesvm\",\"mzzrp\",\"lunqe\",\"iutrn\",\"uhbuk\",\"bahux\",\"yjadn\",\"pgwwj\",\"amzkf\",\"eqoqq\",\"avcol\",\"xgdnc\",\"pnlxe\",\"ajatc\",\"viohk\",\"ugjmf\",\"jbzyc\",\"jdqjc\",\"hmrbk\",\"kugki\",\"gmqfp\",\"lzcse\",\"vkwsy\",\"psjrk\",\"ywjmj\",\"zeuto\",\"dexiz\",\"xrpbs\",\"yfpku\",\"gfpxj\",\"qwevg\",\"rnmvh\",\"ertmo\",\"kpqar\",\"reewd\",\"tedlh\",\"osdlr\",\"lzodq\",\"ayvnj\",\"kclsg\",\"ocjdq\",\"ogjuy\",\"qzphl\",\"jcoev\",\"ezjqp\",\"qfzom\",\"wafyf\",\"heydz\",\"ybuxu\",\"leixu\",\"xohki\",\"ovcat\",\"rvyfo\",\"glgyk\",\"ofccm\",\"stdga\",\"iyqhr\",\"zrbcu\",\"gpbtg\",\"jdwpp\",\"wlozv\",\"xuqoo\",\"qjcym\",\"jzlsj\",\"hobye\",\"rzdjw\",\"zthwi\",\"rnplk\",\"rxolw\",\"tnlxe\",\"zptma\",\"eugaz\",\"txyex\",\"erzby\",\"cdkxn\",\"pbbhs\",\"obdzu\",\"uiepd\",\"dnsir\",\"yqulf\",\"wlgxw\",\"ejzoa\",\"ckukw\",\"xikno\",\"giqkw\",\"zofaz\",\"glixk\",\"vendo\",\"hhikq\",\"kkhtc\",\"qbjnr\",\"gdygu\",\"kluie\",\"isato\",\"jnvmq\",\"umhsg\",\"easui\",\"clkjv\",\"evitb\",\"ynxja\",\"fdgjd\",\"pefux\",\"mymws\",\"jgzxx\",\"bspym\",\"vvqnz\",\"kfaer\",\"jjgxe\",\"qwnbt\",\"pkqln\",\"pfcfq\",\"jlpan\",\"nymwx\",\"dgmjn\",\"qvoel\",\"fkdnu\",\"rsgel\",\"fmkby\",\"eisbb\",\"dgxsk\",\"zllcn\",\"ntwsr\",\"jhxrj\",\"wauom\",\"zfjch\",\"whdly\",\"mzdar\",\"dakwc\",\"ekbvj\",\"bvbhp\",\"edoxs\",\"gtbqh\",\"yziio\",\"dbqir\",\"mnftw\",\"bamyo\",\"frhox\",\"woezx\",\"rhmed\",\"dcxoe\",\"cahwg\",\"nbbvd\",\"qosav\",\"zwabz\",\"xcccw\",\"jqgtc\",\"tqxat\",\"hoihw\",\"rtezw\",\"hgtjd\",\"fmvmj\",\"rkxbs\",\"qxprl\",\"sbbqb\",\"twifx\",\"hjeci\",\"eclca\",\"smoqt\",\"kkqsx\",\"zlxkt\",\"pkxor\",\"pqhfh\",\"syycl\",\"basys\",\"kkqnl\",\"ieqzb\",\"ueirl\",\"jciru\",\"cafop\",\"hoylv\",\"kbjhb\",\"zsbik\",\"lplhb\",\"dhwoq\",\"eyxta\",\"aipmi\",\"wnkxj\",\"xvwco\",\"xjfdk\",\"zikiq\",\"nefuq\",\"cjebx\",\"hdidw\",\"ouxrq\",\"nbbhg\",\"laaqi\",\"uyhqc\",\"vjhcn\",\"utlzx\",\"ygodr\",\"zzyno\",\"zkqch\",\"hgxnx\",\"kngmk\",\"jbpuw\",\"mrwxo\",\"bmxsi\",\"latuh\",\"hkmxo\",\"ogtyf\",\"zzivg\",\"tjups\",\"pogmc\",\"dcidj\",\"ecisr\",\"bdljs\",\"ioxwb\",\"kuami\",\"dvxjy\",\"zbvmn\",\"nxqvz\",\"xcuqg\",\"uqmsy\",\"ayydm\",\"usfpe\",\"gotlz\",\"pdpgu\",\"tqrvz\",\"afepm\",\"oyfyl\",\"nfikn\",\"bhmzr\",\"qhwtl\",\"diwdy\",\"plhug\",\"meylq\",\"nuhil\",\"gmrec\",\"xhcsy\",\"hcjiu\",\"yxhyv\",\"cdaxv\",\"hincu\",\"fmhlp\",\"jdjrk\",\"hgare\",\"qsnlj\",\"vkmzn\",\"wwrxi\",\"egbwz\",\"azdny\",\"nkxdd\",\"kypjw\",\"upyym\",\"sqkzh\",\"ojqtq\",\"bwkcr\",\"mzjdl\",\"ajpeu\",\"jgiop\",\"qkeev\",\"muqsh\",\"eejel\",\"jybsy\",\"mtcgx\",\"faxws\",\"awabi\",\"vwzog\",\"vpvog\",\"whgfm\",\"damfs\",\"tdgox\",\"hwwea\",\"lujrc\",\"hemkz\",\"georj\",\"gphfv\",\"rpwqu\",\"ggigb\",\"pepce\",\"fwrkn\",\"sudjo\",\"ltijl\",\"dxpxi\",\"jdrec\",\"qxger\",\"mbutw\",\"lmslt\",\"janrq\",\"qekry\",\"vziyb\",\"ogqpv\",\"olzaq\",\"zwrik\",\"fevwm\",\"lepnj\",\"iavhe\",\"kqkii\",\"ucpmt\",\"yycnf\",\"jqbsx\",\"aklsg\",\"jrtkm\",\"dasds\",\"cmkao\",\"wwgst\",\"xhwhu\",\"dhbpv\",\"bfwzw\",\"fkslj\",\"wcndn\",\"fjuhc\",\"lsohk\",\"wgdgm\",\"pryeb\",\"bxcom\",\"ersbh\",\"ieymb\",\"dkhmu\",\"nuzcj\",\"gakmq\",\"qafaq\",\"mdvpa\",\"wmvex\",\"dvxcw\",\"kjxxd\",\"srogl\",\"btyii\",\"ojqbk\",\"iaaam\",\"axfyt\",\"spwco\",\"ppfbf\",\"vxahd\",\"xcgus\",\"mfvbx\",\"cnupg\",\"fygbi\",\"ykzfr\",\"nhygz\",\"vzdji\",\"flgpg\",\"nuavs\",\"pmhoz\",\"pnmud\",\"raisv\",\"eicay\",\"vilhn\",\"skfss\",\"lkhds\",\"giksk\",\"yqwqd\",\"buwip\",\"yhzdm\",\"mtuoz\",\"ggrsx\",\"gempb\",\"ulhoa\",\"adevf\",\"gfdmi\",\"bffts\",\"rjohp\",\"tjlro\",\"yprrh\",\"gqyet\",\"kaevd\",\"rxhpl\",\"flpkn\",\"avavw\",\"tayvm\",\"qlieh\",\"fcbmv\",\"bndbm\",\"ytwlo\",\"omrzl\",\"oeewt\",\"hugre\",\"rzprf\",\"ioixk\",\"pwwmn\",\"xiotx\",\"trwoc\",\"onlal\",\"uxqui\",\"wrhld\",\"cjccz\",\"hfvcb\",\"sxfam\",\"uvgwt\",\"bbolu\",\"dsjun\",\"mqgbk\",\"ocxrd\"]\n",
       "},\n",
       "'sampling':\"none\",\n",
       "'position':\"stack\",\n",
       "'geom':\"bar\"\n",
       "}]\n",
       "};\n",
       "           var plotContainer = document.getElementById(\"lMkZFT\");\n",
       "           window.letsPlotCall(function() {{\n",
       "               LetsPlot.buildPlotFromProcessedSpecs(plotSpec, -1, -1, plotContainer);\n",
       "           }});\n",
       "       })();    \n",
       "   </script>"
      ]
     },
     "execution_count": 4,
     "metadata": {
      "new_classpath": []
     },
     "output_type": "execute_result"
    }
   ],
   "source": [
    "// Disable sampling to see the overplotting.\n",
    "p + geom_bar(sampling = sampling_none)"
   ]
  },
  {
   "cell_type": "code",
   "execution_count": 5,
   "metadata": {},
   "outputs": [
    {
     "data": {
      "text/html": [
       "   <div id=\"AJ4fRZ\"></div>\n",
       "   <script type=\"text/javascript\" data-lets-plot-script=\"plot\">\n",
       "       (function() {\n",
       "           var plotSpec={\n",
       "'mapping':{\n",
       "'x':\"word\"\n",
       "},\n",
       "'data':{\n",
       "},\n",
       "'kind':\"plot\",\n",
       "'computation_messages':[\"sampling_pick(n=50) was applied to [bar/count stat] layer\"],\n",
       "'scales':[],\n",
       "'layers':[{\n",
       "'mapping':{\n",
       "},\n",
       "'stat':\"count\",\n",
       "'data':{\n",
       "'..count..':[1.0,4.0,4.0,2.0,2.0,3.0,1.0,3.0,3.0,1.0,4.0,2.0,3.0,2.0,1.0,5.0,3.0,3.0,4.0,2.0,2.0,1.0,2.0,4.0,4.0,2.0,3.0,1.0,2.0,5.0,3.0,1.0,4.0,4.0,5.0,1.0,5.0,6.0,1.0,4.0,5.0,3.0,3.0,5.0,3.0,2.0,4.0,2.0,4.0,2.0],\n",
       "'word':[\"ybgvk\",\"govpg\",\"tslti\",\"dlzde\",\"iskkt\",\"eoxap\",\"vkseb\",\"pkymv\",\"psvsj\",\"rqoow\",\"mlcez\",\"xqdoi\",\"llhpl\",\"uxrap\",\"ofdug\",\"nzqpm\",\"ohyob\",\"sober\",\"uqqwy\",\"plkzl\",\"zatox\",\"bqvrj\",\"copvu\",\"mvmrs\",\"khpuj\",\"fsalr\",\"bieta\",\"bqwfw\",\"ukizn\",\"rwnbv\",\"azwls\",\"nqctf\",\"uuxfy\",\"gkfdy\",\"xqaxm\",\"vbwcv\",\"ykjiz\",\"qbuly\",\"kditl\",\"wrqyy\",\"ffzwv\",\"dhncv\",\"usbws\",\"oxotb\",\"vteib\",\"bdkwm\",\"oikfq\",\"ozpwp\",\"vgzjs\",\"uvpoy\"]\n",
       "},\n",
       "'position':\"stack\",\n",
       "'geom':\"bar\"\n",
       "}]\n",
       "};\n",
       "           var plotContainer = document.getElementById(\"AJ4fRZ\");\n",
       "           window.letsPlotCall(function() {{\n",
       "               LetsPlot.buildPlotFromProcessedSpecs(plotSpec, -1, -1, plotContainer);\n",
       "           }});\n",
       "       })();    \n",
       "   </script>"
      ]
     },
     "execution_count": 5,
     "metadata": {
      "new_classpath": []
     },
     "output_type": "execute_result"
    }
   ],
   "source": [
    "// Draw plot with default sampling.\n",
    "p + geom_bar()"
   ]
  },
  {
   "cell_type": "code",
   "execution_count": 6,
   "metadata": {},
   "outputs": [
    {
     "data": {
      "text/html": [
       "   <div id=\"DjGUpF\"></div>\n",
       "   <script type=\"text/javascript\" data-lets-plot-script=\"plot\">\n",
       "       (function() {\n",
       "           var plotSpec={\n",
       "'mapping':{\n",
       "'x':\"word\"\n",
       "},\n",
       "'data':{\n",
       "},\n",
       "'kind':\"plot\",\n",
       "'computation_messages':[\"sampling_pick(n=50) was applied to [bar/count stat] layer\"],\n",
       "'scales':[],\n",
       "'layers':[{\n",
       "'mapping':{\n",
       "'fill':\"g\"\n",
       "},\n",
       "'stat':\"count\",\n",
       "'data':{\n",
       "'..count..':[1.0,1.0,2.0,2.0,1.0,3.0,1.0,2.0,1.0,1.0,2.0,4.0,1.0,2.0,1.0,1.0,2.0,1.0,2.0,2.0,3.0,1.0,2.0,2.0,1.0,2.0,2.0,1.0,1.0,1.0,2.0,1.0,1.0,1.0,1.0,3.0,2.0,3.0,1.0,1.0,1.0,1.0,1.0,1.0,1.0,1.0,1.0,1.0,1.0,1.0,2.0,1.0,1.0,1.0,1.0,2.0,1.0,1.0,1.0,2.0,2.0,1.0,1.0,1.0,1.0,1.0,1.0,1.0,1.0,2.0,2.0,1.0,1.0,1.0,1.0,2.0,1.0,1.0,1.0,1.0,1.0,2.0,1.0,1.0,1.0,2.0,1.0,1.0,1.0],\n",
       "'g':[\"a\",\"a\",\"a\",\"a\",\"a\",\"a\",\"a\",\"a\",\"a\",\"a\",\"a\",\"a\",\"a\",\"a\",\"a\",\"a\",\"a\",\"a\",\"a\",\"a\",\"a\",\"a\",\"a\",\"a\",\"a\",\"a\",\"a\",\"a\",\"a\",\"a\",\"a\",\"a\",\"a\",\"a\",\"a\",\"a\",\"a\",\"a\",\"a\",\"a\",\"a\",\"a\",\"a\",\"a\",\"a\",\"a\",\"a\",\"a\",\"a\",\"a\",\"b\",\"b\",\"b\",\"b\",\"b\",\"b\",\"b\",\"b\",\"b\",\"b\",\"b\",\"b\",\"b\",\"b\",\"b\",\"b\",\"b\",\"b\",\"c\",\"c\",\"c\",\"c\",\"c\",\"c\",\"c\",\"c\",\"c\",\"c\",\"c\",\"c\",\"c\",\"c\",\"c\",\"c\",\"c\",\"c\",\"c\",\"c\",\"c\"],\n",
       "'word':[\"ybgvk\",\"govpg\",\"dlzde\",\"eoxap\",\"pkymv\",\"nzqpm\",\"copvu\",\"mvmrs\",\"bieta\",\"bqwfw\",\"ukizn\",\"vgzjs\",\"uirmp\",\"uhbuk\",\"bahux\",\"eqoqq\",\"vkwsy\",\"dexiz\",\"yfpku\",\"qwevg\",\"ertmo\",\"ayvnj\",\"ocjdq\",\"qzphl\",\"ezjqp\",\"wafyf\",\"leixu\",\"xohki\",\"psjrk\",\"stdga\",\"iyqhr\",\"zrbcu\",\"zeuto\",\"gpbtg\",\"wlozv\",\"jzlsj\",\"viohk\",\"eugaz\",\"obdzu\",\"dnsir\",\"ckukw\",\"xikno\",\"giqkw\",\"kkhtc\",\"uqqwy\",\"jnvmq\",\"umhsg\",\"qfzom\",\"mzzrp\",\"vvqnz\",\"uqqwy\",\"mzzrp\",\"viohk\",\"psjrk\",\"wafyf\",\"bieta\",\"gpbtg\",\"xohki\",\"eoxap\",\"stdga\",\"govpg\",\"leixu\",\"pkymv\",\"iyqhr\",\"umhsg\",\"zrbcu\",\"uhbuk\",\"obdzu\",\"copvu\",\"zeuto\",\"qfzom\",\"qzphl\",\"dexiz\",\"ayvnj\",\"pkymv\",\"nzqpm\",\"qwevg\",\"govpg\",\"obdzu\",\"gpbtg\",\"jzlsj\",\"iyqhr\",\"wafyf\",\"kkhtc\",\"stdga\",\"mvmrs\",\"uqqwy\",\"xohki\",\"psjrk\"]\n",
       "},\n",
       "'position':\"stack\",\n",
       "'geom':\"bar\"\n",
       "}]\n",
       "};\n",
       "           var plotContainer = document.getElementById(\"DjGUpF\");\n",
       "           window.letsPlotCall(function() {{\n",
       "               LetsPlot.buildPlotFromProcessedSpecs(plotSpec, -1, -1, plotContainer);\n",
       "           }});\n",
       "       })();    \n",
       "   </script>"
      ]
     },
     "execution_count": 6,
     "metadata": {
      "new_classpath": []
     },
     "output_type": "execute_result"
    }
   ],
   "source": [
    "// 'pick' sampling preserves groups on bar chart.\n",
    "p + geom_bar { fill=\"g\" }"
   ]
  }
 ],
 "metadata": {
  "kernelspec": {
   "display_name": "Kotlin",
   "language": "kotlin",
   "name": "kotlin"
  },
  "language_info": {
   "codemirror_mode": "text/x-kotlin",
   "file_extension": ".kt",
   "mimetype": "text/x-kotlin",
   "name": "kotlin",
   "pygments_lexer": "kotlin",
   "version": "1.4.30-dev-2223"
  }
 },
 "nbformat": 4,
 "nbformat_minor": 4
}
