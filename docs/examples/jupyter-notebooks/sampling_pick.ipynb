{
 "cells": [
  {
   "cell_type": "markdown",
   "metadata": {},
   "source": [
    "<em><sub>This page is available as an executable or viewable <strong>Jupyter Notebook</strong>:</sub></em>\n",
    "<br/><br/>\n",
    "<a href=\"https://mybinder.org/v2/gh/JetBrains/lets-plot-kotlin/v0.0.27demos2?filepath=docs%2Fexamples%2Fjupyter-notebooks%2Fsampling_pick.ipynb\"\n",
    "   target=\"_parent\">\n",
    "   <img align=\"left\"\n",
    "        src=\"https://mybinder.org/badge_logo.svg\">\n",
    "</a>\n",
    "<a href=\"https://nbviewer.jupyter.org/github/JetBrains/lets-plot-kotlin/blob/master/docs/examples/jupyter-notebooks/sampling_pick.ipynb\"\n",
    "   target=\"_parent\">\n",
    "   <img align=\"right\"\n",
    "        src=\"https://raw.githubusercontent.com/jupyter/design/master/logos/Badges/nbviewer_badge.png\"\n",
    "        width=\"109\" height=\"20\">\n",
    "</a>\n",
    "<br/>\n",
    "<br/>"
   ]
  },
  {
   "cell_type": "markdown",
   "metadata": {},
   "source": [
    "### Pick Sampling"
   ]
  },
  {
   "cell_type": "code",
   "execution_count": 1,
   "metadata": {},
   "outputs": [
    {
     "data": {
      "text/html": [
       "   <div id=\"vU2kdH\"></div>\n",
       "   <script type=\"text/javascript\" data-lets-plot-script=\"library\">\n",
       "       if(!window.letsPlotCallQueue) {\n",
       "           window.letsPlotCallQueue = [];\n",
       "       }; \n",
       "       window.letsPlotCall = function(f) {\n",
       "           window.letsPlotCallQueue.push(f);\n",
       "       };\n",
       "       (function() {\n",
       "           var script = document.createElement(\"script\");\n",
       "           script.type = \"text/javascript\";\n",
       "           script.src = \"https://dl.bintray.com/jetbrains/lets-plot/lets-plot-1.5.0.min.js\";\n",
       "           script.onload = function() {\n",
       "               window.letsPlotCall = function(f) {f();};\n",
       "               window.letsPlotCallQueue.forEach(function(f) {f();});\n",
       "               window.letsPlotCallQueue = [];\n",
       "               \n",
       "               \n",
       "           };\n",
       "           script.onerror = function(event) {\n",
       "               window.letsPlotCall = function(f) {};\n",
       "               window.letsPlotCallQueue = [];\n",
       "               var div = document.createElement(\"div\");\n",
       "               div.style.color = 'darkred';\n",
       "               div.textContent = 'Error loading Lets-Plot JS';\n",
       "               document.getElementById(\"vU2kdH\").appendChild(div);\n",
       "           };\n",
       "           var e = document.getElementById(\"vU2kdH\");\n",
       "           e.appendChild(script);\n",
       "       })();\n",
       "   </script>"
      ]
     },
     "metadata": {},
     "output_type": "display_data"
    }
   ],
   "source": [
    "%use lets-plot\n"
   ]
  },
  {
   "cell_type": "code",
   "execution_count": 2,
   "metadata": {},
   "outputs": [],
   "source": [
    "fun genWord(length:Int):String {\n",
    "    val letters = ('a'..'z')\n",
    "    return List(length) { letters.random() }.joinToString(\"\")\n",
    "}    \n",
    "\n",
    "fun genWordSet(n:Int):Set<String> {\n",
    "    val words = HashSet<String>()\n",
    "    while(words.size < n) {\n",
    "        words.add(genWord(5))\n",
    "    }\n",
    "    return words\n",
    "}\n",
    "\n",
    "fun data(n:Int, words:Set<String>):Map<String, *> {\n",
    "    return mapOf(\n",
    "            \"word\" to List(n) { words.random() },\n",
    "            \"g\" to List(n) { listOf('a','b','c').random() }\n",
    "        )\n",
    "}"
   ]
  },
  {
   "cell_type": "code",
   "execution_count": 3,
   "metadata": {},
   "outputs": [],
   "source": [
    "// Number of unique words exceeds threshold (50) of default 'pick' sampling on bar chart.\n",
    "val words = genWordSet(500)\n",
    "val dat = data(1000, words)\n",
    "val p = ggplot(dat) { x = \"word\" }"
   ]
  },
  {
   "cell_type": "code",
   "execution_count": 4,
   "metadata": {},
   "outputs": [
    {
     "data": {
      "text/html": [
       "   <div id=\"Pt2DKX\"></div>\n",
       "   <script type=\"text/javascript\" data-lets-plot-script=\"plot\">\n",
       "       (function() {\n",
       "           var plotSpec={\n",
       "'mapping':{\n",
       "'x':\"word\"\n",
       "},\n",
       "'data':{\n",
       "},\n",
       "'kind':\"plot\",\n",
       "'scales':[],\n",
       "'layers':[{\n",
       "'stat':\"count\",\n",
       "'mapping':{\n",
       "},\n",
       "'data':{\n",
       "'..count..':[1.0,3.0,5.0,6.0,5.0,3.0,4.0,4.0,4.0,2.0,2.0,6.0,3.0,5.0,3.0,2.0,2.0,4.0,2.0,6.0,4.0,3.0,4.0,3.0,3.0,4.0,5.0,2.0,2.0,3.0,1.0,6.0,5.0,3.0,3.0,4.0,3.0,3.0,5.0,1.0,3.0,3.0,3.0,3.0,4.0,2.0,5.0,2.0,1.0,3.0,1.0,1.0,2.0,5.0,2.0,3.0,2.0,4.0,1.0,3.0,5.0,3.0,2.0,2.0,1.0,1.0,4.0,4.0,1.0,5.0,3.0,2.0,3.0,4.0,3.0,2.0,1.0,3.0,4.0,3.0,3.0,6.0,5.0,5.0,4.0,2.0,4.0,2.0,3.0,3.0,2.0,1.0,1.0,2.0,4.0,5.0,2.0,3.0,2.0,2.0,3.0,2.0,2.0,2.0,5.0,2.0,3.0,4.0,2.0,2.0,2.0,1.0,3.0,1.0,3.0,1.0,1.0,7.0,2.0,5.0,4.0,3.0,2.0,2.0,1.0,3.0,4.0,2.0,3.0,2.0,3.0,1.0,2.0,3.0,5.0,1.0,1.0,2.0,4.0,2.0,2.0,2.0,2.0,4.0,1.0,2.0,3.0,5.0,3.0,3.0,1.0,3.0,4.0,4.0,1.0,2.0,2.0,2.0,3.0,4.0,3.0,3.0,1.0,1.0,2.0,1.0,2.0,2.0,1.0,3.0,2.0,5.0,1.0,3.0,4.0,1.0,3.0,3.0,3.0,4.0,4.0,3.0,3.0,3.0,3.0,5.0,4.0,1.0,1.0,2.0,3.0,1.0,1.0,4.0,2.0,1.0,2.0,2.0,1.0,3.0,4.0,1.0,2.0,2.0,1.0,3.0,1.0,1.0,2.0,3.0,4.0,3.0,2.0,1.0,1.0,4.0,1.0,3.0,2.0,4.0,3.0,1.0,1.0,2.0,2.0,2.0,2.0,1.0,4.0,6.0,1.0,1.0,4.0,3.0,4.0,2.0,2.0,2.0,4.0,4.0,2.0,2.0,4.0,3.0,1.0,2.0,3.0,3.0,3.0,4.0,2.0,2.0,2.0,2.0,2.0,1.0,2.0,2.0,3.0,1.0,1.0,2.0,2.0,5.0,3.0,1.0,2.0,1.0,2.0,2.0,4.0,1.0,3.0,3.0,1.0,2.0,2.0,2.0,1.0,1.0,3.0,2.0,3.0,3.0,2.0,3.0,1.0,2.0,2.0,1.0,1.0,1.0,3.0,1.0,2.0,1.0,1.0,2.0,2.0,1.0,3.0,3.0,2.0,3.0,2.0,4.0,1.0,1.0,2.0,2.0,3.0,2.0,2.0,2.0,2.0,1.0,3.0,2.0,1.0,1.0,3.0,3.0,4.0,2.0,3.0,3.0,2.0,1.0,4.0,1.0,1.0,2.0,2.0,1.0,1.0,2.0,1.0,1.0,1.0,2.0,1.0,2.0,1.0,1.0,3.0,2.0,4.0,2.0,1.0,1.0,1.0,2.0,1.0,3.0,3.0,1.0,3.0,1.0,1.0,3.0,2.0,1.0,2.0,2.0,1.0,1.0,1.0,1.0,1.0,2.0,1.0,2.0,1.0,2.0,2.0,3.0,2.0,1.0,1.0,1.0,1.0,1.0,1.0,1.0,2.0,2.0,2.0,2.0,2.0,2.0,2.0,3.0,1.0,2.0,1.0,1.0,1.0,1.0,1.0,1.0,1.0,1.0,2.0,1.0,2.0,1.0,1.0,1.0,1.0,1.0,1.0,2.0,1.0,2.0,1.0,1.0,1.0,1.0,2.0,1.0,1.0,1.0,1.0,1.0,1.0,1.0,1.0,1.0,1.0,1.0,1.0,1.0,1.0,1.0],\n",
       "'word':[\"yaigz\",\"psheo\",\"iiyyh\",\"logsa\",\"mqoap\",\"wfsse\",\"chqju\",\"xkdir\",\"dkrho\",\"lsjxi\",\"aottw\",\"mywev\",\"xolsm\",\"nrfnc\",\"sdcwf\",\"ghddm\",\"jyvty\",\"lbhpm\",\"mnedj\",\"gyirw\",\"geyey\",\"pjtjt\",\"azdkw\",\"zlxnp\",\"bwuze\",\"uncdw\",\"aymdu\",\"tbkbf\",\"fjmxi\",\"kaigo\",\"fxrlc\",\"seumr\",\"jwkxg\",\"vviux\",\"cdckc\",\"pszyr\",\"jkpnc\",\"pivvp\",\"gdbuo\",\"eaeto\",\"bvmyo\",\"aekvu\",\"izmyk\",\"mlyqr\",\"ukmtc\",\"hqmqv\",\"ztwvc\",\"mhklr\",\"rfypo\",\"ldoay\",\"dzfva\",\"iyxov\",\"vkdfr\",\"enyuv\",\"kwoax\",\"bptag\",\"luxzi\",\"jezge\",\"tqzss\",\"jzmlk\",\"foksh\",\"bbkgg\",\"sgujz\",\"jggpc\",\"srtdm\",\"jfhqf\",\"ncfdb\",\"vxpqv\",\"dakdn\",\"ipibf\",\"rnouq\",\"ttojj\",\"gsifq\",\"xnpct\",\"mrsuk\",\"chtiq\",\"xqtni\",\"inzoy\",\"npqyh\",\"usnel\",\"ddhvf\",\"aucdk\",\"reval\",\"vixoq\",\"ewykx\",\"jpkph\",\"hkmov\",\"ispqi\",\"cmown\",\"pxvvv\",\"yhpsl\",\"evuki\",\"ehwcn\",\"hkmmk\",\"kiotm\",\"kjjzi\",\"ngtay\",\"fajok\",\"oexda\",\"rnysp\",\"gpjus\",\"xhauj\",\"dzfce\",\"fqdvw\",\"kmbtb\",\"uzpwp\",\"jcwzr\",\"yjriz\",\"wieqm\",\"ccpzi\",\"cfpqh\",\"ufxje\",\"ssiuu\",\"rdpbf\",\"rvkvp\",\"swgqt\",\"sgpnv\",\"ojchj\",\"fcpuh\",\"geefz\",\"tmaop\",\"zjmzs\",\"llggm\",\"tfdzx\",\"fgmko\",\"gttsp\",\"qoaan\",\"yazxe\",\"oloof\",\"eohnk\",\"oxpto\",\"uwcnb\",\"murgl\",\"gzogw\",\"odavn\",\"pxhgs\",\"cihtm\",\"tqkpz\",\"dabla\",\"ddpqw\",\"hrrjt\",\"efidj\",\"pwyub\",\"ndyux\",\"eeldq\",\"qqulu\",\"tehhp\",\"jezbm\",\"uysez\",\"fblhk\",\"xnnco\",\"gqrug\",\"cgsdp\",\"wausz\",\"lyrvh\",\"earsu\",\"nccaq\",\"hchaw\",\"utsga\",\"xibis\",\"ikvhe\",\"sxvuk\",\"ecqlt\",\"zxikm\",\"wcwbg\",\"vnfez\",\"aibpt\",\"xihfc\",\"zargp\",\"jdisf\",\"idbmp\",\"eefyd\",\"zqucy\",\"vncjm\",\"ceqnv\",\"ckmkv\",\"aiugb\",\"dsbvp\",\"ddxux\",\"rxlbo\",\"fucor\",\"ezrvu\",\"upwfe\",\"uislr\",\"sblap\",\"ocrrt\",\"mxotk\",\"neeqf\",\"jazwx\",\"lgzze\",\"vxcdk\",\"khjri\",\"tqyuh\",\"imrvy\",\"cdpsa\",\"saznj\",\"ehetn\",\"bauiw\",\"wrmwc\",\"fqaqi\",\"hpdlr\",\"tksed\",\"xnmxj\",\"thtvf\",\"riqjw\",\"gssbm\",\"hlrwy\",\"bnjme\",\"egsaw\",\"bdswq\",\"yhueg\",\"vsked\",\"akkjn\",\"uneyj\",\"cyfdt\",\"gxuzn\",\"bnodt\",\"qkkbp\",\"wjdgq\",\"trdst\",\"zvcas\",\"jkmcr\",\"gsory\",\"btfkb\",\"lzejs\",\"qidhl\",\"gqjae\",\"yqhus\",\"lvcph\",\"uouan\",\"uwboe\",\"rlbit\",\"thlzz\",\"njgra\",\"iwyxf\",\"uurhz\",\"zxawb\",\"kgxco\",\"fjikz\",\"dpwlz\",\"xrknd\",\"kmjbu\",\"uqzlc\",\"fguxr\",\"yczgu\",\"kqouz\",\"hhxer\",\"owdgu\",\"iekxi\",\"xzwqd\",\"echwj\",\"qhojp\",\"kmxcm\",\"rkhxi\",\"cnyrt\",\"bnift\",\"wucte\",\"qnldx\",\"doawz\",\"bcbsk\",\"ethww\",\"gwasr\",\"gmzog\",\"ieiwj\",\"ibsgr\",\"gvhoi\",\"ndmlo\",\"wljuy\",\"tyrnz\",\"ylggu\",\"tgqih\",\"hrmrb\",\"cahxd\",\"ejthw\",\"nxlpx\",\"swabq\",\"ujlsw\",\"ujaid\",\"euacr\",\"ouzre\",\"tghnc\",\"jmvjk\",\"seavh\",\"mvnwc\",\"lmnim\",\"rmpcb\",\"uadnj\",\"bhaig\",\"lhrkd\",\"yorld\",\"unywy\",\"tbxmk\",\"mrowk\",\"dqaba\",\"gipsy\",\"plduy\",\"xafgd\",\"gmodo\",\"ycdhx\",\"ibgxt\",\"pynjv\",\"oavyn\",\"gkzrl\",\"fdynj\",\"mvedx\",\"qsbsi\",\"creec\",\"nxjwz\",\"tncsl\",\"hxjfq\",\"qxrsp\",\"hammk\",\"isqiw\",\"lxcei\",\"rdpfd\",\"bswkl\",\"vhljc\",\"wzgnd\",\"dhrba\",\"vwdlu\",\"vthkr\",\"osdxi\",\"miglb\",\"sazqp\",\"smbht\",\"vnpyy\",\"qbcin\",\"hvavp\",\"btpuu\",\"qzskj\",\"lwcof\",\"rblua\",\"vzlgk\",\"gvkfc\",\"mulas\",\"lhfcf\",\"frsze\",\"ioekg\",\"xehut\",\"ovoja\",\"dbzsp\",\"jytmf\",\"vncia\",\"zaecf\",\"kasaj\",\"nlstj\",\"hjkru\",\"fpwhc\",\"ficii\",\"uduwu\",\"ehkvs\",\"wqcvx\",\"gighn\",\"jffxm\",\"eldam\",\"wvfqs\",\"cfctz\",\"yocfn\",\"grmmi\",\"zkwev\",\"jancp\",\"wepvz\",\"urvil\",\"gotui\",\"rczbj\",\"pjiit\",\"hwlut\",\"pzyna\",\"uufxx\",\"wmdrf\",\"pcpls\",\"uvgbv\",\"ukkrm\",\"xrrov\",\"cilbw\",\"rkkzd\",\"nwfbs\",\"scznb\",\"tmili\",\"cjoog\",\"pxsec\",\"foghz\",\"hvjux\",\"ciyxc\",\"hsrpx\",\"bdrtw\",\"gbdwf\",\"tizfz\",\"hjoii\",\"tjoxa\",\"jidzp\",\"awdkf\",\"qcbgm\",\"wwfcq\",\"gueeq\",\"yvvru\",\"pplsc\",\"fyehp\",\"qubus\",\"kkbgj\",\"gdboy\",\"jgdjh\",\"stize\",\"lxcsl\",\"hpcih\",\"bhizb\",\"twlgh\",\"ofcrm\",\"fzlhj\",\"pttyw\",\"eyhet\",\"rqnpw\",\"idepc\",\"fyfgy\",\"jusvt\",\"luadi\",\"modsy\",\"wwvar\",\"sxvmo\",\"tvqpb\",\"krajg\",\"smkqj\",\"gzkyt\",\"dcvcq\",\"hlprv\",\"ruqme\",\"uhfmm\",\"jnwxt\",\"cdvwb\",\"ajipk\",\"vgsqc\",\"tqusf\",\"ydheh\",\"btysz\"]\n",
       "},\n",
       "'sampling':\"none\",\n",
       "'position':\"stack\",\n",
       "'geom':\"bar\"\n",
       "}]\n",
       "};\n",
       "           var plotContainer = document.getElementById(\"Pt2DKX\");\n",
       "           window.letsPlotCall(function() {{\n",
       "               LetsPlot.buildPlotFromProcessedSpecs(plotSpec, -1, -1, plotContainer);\n",
       "           }});\n",
       "       })();    \n",
       "   </script>"
      ]
     },
     "execution_count": 4,
     "metadata": {},
     "output_type": "execute_result"
    }
   ],
   "source": [
    "// Disable sampling to see the overplotting.\n",
    "p + geom_bar(sampling = sampling_none)"
   ]
  },
  {
   "cell_type": "code",
   "execution_count": 5,
   "metadata": {},
   "outputs": [
    {
     "data": {
      "text/html": [
       "   <div id=\"wIs0Uq\"></div>\n",
       "   <script type=\"text/javascript\" data-lets-plot-script=\"plot\">\n",
       "       (function() {\n",
       "           var plotSpec={\n",
       "'mapping':{\n",
       "'x':\"word\"\n",
       "},\n",
       "'data':{\n",
       "},\n",
       "'kind':\"plot\",\n",
       "'computation_messages':[\"sampling_pick(n=50) was applied to [bar/count stat] layer\"],\n",
       "'scales':[],\n",
       "'layers':[{\n",
       "'stat':\"count\",\n",
       "'mapping':{\n",
       "},\n",
       "'data':{\n",
       "'..count..':[1.0,3.0,5.0,6.0,5.0,3.0,4.0,4.0,4.0,2.0,2.0,6.0,3.0,5.0,3.0,2.0,2.0,4.0,2.0,6.0,4.0,3.0,4.0,3.0,3.0,4.0,5.0,2.0,2.0,3.0,1.0,6.0,5.0,3.0,3.0,4.0,3.0,3.0,5.0,1.0,3.0,3.0,3.0,3.0,4.0,2.0,5.0,2.0,1.0,3.0],\n",
       "'word':[\"yaigz\",\"psheo\",\"iiyyh\",\"logsa\",\"mqoap\",\"wfsse\",\"chqju\",\"xkdir\",\"dkrho\",\"lsjxi\",\"aottw\",\"mywev\",\"xolsm\",\"nrfnc\",\"sdcwf\",\"ghddm\",\"jyvty\",\"lbhpm\",\"mnedj\",\"gyirw\",\"geyey\",\"pjtjt\",\"azdkw\",\"zlxnp\",\"bwuze\",\"uncdw\",\"aymdu\",\"tbkbf\",\"fjmxi\",\"kaigo\",\"fxrlc\",\"seumr\",\"jwkxg\",\"vviux\",\"cdckc\",\"pszyr\",\"jkpnc\",\"pivvp\",\"gdbuo\",\"eaeto\",\"bvmyo\",\"aekvu\",\"izmyk\",\"mlyqr\",\"ukmtc\",\"hqmqv\",\"ztwvc\",\"mhklr\",\"rfypo\",\"ldoay\"]\n",
       "},\n",
       "'position':\"stack\",\n",
       "'geom':\"bar\"\n",
       "}]\n",
       "};\n",
       "           var plotContainer = document.getElementById(\"wIs0Uq\");\n",
       "           window.letsPlotCall(function() {{\n",
       "               LetsPlot.buildPlotFromProcessedSpecs(plotSpec, -1, -1, plotContainer);\n",
       "           }});\n",
       "       })();    \n",
       "   </script>"
      ]
     },
     "execution_count": 5,
     "metadata": {},
     "output_type": "execute_result"
    }
   ],
   "source": [
    "// Draw plot with default sampling.\n",
    "p + geom_bar()"
   ]
  },
  {
   "cell_type": "code",
   "execution_count": 6,
   "metadata": {},
   "outputs": [
    {
     "data": {
      "text/html": [
       "   <div id=\"CK4UQD\"></div>\n",
       "   <script type=\"text/javascript\" data-lets-plot-script=\"plot\">\n",
       "       (function() {\n",
       "           var plotSpec={\n",
       "'mapping':{\n",
       "'x':\"word\"\n",
       "},\n",
       "'data':{\n",
       "},\n",
       "'kind':\"plot\",\n",
       "'computation_messages':[\"sampling_pick(n=50) was applied to [bar/count stat] layer\"],\n",
       "'scales':[],\n",
       "'layers':[{\n",
       "'stat':\"count\",\n",
       "'mapping':{\n",
       "'fill':\"g\"\n",
       "},\n",
       "'data':{\n",
       "'..count..':[1.0,2.0,1.0,2.0,1.0,1.0,2.0,3.0,2.0,2.0,3.0,1.0,2.0,1.0,1.0,2.0,1.0,1.0,1.0,2.0,1.0,1.0,2.0,1.0,2.0,1.0,2.0,3.0,4.0,2.0,1.0,1.0,1.0,2.0,1.0,1.0,3.0,1.0,1.0,1.0,1.0,2.0,2.0,1.0,2.0,1.0,1.0,1.0,1.0,2.0,1.0,3.0,1.0,2.0,2.0,1.0,1.0,1.0,1.0,1.0,2.0,1.0,1.0,1.0,2.0,1.0,1.0,1.0,1.0,1.0,2.0,1.0,1.0,2.0,1.0,1.0,1.0,1.0,3.0,2.0,1.0,2.0,1.0,1.0,2.0,2.0,1.0,1.0,1.0,1.0,2.0,2.0,1.0,1.0,2.0,1.0,1.0,1.0,1.0],\n",
       "'g':[\"c\",\"c\",\"c\",\"c\",\"c\",\"c\",\"c\",\"c\",\"c\",\"c\",\"c\",\"c\",\"c\",\"c\",\"c\",\"c\",\"c\",\"c\",\"c\",\"c\",\"c\",\"c\",\"c\",\"c\",\"c\",\"c\",\"c\",\"c\",\"c\",\"c\",\"c\",\"c\",\"c\",\"c\",\"c\",\"c\",\"c\",\"c\",\"c\",\"c\",\"c\",\"c\",\"c\",\"c\",\"c\",\"c\",\"c\",\"c\",\"c\",\"c\",\"a\",\"a\",\"a\",\"a\",\"a\",\"a\",\"a\",\"a\",\"a\",\"a\",\"a\",\"a\",\"a\",\"a\",\"a\",\"a\",\"a\",\"a\",\"a\",\"a\",\"a\",\"a\",\"a\",\"a\",\"a\",\"a\",\"a\",\"b\",\"b\",\"b\",\"b\",\"b\",\"b\",\"b\",\"b\",\"b\",\"b\",\"b\",\"b\",\"b\",\"b\",\"b\",\"b\",\"b\",\"b\",\"b\",\"b\",\"b\",\"b\"],\n",
       "'word':[\"yaigz\",\"psheo\",\"iiyyh\",\"mqoap\",\"aottw\",\"pjtjt\",\"bwuze\",\"seumr\",\"jwkxg\",\"cdckc\",\"pszyr\",\"eaeto\",\"izmyk\",\"iyxov\",\"enyuv\",\"kwoax\",\"luxzi\",\"tqzss\",\"jzmlk\",\"wfsse\",\"srtdm\",\"jfhqf\",\"vxpqv\",\"gsifq\",\"mrsuk\",\"chtiq\",\"inzoy\",\"npqyh\",\"aucdk\",\"ewykx\",\"mhklr\",\"cmown\",\"ehwcn\",\"kjjzi\",\"rnysp\",\"fqdvw\",\"kmbtb\",\"uzpwp\",\"cfpqh\",\"rdpbf\",\"uncdw\",\"rvkvp\",\"aymdu\",\"fcpuh\",\"tfdzx\",\"fgmko\",\"mnedj\",\"gttsp\",\"oloof\",\"eohnk\",\"mnedj\",\"aymdu\",\"mhklr\",\"mqoap\",\"jwkxg\",\"ewykx\",\"kjjzi\",\"aucdk\",\"cfpqh\",\"fcpuh\",\"gttsp\",\"bwuze\",\"izmyk\",\"inzoy\",\"enyuv\",\"uncdw\",\"pjtjt\",\"uzpwp\",\"iiyyh\",\"gsifq\",\"vxpqv\",\"rvkvp\",\"fqdvw\",\"cmown\",\"seumr\",\"pszyr\",\"chtiq\",\"wfsse\",\"iiyyh\",\"uncdw\",\"jwkxg\",\"jzmlk\",\"mrsuk\",\"ewykx\",\"kjjzi\",\"enyuv\",\"rnysp\",\"gsifq\",\"pjtjt\",\"mqoap\",\"oloof\",\"seumr\",\"aottw\",\"aucdk\",\"kmbtb\",\"luxzi\",\"npqyh\",\"cdckc\",\"psheo\"]\n",
       "},\n",
       "'position':\"stack\",\n",
       "'geom':\"bar\"\n",
       "}]\n",
       "};\n",
       "           var plotContainer = document.getElementById(\"CK4UQD\");\n",
       "           window.letsPlotCall(function() {{\n",
       "               LetsPlot.buildPlotFromProcessedSpecs(plotSpec, -1, -1, plotContainer);\n",
       "           }});\n",
       "       })();    \n",
       "   </script>"
      ]
     },
     "execution_count": 6,
     "metadata": {},
     "output_type": "execute_result"
    }
   ],
   "source": [
    "// 'pick' sampling preserves groups on bar chart.\n",
    "p + geom_bar { fill=\"g\" }"
   ]
  }
 ],
 "metadata": {
  "kernelspec": {
   "display_name": "Kotlin",
   "language": "kotlin",
   "name": "kotlin"
  },
  "language_info": {
   "codemirror_mode": "text/x-kotlin",
   "file_extension": ".kt",
   "mimetype": "text/x-kotlin",
   "name": "kotlin",
   "pygments_lexer": "kotlin",
   "version": "1.4.20-dev-2342"
  }
 },
 "nbformat": 4,
 "nbformat_minor": 4
}