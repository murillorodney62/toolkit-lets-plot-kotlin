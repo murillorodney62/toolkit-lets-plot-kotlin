{
 "cells": [
  {
   "cell_type": "markdown",
   "metadata": {},
   "source": [
    "### Pick Sampling"
   ]
  },
  {
   "cell_type": "code",
   "execution_count": 1,
   "metadata": {},
   "outputs": [
    {
     "data": {
      "text/html": [
       "   <div id=\"DCIdKH\"></div>\n",
       "   <script type=\"text/javascript\" data-lets-plot-script=\"library\">\n",
       "       if(!window.letsPlotCallQueue) {\n",
       "           window.letsPlotCallQueue = [];\n",
       "       }; \n",
       "       window.letsPlotCall = function(f) {\n",
       "           window.letsPlotCallQueue.push(f);\n",
       "       };\n",
       "       (function() {\n",
       "           var script = document.createElement(\"script\");\n",
       "           script.type = \"text/javascript\";\n",
       "           script.src = \"https://cdn.jsdelivr.net/gh/JetBrains/lets-plot@v2.3.0/js-package/distr/lets-plot.min.js\";\n",
       "           script.onload = function() {\n",
       "               window.letsPlotCall = function(f) {f();};\n",
       "               window.letsPlotCallQueue.forEach(function(f) {f();});\n",
       "               window.letsPlotCallQueue = [];\n",
       "               \n",
       "               \n",
       "           };\n",
       "           script.onerror = function(event) {\n",
       "               window.letsPlotCall = function(f) {};\n",
       "               window.letsPlotCallQueue = [];\n",
       "               var div = document.createElement(\"div\");\n",
       "               div.style.color = 'darkred';\n",
       "               div.textContent = 'Error loading Lets-Plot JS';\n",
       "               document.getElementById(\"DCIdKH\").appendChild(div);\n",
       "           };\n",
       "           var e = document.getElementById(\"DCIdKH\");\n",
       "           e.appendChild(script);\n",
       "       })();\n",
       "   </script>"
      ]
     },
     "metadata": {},
     "output_type": "display_data"
    }
   ],
   "source": [
    "%useLatestDescriptors\n",
    "%use lets-plot"
   ]
  },
  {
   "cell_type": "code",
   "execution_count": 2,
   "metadata": {},
   "outputs": [],
   "source": [
    "fun genWord(length:Int):String {\n",
    "    val letters = ('a'..'z')\n",
    "    return List(length) { letters.random() }.joinToString(\"\")\n",
    "}    \n",
    "\n",
    "fun genWordSet(n:Int):Set<String> {\n",
    "    val words = HashSet<String>()\n",
    "    while(words.size < n) {\n",
    "        words.add(genWord(5))\n",
    "    }\n",
    "    return words\n",
    "}\n",
    "\n",
    "fun data(n:Int, words:Set<String>):Map<String, *> {\n",
    "    return mapOf(\n",
    "            \"word\" to List(n) { words.random() },\n",
    "            \"g\" to List(n) { listOf('a','b','c').random() }\n",
    "        )\n",
    "}"
   ]
  },
  {
   "cell_type": "code",
   "execution_count": 3,
   "metadata": {},
   "outputs": [],
   "source": [
    "// Number of unique words exceeds threshold (50) of default 'pick' sampling on bar chart.\n",
    "val words = genWordSet(500)\n",
    "val dat = data(1000, words)\n",
    "val p = ggplot(dat) { x = \"word\" }"
   ]
  },
  {
   "cell_type": "code",
   "execution_count": 4,
   "metadata": {},
   "outputs": [
    {
     "data": {
      "text/html": [
       "   <div id=\"BK97DM\"></div>\n",
       "   <script type=\"text/javascript\" data-lets-plot-script=\"plot\">\n",
       "       (function() {\n",
       "           var plotSpec={\n",
       "\"mapping\":{\n",
       "\"x\":\"word\"\n",
       "},\n",
       "\"data\":{\n",
       "},\n",
       "\"kind\":\"plot\",\n",
       "\"scales\":[],\n",
       "\"layers\":[{\n",
       "\"mapping\":{\n",
       "},\n",
       "\"stat\":\"count\",\n",
       "\"sampling\":\"none\",\n",
       "\"position\":\"stack\",\n",
       "\"geom\":\"bar\",\n",
       "\"data\":{\n",
       "\"..count..\":[3.0,5.0,3.0,4.0,5.0,4.0,5.0,3.0,3.0,4.0,1.0,1.0,2.0,4.0,6.0,3.0,3.0,2.0,2.0,4.0,1.0,3.0,3.0,3.0,4.0,2.0,2.0,3.0,2.0,4.0,2.0,3.0,3.0,1.0,1.0,2.0,1.0,4.0,3.0,1.0,3.0,4.0,2.0,4.0,3.0,2.0,6.0,6.0,1.0,4.0,8.0,5.0,3.0,3.0,2.0,2.0,3.0,2.0,1.0,2.0,3.0,2.0,3.0,1.0,2.0,1.0,2.0,1.0,4.0,2.0,5.0,4.0,3.0,3.0,1.0,8.0,2.0,2.0,4.0,4.0,1.0,1.0,2.0,5.0,2.0,4.0,3.0,3.0,1.0,3.0,1.0,2.0,3.0,2.0,2.0,3.0,2.0,2.0,2.0,1.0,2.0,2.0,4.0,3.0,2.0,2.0,3.0,3.0,5.0,4.0,2.0,4.0,2.0,2.0,3.0,2.0,5.0,4.0,2.0,4.0,3.0,2.0,1.0,1.0,2.0,4.0,4.0,2.0,6.0,3.0,2.0,4.0,3.0,1.0,4.0,5.0,2.0,1.0,3.0,1.0,4.0,1.0,4.0,3.0,3.0,4.0,1.0,2.0,2.0,2.0,2.0,3.0,4.0,1.0,3.0,3.0,4.0,2.0,3.0,3.0,3.0,8.0,3.0,2.0,2.0,4.0,1.0,1.0,1.0,3.0,3.0,5.0,1.0,3.0,1.0,3.0,3.0,4.0,2.0,2.0,1.0,3.0,4.0,5.0,1.0,5.0,3.0,2.0,4.0,2.0,4.0,3.0,3.0,1.0,2.0,2.0,3.0,2.0,2.0,4.0,2.0,4.0,2.0,1.0,2.0,3.0,1.0,3.0,2.0,1.0,3.0,1.0,1.0,2.0,3.0,2.0,3.0,1.0,3.0,5.0,2.0,2.0,1.0,2.0,1.0,2.0,4.0,3.0,5.0,2.0,4.0,2.0,4.0,2.0,3.0,3.0,4.0,2.0,1.0,1.0,2.0,2.0,2.0,3.0,4.0,1.0,1.0,2.0,3.0,2.0,1.0,5.0,3.0,2.0,1.0,2.0,1.0,4.0,3.0,3.0,3.0,2.0,5.0,2.0,1.0,2.0,3.0,3.0,1.0,1.0,5.0,2.0,2.0,1.0,2.0,1.0,1.0,6.0,3.0,1.0,3.0,2.0,2.0,2.0,2.0,2.0,2.0,3.0,1.0,1.0,2.0,1.0,2.0,1.0,1.0,2.0,2.0,2.0,4.0,3.0,2.0,2.0,2.0,2.0,2.0,1.0,1.0,3.0,1.0,1.0,2.0,4.0,2.0,1.0,1.0,5.0,2.0,3.0,2.0,1.0,2.0,1.0,1.0,3.0,2.0,2.0,3.0,1.0,1.0,2.0,1.0,3.0,1.0,3.0,1.0,2.0,2.0,2.0,3.0,1.0,4.0,1.0,2.0,2.0,3.0,1.0,1.0,1.0,1.0,1.0,2.0,1.0,1.0,1.0,2.0,2.0,1.0,1.0,2.0,4.0,2.0,1.0,4.0,1.0,1.0,1.0,1.0,1.0,2.0,2.0,1.0,1.0,3.0,1.0,2.0,4.0,1.0,2.0,1.0,2.0,1.0,2.0,2.0,1.0,2.0,3.0,1.0,1.0,1.0,2.0,2.0,1.0,1.0,4.0,1.0,2.0,2.0,2.0,1.0,1.0,1.0,1.0,1.0,1.0,2.0,1.0,1.0,1.0,1.0,1.0,3.0,1.0,1.0,2.0,1.0,2.0,1.0,1.0,1.0,1.0,1.0,1.0,1.0,1.0,1.0,1.0],\n",
       "\"word\":[\"ypuop\",\"axnfz\",\"beqgl\",\"reytl\",\"daiis\",\"zumin\",\"zbrqx\",\"lgekn\",\"mvanv\",\"nthyz\",\"xxrsl\",\"zsvdn\",\"hspow\",\"cccku\",\"cwztk\",\"oemsp\",\"ydliw\",\"ulfvo\",\"vaefv\",\"xbfhp\",\"wlkgw\",\"djqyd\",\"ezwzm\",\"sxjdp\",\"prxan\",\"mmlgs\",\"qpapt\",\"ptdfs\",\"dcoan\",\"hsefi\",\"fhuci\",\"gmmup\",\"kkwqw\",\"qcvmr\",\"gmzyy\",\"ufvec\",\"yrdve\",\"ggstl\",\"euvbt\",\"kntro\",\"lvfrw\",\"iyjgm\",\"jlmwi\",\"umcgc\",\"ikwmi\",\"axeot\",\"vsfzo\",\"iqdep\",\"jjsjo\",\"luvvn\",\"kwdoa\",\"xnxgo\",\"ycvuq\",\"lyuec\",\"jxkjr\",\"glrju\",\"lmtnz\",\"jnosu\",\"lpidp\",\"rmclj\",\"tncla\",\"dmhcw\",\"ztaab\",\"atala\",\"hysbz\",\"nfiqh\",\"evblw\",\"bjtts\",\"lmntg\",\"noaav\",\"lovje\",\"vptbm\",\"xefbw\",\"trolg\",\"hcqxc\",\"bitbw\",\"ycsgh\",\"ccmra\",\"rqzrz\",\"qjvef\",\"sivvk\",\"qqylv\",\"zlitq\",\"zcbdq\",\"gzjvs\",\"zknjj\",\"hptem\",\"baivs\",\"tjffb\",\"gvtbk\",\"wfoxu\",\"vsrdc\",\"wlofq\",\"gvfiy\",\"tgvrf\",\"eweuf\",\"fhtnx\",\"culet\",\"lvais\",\"oeobk\",\"qktwn\",\"dmdld\",\"boxas\",\"dwvvr\",\"clxlo\",\"dxhug\",\"zwoil\",\"nnllz\",\"xggct\",\"jffok\",\"hmals\",\"jzdxv\",\"kevfd\",\"droyl\",\"ivktv\",\"xazbr\",\"dczrn\",\"umnuo\",\"skkum\",\"wpwzf\",\"hnfnn\",\"snxye\",\"btddy\",\"omyqb\",\"ucuha\",\"pmfbo\",\"awrkw\",\"bpzlg\",\"dwuqr\",\"agolo\",\"rhleb\",\"rzlfw\",\"mnxpo\",\"mwcyr\",\"tobws\",\"sslei\",\"sezts\",\"dfufg\",\"vouku\",\"asgtl\",\"ojqga\",\"okqsw\",\"kjois\",\"aqdyu\",\"zbrxa\",\"pnkwl\",\"gzmej\",\"pgusg\",\"umvln\",\"xnmfz\",\"hwlsa\",\"gsqdv\",\"jsnak\",\"qktnm\",\"czwzi\",\"rvlif\",\"ygcfw\",\"xxrbk\",\"uzxko\",\"duglb\",\"zughn\",\"aygcx\",\"khqnt\",\"uptyx\",\"nrrof\",\"zwrqb\",\"dziqo\",\"vqnuy\",\"kycwi\",\"remif\",\"zrvye\",\"fgvky\",\"njtuk\",\"cfdrx\",\"hxcbi\",\"vvlhx\",\"urxyr\",\"sbnuo\",\"bgpko\",\"oksve\",\"dydqu\",\"kkpgz\",\"jxlwp\",\"xpnvt\",\"oloov\",\"fygsa\",\"urxbl\",\"enxlg\",\"rrflc\",\"eyjhs\",\"yakmg\",\"hotsu\",\"qpjrm\",\"whsvi\",\"dmwhd\",\"lyvwc\",\"srcuq\",\"pqefe\",\"bwqhk\",\"mbsui\",\"qgbii\",\"dorkm\",\"fevru\",\"qxgwe\",\"tetsp\",\"cnpek\",\"rrzeb\",\"brtjn\",\"eiwve\",\"atkdb\",\"vhhfy\",\"fkpnp\",\"fwrhs\",\"otloc\",\"gychi\",\"pnpti\",\"cozsf\",\"tkpvb\",\"emxvp\",\"itfwq\",\"wzyfr\",\"fscwi\",\"fhwdi\",\"qbksm\",\"iyiuw\",\"asnhq\",\"zujij\",\"ezrzl\",\"zlpty\",\"vxmzh\",\"qcrvy\",\"fzfim\",\"fljeu\",\"tfzpg\",\"vrngv\",\"qpwkm\",\"wijgl\",\"xqdnv\",\"uppby\",\"mxrpu\",\"yyuio\",\"nyjao\",\"dxusn\",\"nlpuf\",\"lihik\",\"lobiw\",\"desgy\",\"lzyso\",\"iputg\",\"ygdcx\",\"hhkiy\",\"fsrgj\",\"fybyl\",\"uiwwq\",\"sbfpe\",\"dvtco\",\"cirnh\",\"rncxc\",\"gjcqs\",\"gcyjp\",\"soizv\",\"lozhj\",\"brcbb\",\"iydjq\",\"nsggj\",\"hfmye\",\"ggilu\",\"nxqfm\",\"ludct\",\"grxbl\",\"dilxc\",\"thzkm\",\"jxdrz\",\"upwkl\",\"swpah\",\"qtjyo\",\"bhjiy\",\"nraao\",\"kvkdy\",\"pwtar\",\"ybmsr\",\"aekce\",\"cogyw\",\"wjkci\",\"qakbc\",\"iydcq\",\"trvbd\",\"dpgve\",\"twcsa\",\"tlrbh\",\"mqzjw\",\"nirnk\",\"pjtrr\",\"iqehz\",\"xqpen\",\"svybe\",\"vfztj\",\"midej\",\"jugkw\",\"zmluf\",\"mpkgu\",\"wdfct\",\"eqyxw\",\"aruim\",\"vzemy\",\"kzoxr\",\"vwnvj\",\"niokf\",\"jokcz\",\"xpusc\",\"totqo\",\"zyzim\",\"htvuw\",\"vjcgy\",\"hwqld\",\"vixro\",\"zopqt\",\"yqrob\",\"ssplp\",\"qayua\",\"zedkw\",\"ebbtf\",\"ltiwz\",\"txbee\",\"liwxm\",\"ditgh\",\"ufjuv\",\"guent\",\"ljtrv\",\"rfdir\",\"pvhco\",\"ghjkc\",\"zsyrq\",\"vptgc\",\"vjgup\",\"vxese\",\"dejgc\",\"snkep\",\"tkvrg\",\"viomg\",\"atbri\",\"gvymi\",\"aklio\",\"yfgwu\",\"nwoqg\",\"nmsfb\",\"yycxz\",\"lhqlj\",\"yfnma\",\"ivorx\",\"asgth\",\"oyvtl\",\"lszsg\",\"rmdtj\",\"zhkkd\",\"gozxm\",\"ehneh\",\"zmsev\",\"fxhif\",\"kkbzy\",\"blvvh\",\"ejwhr\",\"trbhs\",\"tgapr\",\"qgfhd\",\"smpty\",\"cwjcv\",\"ghsrx\",\"egglf\",\"orxcs\",\"hjskp\",\"lqvuc\",\"vqumy\",\"loejo\",\"tlsbx\",\"pyyjl\",\"xflzy\",\"dhktr\",\"mnokt\",\"egbdq\",\"fohdp\",\"kwqgn\",\"zndfa\",\"vppkg\",\"nttru\",\"pidms\",\"ixsfh\",\"vptyo\",\"jdvbq\",\"vlyko\",\"vvuds\",\"wqczz\",\"dwnzt\",\"mlgtl\",\"zhkzu\",\"cmnzj\",\"xsouw\",\"cujel\",\"ihgxy\",\"sehxf\",\"qfttf\",\"yyypb\",\"yyhne\",\"scunp\",\"lmmtc\",\"cazaj\",\"elpju\",\"bgdag\",\"bhyud\",\"nirjr\",\"oiosb\",\"jozji\",\"ccvuu\",\"xmbzw\",\"hjuln\",\"sarkh\",\"hxbsd\",\"egknx\",\"sltwf\",\"oxaau\",\"xvkxi\",\"ysoqs\",\"gdxxz\",\"gzrdc\",\"zigik\",\"jqozn\"]\n",
       "}\n",
       "}]\n",
       "};\n",
       "           var plotContainer = document.getElementById(\"BK97DM\");\n",
       "           window.letsPlotCall(function() {{\n",
       "               LetsPlot.buildPlotFromProcessedSpecs(plotSpec, -1, -1, plotContainer);\n",
       "           }});\n",
       "       })();    \n",
       "   </script>"
      ]
     },
     "execution_count": 4,
     "metadata": {},
     "output_type": "execute_result"
    }
   ],
   "source": [
    "// Disable sampling to see the overplotting.\n",
    "p + geomBar(sampling = samplingNone)"
   ]
  },
  {
   "cell_type": "code",
   "execution_count": 5,
   "metadata": {},
   "outputs": [
    {
     "data": {
      "text/html": [
       "   <div id=\"64m1Zh\"></div>\n",
       "   <script type=\"text/javascript\" data-lets-plot-script=\"plot\">\n",
       "       (function() {\n",
       "           var plotSpec={\n",
       "\"mapping\":{\n",
       "\"x\":\"word\"\n",
       "},\n",
       "\"data\":{\n",
       "},\n",
       "\"kind\":\"plot\",\n",
       "\"scales\":[],\n",
       "\"layers\":[{\n",
       "\"mapping\":{\n",
       "},\n",
       "\"stat\":\"count\",\n",
       "\"position\":\"stack\",\n",
       "\"geom\":\"bar\",\n",
       "\"data\":{\n",
       "\"..count..\":[3.0,5.0,3.0,4.0,5.0,4.0,5.0,3.0,3.0,4.0,1.0,1.0,2.0,4.0,6.0,3.0,3.0,2.0,2.0,4.0,1.0,3.0,3.0,3.0,4.0,2.0,2.0,3.0,2.0,4.0,2.0,3.0,3.0,1.0,1.0,2.0,1.0,4.0,3.0,1.0,3.0,4.0,2.0,4.0,3.0,2.0,6.0,6.0,1.0,4.0],\n",
       "\"word\":[\"ypuop\",\"axnfz\",\"beqgl\",\"reytl\",\"daiis\",\"zumin\",\"zbrqx\",\"lgekn\",\"mvanv\",\"nthyz\",\"xxrsl\",\"zsvdn\",\"hspow\",\"cccku\",\"cwztk\",\"oemsp\",\"ydliw\",\"ulfvo\",\"vaefv\",\"xbfhp\",\"wlkgw\",\"djqyd\",\"ezwzm\",\"sxjdp\",\"prxan\",\"mmlgs\",\"qpapt\",\"ptdfs\",\"dcoan\",\"hsefi\",\"fhuci\",\"gmmup\",\"kkwqw\",\"qcvmr\",\"gmzyy\",\"ufvec\",\"yrdve\",\"ggstl\",\"euvbt\",\"kntro\",\"lvfrw\",\"iyjgm\",\"jlmwi\",\"umcgc\",\"ikwmi\",\"axeot\",\"vsfzo\",\"iqdep\",\"jjsjo\",\"luvvn\"]\n",
       "}\n",
       "}],\n",
       "\"computation_messages\":[\"sampling_pick(n=50) was applied to [bar/count stat] layer\"]\n",
       "};\n",
       "           var plotContainer = document.getElementById(\"64m1Zh\");\n",
       "           window.letsPlotCall(function() {{\n",
       "               LetsPlot.buildPlotFromProcessedSpecs(plotSpec, -1, -1, plotContainer);\n",
       "           }});\n",
       "       })();    \n",
       "   </script>"
      ]
     },
     "execution_count": 5,
     "metadata": {},
     "output_type": "execute_result"
    }
   ],
   "source": [
    "// Draw plot with default sampling.\n",
    "p + geomBar()"
   ]
  },
  {
   "cell_type": "code",
   "execution_count": 6,
   "metadata": {},
   "outputs": [
    {
     "data": {
      "text/html": [
       "   <div id=\"BK9rjh\"></div>\n",
       "   <script type=\"text/javascript\" data-lets-plot-script=\"plot\">\n",
       "       (function() {\n",
       "           var plotSpec={\n",
       "\"mapping\":{\n",
       "\"x\":\"word\"\n",
       "},\n",
       "\"data\":{\n",
       "},\n",
       "\"kind\":\"plot\",\n",
       "\"scales\":[],\n",
       "\"layers\":[{\n",
       "\"mapping\":{\n",
       "\"fill\":\"g\"\n",
       "},\n",
       "\"stat\":\"count\",\n",
       "\"position\":\"stack\",\n",
       "\"geom\":\"bar\",\n",
       "\"data\":{\n",
       "\"..count..\":[1.0,2.0,4.0,3.0,1.0,2.0,2.0,1.0,1.0,2.0,1.0,2.0,2.0,2.0,3.0,2.0,3.0,1.0,1.0,1.0,4.0,2.0,1.0,3.0,1.0,1.0,1.0,2.0,2.0,1.0,2.0,1.0,2.0,2.0,2.0,1.0,3.0,4.0,1.0,3.0,2.0,1.0,1.0,1.0,3.0,1.0,1.0,2.0,2.0,1.0,1.0,2.0,1.0,1.0,2.0,2.0,2.0,1.0,1.0,1.0,1.0,1.0,1.0,1.0,1.0,2.0,2.0,1.0,1.0,1.0,1.0,1.0,1.0,1.0,1.0,1.0,2.0,1.0,4.0,2.0,4.0,1.0,1.0,2.0,1.0,2.0,1.0,1.0,2.0,2.0,2.0,2.0,1.0,1.0,1.0,1.0,1.0,1.0,1.0],\n",
       "\"g\":[\"a\",\"a\",\"a\",\"a\",\"a\",\"a\",\"a\",\"a\",\"a\",\"a\",\"a\",\"a\",\"a\",\"a\",\"a\",\"a\",\"a\",\"a\",\"a\",\"a\",\"a\",\"a\",\"a\",\"a\",\"a\",\"a\",\"a\",\"a\",\"a\",\"a\",\"a\",\"a\",\"a\",\"a\",\"a\",\"a\",\"a\",\"a\",\"a\",\"a\",\"a\",\"a\",\"a\",\"a\",\"a\",\"a\",\"a\",\"a\",\"a\",\"a\",\"b\",\"b\",\"b\",\"b\",\"b\",\"b\",\"b\",\"b\",\"b\",\"b\",\"b\",\"b\",\"b\",\"b\",\"b\",\"b\",\"b\",\"b\",\"b\",\"b\",\"b\",\"b\",\"b\",\"b\",\"b\",\"c\",\"c\",\"c\",\"c\",\"c\",\"c\",\"c\",\"c\",\"c\",\"c\",\"c\",\"c\",\"c\",\"c\",\"c\",\"c\",\"c\",\"c\",\"c\",\"c\",\"c\",\"c\",\"c\",\"c\"],\n",
       "\"word\":[\"ypuop\",\"reytl\",\"nthyz\",\"zbrqx\",\"hspow\",\"cccku\",\"ydliw\",\"ulfvo\",\"vaefv\",\"xbfhp\",\"sxjdp\",\"hsefi\",\"ufvec\",\"iqdep\",\"luvvn\",\"kwdoa\",\"ycvuq\",\"ztaab\",\"gmmup\",\"bjtts\",\"vptbm\",\"bitbw\",\"ccmra\",\"rqzrz\",\"gzjvs\",\"wfoxu\",\"wlofq\",\"culet\",\"lvais\",\"oeobk\",\"qktwn\",\"dmdld\",\"boxas\",\"clxlo\",\"umnuo\",\"btddy\",\"awrkw\",\"dwuqr\",\"rhleb\",\"mnxpo\",\"ojqga\",\"pnkwl\",\"umvln\",\"jsnak\",\"rvlif\",\"xxrbk\",\"duglb\",\"ezwzm\",\"nrrof\",\"zwrqb\",\"zbrqx\",\"gmmup\",\"rqzrz\",\"xbfhp\",\"reytl\",\"bitbw\",\"jsnak\",\"hspow\",\"luvvn\",\"umnuo\",\"wlofq\",\"ydliw\",\"dmdld\",\"duglb\",\"ccmra\",\"kwdoa\",\"iqdep\",\"pnkwl\",\"ypuop\",\"dwuqr\",\"ulfvo\",\"ztaab\",\"zwrqb\",\"gzjvs\",\"umvln\",\"ezwzm\",\"boxas\",\"jsnak\",\"kwdoa\",\"pnkwl\",\"bitbw\",\"xxrbk\",\"xbfhp\",\"zwrqb\",\"awrkw\",\"iqdep\",\"vaefv\",\"wlofq\",\"cccku\",\"ojqga\",\"hsefi\",\"sxjdp\",\"zbrqx\",\"duglb\",\"ypuop\",\"rhleb\",\"umnuo\",\"ztaab\",\"dwuqr\"]\n",
       "}\n",
       "}],\n",
       "\"computation_messages\":[\"sampling_pick(n=50) was applied to [bar/count stat] layer\"]\n",
       "};\n",
       "           var plotContainer = document.getElementById(\"BK9rjh\");\n",
       "           window.letsPlotCall(function() {{\n",
       "               LetsPlot.buildPlotFromProcessedSpecs(plotSpec, -1, -1, plotContainer);\n",
       "           }});\n",
       "       })();    \n",
       "   </script>"
      ]
     },
     "execution_count": 6,
     "metadata": {},
     "output_type": "execute_result"
    }
   ],
   "source": [
    "// 'pick' sampling preserves groups on bar chart.\n",
    "p + geomBar { fill=\"g\" }"
   ]
  },
  {
   "cell_type": "code",
   "execution_count": 7,
   "metadata": {},
   "outputs": [
    {
     "data": {
      "text/html": [
       "   <div id=\"iL52Bj\"></div>\n",
       "   <script type=\"text/javascript\" data-lets-plot-script=\"plot\">\n",
       "       (function() {\n",
       "           var plotSpec={\n",
       "\"mapping\":{\n",
       "\"x\":\"word\"\n",
       "},\n",
       "\"data\":{\n",
       "},\n",
       "\"kind\":\"plot\",\n",
       "\"scales\":[],\n",
       "\"layers\":[{\n",
       "\"mapping\":{\n",
       "\"x\":\"@as_discrete@word\",\n",
       "\"fill\":\"g\"\n",
       "},\n",
       "\"stat\":\"count\",\n",
       "\"position\":\"stack\",\n",
       "\"geom\":\"bar\",\n",
       "\"data_meta\":{\n",
       "\"mapping_annotations\":[{\n",
       "\"aes\":\"x\",\n",
       "\"annotation\":\"as_discrete\",\n",
       "\"parameters\":{\n",
       "\"label\":\"word\",\n",
       "\"order_by\":\"..count..\"\n",
       "}\n",
       "}]\n",
       "},\n",
       "\"data\":{\n",
       "\"..count..\":[2.0,3.0,2.0,2.0,2.0,4.0,2.0,3.0,2.0,4.0,1.0,3.0,1.0,1.0,2.0,2.0,2.0,1.0,3.0,4.0,1.0,4.0,3.0,1.0,3.0,1.0,2.0,1.0,1.0,2.0,3.0,2.0,3.0,1.0,1.0,1.0,2.0,2.0,2.0,1.0,4.0,1.0,4.0,2.0,3.0,1.0,3.0,1.0,2.0,2.0,1.0,3.0,2.0,3.0,3.0,2.0,1.0,2.0,2.0,1.0,3.0,2.0,3.0,1.0,3.0,2.0,3.0,1.0,2.0,2.0,2.0,1.0,2.0,1.0,1.0,2.0,1.0,1.0,2.0,1.0,1.0,1.0,3.0,2.0,3.0,3.0,3.0,2.0,3.0,3.0,2.0,1.0,1.0,2.0,1.0,2.0,1.0,4.0,3.0,3.0,4.0,1.0,2.0,2.0,2.0,1.0,2.0,1.0,1.0,1.0,1.0,3.0,2.0,1.0,1.0,2.0,1.0,2.0,1.0,1.0,1.0,1.0],\n",
       "\"@as_discrete@word\":[\"reytl\",\"zbrqx\",\"xbfhp\",\"iqdep\",\"kwdoa\",\"vptbm\",\"bitbw\",\"rqzrz\",\"umnuo\",\"dwuqr\",\"zwrqb\",\"xggct\",\"rzlfw\",\"zumin\",\"xnxgo\",\"itfwq\",\"xpnvt\",\"zlpty\",\"qcrvy\",\"wijgl\",\"rrflc\",\"fsrgj\",\"brcbb\",\"sslei\",\"fgvky\",\"zcbdq\",\"nraao\",\"dilxc\",\"wpwzf\",\"yakmg\",\"fygsa\",\"umcgc\",\"vixro\",\"vsfzo\",\"ygcfw\",\"qjvef\",\"aygcx\",\"trbhs\",\"zyzim\",\"dczrn\",\"axnfz\",\"zbrqx\",\"cwztk\",\"umcgc\",\"xnxgo\",\"rqzrz\",\"qjvef\",\"xbfhp\",\"daiis\",\"xggct\",\"dczrn\",\"sslei\",\"ygcfw\",\"aygcx\",\"sbnuo\",\"reytl\",\"rrflc\",\"yakmg\",\"bitbw\",\"xpnvt\",\"zujij\",\"zknjj\",\"zlpty\",\"umnuo\",\"rncxc\",\"tobws\",\"dilxc\",\"fgvky\",\"kwdoa\",\"lovje\",\"iqdep\",\"zyzim\",\"nraao\",\"zcbdq\",\"dwuqr\",\"pyyjl\",\"trbhs\",\"qcrvy\",\"vsfzo\",\"fygsa\",\"zwrqb\",\"zumin\",\"daiis\",\"zumin\",\"vsfzo\",\"lovje\",\"zcbdq\",\"zknjj\",\"wpwzf\",\"rzlfw\",\"tobws\",\"sslei\",\"fgvky\",\"xpnvt\",\"fygsa\",\"rrflc\",\"ygcfw\",\"kwdoa\",\"aygcx\",\"itfwq\",\"bitbw\",\"xbfhp\",\"zwrqb\",\"iqdep\",\"nraao\",\"zujij\",\"vixro\",\"dilxc\",\"fsrgj\",\"zbrqx\",\"sbnuo\",\"dczrn\",\"cwztk\",\"trbhs\",\"rncxc\",\"brcbb\",\"umnuo\",\"pyyjl\",\"axnfz\",\"zyzim\",\"zlpty\",\"dwuqr\"],\n",
       "\"g\":[\"a\",\"a\",\"a\",\"a\",\"a\",\"a\",\"a\",\"a\",\"a\",\"a\",\"a\",\"a\",\"a\",\"a\",\"a\",\"a\",\"a\",\"a\",\"a\",\"a\",\"a\",\"a\",\"a\",\"a\",\"a\",\"a\",\"a\",\"a\",\"a\",\"a\",\"a\",\"a\",\"a\",\"a\",\"a\",\"a\",\"a\",\"a\",\"a\",\"a\",\"b\",\"b\",\"b\",\"b\",\"b\",\"b\",\"b\",\"b\",\"b\",\"b\",\"b\",\"b\",\"b\",\"b\",\"b\",\"b\",\"b\",\"b\",\"b\",\"b\",\"b\",\"b\",\"b\",\"b\",\"b\",\"b\",\"b\",\"b\",\"b\",\"b\",\"b\",\"b\",\"b\",\"b\",\"b\",\"b\",\"b\",\"b\",\"b\",\"b\",\"b\",\"b\",\"c\",\"c\",\"c\",\"c\",\"c\",\"c\",\"c\",\"c\",\"c\",\"c\",\"c\",\"c\",\"c\",\"c\",\"c\",\"c\",\"c\",\"c\",\"c\",\"c\",\"c\",\"c\",\"c\",\"c\",\"c\",\"c\",\"c\",\"c\",\"c\",\"c\",\"c\",\"c\",\"c\",\"c\",\"c\",\"c\",\"c\",\"c\",\"c\",\"c\"]\n",
       "}\n",
       "}],\n",
       "\"computation_messages\":[\"sampling_pick(n=50) was applied to [bar/count stat] layer\"]\n",
       "};\n",
       "           var plotContainer = document.getElementById(\"iL52Bj\");\n",
       "           window.letsPlotCall(function() {{\n",
       "               LetsPlot.buildPlotFromProcessedSpecs(plotSpec, -1, -1, plotContainer);\n",
       "           }});\n",
       "       })();    \n",
       "   </script>"
      ]
     },
     "execution_count": 7,
     "metadata": {},
     "output_type": "execute_result"
    }
   ],
   "source": [
    "// Orgering words by `count` might be a good idea.\n",
    "p + geomBar {\n",
    "    fill = \"g\"\n",
    "    x = asDiscrete(\"word\", orderBy = \"..count..\")\n",
    "}"
   ]
  }
 ],
 "metadata": {
  "kernelspec": {
   "display_name": "Kotlin",
   "language": "kotlin",
   "name": "kotlin"
  },
  "language_info": {
   "codemirror_mode": "text/x-kotlin",
   "file_extension": ".kt",
   "mimetype": "text/x-kotlin",
   "name": "kotlin",
   "nbconvert_exporter": "",
   "pygments_lexer": "kotlin",
   "version": "1.7.0-dev-1825"
  }
 },
 "nbformat": 4,
 "nbformat_minor": 4
}
