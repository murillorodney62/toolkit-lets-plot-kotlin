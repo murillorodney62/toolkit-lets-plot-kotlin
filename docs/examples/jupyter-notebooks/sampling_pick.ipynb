{
 "cells": [
  {
   "cell_type": "markdown",
   "metadata": {},
   "source": [
    "<em><sub>This page is available as an executable or viewable <strong>Jupyter Notebook</strong>:</sub></em>\n",
    "<br/><br/>\n",
    "<a href=\"https://mybinder.org/v2/gh/JetBrains/lets-plot-kotlin/v2.0.1demos1?filepath=docs%2Fexamples%2Fjupyter-notebooks%2Fsampling_pick.ipynb\"\n",
    "   target=\"_parent\">\n",
    "   <img align=\"left\"\n",
    "        src=\"https://mybinder.org/badge_logo.svg\">\n",
    "</a>\n",
    "<a href=\"https://nbviewer.jupyter.org/github/JetBrains/lets-plot-kotlin/blob/master/docs/examples/jupyter-notebooks/sampling_pick.ipynb\"\n",
    "   target=\"_parent\">\n",
    "   <img align=\"right\"\n",
    "        src=\"https://raw.githubusercontent.com/jupyter/design/master/logos/Badges/nbviewer_badge.png\"\n",
    "        width=\"109\" height=\"20\">\n",
    "</a>\n",
    "<br/>\n",
    "<br/>"
   ]
  },
  {
   "cell_type": "markdown",
   "metadata": {},
   "source": [
    "### Pick Sampling"
   ]
  },
  {
   "cell_type": "code",
   "execution_count": 1,
   "metadata": {},
   "outputs": [
    {
     "data": {
      "text/html": [
       "   <div id=\"GMbuCq\"></div>\n",
       "   <script type=\"text/javascript\" data-lets-plot-script=\"library\">\n",
       "       if(!window.letsPlotCallQueue) {\n",
       "           window.letsPlotCallQueue = [];\n",
       "       }; \n",
       "       window.letsPlotCall = function(f) {\n",
       "           window.letsPlotCallQueue.push(f);\n",
       "       };\n",
       "       (function() {\n",
       "           var script = document.createElement(\"script\");\n",
       "           script.type = \"text/javascript\";\n",
       "           script.src = \"https://cdnjs.cloudflare.com/ajax/libs/lets-plot/2.0.2/lets-plot.min.js\";\n",
       "           script.onload = function() {\n",
       "               window.letsPlotCall = function(f) {f();};\n",
       "               window.letsPlotCallQueue.forEach(function(f) {f();});\n",
       "               window.letsPlotCallQueue = [];\n",
       "               \n",
       "               \n",
       "           };\n",
       "           script.onerror = function(event) {\n",
       "               window.letsPlotCall = function(f) {};\n",
       "               window.letsPlotCallQueue = [];\n",
       "               var div = document.createElement(\"div\");\n",
       "               div.style.color = 'darkred';\n",
       "               div.textContent = 'Error loading Lets-Plot JS';\n",
       "               document.getElementById(\"GMbuCq\").appendChild(div);\n",
       "           };\n",
       "           var e = document.getElementById(\"GMbuCq\");\n",
       "           e.appendChild(script);\n",
       "       })();\n",
       "   </script>"
      ]
     },
     "metadata": {},
     "output_type": "display_data"
    }
   ],
   "source": [
    "%useLatestDescriptors\n",
    "%use lets-plot"
   ]
  },
  {
   "cell_type": "code",
   "execution_count": 2,
   "metadata": {},
   "outputs": [],
   "source": [
    "fun genWord(length:Int):String {\n",
    "    val letters = ('a'..'z')\n",
    "    return List(length) { letters.random() }.joinToString(\"\")\n",
    "}    \n",
    "\n",
    "fun genWordSet(n:Int):Set<String> {\n",
    "    val words = HashSet<String>()\n",
    "    while(words.size < n) {\n",
    "        words.add(genWord(5))\n",
    "    }\n",
    "    return words\n",
    "}\n",
    "\n",
    "fun data(n:Int, words:Set<String>):Map<String, *> {\n",
    "    return mapOf(\n",
    "            \"word\" to List(n) { words.random() },\n",
    "            \"g\" to List(n) { listOf('a','b','c').random() }\n",
    "        )\n",
    "}"
   ]
  },
  {
   "cell_type": "code",
   "execution_count": 3,
   "metadata": {},
   "outputs": [],
   "source": [
    "// Number of unique words exceeds threshold (50) of default 'pick' sampling on bar chart.\n",
    "val words = genWordSet(500)\n",
    "val dat = data(1000, words)\n",
    "val p = ggplot(dat) { x = \"word\" }"
   ]
  },
  {
   "cell_type": "code",
   "execution_count": 4,
   "metadata": {},
   "outputs": [
    {
     "data": {
      "text/html": [
       "   <div id=\"wJtjnq\"></div>\n",
       "   <script type=\"text/javascript\" data-lets-plot-script=\"plot\">\n",
       "       (function() {\n",
       "           var plotSpec={\n",
       "'mapping':{\n",
       "'x':\"word\"\n",
       "},\n",
       "'data':{\n",
       "},\n",
       "'kind':\"plot\",\n",
       "'scales':[],\n",
       "'layers':[{\n",
       "'mapping':{\n",
       "},\n",
       "'stat':\"count\",\n",
       "'data':{\n",
       "'..count..':[4.0,1.0,3.0,3.0,2.0,5.0,2.0,3.0,3.0,4.0,2.0,2.0,6.0,4.0,2.0,2.0,1.0,2.0,3.0,1.0,5.0,4.0,2.0,3.0,5.0,3.0,4.0,3.0,3.0,4.0,5.0,3.0,1.0,1.0,3.0,2.0,2.0,1.0,5.0,5.0,2.0,2.0,5.0,4.0,2.0,1.0,2.0,1.0,1.0,2.0,3.0,1.0,2.0,4.0,1.0,4.0,2.0,7.0,1.0,3.0,2.0,5.0,2.0,5.0,3.0,3.0,3.0,5.0,1.0,2.0,1.0,2.0,4.0,3.0,3.0,4.0,5.0,2.0,2.0,5.0,2.0,3.0,1.0,1.0,5.0,1.0,5.0,6.0,2.0,4.0,4.0,1.0,3.0,1.0,4.0,3.0,3.0,3.0,4.0,2.0,4.0,4.0,6.0,2.0,5.0,4.0,1.0,2.0,4.0,2.0,1.0,6.0,3.0,2.0,2.0,2.0,1.0,3.0,6.0,5.0,4.0,2.0,2.0,3.0,2.0,2.0,4.0,1.0,1.0,3.0,2.0,1.0,5.0,1.0,3.0,3.0,5.0,4.0,3.0,2.0,2.0,3.0,1.0,2.0,1.0,6.0,5.0,2.0,3.0,4.0,1.0,2.0,1.0,1.0,1.0,3.0,1.0,4.0,7.0,4.0,2.0,5.0,2.0,3.0,2.0,2.0,3.0,3.0,2.0,5.0,3.0,2.0,2.0,3.0,3.0,2.0,4.0,1.0,2.0,4.0,2.0,3.0,5.0,3.0,1.0,5.0,3.0,1.0,4.0,2.0,4.0,3.0,5.0,2.0,2.0,1.0,2.0,5.0,2.0,3.0,1.0,5.0,1.0,2.0,3.0,3.0,1.0,3.0,3.0,1.0,3.0,1.0,2.0,4.0,3.0,5.0,1.0,1.0,2.0,3.0,1.0,4.0,2.0,2.0,1.0,2.0,3.0,3.0,1.0,2.0,4.0,1.0,3.0,2.0,2.0,3.0,4.0,2.0,2.0,1.0,1.0,3.0,1.0,1.0,3.0,3.0,1.0,1.0,2.0,2.0,4.0,3.0,1.0,2.0,2.0,2.0,3.0,4.0,2.0,3.0,2.0,1.0,4.0,2.0,2.0,1.0,3.0,3.0,2.0,1.0,2.0,5.0,2.0,3.0,4.0,3.0,4.0,4.0,1.0,4.0,1.0,3.0,3.0,4.0,1.0,1.0,2.0,2.0,3.0,1.0,2.0,1.0,1.0,1.0,2.0,1.0,3.0,2.0,1.0,3.0,1.0,4.0,2.0,1.0,2.0,2.0,2.0,1.0,3.0,3.0,1.0,1.0,3.0,5.0,4.0,2.0,2.0,1.0,3.0,1.0,3.0,1.0,1.0,2.0,1.0,1.0,1.0,3.0,1.0,3.0,2.0,2.0,1.0,2.0,2.0,2.0,1.0,2.0,3.0,2.0,1.0,2.0,2.0,2.0,2.0,2.0,2.0,3.0,2.0,1.0,3.0,1.0,2.0,1.0,1.0,2.0,2.0,1.0,1.0,1.0,5.0,2.0,2.0,1.0,1.0,1.0,3.0,1.0,1.0,1.0,1.0,2.0,2.0,2.0,2.0,1.0,2.0,1.0,2.0,1.0,2.0,3.0,1.0,1.0,2.0,2.0,1.0,2.0,1.0,1.0,1.0,2.0,1.0,1.0,1.0,1.0,1.0,1.0,2.0,2.0,1.0,1.0,1.0,2.0,1.0,1.0,1.0,1.0,1.0,1.0,1.0,1.0,1.0,1.0,1.0,1.0,1.0,1.0,1.0,1.0],\n",
       "'word':[\"npzhn\",\"oeulc\",\"ihkae\",\"ynsst\",\"cbwvu\",\"wiqxn\",\"pqtth\",\"uldga\",\"rtnpv\",\"jdsaw\",\"baoen\",\"stebo\",\"xehiw\",\"cchyl\",\"xsvfc\",\"bjbqs\",\"ebtlg\",\"buoid\",\"vjnkv\",\"exmft\",\"wyhlb\",\"oqyxj\",\"epelj\",\"cidrf\",\"qnjqb\",\"grcnw\",\"pxynp\",\"mvdjf\",\"heuso\",\"avlhv\",\"eogkq\",\"lvsow\",\"qdfqc\",\"kuguz\",\"qkkiu\",\"vaaue\",\"iuoyw\",\"ncdoe\",\"yvelu\",\"qrmna\",\"hsnyi\",\"jsrdw\",\"gghjn\",\"gotvc\",\"krkmc\",\"ktsch\",\"ykmha\",\"hjjdw\",\"fcwjg\",\"zrjtg\",\"kwdrt\",\"bipqm\",\"opnyi\",\"bagno\",\"lrvyw\",\"ybmmp\",\"qdzrk\",\"rtinh\",\"tpvoj\",\"zlsrx\",\"befdq\",\"hivtk\",\"fbpfd\",\"lydut\",\"lkazd\",\"ngxnk\",\"wdlgc\",\"ynqbs\",\"jaxvd\",\"avlvn\",\"aqzib\",\"dlkby\",\"etiaj\",\"ecpzi\",\"gkqpg\",\"drxvc\",\"hjrah\",\"ihjuj\",\"hbauc\",\"zzkud\",\"xduij\",\"tesdc\",\"wsqpr\",\"fqsio\",\"roqxm\",\"egqlz\",\"ezrub\",\"bldhu\",\"tmryu\",\"lddxl\",\"emhvv\",\"gkrev\",\"belrp\",\"vkxrp\",\"xzmkl\",\"qfnqp\",\"fppde\",\"kaaod\",\"erwdj\",\"uejib\",\"eldii\",\"wgnkq\",\"oomje\",\"ojhyv\",\"xmkzq\",\"rllzk\",\"fhumf\",\"xhuxb\",\"nrunp\",\"eufng\",\"rhkci\",\"yunwj\",\"qdoba\",\"nnucy\",\"slazo\",\"yclnv\",\"ddhdk\",\"fpste\",\"frmci\",\"hbsaw\",\"hjnde\",\"zxeqx\",\"yaxbs\",\"tpsyk\",\"iupki\",\"qmmks\",\"ufnuw\",\"wdqzh\",\"arjca\",\"jvkqo\",\"vrefb\",\"aepxi\",\"glogu\",\"edntl\",\"rjgdd\",\"crxsh\",\"iutfy\",\"iqvxd\",\"wmzjh\",\"yssie\",\"gihff\",\"itteh\",\"maukw\",\"pxfjs\",\"qptui\",\"sresx\",\"uveui\",\"ytyzv\",\"uubzc\",\"lhlna\",\"znxlf\",\"pdkki\",\"jgplw\",\"qlhri\",\"srowx\",\"qcgzz\",\"dwlba\",\"sqioa\",\"izbzz\",\"aovbo\",\"hedbh\",\"aeqes\",\"xefzq\",\"fqgax\",\"kqxqg\",\"etaqw\",\"qhjdj\",\"qdduh\",\"huxft\",\"eptgf\",\"bnbma\",\"dtfxf\",\"irihf\",\"clvcu\",\"ppldf\",\"gyqmz\",\"znteh\",\"swhgm\",\"eygmt\",\"bvqor\",\"gmhxr\",\"ttmps\",\"ignhp\",\"wdurw\",\"vyrij\",\"iyxdx\",\"jpytp\",\"ownga\",\"qnggv\",\"xqubk\",\"qtzuh\",\"mqcmj\",\"monlr\",\"dojct\",\"ceoaf\",\"tpwbp\",\"ayvmx\",\"oskyg\",\"jstwx\",\"xuixp\",\"okqbd\",\"mbrnl\",\"brdef\",\"mccvz\",\"jgnwn\",\"zlrux\",\"wbsrj\",\"dhpfj\",\"tcjrv\",\"swsxo\",\"iuios\",\"oahuw\",\"aqurc\",\"zhdcx\",\"cjjyi\",\"toqek\",\"svgag\",\"arwmy\",\"tuhwu\",\"dqcyj\",\"digab\",\"estzq\",\"maqvd\",\"hlidt\",\"dpkam\",\"xzgrw\",\"quxor\",\"xvniv\",\"eaabd\",\"ujuqx\",\"dbfbt\",\"irybc\",\"vcyqw\",\"kjqxf\",\"lgvas\",\"punzu\",\"rhsau\",\"chrqk\",\"aebrr\",\"utvia\",\"fsalv\",\"zofne\",\"alzgr\",\"krgks\",\"kbptd\",\"tzncx\",\"kdvwd\",\"iogxr\",\"ikttu\",\"ftufd\",\"igact\",\"nzcaw\",\"kcxhy\",\"lvlqg\",\"vjipa\",\"ceipy\",\"fxzfd\",\"qucbp\",\"srure\",\"odyvw\",\"qrlli\",\"umqjf\",\"pfyik\",\"azpie\",\"uztau\",\"ebois\",\"pmtyj\",\"dhuys\",\"yrbnd\",\"sodbs\",\"lczjp\",\"jucqy\",\"bisrd\",\"ysgzf\",\"tircd\",\"lqrvd\",\"nwdam\",\"mqsqw\",\"mhjsr\",\"ihxqd\",\"auukv\",\"edotp\",\"unazr\",\"embta\",\"gmevu\",\"atpje\",\"schdv\",\"qhhas\",\"vxrwt\",\"zqvhj\",\"tvzgm\",\"upssn\",\"dctxr\",\"gdujz\",\"mxcmq\",\"ootum\",\"zhyhb\",\"tapro\",\"ybzmn\",\"dtjlt\",\"ivjdq\",\"kgyrt\",\"joxbb\",\"sayug\",\"vsqxu\",\"hgnva\",\"uckfk\",\"elcbi\",\"medry\",\"lkkgt\",\"yvpfn\",\"oedmz\",\"gnuhi\",\"qsoow\",\"ihaup\",\"qlkee\",\"plrin\",\"azeex\",\"cnjee\",\"jnkag\",\"vgbqn\",\"rpcpd\",\"wllku\",\"nkiva\",\"izjdx\",\"pbjcx\",\"ortid\",\"iiglr\",\"oslwa\",\"pplvv\",\"szwbv\",\"txbkj\",\"vfufy\",\"unsww\",\"hkavc\",\"jpbnw\",\"qvrwk\",\"gvdad\",\"tahdg\",\"gdogh\",\"clrqc\",\"ehvwi\",\"isxjf\",\"gljop\",\"cgtkh\",\"jjdpt\",\"xjavm\",\"pyghp\",\"cweoc\",\"tenjr\",\"lilph\",\"iqmof\",\"bdiom\",\"xnvcu\",\"zauxe\",\"zbuvw\",\"mzhiz\",\"etsvx\",\"iqqdc\",\"mlwnp\",\"kdctm\",\"rfnzq\",\"pgkay\",\"evmkb\",\"aybbl\",\"ncyrm\",\"ysobr\",\"apoua\",\"hsxat\",\"eeoni\",\"jkcvl\",\"obben\",\"rsgtm\",\"ooigb\",\"qkuyo\",\"shhqz\",\"xtuer\",\"cjfrz\",\"bwrma\",\"fhtnc\",\"ztros\",\"dqurh\",\"twikv\",\"dsaaz\",\"skobh\",\"pobbp\",\"eaqqi\",\"ehgdj\",\"xypxb\",\"uqnlz\",\"tzxjm\",\"jdylv\",\"zseuw\",\"tvksh\",\"ifjce\",\"ywshf\",\"toexu\",\"fmrtl\",\"nahxg\",\"iuvtn\",\"juckz\",\"vfywm\",\"ctohf\",\"arrrf\",\"wqrsx\",\"lzaee\",\"kgpxm\",\"ykopu\",\"ompnq\",\"fxjim\",\"cklis\",\"lzaxg\",\"vnudj\",\"gvoib\",\"vcuto\",\"mqsop\",\"mhtwz\",\"uldef\",\"ibfcq\",\"yyohf\"]\n",
       "},\n",
       "'sampling':\"none\",\n",
       "'position':\"stack\",\n",
       "'geom':\"bar\"\n",
       "}]\n",
       "};\n",
       "           var plotContainer = document.getElementById(\"wJtjnq\");\n",
       "           window.letsPlotCall(function() {{\n",
       "               LetsPlot.buildPlotFromProcessedSpecs(plotSpec, -1, -1, plotContainer);\n",
       "           }});\n",
       "       })();    \n",
       "   </script>"
      ]
     },
     "execution_count": 4,
     "metadata": {},
     "output_type": "execute_result"
    }
   ],
   "source": [
    "// Disable sampling to see the overplotting.\n",
    "p + geomBar(sampling = samplingNone)"
   ]
  },
  {
   "cell_type": "code",
   "execution_count": 5,
   "metadata": {},
   "outputs": [
    {
     "data": {
      "text/html": [
       "   <div id=\"U2izti\"></div>\n",
       "   <script type=\"text/javascript\" data-lets-plot-script=\"plot\">\n",
       "       (function() {\n",
       "           var plotSpec={\n",
       "'mapping':{\n",
       "'x':\"word\"\n",
       "},\n",
       "'data':{\n",
       "},\n",
       "'kind':\"plot\",\n",
       "'computation_messages':[\"sampling_pick(n=50) was applied to [bar/count stat] layer\"],\n",
       "'scales':[],\n",
       "'layers':[{\n",
       "'mapping':{\n",
       "},\n",
       "'stat':\"count\",\n",
       "'data':{\n",
       "'..count..':[4.0,1.0,3.0,3.0,2.0,5.0,2.0,3.0,3.0,4.0,2.0,2.0,6.0,4.0,2.0,2.0,1.0,2.0,3.0,1.0,5.0,4.0,2.0,3.0,5.0,3.0,4.0,3.0,3.0,4.0,5.0,3.0,1.0,1.0,3.0,2.0,2.0,1.0,5.0,5.0,2.0,2.0,5.0,4.0,2.0,1.0,2.0,1.0,1.0,2.0],\n",
       "'word':[\"npzhn\",\"oeulc\",\"ihkae\",\"ynsst\",\"cbwvu\",\"wiqxn\",\"pqtth\",\"uldga\",\"rtnpv\",\"jdsaw\",\"baoen\",\"stebo\",\"xehiw\",\"cchyl\",\"xsvfc\",\"bjbqs\",\"ebtlg\",\"buoid\",\"vjnkv\",\"exmft\",\"wyhlb\",\"oqyxj\",\"epelj\",\"cidrf\",\"qnjqb\",\"grcnw\",\"pxynp\",\"mvdjf\",\"heuso\",\"avlhv\",\"eogkq\",\"lvsow\",\"qdfqc\",\"kuguz\",\"qkkiu\",\"vaaue\",\"iuoyw\",\"ncdoe\",\"yvelu\",\"qrmna\",\"hsnyi\",\"jsrdw\",\"gghjn\",\"gotvc\",\"krkmc\",\"ktsch\",\"ykmha\",\"hjjdw\",\"fcwjg\",\"zrjtg\"]\n",
       "},\n",
       "'position':\"stack\",\n",
       "'geom':\"bar\"\n",
       "}]\n",
       "};\n",
       "           var plotContainer = document.getElementById(\"U2izti\");\n",
       "           window.letsPlotCall(function() {{\n",
       "               LetsPlot.buildPlotFromProcessedSpecs(plotSpec, -1, -1, plotContainer);\n",
       "           }});\n",
       "       })();    \n",
       "   </script>"
      ]
     },
     "execution_count": 5,
     "metadata": {},
     "output_type": "execute_result"
    }
   ],
   "source": [
    "// Draw plot with default sampling.\n",
    "p + geomBar()"
   ]
  },
  {
   "cell_type": "code",
   "execution_count": 6,
   "metadata": {},
   "outputs": [
    {
     "data": {
      "text/html": [
       "   <div id=\"4eY8T5\"></div>\n",
       "   <script type=\"text/javascript\" data-lets-plot-script=\"plot\">\n",
       "       (function() {\n",
       "           var plotSpec={\n",
       "'mapping':{\n",
       "'x':\"word\"\n",
       "},\n",
       "'data':{\n",
       "},\n",
       "'kind':\"plot\",\n",
       "'computation_messages':[\"sampling_pick(n=50) was applied to [bar/count stat] layer\"],\n",
       "'scales':[],\n",
       "'layers':[{\n",
       "'mapping':{\n",
       "'fill':\"g\"\n",
       "},\n",
       "'stat':\"count\",\n",
       "'data':{\n",
       "'..count..':[4.0,2.0,1.0,2.0,2.0,2.0,1.0,2.0,1.0,2.0,2.0,1.0,2.0,1.0,1.0,1.0,1.0,3.0,1.0,2.0,1.0,2.0,3.0,1.0,1.0,1.0,2.0,1.0,2.0,1.0,2.0,3.0,1.0,3.0,2.0,1.0,1.0,3.0,2.0,1.0,3.0,2.0,1.0,1.0,1.0,3.0,2.0,2.0,2.0,1.0,2.0,1.0,2.0,2.0,1.0,2.0,1.0,2.0,1.0,1.0,4.0,1.0,2.0,1.0,1.0,1.0,1.0,1.0,1.0,1.0,1.0,1.0,1.0,1.0,3.0,1.0,1.0,1.0,2.0,1.0,1.0,1.0,2.0,2.0,1.0,1.0,3.0,1.0,3.0,1.0,1.0,2.0,1.0,1.0,1.0,3.0,1.0,2.0,2.0,2.0,1.0,1.0,1.0,1.0],\n",
       "'g':[\"b\",\"b\",\"b\",\"b\",\"b\",\"b\",\"b\",\"b\",\"b\",\"b\",\"b\",\"b\",\"b\",\"b\",\"b\",\"b\",\"b\",\"b\",\"b\",\"b\",\"b\",\"b\",\"b\",\"b\",\"b\",\"b\",\"b\",\"b\",\"b\",\"b\",\"b\",\"b\",\"b\",\"b\",\"b\",\"b\",\"b\",\"b\",\"b\",\"b\",\"b\",\"b\",\"b\",\"b\",\"b\",\"b\",\"b\",\"b\",\"b\",\"b\",\"a\",\"a\",\"a\",\"a\",\"a\",\"a\",\"a\",\"a\",\"a\",\"a\",\"a\",\"a\",\"a\",\"a\",\"a\",\"a\",\"a\",\"a\",\"a\",\"a\",\"a\",\"a\",\"a\",\"a\",\"c\",\"c\",\"c\",\"c\",\"c\",\"c\",\"c\",\"c\",\"c\",\"c\",\"c\",\"c\",\"c\",\"c\",\"c\",\"c\",\"c\",\"c\",\"c\",\"c\",\"c\",\"c\",\"c\",\"c\",\"c\",\"c\",\"c\",\"c\",\"c\",\"c\"],\n",
       "'word':[\"npzhn\",\"ihkae\",\"cbwvu\",\"baoen\",\"xehiw\",\"cchyl\",\"buoid\",\"oqyxj\",\"pxynp\",\"heuso\",\"lvsow\",\"ncdoe\",\"qrmna\",\"krkmc\",\"ktsch\",\"hjjdw\",\"fcwjg\",\"zlsrx\",\"lkazd\",\"ngxnk\",\"avlvn\",\"dlkby\",\"etiaj\",\"ecpzi\",\"gkqpg\",\"drxvc\",\"hjrah\",\"xduij\",\"tesdc\",\"roqxm\",\"ezrub\",\"lddxl\",\"emhvv\",\"xzmkl\",\"qfnqp\",\"fppde\",\"uejib\",\"eldii\",\"wgnkq\",\"ojhyv\",\"xmkzq\",\"rllzk\",\"nrunp\",\"eufng\",\"nnucy\",\"rtinh\",\"yclnv\",\"hbsaw\",\"gghjn\",\"tpsyk\",\"rtinh\",\"xehiw\",\"qrmna\",\"hjrah\",\"nnucy\",\"nrunp\",\"tpsyk\",\"emhvv\",\"ihkae\",\"uejib\",\"roqxm\",\"qfnqp\",\"pxynp\",\"fppde\",\"xzmkl\",\"lkazd\",\"krkmc\",\"cchyl\",\"lddxl\",\"avlvn\",\"eldii\",\"heuso\",\"oqyxj\",\"ezrub\",\"gghjn\",\"cchyl\",\"cbwvu\",\"nrunp\",\"rllzk\",\"qrmna\",\"tesdc\",\"buoid\",\"ezrub\",\"rtinh\",\"ngxnk\",\"hjrah\",\"xehiw\",\"eufng\",\"drxvc\",\"fppde\",\"tpsyk\",\"gkqpg\",\"ojhyv\",\"xduij\",\"oqyxj\",\"hbsaw\",\"pxynp\",\"ecpzi\",\"wgnkq\",\"xmkzq\",\"etiaj\",\"lkazd\",\"lvsow\",\"emhvv\"]\n",
       "},\n",
       "'position':\"stack\",\n",
       "'geom':\"bar\"\n",
       "}]\n",
       "};\n",
       "           var plotContainer = document.getElementById(\"4eY8T5\");\n",
       "           window.letsPlotCall(function() {{\n",
       "               LetsPlot.buildPlotFromProcessedSpecs(plotSpec, -1, -1, plotContainer);\n",
       "           }});\n",
       "       })();    \n",
       "   </script>"
      ]
     },
     "execution_count": 6,
     "metadata": {},
     "output_type": "execute_result"
    }
   ],
   "source": [
    "// 'pick' sampling preserves groups on bar chart.\n",
    "p + geomBar { fill=\"g\" }"
   ]
  }
 ],
 "metadata": {
  "kernelspec": {
   "display_name": "Kotlin",
   "language": "kotlin",
   "name": "kotlin"
  },
  "language_info": {
   "codemirror_mode": "text/x-kotlin",
   "file_extension": ".kt",
   "mimetype": "text/x-kotlin",
   "name": "kotlin",
   "nbconvert_exporter": "",
   "pygments_lexer": "kotlin",
   "version": "1.5.20-dev-4184"
  }
 },
 "nbformat": 4,
 "nbformat_minor": 4
}
