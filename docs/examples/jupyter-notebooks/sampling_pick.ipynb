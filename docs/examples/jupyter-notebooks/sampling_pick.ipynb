{
 "cells": [
  {
   "cell_type": "markdown",
   "metadata": {},
   "source": [
    "<em><sub>This page is available as an executable or viewable <strong>Jupyter Notebook</strong>:</sub></em>\n",
    "<br/><br/>\n",
    "<a href=\"https://mybinder.org/v2/gh/JetBrains/lets-plot-kotlin/v1.3.0demos1?filepath=docs%2Fexamples%2Fjupyter-notebooks%2Fsampling_pick.ipynb\"\n",
    "   target=\"_parent\">\n",
    "   <img align=\"left\"\n",
    "        src=\"https://mybinder.org/badge_logo.svg\">\n",
    "</a>\n",
    "<a href=\"https://nbviewer.jupyter.org/github/JetBrains/lets-plot-kotlin/blob/master/docs/examples/jupyter-notebooks/sampling_pick.ipynb\"\n",
    "   target=\"_parent\">\n",
    "   <img align=\"right\"\n",
    "        src=\"https://raw.githubusercontent.com/jupyter/design/master/logos/Badges/nbviewer_badge.png\"\n",
    "        width=\"109\" height=\"20\">\n",
    "</a>\n",
    "<br/>\n",
    "<br/>"
   ]
  },
  {
   "cell_type": "markdown",
   "metadata": {},
   "source": [
    "### Pick Sampling"
   ]
  },
  {
   "cell_type": "code",
   "execution_count": 1,
   "metadata": {},
   "outputs": [
    {
     "data": {
      "text/html": [
       "   <div id=\"OhwgPH\"></div>\n",
       "   <script type=\"text/javascript\" data-lets-plot-script=\"library\">\n",
       "       if(!window.letsPlotCallQueue) {\n",
       "           window.letsPlotCallQueue = [];\n",
       "       }; \n",
       "       window.letsPlotCall = function(f) {\n",
       "           window.letsPlotCallQueue.push(f);\n",
       "       };\n",
       "       (function() {\n",
       "           var script = document.createElement(\"script\");\n",
       "           script.type = \"text/javascript\";\n",
       "           script.src = \"https://dl.bintray.com/jetbrains/lets-plot/lets-plot-2.0.1.min.js\";\n",
       "           script.onload = function() {\n",
       "               window.letsPlotCall = function(f) {f();};\n",
       "               window.letsPlotCallQueue.forEach(function(f) {f();});\n",
       "               window.letsPlotCallQueue = [];\n",
       "               \n",
       "               \n",
       "           };\n",
       "           script.onerror = function(event) {\n",
       "               window.letsPlotCall = function(f) {};\n",
       "               window.letsPlotCallQueue = [];\n",
       "               var div = document.createElement(\"div\");\n",
       "               div.style.color = 'darkred';\n",
       "               div.textContent = 'Error loading Lets-Plot JS';\n",
       "               document.getElementById(\"OhwgPH\").appendChild(div);\n",
       "           };\n",
       "           var e = document.getElementById(\"OhwgPH\");\n",
       "           e.appendChild(script);\n",
       "       })();\n",
       "   </script>"
      ]
     },
     "metadata": {},
     "output_type": "display_data"
    }
   ],
   "source": [
    "%useLatestDescriptors\n",
    "%use lets-plot"
   ]
  },
  {
   "cell_type": "code",
   "execution_count": 2,
   "metadata": {},
   "outputs": [],
   "source": [
    "fun genWord(length:Int):String {\n",
    "    val letters = ('a'..'z')\n",
    "    return List(length) { letters.random() }.joinToString(\"\")\n",
    "}    \n",
    "\n",
    "fun genWordSet(n:Int):Set<String> {\n",
    "    val words = HashSet<String>()\n",
    "    while(words.size < n) {\n",
    "        words.add(genWord(5))\n",
    "    }\n",
    "    return words\n",
    "}\n",
    "\n",
    "fun data(n:Int, words:Set<String>):Map<String, *> {\n",
    "    return mapOf(\n",
    "            \"word\" to List(n) { words.random() },\n",
    "            \"g\" to List(n) { listOf('a','b','c').random() }\n",
    "        )\n",
    "}"
   ]
  },
  {
   "cell_type": "code",
   "execution_count": 3,
   "metadata": {},
   "outputs": [],
   "source": [
    "// Number of unique words exceeds threshold (50) of default 'pick' sampling on bar chart.\n",
    "val words = genWordSet(500)\n",
    "val dat = data(1000, words)\n",
    "val p = ggplot(dat) { x = \"word\" }"
   ]
  },
  {
   "cell_type": "code",
   "execution_count": 4,
   "metadata": {},
   "outputs": [
    {
     "data": {
      "text/html": [
       "   <div id=\"j0vqBs\"></div>\n",
       "   <script type=\"text/javascript\" data-lets-plot-script=\"plot\">\n",
       "       (function() {\n",
       "           var plotSpec={\n",
       "'mapping':{\n",
       "'x':\"word\"\n",
       "},\n",
       "'data':{\n",
       "},\n",
       "'kind':\"plot\",\n",
       "'scales':[],\n",
       "'layers':[{\n",
       "'mapping':{\n",
       "},\n",
       "'stat':\"count\",\n",
       "'data':{\n",
       "'..count..':[3.0,2.0,6.0,2.0,3.0,1.0,3.0,2.0,4.0,5.0,4.0,2.0,3.0,2.0,1.0,7.0,3.0,3.0,1.0,1.0,5.0,3.0,3.0,4.0,2.0,2.0,3.0,4.0,2.0,3.0,2.0,1.0,2.0,3.0,4.0,4.0,6.0,3.0,4.0,4.0,2.0,2.0,4.0,2.0,2.0,2.0,1.0,2.0,4.0,4.0,2.0,2.0,5.0,3.0,2.0,2.0,2.0,4.0,2.0,2.0,2.0,4.0,4.0,6.0,4.0,6.0,1.0,4.0,2.0,1.0,2.0,1.0,2.0,3.0,3.0,2.0,3.0,4.0,3.0,2.0,2.0,1.0,4.0,2.0,4.0,5.0,2.0,1.0,2.0,4.0,2.0,2.0,4.0,3.0,4.0,3.0,2.0,6.0,1.0,2.0,3.0,1.0,1.0,4.0,5.0,3.0,5.0,3.0,4.0,3.0,1.0,2.0,4.0,1.0,5.0,2.0,4.0,2.0,2.0,3.0,4.0,1.0,2.0,2.0,2.0,2.0,4.0,5.0,2.0,4.0,1.0,2.0,2.0,6.0,3.0,3.0,3.0,3.0,6.0,2.0,2.0,2.0,4.0,2.0,1.0,2.0,4.0,3.0,1.0,2.0,3.0,2.0,2.0,2.0,5.0,3.0,4.0,1.0,3.0,3.0,3.0,2.0,2.0,1.0,2.0,1.0,4.0,2.0,4.0,4.0,2.0,2.0,2.0,1.0,2.0,2.0,2.0,2.0,1.0,2.0,2.0,4.0,4.0,4.0,2.0,4.0,1.0,1.0,3.0,2.0,4.0,2.0,1.0,3.0,2.0,1.0,1.0,1.0,1.0,5.0,1.0,3.0,3.0,1.0,1.0,1.0,2.0,4.0,1.0,2.0,2.0,2.0,1.0,1.0,4.0,1.0,2.0,4.0,3.0,1.0,3.0,4.0,3.0,2.0,2.0,1.0,4.0,2.0,2.0,3.0,3.0,2.0,2.0,4.0,2.0,3.0,2.0,3.0,1.0,4.0,4.0,1.0,1.0,4.0,4.0,2.0,3.0,3.0,3.0,1.0,2.0,2.0,3.0,2.0,1.0,2.0,3.0,2.0,3.0,2.0,3.0,2.0,3.0,2.0,1.0,2.0,1.0,3.0,2.0,3.0,3.0,3.0,2.0,4.0,1.0,3.0,1.0,3.0,2.0,2.0,3.0,3.0,1.0,2.0,2.0,3.0,4.0,3.0,3.0,1.0,5.0,1.0,2.0,3.0,3.0,1.0,2.0,3.0,1.0,1.0,2.0,1.0,1.0,1.0,2.0,3.0,1.0,1.0,3.0,2.0,3.0,2.0,1.0,2.0,2.0,2.0,1.0,2.0,3.0,3.0,1.0,2.0,1.0,2.0,1.0,2.0,2.0,2.0,2.0,1.0,3.0,4.0,1.0,1.0,1.0,2.0,3.0,1.0,4.0,3.0,1.0,1.0,3.0,1.0,2.0,3.0,1.0,2.0,2.0,1.0,1.0,1.0,1.0,1.0,1.0,2.0,4.0,1.0,1.0,1.0,2.0,2.0,1.0,2.0,1.0,1.0,1.0,1.0,2.0,1.0,1.0,2.0,1.0,1.0,1.0,1.0,1.0,1.0,1.0,1.0,2.0,1.0,1.0,2.0,2.0,2.0,2.0,2.0,1.0,3.0,1.0,1.0,4.0,2.0,2.0,2.0,1.0,2.0,1.0,1.0,2.0,1.0,1.0,1.0,1.0,2.0,1.0,2.0,2.0,1.0,1.0,1.0,1.0,2.0,2.0,1.0,1.0,1.0,1.0,1.0,1.0,2.0,1.0,1.0,1.0,2.0,1.0,1.0,1.0,1.0,1.0,1.0,1.0,1.0,2.0,1.0,1.0,1.0,1.0,1.0,1.0,1.0,1.0],\n",
       "'word':[\"uhzer\",\"tmbzy\",\"jndqv\",\"psgjb\",\"yahyb\",\"sfsqe\",\"hvxex\",\"osnsp\",\"uzxcm\",\"yyvlr\",\"xlumn\",\"cxmxr\",\"ihozy\",\"rgjnu\",\"qvqpk\",\"rmpyb\",\"fsapg\",\"xcngp\",\"ltcws\",\"pwhjg\",\"icacv\",\"uklny\",\"tbdhr\",\"ubaxd\",\"rpeeg\",\"netpj\",\"xzmgu\",\"dikmr\",\"khnbn\",\"yqyns\",\"yeczm\",\"myfen\",\"uqhzi\",\"aoavr\",\"cjqxe\",\"gwyfw\",\"jcczg\",\"vyoff\",\"dghfd\",\"bhdix\",\"sjeyg\",\"nrjaq\",\"acgcn\",\"vdbry\",\"ugfdp\",\"dtvpc\",\"gmzvq\",\"aqpnm\",\"ofals\",\"rsfik\",\"qtxqs\",\"uczbg\",\"dtrno\",\"qyopu\",\"nytin\",\"haxym\",\"nmyql\",\"msxaw\",\"unuax\",\"debqi\",\"gryoi\",\"xsuyn\",\"bnhri\",\"bsrdc\",\"hbijd\",\"hjinb\",\"nyygk\",\"vcjud\",\"qgpwn\",\"wuaix\",\"upnzy\",\"pelke\",\"odqld\",\"xaohw\",\"difjn\",\"kswbl\",\"gdvpp\",\"lnacj\",\"wnojt\",\"vrbds\",\"zklqs\",\"cqaea\",\"rjgmm\",\"krmub\",\"opbry\",\"dlwxt\",\"mfmgi\",\"wlfia\",\"gjiab\",\"wnyjq\",\"sumqr\",\"djoji\",\"ijmjs\",\"lejxt\",\"msjix\",\"lpsjk\",\"feqfl\",\"dogdq\",\"rxmxw\",\"dowbi\",\"zxjxu\",\"lzvrk\",\"trnuf\",\"oriee\",\"osxqe\",\"pnskt\",\"cscui\",\"yryaq\",\"pwirl\",\"oirpx\",\"halow\",\"trtxi\",\"pwtar\",\"rpjcx\",\"eyxug\",\"wvfpp\",\"pgfxb\",\"csllw\",\"tdamm\",\"mwmmp\",\"yugnh\",\"otgol\",\"sojpd\",\"bcgyl\",\"puluv\",\"qmpor\",\"mxaqw\",\"gmufh\",\"dqgtp\",\"mhxmf\",\"ryvcm\",\"jzutb\",\"suiqn\",\"egwob\",\"mlrek\",\"kwver\",\"amfkw\",\"ftdec\",\"ghbps\",\"stxio\",\"lwtmn\",\"hsjgz\",\"bjins\",\"uxkbg\",\"cnopm\",\"omtdy\",\"qaxpt\",\"zgzyp\",\"evpmk\",\"ojwlv\",\"iqjdg\",\"ctgbx\",\"breit\",\"juflx\",\"ekxtr\",\"uocuw\",\"rkkgp\",\"nkyek\",\"hiowo\",\"jcshd\",\"rzlyc\",\"ofuiw\",\"lxdkf\",\"xhdfu\",\"hgrre\",\"szxsw\",\"ztgvj\",\"pxeoy\",\"xrhws\",\"rxzio\",\"lwprb\",\"bsiic\",\"rejlx\",\"vvupz\",\"ccprd\",\"iorbc\",\"sxuwq\",\"lfhei\",\"tchho\",\"eebfj\",\"xzodl\",\"mblsz\",\"iwvrz\",\"xnitc\",\"ilyey\",\"gojdl\",\"vmfgk\",\"ncjkn\",\"spurn\",\"pqsdh\",\"tiatd\",\"ojplj\",\"rgihw\",\"wdfjl\",\"jpcue\",\"qsedl\",\"iaiyi\",\"lzvuc\",\"cpdkh\",\"hrwyb\",\"kjkeg\",\"ymqhk\",\"khoat\",\"zjwqq\",\"tlxhw\",\"cphfj\",\"kxgnq\",\"txolf\",\"hddgl\",\"mlkvk\",\"ggjzz\",\"qcrao\",\"jllvy\",\"xsuxp\",\"spyre\",\"egyww\",\"gajcu\",\"ajnkj\",\"enwqo\",\"fieii\",\"ykuul\",\"ceqpu\",\"ptmtx\",\"oqgpd\",\"krzww\",\"hwyar\",\"zytbn\",\"bniyw\",\"xnxhd\",\"jiiak\",\"pupcu\",\"ozmsi\",\"uvfwf\",\"xefgd\",\"fomii\",\"rdbtw\",\"vidwn\",\"pujhy\",\"wvzkd\",\"lflcc\",\"vgqyy\",\"hdqee\",\"snytk\",\"szhvr\",\"znzhk\",\"klsru\",\"eqrxt\",\"gvqng\",\"emxgl\",\"kikfq\",\"sjrap\",\"xuszb\",\"ojkft\",\"nhqrq\",\"ouzut\",\"nmmac\",\"lafdz\",\"ynhyp\",\"aoggc\",\"gwnol\",\"kjlnv\",\"goeuk\",\"lozny\",\"zciwn\",\"prres\",\"yyqoj\",\"pzafh\",\"gbelx\",\"iufqw\",\"svfjv\",\"upyjo\",\"btmqi\",\"pzyfo\",\"hfptk\",\"ennwc\",\"hiehc\",\"xhqgj\",\"jlcfl\",\"ovali\",\"yherv\",\"mekoy\",\"hakmn\",\"vdxbu\",\"gmoij\",\"giugd\",\"featd\",\"gnclf\",\"wlmjx\",\"bmzkc\",\"jpxfm\",\"qjjft\",\"usnkw\",\"lkukn\",\"inrzt\",\"myyfm\",\"syjba\",\"kzzpq\",\"sugtz\",\"dbjek\",\"wivtv\",\"mhsnx\",\"ujfdh\",\"loefc\",\"ziawn\",\"lnvuo\",\"jtqmw\",\"zyxna\",\"rtkgr\",\"xxzgf\",\"eskrq\",\"adthy\",\"nzuhj\",\"otjby\",\"gzqvn\",\"iauak\",\"ufbgp\",\"xitsh\",\"lvspb\",\"mnjxt\",\"jcobp\",\"hodqt\",\"ysstn\",\"utgsr\",\"wyxko\",\"wiwzf\",\"wimnf\",\"lofdw\",\"yyjhe\",\"hplfw\",\"faavd\",\"kqctb\",\"nkvwn\",\"xorhv\",\"wuuxu\",\"fcvhk\",\"rpigs\",\"sigwn\",\"dnlik\",\"xhqxw\",\"lxfsw\",\"lyupn\",\"tmepd\",\"yuekd\",\"zpzdr\",\"ooypy\",\"ujqgm\",\"wtymh\",\"mopov\",\"xwjbt\",\"jttiw\",\"bxmve\",\"selwq\",\"xpbdm\",\"fqmkf\",\"ibzmz\",\"ikqpm\",\"tiktx\",\"vecxs\",\"wbuip\",\"zwved\",\"xvpja\",\"rvlap\",\"asvsc\",\"wquue\",\"vvghi\",\"ecowi\",\"rvkvw\",\"evode\",\"fackd\",\"sbdyg\",\"nutom\",\"xsxqz\",\"kuxre\",\"wcorv\",\"coodb\",\"qyupw\",\"yrbci\",\"nktsl\",\"zitwf\",\"dsxsq\",\"eczqz\",\"bgupk\",\"ytcfd\",\"szsvs\",\"spiug\",\"sekmv\",\"ttaav\",\"gmaii\",\"qtyhx\",\"qyqzi\",\"vtffp\",\"suzwl\",\"mqgrc\",\"dpwtr\",\"mmquk\",\"uddid\",\"rebmw\",\"krbrt\",\"ttynf\",\"xgqer\",\"uaivo\",\"uwrwl\",\"wavhj\",\"ekeqe\",\"xewhd\",\"njkiy\",\"ptimo\",\"lgqgg\",\"alerv\",\"yohym\",\"ndptr\",\"ozxow\",\"xxeqt\",\"jdzjt\",\"tpkpc\",\"hoppn\",\"yslay\",\"ranbq\",\"conkh\",\"lyskf\",\"ipuyb\",\"xvqug\",\"sjoua\",\"wfcmy\",\"njtym\",\"evvau\",\"omedz\",\"rnjoi\",\"alwqn\",\"ffzyq\",\"lotuh\",\"gghzq\",\"mcuwt\",\"fmbmc\",\"gshno\",\"tokxn\",\"gduqv\",\"pncss\",\"wpxcv\",\"ikgiq\",\"tuhin\",\"zirkq\",\"orhie\"]\n",
       "},\n",
       "'sampling':\"none\",\n",
       "'position':\"stack\",\n",
       "'geom':\"bar\"\n",
       "}]\n",
       "};\n",
       "           var plotContainer = document.getElementById(\"j0vqBs\");\n",
       "           window.letsPlotCall(function() {{\n",
       "               LetsPlot.buildPlotFromProcessedSpecs(plotSpec, -1, -1, plotContainer);\n",
       "           }});\n",
       "       })();    \n",
       "   </script>"
      ]
     },
     "execution_count": 4,
     "metadata": {
      "new_classpath": []
     },
     "output_type": "execute_result"
    }
   ],
   "source": [
    "// Disable sampling to see the overplotting.\n",
    "p + geom_bar(sampling = sampling_none)"
   ]
  },
  {
   "cell_type": "code",
   "execution_count": 5,
   "metadata": {},
   "outputs": [
    {
     "data": {
      "text/html": [
       "   <div id=\"eapGmj\"></div>\n",
       "   <script type=\"text/javascript\" data-lets-plot-script=\"plot\">\n",
       "       (function() {\n",
       "           var plotSpec={\n",
       "'mapping':{\n",
       "'x':\"word\"\n",
       "},\n",
       "'data':{\n",
       "},\n",
       "'kind':\"plot\",\n",
       "'computation_messages':[\"sampling_pick(n=50) was applied to [bar/count stat] layer\"],\n",
       "'scales':[],\n",
       "'layers':[{\n",
       "'mapping':{\n",
       "},\n",
       "'stat':\"count\",\n",
       "'data':{\n",
       "'..count..':[3.0,2.0,6.0,2.0,3.0,1.0,3.0,2.0,4.0,5.0,4.0,2.0,3.0,2.0,1.0,7.0,3.0,3.0,1.0,1.0,5.0,3.0,3.0,4.0,2.0,2.0,3.0,4.0,2.0,3.0,2.0,1.0,2.0,3.0,4.0,4.0,6.0,3.0,4.0,4.0,2.0,2.0,4.0,2.0,2.0,2.0,1.0,2.0,4.0,4.0],\n",
       "'word':[\"uhzer\",\"tmbzy\",\"jndqv\",\"psgjb\",\"yahyb\",\"sfsqe\",\"hvxex\",\"osnsp\",\"uzxcm\",\"yyvlr\",\"xlumn\",\"cxmxr\",\"ihozy\",\"rgjnu\",\"qvqpk\",\"rmpyb\",\"fsapg\",\"xcngp\",\"ltcws\",\"pwhjg\",\"icacv\",\"uklny\",\"tbdhr\",\"ubaxd\",\"rpeeg\",\"netpj\",\"xzmgu\",\"dikmr\",\"khnbn\",\"yqyns\",\"yeczm\",\"myfen\",\"uqhzi\",\"aoavr\",\"cjqxe\",\"gwyfw\",\"jcczg\",\"vyoff\",\"dghfd\",\"bhdix\",\"sjeyg\",\"nrjaq\",\"acgcn\",\"vdbry\",\"ugfdp\",\"dtvpc\",\"gmzvq\",\"aqpnm\",\"ofals\",\"rsfik\"]\n",
       "},\n",
       "'position':\"stack\",\n",
       "'geom':\"bar\"\n",
       "}]\n",
       "};\n",
       "           var plotContainer = document.getElementById(\"eapGmj\");\n",
       "           window.letsPlotCall(function() {{\n",
       "               LetsPlot.buildPlotFromProcessedSpecs(plotSpec, -1, -1, plotContainer);\n",
       "           }});\n",
       "       })();    \n",
       "   </script>"
      ]
     },
     "execution_count": 5,
     "metadata": {
      "new_classpath": []
     },
     "output_type": "execute_result"
    }
   ],
   "source": [
    "// Draw plot with default sampling.\n",
    "p + geom_bar()"
   ]
  },
  {
   "cell_type": "code",
   "execution_count": 6,
   "metadata": {},
   "outputs": [
    {
     "data": {
      "text/html": [
       "   <div id=\"3v1MdU\"></div>\n",
       "   <script type=\"text/javascript\" data-lets-plot-script=\"plot\">\n",
       "       (function() {\n",
       "           var plotSpec={\n",
       "'mapping':{\n",
       "'x':\"word\"\n",
       "},\n",
       "'data':{\n",
       "},\n",
       "'kind':\"plot\",\n",
       "'computation_messages':[\"sampling_pick(n=50) was applied to [bar/count stat] layer\"],\n",
       "'scales':[],\n",
       "'layers':[{\n",
       "'mapping':{\n",
       "'fill':\"g\"\n",
       "},\n",
       "'stat':\"count\",\n",
       "'data':{\n",
       "'..count..':[2.0,1.0,1.0,1.0,1.0,1.0,2.0,2.0,1.0,1.0,1.0,2.0,2.0,1.0,1.0,1.0,1.0,3.0,2.0,1.0,1.0,1.0,3.0,2.0,1.0,4.0,2.0,3.0,2.0,1.0,1.0,1.0,1.0,1.0,2.0,2.0,4.0,2.0,1.0,3.0,1.0,2.0,1.0,2.0,1.0,1.0,3.0,1.0,1.0,2.0,2.0,1.0,1.0,1.0,1.0,1.0,2.0,1.0,1.0,3.0,1.0,2.0,1.0,3.0,1.0,1.0,1.0,1.0,2.0,1.0,1.0,1.0,1.0,1.0,1.0,1.0,1.0,1.0,1.0,1.0,1.0,2.0,3.0,1.0,1.0,2.0,1.0,1.0,2.0,1.0,1.0,1.0,1.0,1.0,1.0,1.0],\n",
       "'g':[\"c\",\"c\",\"c\",\"c\",\"c\",\"c\",\"c\",\"c\",\"c\",\"c\",\"c\",\"c\",\"c\",\"c\",\"c\",\"c\",\"c\",\"c\",\"c\",\"c\",\"c\",\"c\",\"c\",\"c\",\"c\",\"c\",\"c\",\"c\",\"c\",\"c\",\"c\",\"c\",\"c\",\"c\",\"c\",\"c\",\"c\",\"c\",\"c\",\"c\",\"c\",\"c\",\"c\",\"c\",\"c\",\"c\",\"c\",\"c\",\"c\",\"c\",\"b\",\"b\",\"b\",\"b\",\"b\",\"b\",\"b\",\"b\",\"b\",\"b\",\"b\",\"b\",\"b\",\"b\",\"b\",\"b\",\"b\",\"b\",\"b\",\"b\",\"b\",\"b\",\"b\",\"b\",\"b\",\"b\",\"a\",\"a\",\"a\",\"a\",\"a\",\"a\",\"a\",\"a\",\"a\",\"a\",\"a\",\"a\",\"a\",\"a\",\"a\",\"a\",\"a\",\"a\",\"a\",\"a\"],\n",
       "'word':[\"uhzer\",\"tmbzy\",\"jndqv\",\"psgjb\",\"sfsqe\",\"osnsp\",\"ihozy\",\"rgjnu\",\"xcngp\",\"ltcws\",\"pwhjg\",\"icacv\",\"khnbn\",\"yeczm\",\"myfen\",\"uqhzi\",\"cjqxe\",\"bhdix\",\"sjeyg\",\"gmzvq\",\"aqpnm\",\"nrjaq\",\"dtrno\",\"qyopu\",\"nytin\",\"msxaw\",\"gryoi\",\"bnhri\",\"rmpyb\",\"nyygk\",\"wuaix\",\"dtvpc\",\"vrbds\",\"cqaea\",\"krmub\",\"opbry\",\"dlwxt\",\"lnacj\",\"mfmgi\",\"wnyjq\",\"sumqr\",\"msjix\",\"rxmxw\",\"osxqe\",\"nmyql\",\"pnskt\",\"cscui\",\"yryaq\",\"oirpx\",\"pwtar\",\"rmpyb\",\"dtvpc\",\"nmyql\",\"dtrno\",\"wnyjq\",\"xcngp\",\"icacv\",\"uhzer\",\"cscui\",\"osxqe\",\"uqhzi\",\"opbry\",\"cjqxe\",\"jndqv\",\"qyopu\",\"lnacj\",\"ihozy\",\"pnskt\",\"oirpx\",\"mfmgi\",\"sumqr\",\"yeczm\",\"msjix\",\"aqpnm\",\"vrbds\",\"yryaq\",\"nrjaq\",\"osnsp\",\"lnacj\",\"yryaq\",\"pnskt\",\"cjqxe\",\"rmpyb\",\"dlwxt\",\"xcngp\",\"jndqv\",\"icacv\",\"psgjb\",\"pwtar\",\"nytin\",\"bhdix\",\"cscui\",\"dtrno\",\"msjix\",\"bnhri\",\"tmbzy\"]\n",
       "},\n",
       "'position':\"stack\",\n",
       "'geom':\"bar\"\n",
       "}]\n",
       "};\n",
       "           var plotContainer = document.getElementById(\"3v1MdU\");\n",
       "           window.letsPlotCall(function() {{\n",
       "               LetsPlot.buildPlotFromProcessedSpecs(plotSpec, -1, -1, plotContainer);\n",
       "           }});\n",
       "       })();    \n",
       "   </script>"
      ]
     },
     "execution_count": 6,
     "metadata": {
      "new_classpath": []
     },
     "output_type": "execute_result"
    }
   ],
   "source": [
    "// 'pick' sampling preserves groups on bar chart.\n",
    "p + geom_bar { fill=\"g\" }"
   ]
  }
 ],
 "metadata": {
  "kernelspec": {
   "display_name": "Kotlin",
   "language": "kotlin",
   "name": "kotlin"
  },
  "language_info": {
   "codemirror_mode": "text/x-kotlin",
   "file_extension": ".kt",
   "mimetype": "text/x-kotlin",
   "name": "kotlin",
   "pygments_lexer": "kotlin",
   "version": "1.5.0-dev-1206"
  }
 },
 "nbformat": 4,
 "nbformat_minor": 4
}
