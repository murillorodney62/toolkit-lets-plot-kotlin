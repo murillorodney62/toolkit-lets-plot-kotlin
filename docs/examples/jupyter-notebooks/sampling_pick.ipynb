{
 "cells": [
  {
   "cell_type": "markdown",
   "metadata": {},
   "source": [
    "### Pick Sampling"
   ]
  },
  {
   "cell_type": "code",
   "execution_count": 1,
   "metadata": {},
   "outputs": [
    {
     "data": {
      "text/html": [
       "   <div id=\"40odB8\"></div>\n",
       "   <script type=\"text/javascript\" data-lets-plot-script=\"library\">\n",
       "       if(!window.letsPlotCallQueue) {\n",
       "           window.letsPlotCallQueue = [];\n",
       "       }; \n",
       "       window.letsPlotCall = function(f) {\n",
       "           window.letsPlotCallQueue.push(f);\n",
       "       };\n",
       "       (function() {\n",
       "           var script = document.createElement(\"script\");\n",
       "           script.type = \"text/javascript\";\n",
       "           script.src = \"https://cdn.jsdelivr.net/gh/JetBrains/lets-plot@v2.2.1/js-package/distr/lets-plot.min.js\";\n",
       "           script.onload = function() {\n",
       "               window.letsPlotCall = function(f) {f();};\n",
       "               window.letsPlotCallQueue.forEach(function(f) {f();});\n",
       "               window.letsPlotCallQueue = [];\n",
       "               \n",
       "               \n",
       "           };\n",
       "           script.onerror = function(event) {\n",
       "               window.letsPlotCall = function(f) {};\n",
       "               window.letsPlotCallQueue = [];\n",
       "               var div = document.createElement(\"div\");\n",
       "               div.style.color = 'darkred';\n",
       "               div.textContent = 'Error loading Lets-Plot JS';\n",
       "               document.getElementById(\"40odB8\").appendChild(div);\n",
       "           };\n",
       "           var e = document.getElementById(\"40odB8\");\n",
       "           e.appendChild(script);\n",
       "       })();\n",
       "   </script>"
      ]
     },
     "metadata": {},
     "output_type": "display_data"
    }
   ],
   "source": [
    "%useLatestDescriptors\n",
    "%use lets-plot"
   ]
  },
  {
   "cell_type": "code",
   "execution_count": 2,
   "metadata": {},
   "outputs": [],
   "source": [
    "fun genWord(length:Int):String {\n",
    "    val letters = ('a'..'z')\n",
    "    return List(length) { letters.random() }.joinToString(\"\")\n",
    "}    \n",
    "\n",
    "fun genWordSet(n:Int):Set<String> {\n",
    "    val words = HashSet<String>()\n",
    "    while(words.size < n) {\n",
    "        words.add(genWord(5))\n",
    "    }\n",
    "    return words\n",
    "}\n",
    "\n",
    "fun data(n:Int, words:Set<String>):Map<String, *> {\n",
    "    return mapOf(\n",
    "            \"word\" to List(n) { words.random() },\n",
    "            \"g\" to List(n) { listOf('a','b','c').random() }\n",
    "        )\n",
    "}"
   ]
  },
  {
   "cell_type": "code",
   "execution_count": 3,
   "metadata": {},
   "outputs": [],
   "source": [
    "// Number of unique words exceeds threshold (50) of default 'pick' sampling on bar chart.\n",
    "val words = genWordSet(500)\n",
    "val dat = data(1000, words)\n",
    "val p = ggplot(dat) { x = \"word\" }"
   ]
  },
  {
   "cell_type": "code",
   "execution_count": 4,
   "metadata": {},
   "outputs": [
    {
     "data": {
      "text/html": [
       "   <div id=\"ZZszHh\"></div>\n",
       "   <script type=\"text/javascript\" data-lets-plot-script=\"plot\">\n",
       "       (function() {\n",
       "           var plotSpec={\n",
       "\"mapping\":{\n",
       "\"x\":\"word\"\n",
       "},\n",
       "\"data\":{\n",
       "},\n",
       "\"kind\":\"plot\",\n",
       "\"scales\":[],\n",
       "\"layers\":[{\n",
       "\"mapping\":{\n",
       "},\n",
       "\"stat\":\"count\",\n",
       "\"sampling\":\"none\",\n",
       "\"position\":\"stack\",\n",
       "\"geom\":\"bar\",\n",
       "\"data\":{\n",
       "\"..count..\":[2.0,2.0,2.0,3.0,1.0,3.0,2.0,3.0,1.0,3.0,2.0,3.0,4.0,1.0,3.0,3.0,4.0,4.0,5.0,2.0,3.0,3.0,5.0,2.0,2.0,3.0,1.0,5.0,1.0,1.0,2.0,1.0,2.0,2.0,2.0,3.0,5.0,4.0,2.0,2.0,2.0,4.0,5.0,3.0,2.0,2.0,3.0,4.0,1.0,5.0,4.0,2.0,2.0,1.0,3.0,4.0,1.0,2.0,1.0,3.0,5.0,5.0,1.0,1.0,3.0,4.0,3.0,2.0,3.0,1.0,2.0,5.0,2.0,3.0,3.0,3.0,2.0,5.0,4.0,5.0,3.0,4.0,5.0,4.0,4.0,2.0,3.0,3.0,2.0,6.0,5.0,1.0,2.0,1.0,3.0,4.0,2.0,2.0,5.0,2.0,2.0,2.0,4.0,3.0,2.0,2.0,4.0,3.0,1.0,2.0,2.0,4.0,4.0,4.0,3.0,3.0,4.0,1.0,4.0,7.0,3.0,2.0,4.0,2.0,4.0,2.0,2.0,3.0,5.0,4.0,2.0,1.0,3.0,2.0,3.0,3.0,3.0,2.0,1.0,3.0,2.0,6.0,2.0,2.0,1.0,5.0,4.0,2.0,2.0,3.0,3.0,3.0,2.0,5.0,2.0,3.0,4.0,2.0,1.0,1.0,2.0,2.0,5.0,1.0,1.0,2.0,2.0,3.0,1.0,2.0,3.0,3.0,3.0,2.0,1.0,3.0,3.0,3.0,3.0,3.0,2.0,2.0,5.0,3.0,3.0,2.0,4.0,1.0,3.0,4.0,1.0,1.0,1.0,4.0,2.0,2.0,4.0,2.0,1.0,2.0,4.0,3.0,3.0,2.0,4.0,4.0,2.0,3.0,4.0,3.0,1.0,3.0,4.0,3.0,3.0,2.0,2.0,3.0,5.0,1.0,2.0,3.0,1.0,2.0,2.0,1.0,2.0,3.0,3.0,2.0,1.0,4.0,3.0,2.0,3.0,1.0,2.0,3.0,2.0,2.0,4.0,1.0,1.0,2.0,4.0,1.0,2.0,2.0,2.0,1.0,2.0,2.0,1.0,3.0,2.0,3.0,1.0,3.0,1.0,3.0,2.0,2.0,2.0,1.0,3.0,2.0,1.0,1.0,1.0,1.0,3.0,3.0,1.0,2.0,2.0,2.0,3.0,3.0,2.0,1.0,1.0,1.0,1.0,3.0,2.0,5.0,2.0,1.0,2.0,2.0,1.0,1.0,1.0,2.0,1.0,1.0,5.0,1.0,1.0,3.0,2.0,2.0,3.0,1.0,2.0,4.0,1.0,2.0,1.0,5.0,2.0,3.0,3.0,2.0,1.0,2.0,5.0,2.0,1.0,1.0,1.0,2.0,2.0,4.0,1.0,2.0,1.0,2.0,2.0,1.0,3.0,1.0,1.0,3.0,2.0,3.0,1.0,3.0,1.0,3.0,2.0,2.0,3.0,2.0,1.0,1.0,2.0,2.0,2.0,4.0,1.0,3.0,3.0,3.0,2.0,1.0,1.0,3.0,2.0,2.0,2.0,3.0,2.0,3.0,1.0,1.0,2.0,1.0,3.0,2.0,2.0,2.0,3.0,2.0,2.0,3.0,2.0,2.0,3.0,2.0,4.0,2.0,1.0,2.0,1.0,2.0,1.0,1.0,1.0,1.0,1.0,1.0,1.0,2.0,2.0,1.0,1.0,2.0,1.0,1.0,1.0,1.0,1.0,2.0,1.0,1.0,1.0,2.0,1.0,2.0,1.0,2.0,1.0,2.0,2.0,1.0,1.0,2.0,1.0,1.0,1.0,1.0,1.0,1.0,1.0,1.0],\n",
       "\"word\":[\"picaw\",\"ewzup\",\"pfwnu\",\"wtikh\",\"euogv\",\"qxkrr\",\"suglx\",\"yuhvb\",\"lhkau\",\"ezsyd\",\"vmmfg\",\"dgkjy\",\"lrkvw\",\"fvhva\",\"hkqwy\",\"svebv\",\"dadyq\",\"nbiyd\",\"hkgel\",\"jraul\",\"wixmi\",\"yovie\",\"qnmar\",\"ovyro\",\"kdlxy\",\"ytjus\",\"ciyzp\",\"pnmvv\",\"focio\",\"abnrq\",\"hsbis\",\"qfbes\",\"esdkp\",\"mkodl\",\"xlpsl\",\"yqpna\",\"pkswm\",\"pfzfj\",\"dplwp\",\"elowp\",\"ckkew\",\"xbeoq\",\"smzrd\",\"xsedk\",\"ekzgi\",\"buzzk\",\"olffr\",\"gxmch\",\"hlias\",\"ehyqu\",\"cnfug\",\"thqbk\",\"vgzjv\",\"hcxon\",\"bntxm\",\"tlxoa\",\"ljbqh\",\"ccqdh\",\"wvlrl\",\"kugdx\",\"dubdi\",\"nbfvn\",\"ydinc\",\"arotd\",\"rmefr\",\"rlqpv\",\"utfdy\",\"yaghr\",\"lmpuw\",\"lwsov\",\"wukil\",\"uukfg\",\"qehas\",\"bpzcc\",\"gdyyk\",\"cwzyy\",\"irwom\",\"brzqk\",\"nrpaz\",\"puhls\",\"jfrhh\",\"baeuc\",\"veflc\",\"utudc\",\"fwsab\",\"nbhbi\",\"urlxl\",\"wojlx\",\"uvzdf\",\"wsxhs\",\"icrxv\",\"tejkl\",\"gmirg\",\"mrjnx\",\"atgrw\",\"hivqg\",\"plqdo\",\"hczet\",\"rvwcl\",\"wrkte\",\"acwgz\",\"jnajt\",\"hkqhk\",\"rjiwc\",\"hlyje\",\"lwwrt\",\"dhqvj\",\"hjvtj\",\"hknop\",\"usell\",\"jljcb\",\"epkex\",\"lkftd\",\"ertci\",\"qvhnc\",\"hcdzl\",\"wclrh\",\"wquxl\",\"wdzgm\",\"hcpdc\",\"agpnd\",\"uwedr\",\"scxcs\",\"etqlk\",\"erush\",\"quiuf\",\"fydow\",\"bnjyf\",\"xmxtu\",\"emjbb\",\"bxnhr\",\"vcvse\",\"kcwpu\",\"emexj\",\"fdmma\",\"pqtcu\",\"pnoui\",\"disjg\",\"paido\",\"tjomm\",\"azwja\",\"jtuoz\",\"nzxnb\",\"sqsqx\",\"zgbbw\",\"rkgiy\",\"regjz\",\"twnke\",\"dbrzd\",\"qenrc\",\"cbukn\",\"fxnko\",\"dtoeo\",\"eqnuo\",\"fifxf\",\"iglsd\",\"qjlna\",\"atwbv\",\"wgtrk\",\"gaatu\",\"mfnwt\",\"qlitw\",\"wtohv\",\"yvsgs\",\"njnif\",\"tkzhm\",\"bhjvy\",\"gyuyo\",\"pmrnc\",\"dlsla\",\"gfdhy\",\"haynz\",\"reray\",\"kaqhe\",\"husog\",\"coiqw\",\"gkmnz\",\"bpzey\",\"hbwtn\",\"ayooa\",\"qiccf\",\"jxyye\",\"pprhd\",\"ejkwn\",\"weelp\",\"boewp\",\"wvlwj\",\"gffki\",\"xtxym\",\"hsxrt\",\"cprht\",\"alghw\",\"fkopy\",\"etsoz\",\"tasds\",\"hpzhb\",\"gtmln\",\"oercu\",\"snsen\",\"edoml\",\"mfthe\",\"evcnr\",\"morei\",\"cqqsk\",\"axpsk\",\"nhjbt\",\"qowtq\",\"hqpoz\",\"bymup\",\"tlbbh\",\"trvch\",\"hrosh\",\"wbzfs\",\"morjk\",\"zcrxx\",\"gyshh\",\"hpeii\",\"ioeuu\",\"iiflv\",\"xtjio\",\"nugfh\",\"jihlr\",\"dizrf\",\"rwftv\",\"vwoty\",\"fdqwf\",\"cozeg\",\"xubsj\",\"tvagf\",\"jwohd\",\"xjyho\",\"xkgpu\",\"qsenh\",\"lbxue\",\"jyicc\",\"xohjw\",\"hbcax\",\"vcato\",\"fusag\",\"erjut\",\"qeeyy\",\"ancwy\",\"uebxc\",\"vfvjs\",\"ipiag\",\"fsfuf\",\"ghtfo\",\"cvxln\",\"yhzhu\",\"anwwr\",\"xdirz\",\"buqwm\",\"hemnu\",\"zoske\",\"uuwrt\",\"jzvln\",\"wqgox\",\"nxfia\",\"jouyo\",\"elppk\",\"mppwr\",\"fistm\",\"vwyrr\",\"crfxm\",\"aeiiw\",\"aevfa\",\"rkbyl\",\"satmh\",\"ekkyk\",\"oorov\",\"yckqa\",\"pstaj\",\"uzoqk\",\"qqhbs\",\"fphwg\",\"lupib\",\"gecnr\",\"ozsxk\",\"dbgtl\",\"dqgkl\",\"cqmqj\",\"dxhbc\",\"pziym\",\"vxgwq\",\"gmdxe\",\"skcic\",\"schtb\",\"ycmvd\",\"jxyux\",\"mlqus\",\"acskz\",\"phdll\",\"higse\",\"euczr\",\"kbtef\",\"fgotw\",\"kugjv\",\"solle\",\"mgnqi\",\"ivmdq\",\"esurb\",\"wcrpu\",\"dcnsq\",\"avitv\",\"ufppp\",\"smvva\",\"cnovd\",\"puzjv\",\"amuho\",\"jvslv\",\"mzhcs\",\"opknt\",\"bpubt\",\"dawgm\",\"bgesl\",\"znldn\",\"ajnnc\",\"acxcz\",\"pfhhc\",\"ioglp\",\"otgmc\",\"sxnny\",\"wzskn\",\"nypsm\",\"uequn\",\"ilnyo\",\"lbltu\",\"wcohs\",\"flgaa\",\"mrcgo\",\"jfngs\",\"qfvjx\",\"wvfcn\",\"shpfk\",\"fefjj\",\"yqgrn\",\"cwwuj\",\"ovfek\",\"fxhwe\",\"ayrvl\",\"kqmwk\",\"obrno\",\"pswsj\",\"bfsco\",\"htgsh\",\"xxsdp\",\"zbilc\",\"covuz\",\"xwdxh\",\"ljgil\",\"iqaiy\",\"czyhp\",\"kuwvu\",\"pkttk\",\"trjvi\",\"myfvp\",\"znpks\",\"yfenx\",\"voeua\",\"lqanl\",\"yfcga\",\"jpifr\",\"giift\",\"rlllv\",\"rhbat\",\"ciznk\",\"oisog\",\"fmcge\",\"kafvg\",\"xbsan\",\"zozxu\",\"rbaug\",\"hlcde\",\"zxnxp\",\"mvbtt\",\"jxcxd\",\"ixqiu\",\"tyqkn\",\"gbcoj\",\"lrnyh\",\"lefle\",\"kbsxr\",\"lpcdb\",\"lkack\",\"xfwhm\",\"gyhzg\",\"dpokd\",\"aprlm\",\"zyklv\",\"dfhps\",\"lillg\",\"xotic\",\"vhrxn\",\"jofwf\",\"zcahr\",\"hebyq\",\"bkkhy\",\"utibj\",\"trupb\",\"xtinq\",\"rmqxt\",\"vtovq\",\"vsnhp\",\"imxjk\",\"tasye\",\"joyqv\",\"qstkc\",\"rezgh\",\"fnsbu\",\"ejiyn\",\"wreel\",\"pdzmw\",\"vxshv\",\"bhwew\",\"gnegy\",\"vkibi\",\"shazx\",\"xfpqd\",\"qragg\",\"svidt\",\"jsdvb\",\"uykdx\",\"ddyjx\",\"wdxsc\",\"lsgrc\",\"qggxz\"]\n",
       "}\n",
       "}]\n",
       "};\n",
       "           var plotContainer = document.getElementById(\"ZZszHh\");\n",
       "           window.letsPlotCall(function() {{\n",
       "               LetsPlot.buildPlotFromProcessedSpecs(plotSpec, -1, -1, plotContainer);\n",
       "           }});\n",
       "       })();    \n",
       "   </script>"
      ]
     },
     "execution_count": 4,
     "metadata": {},
     "output_type": "execute_result"
    }
   ],
   "source": [
    "// Disable sampling to see the overplotting.\n",
    "p + geomBar(sampling = samplingNone)"
   ]
  },
  {
   "cell_type": "code",
   "execution_count": 5,
   "metadata": {},
   "outputs": [
    {
     "data": {
      "text/html": [
       "   <div id=\"5QwpnY\"></div>\n",
       "   <script type=\"text/javascript\" data-lets-plot-script=\"plot\">\n",
       "       (function() {\n",
       "           var plotSpec={\n",
       "\"mapping\":{\n",
       "\"x\":\"word\"\n",
       "},\n",
       "\"data\":{\n",
       "},\n",
       "\"kind\":\"plot\",\n",
       "\"scales\":[],\n",
       "\"layers\":[{\n",
       "\"mapping\":{\n",
       "},\n",
       "\"stat\":\"count\",\n",
       "\"position\":\"stack\",\n",
       "\"geom\":\"bar\",\n",
       "\"data\":{\n",
       "\"..count..\":[2.0,2.0,2.0,3.0,1.0,3.0,2.0,3.0,1.0,3.0,2.0,3.0,4.0,1.0,3.0,3.0,4.0,4.0,5.0,2.0,3.0,3.0,5.0,2.0,2.0,3.0,1.0,5.0,1.0,1.0,2.0,1.0,2.0,2.0,2.0,3.0,5.0,4.0,2.0,2.0,2.0,4.0,5.0,3.0,2.0,2.0,3.0,4.0,1.0,5.0],\n",
       "\"word\":[\"picaw\",\"ewzup\",\"pfwnu\",\"wtikh\",\"euogv\",\"qxkrr\",\"suglx\",\"yuhvb\",\"lhkau\",\"ezsyd\",\"vmmfg\",\"dgkjy\",\"lrkvw\",\"fvhva\",\"hkqwy\",\"svebv\",\"dadyq\",\"nbiyd\",\"hkgel\",\"jraul\",\"wixmi\",\"yovie\",\"qnmar\",\"ovyro\",\"kdlxy\",\"ytjus\",\"ciyzp\",\"pnmvv\",\"focio\",\"abnrq\",\"hsbis\",\"qfbes\",\"esdkp\",\"mkodl\",\"xlpsl\",\"yqpna\",\"pkswm\",\"pfzfj\",\"dplwp\",\"elowp\",\"ckkew\",\"xbeoq\",\"smzrd\",\"xsedk\",\"ekzgi\",\"buzzk\",\"olffr\",\"gxmch\",\"hlias\",\"ehyqu\"]\n",
       "}\n",
       "}],\n",
       "\"computation_messages\":[\"sampling_pick(n=50) was applied to [bar/count stat] layer\"]\n",
       "};\n",
       "           var plotContainer = document.getElementById(\"5QwpnY\");\n",
       "           window.letsPlotCall(function() {{\n",
       "               LetsPlot.buildPlotFromProcessedSpecs(plotSpec, -1, -1, plotContainer);\n",
       "           }});\n",
       "       })();    \n",
       "   </script>"
      ]
     },
     "execution_count": 5,
     "metadata": {},
     "output_type": "execute_result"
    }
   ],
   "source": [
    "// Draw plot with default sampling.\n",
    "p + geomBar()"
   ]
  },
  {
   "cell_type": "code",
   "execution_count": 6,
   "metadata": {},
   "outputs": [
    {
     "data": {
      "text/html": [
       "   <div id=\"mTXPsi\"></div>\n",
       "   <script type=\"text/javascript\" data-lets-plot-script=\"plot\">\n",
       "       (function() {\n",
       "           var plotSpec={\n",
       "\"mapping\":{\n",
       "\"x\":\"word\"\n",
       "},\n",
       "\"data\":{\n",
       "},\n",
       "\"kind\":\"plot\",\n",
       "\"scales\":[],\n",
       "\"layers\":[{\n",
       "\"mapping\":{\n",
       "\"fill\":\"g\"\n",
       "},\n",
       "\"stat\":\"count\",\n",
       "\"position\":\"stack\",\n",
       "\"geom\":\"bar\",\n",
       "\"data\":{\n",
       "\"..count..\":[2.0,1.0,1.0,1.0,1.0,2.0,1.0,1.0,1.0,1.0,1.0,1.0,1.0,3.0,1.0,1.0,1.0,2.0,1.0,1.0,2.0,3.0,1.0,3.0,1.0,3.0,1.0,1.0,1.0,2.0,3.0,3.0,1.0,1.0,1.0,3.0,1.0,1.0,1.0,1.0,1.0,1.0,1.0,1.0,1.0,1.0,2.0,1.0,1.0,1.0,2.0,1.0,1.0,2.0,2.0,2.0,2.0,1.0,2.0,1.0,1.0,1.0,1.0,1.0,1.0,1.0,1.0,2.0,2.0,2.0,3.0,1.0,1.0,1.0,1.0,1.0,1.0,1.0,1.0,1.0,1.0,2.0,1.0,1.0,1.0,1.0,3.0,3.0,1.0,2.0,1.0,1.0,2.0,1.0,1.0,1.0,2.0,1.0,1.0,1.0,1.0,1.0,1.0,1.0,1.0,1.0],\n",
       "\"g\":[\"c\",\"c\",\"c\",\"c\",\"c\",\"c\",\"c\",\"c\",\"c\",\"c\",\"c\",\"c\",\"c\",\"c\",\"c\",\"c\",\"c\",\"c\",\"c\",\"c\",\"c\",\"c\",\"c\",\"c\",\"c\",\"c\",\"c\",\"c\",\"c\",\"c\",\"c\",\"c\",\"c\",\"c\",\"c\",\"c\",\"c\",\"c\",\"c\",\"c\",\"c\",\"c\",\"c\",\"c\",\"c\",\"c\",\"c\",\"c\",\"c\",\"c\",\"a\",\"a\",\"a\",\"a\",\"a\",\"a\",\"a\",\"a\",\"a\",\"a\",\"a\",\"a\",\"a\",\"a\",\"a\",\"a\",\"a\",\"a\",\"a\",\"a\",\"a\",\"a\",\"a\",\"a\",\"a\",\"a\",\"a\",\"a\",\"a\",\"a\",\"b\",\"b\",\"b\",\"b\",\"b\",\"b\",\"b\",\"b\",\"b\",\"b\",\"b\",\"b\",\"b\",\"b\",\"b\",\"b\",\"b\",\"b\",\"b\",\"b\",\"b\",\"b\",\"b\",\"b\",\"b\",\"b\"],\n",
       "\"word\":[\"picaw\",\"euogv\",\"qxkrr\",\"yuhvb\",\"lhkau\",\"vmmfg\",\"dgkjy\",\"hkqwy\",\"ezsyd\",\"svebv\",\"qnmar\",\"ovyro\",\"kdlxy\",\"ytjus\",\"focio\",\"mkodl\",\"yqpna\",\"pkswm\",\"dplwp\",\"elowp\",\"cnfug\",\"tlxoa\",\"ljbqh\",\"dubdi\",\"nbfvn\",\"uukfg\",\"bpzcc\",\"gdyyk\",\"cwzyy\",\"puhls\",\"jfrhh\",\"baeuc\",\"utudc\",\"nbhbi\",\"uvzdf\",\"atgrw\",\"hczet\",\"rvwcl\",\"hknop\",\"jljcb\",\"ertci\",\"qvhnc\",\"wquxl\",\"agpnd\",\"scxcs\",\"fydow\",\"emjbb\",\"bxnhr\",\"suglx\",\"rmefr\",\"ezsyd\",\"rmefr\",\"baeuc\",\"puhls\",\"qnmar\",\"gdyyk\",\"cnfug\",\"hkqwy\",\"yqpna\",\"nbfvn\",\"yuhvb\",\"bpzcc\",\"agpnd\",\"dplwp\",\"pkswm\",\"ovyro\",\"uukfg\",\"qxkrr\",\"svebv\",\"ertci\",\"rvwcl\",\"dubdi\",\"cwzyy\",\"fydow\",\"nbhbi\",\"elowp\",\"utudc\",\"mkodl\",\"dgkjy\",\"qvhnc\",\"suglx\",\"pkswm\",\"rmefr\",\"cwzyy\",\"dgkjy\",\"agpnd\",\"nbfvn\",\"scxcs\",\"dubdi\",\"emjbb\",\"tlxoa\",\"hkqwy\",\"utudc\",\"qvhnc\",\"rvwcl\",\"bxnhr\",\"qnmar\",\"hczet\",\"ertci\",\"bpzcc\",\"yuhvb\",\"jljcb\",\"uukfg\",\"puhls\",\"uvzdf\",\"kdlxy\"]\n",
       "}\n",
       "}],\n",
       "\"computation_messages\":[\"sampling_pick(n=50) was applied to [bar/count stat] layer\"]\n",
       "};\n",
       "           var plotContainer = document.getElementById(\"mTXPsi\");\n",
       "           window.letsPlotCall(function() {{\n",
       "               LetsPlot.buildPlotFromProcessedSpecs(plotSpec, -1, -1, plotContainer);\n",
       "           }});\n",
       "       })();    \n",
       "   </script>"
      ]
     },
     "execution_count": 6,
     "metadata": {},
     "output_type": "execute_result"
    }
   ],
   "source": [
    "// 'pick' sampling preserves groups on bar chart.\n",
    "p + geomBar { fill=\"g\" }"
   ]
  },
  {
   "cell_type": "code",
   "execution_count": 7,
   "metadata": {},
   "outputs": [
    {
     "data": {
      "text/html": [
       "   <div id=\"Ul40qU\"></div>\n",
       "   <script type=\"text/javascript\" data-lets-plot-script=\"plot\">\n",
       "       (function() {\n",
       "           var plotSpec={\n",
       "\"mapping\":{\n",
       "\"x\":\"word\"\n",
       "},\n",
       "\"data\":{\n",
       "},\n",
       "\"kind\":\"plot\",\n",
       "\"scales\":[],\n",
       "\"layers\":[{\n",
       "\"mapping\":{\n",
       "\"x\":\"@as_discrete@word\",\n",
       "\"fill\":\"g\"\n",
       "},\n",
       "\"stat\":\"count\",\n",
       "\"position\":\"stack\",\n",
       "\"geom\":\"bar\",\n",
       "\"data_meta\":{\n",
       "\"mapping_annotations\":[{\n",
       "\"aes\":\"x\",\n",
       "\"annotation\":\"as_discrete\",\n",
       "\"parameters\":{\n",
       "\"label\":\"word\",\n",
       "\"order_by\":\"..count..\"\n",
       "}\n",
       "}]\n",
       "},\n",
       "\"data\":{\n",
       "\"..count..\":[1.0,2.0,3.0,1.0,3.0,2.0,1.0,1.0,2.0,2.0,2.0,3.0,4.0,2.0,2.0,1.0,1.0,2.0,3.0,3.0,1.0,1.0,3.0,2.0,4.0,1.0,1.0,2.0,1.0,2.0,2.0,2.0,2.0,2.0,2.0,1.0,1.0,1.0,1.0,1.0,1.0,4.0,3.0,2.0,1.0,2.0,2.0,3.0,1.0,2.0,1.0,3.0,1.0,2.0,1.0,1.0,2.0,2.0,2.0,3.0,1.0,1.0,1.0,1.0,1.0,2.0,3.0,2.0,1.0,2.0,1.0,3.0,3.0,1.0,1.0,2.0,3.0,1.0,1.0,2.0,1.0,1.0,2.0,2.0,2.0,2.0,1.0,1.0,3.0,4.0,4.0,3.0,1.0,3.0,1.0,2.0,3.0,1.0,2.0,3.0,1.0,2.0,4.0,3.0,2.0,2.0,1.0,1.0,2.0,3.0,2.0,2.0,1.0,2.0,2.0,1.0,1.0,1.0,1.0,2.0,1.0,1.0,1.0,1.0,1.0,1.0,1.0],\n",
       "\"@as_discrete@word\":[\"qnmar\",\"pkswm\",\"dubdi\",\"nbfvn\",\"uukfg\",\"puhls\",\"rvwcl\",\"scxcs\",\"emjbb\",\"jtuoz\",\"regjz\",\"ehyqu\",\"eqnuo\",\"wtohv\",\"brzqk\",\"veflc\",\"mfthe\",\"wvlwj\",\"iiflv\",\"xkgpu\",\"hkgel\",\"skcic\",\"hcpdc\",\"qjlna\",\"kugjv\",\"pprhd\",\"wsxhs\",\"smzrd\",\"nypsm\",\"erush\",\"gtmln\",\"hsxrt\",\"axpsk\",\"xmxtu\",\"ipiag\",\"bymup\",\"icrxv\",\"nhjbt\",\"smvva\",\"ljgil\",\"qeeyy\",\"hkgel\",\"pnmvv\",\"brzqk\",\"wsxhs\",\"puhls\",\"qnmar\",\"wclrh\",\"erush\",\"xmxtu\",\"qjlna\",\"pprhd\",\"smzrd\",\"gtmln\",\"ehyqu\",\"nbfvn\",\"axpsk\",\"nhjbt\",\"jtuoz\",\"veflc\",\"wvlwj\",\"pkswm\",\"regjz\",\"uukfg\",\"kugjv\",\"smvva\",\"jvslv\",\"rkgiy\",\"skcic\",\"ljgil\",\"mfthe\",\"rvwcl\",\"wtohv\",\"dubdi\",\"etsoz\",\"nypsm\",\"ajnnc\",\"bymup\",\"icrxv\",\"wbzfs\",\"xkgpu\",\"iiflv\",\"lefle\",\"pnmvv\",\"smzrd\",\"pkswm\",\"ehyqu\",\"veflc\",\"icrxv\",\"wdzgm\",\"hcpdc\",\"rkgiy\",\"eqnuo\",\"nbfvn\",\"wvlwj\",\"hsxrt\",\"etsoz\",\"qjlna\",\"bymup\",\"scxcs\",\"dubdi\",\"wbzfs\",\"wsxhs\",\"qeeyy\",\"ipiag\",\"emjbb\",\"pprhd\",\"rvwcl\",\"ajnnc\",\"skcic\",\"jtuoz\",\"qnmar\",\"xmxtu\",\"jvslv\",\"mfthe\",\"brzqk\",\"nhjbt\",\"nypsm\",\"uukfg\",\"lefle\",\"ljgil\",\"regjz\",\"puhls\",\"wclrh\",\"erush\",\"smvva\",\"iiflv\"],\n",
       "\"g\":[\"c\",\"c\",\"c\",\"c\",\"c\",\"c\",\"c\",\"c\",\"c\",\"c\",\"c\",\"c\",\"c\",\"c\",\"c\",\"c\",\"c\",\"c\",\"c\",\"c\",\"c\",\"c\",\"c\",\"c\",\"c\",\"c\",\"c\",\"c\",\"c\",\"c\",\"c\",\"c\",\"c\",\"c\",\"c\",\"c\",\"c\",\"c\",\"c\",\"c\",\"c\",\"a\",\"a\",\"a\",\"a\",\"a\",\"a\",\"a\",\"a\",\"a\",\"a\",\"a\",\"a\",\"a\",\"a\",\"a\",\"a\",\"a\",\"a\",\"a\",\"a\",\"a\",\"a\",\"a\",\"a\",\"a\",\"a\",\"a\",\"a\",\"a\",\"a\",\"a\",\"a\",\"a\",\"a\",\"a\",\"a\",\"a\",\"a\",\"a\",\"a\",\"a\",\"a\",\"b\",\"b\",\"b\",\"b\",\"b\",\"b\",\"b\",\"b\",\"b\",\"b\",\"b\",\"b\",\"b\",\"b\",\"b\",\"b\",\"b\",\"b\",\"b\",\"b\",\"b\",\"b\",\"b\",\"b\",\"b\",\"b\",\"b\",\"b\",\"b\",\"b\",\"b\",\"b\",\"b\",\"b\",\"b\",\"b\",\"b\",\"b\",\"b\",\"b\",\"b\",\"b\",\"b\",\"b\"]\n",
       "}\n",
       "}],\n",
       "\"computation_messages\":[\"sampling_pick(n=50) was applied to [bar/count stat] layer\"]\n",
       "};\n",
       "           var plotContainer = document.getElementById(\"Ul40qU\");\n",
       "           window.letsPlotCall(function() {{\n",
       "               LetsPlot.buildPlotFromProcessedSpecs(plotSpec, -1, -1, plotContainer);\n",
       "           }});\n",
       "       })();    \n",
       "   </script>"
      ]
     },
     "execution_count": 7,
     "metadata": {},
     "output_type": "execute_result"
    }
   ],
   "source": [
    "// Orgering words by `count` might be a good idea.\n",
    "p + geomBar {\n",
    "    fill = \"g\"\n",
    "    x = asDiscrete(\"word\", orderBy = \"..count..\")\n",
    "}"
   ]
  }
 ],
 "metadata": {
  "kernelspec": {
   "display_name": "Kotlin",
   "language": "kotlin",
   "name": "kotlin"
  },
  "language_info": {
   "codemirror_mode": "text/x-kotlin",
   "file_extension": ".kt",
   "mimetype": "text/x-kotlin",
   "name": "kotlin",
   "nbconvert_exporter": "",
   "pygments_lexer": "kotlin",
   "version": "1.6.20-dev-6372"
  }
 },
 "nbformat": 4,
 "nbformat_minor": 4
}
