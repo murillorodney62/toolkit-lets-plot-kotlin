{
 "cells": [
  {
   "cell_type": "markdown",
   "metadata": {},
   "source": [
    "### Pick Sampling"
   ]
  },
  {
   "cell_type": "code",
   "execution_count": 1,
   "metadata": {},
   "outputs": [
    {
     "data": {
      "text/html": [
       "   <div id=\"LPY4nD\"></div>\n",
       "   <script type=\"text/javascript\" data-lets-plot-script=\"library\">\n",
       "       if(!window.letsPlotCallQueue) {\n",
       "           window.letsPlotCallQueue = [];\n",
       "       }; \n",
       "       window.letsPlotCall = function(f) {\n",
       "           window.letsPlotCallQueue.push(f);\n",
       "       };\n",
       "       (function() {\n",
       "           var script = document.createElement(\"script\");\n",
       "           script.type = \"text/javascript\";\n",
       "           script.src = \"https://cdn.jsdelivr.net/gh/JetBrains/lets-plot@v2.4.0/js-package/distr/lets-plot.min.js\";\n",
       "           script.onload = function() {\n",
       "               window.letsPlotCall = function(f) {f();};\n",
       "               window.letsPlotCallQueue.forEach(function(f) {f();});\n",
       "               window.letsPlotCallQueue = [];\n",
       "               \n",
       "               \n",
       "           };\n",
       "           script.onerror = function(event) {\n",
       "               window.letsPlotCall = function(f) {};\n",
       "               window.letsPlotCallQueue = [];\n",
       "               var div = document.createElement(\"div\");\n",
       "               div.style.color = 'darkred';\n",
       "               div.textContent = 'Error loading Lets-Plot JS';\n",
       "               document.getElementById(\"LPY4nD\").appendChild(div);\n",
       "           };\n",
       "           var e = document.getElementById(\"LPY4nD\");\n",
       "           e.appendChild(script);\n",
       "       })();\n",
       "   </script>"
      ]
     },
     "metadata": {},
     "output_type": "display_data"
    }
   ],
   "source": [
    "%useLatestDescriptors\n",
    "%use lets-plot"
   ]
  },
  {
   "cell_type": "code",
   "execution_count": 2,
   "metadata": {},
   "outputs": [],
   "source": [
    "fun genWord(length:Int):String {\n",
    "    val letters = ('a'..'z')\n",
    "    return List(length) { letters.random() }.joinToString(\"\")\n",
    "}    \n",
    "\n",
    "fun genWordSet(n:Int):Set<String> {\n",
    "    val words = HashSet<String>()\n",
    "    while(words.size < n) {\n",
    "        words.add(genWord(5))\n",
    "    }\n",
    "    return words\n",
    "}\n",
    "\n",
    "fun data(n:Int, words:Set<String>):Map<String, *> {\n",
    "    return mapOf(\n",
    "            \"word\" to List(n) { words.random() },\n",
    "            \"g\" to List(n) { listOf('a','b','c').random() }\n",
    "        )\n",
    "}"
   ]
  },
  {
   "cell_type": "code",
   "execution_count": 3,
   "metadata": {},
   "outputs": [],
   "source": [
    "// Number of unique words exceeds threshold (50) of default 'pick' sampling on bar chart.\n",
    "val words = genWordSet(500)\n",
    "val dat = data(1000, words)\n",
    "val p = ggplot(dat) { x = \"word\" }"
   ]
  },
  {
   "cell_type": "code",
   "execution_count": 4,
   "metadata": {},
   "outputs": [
    {
     "data": {
      "text/html": [
       "   <div id=\"rcNutg\"></div>\n",
       "   <script type=\"text/javascript\" data-lets-plot-script=\"plot\">\n",
       "       (function() {\n",
       "           var plotSpec={\n",
       "\"mapping\":{\n",
       "\"x\":\"word\"\n",
       "},\n",
       "\"data\":{\n",
       "},\n",
       "\"kind\":\"plot\",\n",
       "\"scales\":[],\n",
       "\"layers\":[{\n",
       "\"mapping\":{\n",
       "},\n",
       "\"stat\":\"count\",\n",
       "\"sampling\":\"none\",\n",
       "\"position\":\"stack\",\n",
       "\"geom\":\"bar\",\n",
       "\"data\":{\n",
       "\"..count..\":[4.0,3.0,3.0,3.0,4.0,6.0,3.0,4.0,1.0,6.0,4.0,4.0,6.0,2.0,2.0,2.0,4.0,5.0,1.0,4.0,3.0,6.0,4.0,3.0,3.0,1.0,2.0,2.0,5.0,5.0,1.0,4.0,4.0,3.0,3.0,2.0,6.0,4.0,2.0,2.0,2.0,4.0,1.0,2.0,4.0,5.0,3.0,2.0,5.0,2.0,2.0,5.0,1.0,5.0,3.0,2.0,2.0,4.0,1.0,4.0,2.0,3.0,3.0,1.0,5.0,4.0,4.0,1.0,2.0,3.0,3.0,5.0,2.0,2.0,3.0,5.0,1.0,2.0,2.0,3.0,5.0,2.0,4.0,2.0,2.0,2.0,4.0,2.0,3.0,4.0,2.0,5.0,3.0,4.0,3.0,2.0,2.0,4.0,3.0,5.0,5.0,2.0,1.0,2.0,2.0,4.0,4.0,1.0,2.0,3.0,2.0,2.0,3.0,3.0,4.0,4.0,5.0,3.0,1.0,3.0,3.0,1.0,1.0,5.0,3.0,3.0,3.0,2.0,2.0,4.0,2.0,1.0,5.0,2.0,3.0,3.0,5.0,2.0,1.0,3.0,4.0,4.0,5.0,2.0,3.0,2.0,3.0,2.0,4.0,3.0,3.0,3.0,1.0,3.0,1.0,2.0,2.0,3.0,1.0,2.0,3.0,3.0,2.0,4.0,2.0,2.0,3.0,4.0,2.0,2.0,4.0,5.0,3.0,2.0,3.0,3.0,2.0,3.0,2.0,2.0,3.0,1.0,1.0,1.0,2.0,4.0,1.0,3.0,1.0,3.0,4.0,2.0,2.0,2.0,1.0,1.0,2.0,3.0,1.0,4.0,3.0,2.0,1.0,5.0,2.0,6.0,4.0,3.0,4.0,2.0,1.0,1.0,1.0,2.0,2.0,1.0,4.0,2.0,4.0,4.0,3.0,1.0,1.0,2.0,2.0,2.0,1.0,2.0,4.0,1.0,1.0,2.0,2.0,1.0,3.0,2.0,4.0,2.0,3.0,1.0,1.0,1.0,3.0,1.0,1.0,3.0,3.0,2.0,4.0,4.0,1.0,3.0,2.0,1.0,1.0,4.0,1.0,3.0,1.0,2.0,4.0,1.0,1.0,3.0,1.0,4.0,2.0,2.0,1.0,2.0,4.0,2.0,1.0,1.0,1.0,1.0,1.0,1.0,2.0,3.0,1.0,3.0,3.0,3.0,3.0,1.0,1.0,2.0,4.0,2.0,2.0,5.0,5.0,1.0,3.0,2.0,3.0,1.0,5.0,1.0,3.0,1.0,2.0,3.0,3.0,2.0,4.0,1.0,2.0,5.0,2.0,2.0,1.0,2.0,1.0,2.0,2.0,2.0,1.0,1.0,1.0,4.0,1.0,1.0,2.0,1.0,1.0,3.0,1.0,2.0,1.0,1.0,3.0,1.0,3.0,1.0,1.0,2.0,3.0,1.0,2.0,2.0,2.0,3.0,1.0,2.0,1.0,1.0,1.0,1.0,1.0,3.0,1.0,3.0,3.0,2.0,1.0,4.0,2.0,1.0,2.0,1.0,1.0,1.0,2.0,2.0,1.0,1.0,1.0,3.0,1.0,1.0,1.0,1.0,2.0,1.0,1.0,1.0,1.0,1.0,1.0,1.0,3.0,2.0,1.0,2.0,1.0,1.0,1.0,1.0,1.0,2.0,1.0,2.0,2.0,1.0,1.0,1.0,2.0,1.0,1.0,1.0,1.0,2.0,3.0,1.0,1.0,1.0,1.0,2.0,1.0,1.0,1.0,1.0,1.0,1.0,1.0,1.0,1.0,1.0,1.0,1.0,1.0,1.0,2.0,1.0,1.0,1.0],\n",
       "\"word\":[\"zexqa\",\"dqodd\",\"mcxuq\",\"kwtrl\",\"kfaeq\",\"iytcy\",\"wwwxw\",\"xvnmd\",\"llmlr\",\"rsaqd\",\"tlxea\",\"vdgpq\",\"fwyhi\",\"yirnp\",\"mubzi\",\"ahecf\",\"nikmu\",\"kehoj\",\"ysqhc\",\"khazs\",\"vhfln\",\"hwfho\",\"kduba\",\"asxfh\",\"dldpd\",\"jiido\",\"cqejv\",\"ynwua\",\"qlxyr\",\"iighz\",\"pafrs\",\"ghajy\",\"aepnw\",\"kihcc\",\"izqag\",\"tellz\",\"oosyt\",\"iaroc\",\"mdrre\",\"ipsuc\",\"wspxz\",\"obzyg\",\"cyldw\",\"ipnow\",\"limfz\",\"dzzhe\",\"jythe\",\"ibcaj\",\"urdrj\",\"xqhqk\",\"efiat\",\"hzmtj\",\"beuju\",\"wmgeu\",\"zrqww\",\"bbxae\",\"iayzq\",\"uzrnz\",\"jfkax\",\"fsuld\",\"aeuio\",\"vnjhr\",\"imsro\",\"agyzn\",\"hrlau\",\"socgx\",\"yllcc\",\"jnbfr\",\"xbjei\",\"rzdaz\",\"yhkwl\",\"qelvj\",\"fefrn\",\"fpazk\",\"fiiyl\",\"mqrhg\",\"fymqa\",\"avdxe\",\"tuikq\",\"dzukg\",\"zsyqi\",\"xjfbf\",\"izlhm\",\"aucow\",\"xcufd\",\"plvpx\",\"rpzjh\",\"fprgk\",\"jbogf\",\"kcoxt\",\"emikz\",\"cmsxo\",\"nsayn\",\"gesmo\",\"ciylb\",\"jszpg\",\"fiopv\",\"uejzv\",\"rsdib\",\"csiqa\",\"eaphf\",\"ldibm\",\"qezyw\",\"cgpqe\",\"umexb\",\"hqtfq\",\"bzpzi\",\"gunge\",\"rcbmv\",\"gjlcq\",\"pklue\",\"vawze\",\"sxlql\",\"jbjxt\",\"ajypk\",\"vlcuh\",\"eiced\",\"cgoyo\",\"wfckg\",\"jbhlp\",\"mfsgk\",\"qgean\",\"rkdqm\",\"zxpxc\",\"rhvxn\",\"niajn\",\"igens\",\"cmset\",\"haanv\",\"isgjm\",\"dhrui\",\"nhskr\",\"htriq\",\"wcixy\",\"aoory\",\"qawmj\",\"pihij\",\"ifmcd\",\"lgmcs\",\"deuul\",\"ytcwv\",\"jjryr\",\"kitcg\",\"wkwer\",\"gskjy\",\"vjond\",\"hxxxy\",\"eginx\",\"daqwc\",\"ywbpf\",\"ixzcx\",\"aildr\",\"xbqtz\",\"cqdof\",\"fveyx\",\"ffgxl\",\"luucw\",\"pjqyn\",\"uwavh\",\"tmcjv\",\"bxyda\",\"fnxkw\",\"aezor\",\"kffmk\",\"hnsfk\",\"zgxqc\",\"mawdz\",\"wbssw\",\"ohysj\",\"fzyiy\",\"murxz\",\"oqsse\",\"murug\",\"drean\",\"slogh\",\"hxrul\",\"vfepp\",\"hadoq\",\"oqpmm\",\"gkxrz\",\"xpxuv\",\"furzc\",\"llspi\",\"kwanw\",\"bmnjd\",\"qyefe\",\"akwml\",\"jwqmb\",\"mfvya\",\"ecqqf\",\"itmsn\",\"bukqz\",\"qwxtm\",\"ytwdo\",\"fqyjk\",\"owqgb\",\"mwsdn\",\"kreaw\",\"ngzpi\",\"mhzdj\",\"kjluk\",\"ufgqv\",\"qhhhm\",\"ddiwl\",\"wovdw\",\"xyder\",\"hotad\",\"cicpa\",\"fjtcs\",\"ihcvt\",\"yguxm\",\"bwpka\",\"ejioz\",\"sxsoi\",\"xydhi\",\"cqwco\",\"ccjfl\",\"gihku\",\"ebwns\",\"twkhx\",\"pjoen\",\"shxhb\",\"ihsrf\",\"ubuvd\",\"sqlcy\",\"jrenq\",\"refme\",\"jzuxq\",\"kfxsr\",\"epbza\",\"kldxd\",\"nkdag\",\"efjhc\",\"wiwbn\",\"wohoy\",\"cgrzt\",\"mmlcq\",\"jtohj\",\"rlkmo\",\"bwdgi\",\"sywoc\",\"chqvi\",\"oskju\",\"otxxk\",\"vquvo\",\"blivl\",\"pfeqt\",\"fkurp\",\"ldjae\",\"lwyhm\",\"dmgod\",\"wshas\",\"ltpep\",\"hwqob\",\"rwxoz\",\"cptag\",\"kifht\",\"hoghi\",\"zonmx\",\"pozxi\",\"rroof\",\"czzqi\",\"kpdnl\",\"umnvp\",\"tyuaq\",\"gomdc\",\"hkoql\",\"gqdlq\",\"ahayq\",\"spzfp\",\"wbgiw\",\"fnszn\",\"nboqv\",\"itpxb\",\"bjzqv\",\"tyeto\",\"xlphz\",\"zsoxu\",\"psgdd\",\"vneaa\",\"yakyx\",\"ulzie\",\"eomrn\",\"psech\",\"txzaj\",\"umrgv\",\"dxlko\",\"gzcry\",\"wxlyu\",\"hatqb\",\"jdyst\",\"emsga\",\"xsuwg\",\"moxox\",\"drwrd\",\"zruwc\",\"nqevg\",\"ensui\",\"kweiz\",\"numje\",\"whcwq\",\"yozae\",\"jmdbh\",\"irism\",\"dhmft\",\"hpzyp\",\"udjml\",\"oicin\",\"xgshb\",\"kmsoq\",\"abmhe\",\"vppaf\",\"yanvk\",\"ilzbn\",\"nfunz\",\"hmlhh\",\"wfiki\",\"mcgbc\",\"brjbg\",\"ohybt\",\"iqfch\",\"owrbo\",\"ueqgj\",\"rtwaw\",\"novwx\",\"mbsyu\",\"jazbo\",\"whvhn\",\"evpbw\",\"epxjs\",\"akjup\",\"kapvi\",\"tnelm\",\"aewdy\",\"mquwb\",\"zcmtd\",\"zbnuz\",\"tgymn\",\"icoyd\",\"uoumi\",\"vscoz\",\"pfcqr\",\"fagqk\",\"ptjzg\",\"wbsbs\",\"vpfqo\",\"qkgui\",\"hgjzw\",\"mfdld\",\"dihau\",\"yqmmq\",\"klxls\",\"gcigo\",\"ybjbz\",\"cyjig\",\"ltdgs\",\"paarv\",\"zwvio\",\"cejgk\",\"bzxsx\",\"xugjj\",\"cumxv\",\"hhrsg\",\"rvvjf\",\"iiacq\",\"kfwbz\",\"yzonn\",\"wbglh\",\"azpaz\",\"ykcva\",\"xwotn\",\"aswtk\",\"nocyl\",\"yjmsu\",\"evufu\",\"aeuhp\",\"witub\",\"fliwq\",\"eqbbf\",\"irbda\",\"slnkc\",\"rqdmu\",\"tcspx\",\"xrrzq\",\"ewslq\",\"yiaod\",\"jmdsj\",\"kvyxg\",\"pkyvl\",\"ifwum\",\"fmbcz\",\"ftyoy\",\"agexz\",\"xxchq\",\"ysxrh\",\"fjglr\",\"yehhp\",\"dmsqt\",\"pubnl\",\"sxshh\",\"ulqks\",\"mvknq\",\"pojlp\",\"cpzzf\",\"ukodp\",\"fmmqh\",\"hbpgj\",\"nrgeg\",\"sznbm\",\"yfwdt\",\"vfczv\",\"mfdjr\",\"hrmsa\",\"cktop\",\"eqwia\",\"fiwwj\",\"qweyi\",\"tjzyl\",\"cmpvp\",\"vokxf\",\"wubcr\",\"ycmmy\",\"ytebr\",\"qhlpt\",\"qmvfe\",\"rxrjm\",\"msjzq\",\"bamjf\"]\n",
       "}\n",
       "}]\n",
       "};\n",
       "           var plotContainer = document.getElementById(\"rcNutg\");\n",
       "           window.letsPlotCall(function() {{\n",
       "               LetsPlot.buildPlotFromProcessedSpecs(plotSpec, -1, -1, plotContainer);\n",
       "           }});\n",
       "       })();    \n",
       "   </script>"
      ]
     },
     "execution_count": 4,
     "metadata": {},
     "output_type": "execute_result"
    }
   ],
   "source": [
    "// Disable sampling to see the overplotting.\n",
    "p + geomBar(sampling = samplingNone)"
   ]
  },
  {
   "cell_type": "code",
   "execution_count": 5,
   "metadata": {},
   "outputs": [
    {
     "data": {
      "text/html": [
       "   <div id=\"UsXdxu\"></div>\n",
       "   <script type=\"text/javascript\" data-lets-plot-script=\"plot\">\n",
       "       (function() {\n",
       "           var plotSpec={\n",
       "\"mapping\":{\n",
       "\"x\":\"word\"\n",
       "},\n",
       "\"data\":{\n",
       "},\n",
       "\"kind\":\"plot\",\n",
       "\"scales\":[],\n",
       "\"layers\":[{\n",
       "\"mapping\":{\n",
       "},\n",
       "\"stat\":\"count\",\n",
       "\"position\":\"stack\",\n",
       "\"geom\":\"bar\",\n",
       "\"data\":{\n",
       "\"..count..\":[4.0,3.0,3.0,3.0,4.0,6.0,3.0,4.0,1.0,6.0,4.0,4.0,6.0,2.0,2.0,2.0,4.0,5.0,1.0,4.0,3.0,6.0,4.0,3.0,3.0,1.0,2.0,2.0,5.0,5.0,1.0,4.0,4.0,3.0,3.0,2.0,6.0,4.0,2.0,2.0,2.0,4.0,1.0,2.0,4.0,5.0,3.0,2.0,5.0,2.0],\n",
       "\"word\":[\"zexqa\",\"dqodd\",\"mcxuq\",\"kwtrl\",\"kfaeq\",\"iytcy\",\"wwwxw\",\"xvnmd\",\"llmlr\",\"rsaqd\",\"tlxea\",\"vdgpq\",\"fwyhi\",\"yirnp\",\"mubzi\",\"ahecf\",\"nikmu\",\"kehoj\",\"ysqhc\",\"khazs\",\"vhfln\",\"hwfho\",\"kduba\",\"asxfh\",\"dldpd\",\"jiido\",\"cqejv\",\"ynwua\",\"qlxyr\",\"iighz\",\"pafrs\",\"ghajy\",\"aepnw\",\"kihcc\",\"izqag\",\"tellz\",\"oosyt\",\"iaroc\",\"mdrre\",\"ipsuc\",\"wspxz\",\"obzyg\",\"cyldw\",\"ipnow\",\"limfz\",\"dzzhe\",\"jythe\",\"ibcaj\",\"urdrj\",\"xqhqk\"]\n",
       "}\n",
       "}],\n",
       "\"computation_messages\":[\"sampling_pick(n=50) was applied to [bar/count stat] layer\"]\n",
       "};\n",
       "           var plotContainer = document.getElementById(\"UsXdxu\");\n",
       "           window.letsPlotCall(function() {{\n",
       "               LetsPlot.buildPlotFromProcessedSpecs(plotSpec, -1, -1, plotContainer);\n",
       "           }});\n",
       "       })();    \n",
       "   </script>"
      ]
     },
     "execution_count": 5,
     "metadata": {},
     "output_type": "execute_result"
    }
   ],
   "source": [
    "// Draw plot with default sampling.\n",
    "p + geomBar()"
   ]
  },
  {
   "cell_type": "code",
   "execution_count": 6,
   "metadata": {},
   "outputs": [
    {
     "data": {
      "text/html": [
       "   <div id=\"32sU7T\"></div>\n",
       "   <script type=\"text/javascript\" data-lets-plot-script=\"plot\">\n",
       "       (function() {\n",
       "           var plotSpec={\n",
       "\"mapping\":{\n",
       "\"x\":\"word\"\n",
       "},\n",
       "\"data\":{\n",
       "},\n",
       "\"kind\":\"plot\",\n",
       "\"scales\":[],\n",
       "\"layers\":[{\n",
       "\"mapping\":{\n",
       "\"fill\":\"g\"\n",
       "},\n",
       "\"stat\":\"count\",\n",
       "\"position\":\"stack\",\n",
       "\"geom\":\"bar\",\n",
       "\"data\":{\n",
       "\"..count..\":[1.0,1.0,1.0,2.0,1.0,2.0,1.0,1.0,1.0,2.0,3.0,2.0,2.0,1.0,1.0,1.0,2.0,1.0,1.0,2.0,1.0,2.0,3.0,1.0,3.0,2.0,1.0,4.0,1.0,2.0,1.0,3.0,1.0,1.0,3.0,1.0,2.0,1.0,1.0,1.0,1.0,2.0,1.0,1.0,1.0,1.0,1.0,1.0,2.0,1.0,2.0,1.0,3.0,1.0,2.0,2.0,2.0,1.0,1.0,2.0,2.0,2.0,1.0,1.0,3.0,1.0,1.0,1.0,1.0,1.0,1.0,2.0,1.0,1.0,1.0,2.0,2.0,1.0,2.0,1.0,2.0,2.0,2.0,1.0,1.0,1.0,1.0,1.0,1.0,1.0,1.0,1.0,2.0,1.0,1.0,1.0,1.0,2.0,2.0,1.0,1.0,1.0],\n",
       "\"g\":[\"a\",\"a\",\"a\",\"a\",\"a\",\"a\",\"a\",\"a\",\"a\",\"a\",\"a\",\"a\",\"a\",\"a\",\"a\",\"a\",\"a\",\"a\",\"a\",\"a\",\"a\",\"a\",\"a\",\"a\",\"a\",\"a\",\"a\",\"a\",\"a\",\"a\",\"a\",\"a\",\"a\",\"a\",\"a\",\"a\",\"a\",\"a\",\"a\",\"a\",\"a\",\"a\",\"a\",\"a\",\"a\",\"a\",\"a\",\"a\",\"a\",\"a\",\"c\",\"c\",\"c\",\"c\",\"c\",\"c\",\"c\",\"c\",\"c\",\"c\",\"c\",\"c\",\"c\",\"c\",\"c\",\"c\",\"c\",\"c\",\"c\",\"c\",\"c\",\"c\",\"c\",\"b\",\"b\",\"b\",\"b\",\"b\",\"b\",\"b\",\"b\",\"b\",\"b\",\"b\",\"b\",\"b\",\"b\",\"b\",\"b\",\"b\",\"b\",\"b\",\"b\",\"b\",\"b\",\"b\",\"b\",\"b\",\"b\",\"b\",\"b\",\"b\"],\n",
       "\"word\":[\"zexqa\",\"llmlr\",\"tlxea\",\"vdgpq\",\"mubzi\",\"vhfln\",\"kduba\",\"cqejv\",\"yirnp\",\"tellz\",\"oosyt\",\"iaroc\",\"ipsuc\",\"obzyg\",\"xqhqk\",\"jythe\",\"efiat\",\"bbxae\",\"iayzq\",\"aeuio\",\"qelvj\",\"fefrn\",\"fiiyl\",\"avdxe\",\"hwfho\",\"rpzjh\",\"fprgk\",\"kcoxt\",\"emikz\",\"cmsxo\",\"nsayn\",\"wmgeu\",\"jszpg\",\"fiopv\",\"uejzv\",\"ldibm\",\"hqtfq\",\"bzpzi\",\"izlhm\",\"rcbmv\",\"dldpd\",\"jbjxt\",\"ajypk\",\"vlcuh\",\"fsuld\",\"qgean\",\"rkdqm\",\"cmset\",\"haanv\",\"nhskr\",\"jythe\",\"fsuld\",\"tlxea\",\"iaroc\",\"oosyt\",\"vdgpq\",\"kduba\",\"fiopv\",\"cmsxo\",\"bzpzi\",\"vlcuh\",\"qelvj\",\"obzyg\",\"avdxe\",\"zexqa\",\"nsayn\",\"izlhm\",\"ajypk\",\"hqtfq\",\"cmset\",\"jbjxt\",\"hwfho\",\"iayzq\",\"yirnp\",\"hwfho\",\"dldpd\",\"wmgeu\",\"bbxae\",\"izlhm\",\"emikz\",\"rpzjh\",\"obzyg\",\"cmsxo\",\"iaroc\",\"jszpg\",\"fprgk\",\"ldibm\",\"nsayn\",\"cqejv\",\"vlcuh\",\"oosyt\",\"hqtfq\",\"ajypk\",\"vhfln\",\"kduba\",\"rcbmv\",\"bzpzi\",\"fsuld\",\"qelvj\",\"mubzi\",\"uejzv\",\"xqhqk\"]\n",
       "}\n",
       "}],\n",
       "\"computation_messages\":[\"sampling_pick(n=50) was applied to [bar/count stat] layer\"]\n",
       "};\n",
       "           var plotContainer = document.getElementById(\"32sU7T\");\n",
       "           window.letsPlotCall(function() {{\n",
       "               LetsPlot.buildPlotFromProcessedSpecs(plotSpec, -1, -1, plotContainer);\n",
       "           }});\n",
       "       })();    \n",
       "   </script>"
      ]
     },
     "execution_count": 6,
     "metadata": {},
     "output_type": "execute_result"
    }
   ],
   "source": [
    "// 'pick' sampling preserves groups on bar chart.\n",
    "p + geomBar { fill=\"g\" }"
   ]
  },
  {
   "cell_type": "code",
   "execution_count": 7,
   "metadata": {},
   "outputs": [
    {
     "data": {
      "text/html": [
       "   <div id=\"XRs4ZJ\"></div>\n",
       "   <script type=\"text/javascript\" data-lets-plot-script=\"plot\">\n",
       "       (function() {\n",
       "           var plotSpec={\n",
       "\"mapping\":{\n",
       "\"x\":\"word\"\n",
       "},\n",
       "\"data\":{\n",
       "},\n",
       "\"kind\":\"plot\",\n",
       "\"scales\":[],\n",
       "\"layers\":[{\n",
       "\"mapping\":{\n",
       "\"x\":\"@as_discrete@word\",\n",
       "\"fill\":\"g\"\n",
       "},\n",
       "\"stat\":\"count\",\n",
       "\"position\":\"stack\",\n",
       "\"geom\":\"bar\",\n",
       "\"data_meta\":{\n",
       "\"mapping_annotations\":[{\n",
       "\"aes\":\"x\",\n",
       "\"annotation\":\"as_discrete\",\n",
       "\"parameters\":{\n",
       "\"label\":\"word\",\n",
       "\"order_by\":\"..count..\"\n",
       "}\n",
       "}]\n",
       "},\n",
       "\"data\":{\n",
       "\"..count..\":[1.0,1.0,2.0,3.0,1.0,3.0,2.0,2.0,3.0,3.0,1.0,3.0,2.0,2.0,2.0,2.0,1.0,1.0,2.0,1.0,1.0,3.0,2.0,2.0,1.0,1.0,1.0,1.0,4.0,1.0,2.0,1.0,1.0,1.0,1.0,1.0,1.0,3.0,1.0,1.0,1.0,3.0,1.0,2.0,3.0,3.0,1.0,3.0,1.0,1.0,2.0,2.0,1.0,2.0,4.0,2.0,1.0,2.0,2.0,3.0,2.0,1.0,2.0,1.0,2.0,2.0,1.0,1.0,3.0,3.0,2.0,3.0,2.0,2.0,1.0,1.0,2.0,1.0,2.0,2.0,1.0,2.0,1.0,3.0,3.0,2.0,1.0,3.0,4.0,2.0,2.0,1.0,3.0,2.0,4.0,3.0,2.0,2.0,2.0,1.0,2.0,2.0,2.0,3.0,2.0,2.0,3.0,1.0,1.0,3.0,1.0,2.0,3.0,3.0,1.0,1.0,2.0,3.0,1.0,1.0,2.0,2.0,1.0,2.0,1.0,1.0,1.0],\n",
       "\"@as_discrete@word\":[\"zexqa\",\"tlxea\",\"vdgpq\",\"oosyt\",\"qelvj\",\"hwfho\",\"rpzjh\",\"cmsxo\",\"wmgeu\",\"uejzv\",\"vlcuh\",\"pihij\",\"htriq\",\"uzrnz\",\"fwyhi\",\"wbssw\",\"iytcy\",\"iighz\",\"xyder\",\"socgx\",\"kitcg\",\"eaphf\",\"twkhx\",\"oqsse\",\"urdrj\",\"zxpxc\",\"ddiwl\",\"eiced\",\"xsuwg\",\"zsyqi\",\"kmsoq\",\"rroof\",\"kweiz\",\"mqrhg\",\"csiqa\",\"rsaqd\",\"qyefe\",\"zwvio\",\"hzmtj\",\"xvnmd\",\"ytcwv\",\"iytcy\",\"xvnmd\",\"qlxyr\",\"iighz\",\"urdrj\",\"hzmtj\",\"tlxea\",\"yllcc\",\"fwyhi\",\"oosyt\",\"eiced\",\"htriq\",\"vdgpq\",\"hrlau\",\"ytcwv\",\"dzzhe\",\"mqrhg\",\"qyefe\",\"kehoj\",\"kitcg\",\"cmsxo\",\"ddiwl\",\"csiqa\",\"vlcuh\",\"qelvj\",\"pihij\",\"oqsse\",\"zxpxc\",\"rroof\",\"rsaqd\",\"zexqa\",\"emsga\",\"kmsoq\",\"xsuwg\",\"kweiz\",\"wbssw\",\"xyder\",\"wxlyu\",\"hwfho\",\"wbgiw\",\"udjml\",\"twkhx\",\"rsaqd\",\"fwyhi\",\"kehoj\",\"hwfho\",\"qlxyr\",\"dzzhe\",\"wmgeu\",\"uzrnz\",\"hrlau\",\"socgx\",\"mqrhg\",\"zsyqi\",\"csiqa\",\"eaphf\",\"rpzjh\",\"cmsxo\",\"zxpxc\",\"iytcy\",\"htriq\",\"kitcg\",\"yllcc\",\"oqsse\",\"eiced\",\"xyder\",\"twkhx\",\"vlcuh\",\"wbgiw\",\"oosyt\",\"wxlyu\",\"emsga\",\"kweiz\",\"pihij\",\"qyefe\",\"udjml\",\"hzmtj\",\"iighz\",\"kmsoq\",\"ddiwl\",\"xvnmd\",\"zwvio\",\"qelvj\",\"urdrj\",\"uejzv\",\"ytcwv\"],\n",
       "\"g\":[\"a\",\"a\",\"a\",\"a\",\"a\",\"a\",\"a\",\"a\",\"a\",\"a\",\"a\",\"a\",\"a\",\"a\",\"a\",\"a\",\"a\",\"a\",\"a\",\"a\",\"a\",\"a\",\"a\",\"a\",\"a\",\"a\",\"a\",\"a\",\"a\",\"a\",\"a\",\"a\",\"a\",\"a\",\"a\",\"a\",\"a\",\"a\",\"a\",\"a\",\"a\",\"c\",\"c\",\"c\",\"c\",\"c\",\"c\",\"c\",\"c\",\"c\",\"c\",\"c\",\"c\",\"c\",\"c\",\"c\",\"c\",\"c\",\"c\",\"c\",\"c\",\"c\",\"c\",\"c\",\"c\",\"c\",\"c\",\"c\",\"c\",\"c\",\"c\",\"c\",\"c\",\"c\",\"c\",\"c\",\"c\",\"c\",\"c\",\"c\",\"c\",\"c\",\"c\",\"b\",\"b\",\"b\",\"b\",\"b\",\"b\",\"b\",\"b\",\"b\",\"b\",\"b\",\"b\",\"b\",\"b\",\"b\",\"b\",\"b\",\"b\",\"b\",\"b\",\"b\",\"b\",\"b\",\"b\",\"b\",\"b\",\"b\",\"b\",\"b\",\"b\",\"b\",\"b\",\"b\",\"b\",\"b\",\"b\",\"b\",\"b\",\"b\",\"b\",\"b\",\"b\",\"b\",\"b\"]\n",
       "}\n",
       "}],\n",
       "\"computation_messages\":[\"sampling_pick(n=50) was applied to [bar/count stat] layer\"]\n",
       "};\n",
       "           var plotContainer = document.getElementById(\"XRs4ZJ\");\n",
       "           window.letsPlotCall(function() {{\n",
       "               LetsPlot.buildPlotFromProcessedSpecs(plotSpec, -1, -1, plotContainer);\n",
       "           }});\n",
       "       })();    \n",
       "   </script>"
      ]
     },
     "execution_count": 7,
     "metadata": {},
     "output_type": "execute_result"
    }
   ],
   "source": [
    "// Orgering words by `count` might be a good idea.\n",
    "p + geomBar {\n",
    "    fill = \"g\"\n",
    "    x = asDiscrete(\"word\", orderBy = \"..count..\")\n",
    "}"
   ]
  }
 ],
 "metadata": {
  "kernelspec": {
   "display_name": "Kotlin",
   "language": "kotlin",
   "name": "kotlin"
  },
  "language_info": {
   "codemirror_mode": "text/x-kotlin",
   "file_extension": ".kt",
   "mimetype": "text/x-kotlin",
   "name": "kotlin",
   "nbconvert_exporter": "",
   "pygments_lexer": "kotlin",
   "version": "1.7.20-dev-1299"
  }
 },
 "nbformat": 4,
 "nbformat_minor": 4
}
