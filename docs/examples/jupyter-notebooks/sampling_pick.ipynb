{
 "cells": [
  {
   "cell_type": "markdown",
   "metadata": {},
   "source": [
    "<em><sub>This page is available as an executable or viewable <strong>Jupyter Notebook</strong>:</sub></em>\n",
    "<br/><br/>\n",
    "<a href=\"https://mybinder.org/v2/gh/JetBrains/lets-plot-kotlin/v1.2.0demos2?filepath=docs%2Fexamples%2Fjupyter-notebooks%2Fsampling_pick.ipynb\"\n",
    "   target=\"_parent\">\n",
    "   <img align=\"left\"\n",
    "        src=\"https://mybinder.org/badge_logo.svg\">\n",
    "</a>\n",
    "<a href=\"https://nbviewer.jupyter.org/github/JetBrains/lets-plot-kotlin/blob/master/docs/examples/jupyter-notebooks/sampling_pick.ipynb\"\n",
    "   target=\"_parent\">\n",
    "   <img align=\"right\"\n",
    "        src=\"https://raw.githubusercontent.com/jupyter/design/master/logos/Badges/nbviewer_badge.png\"\n",
    "        width=\"109\" height=\"20\">\n",
    "</a>\n",
    "<br/>\n",
    "<br/>"
   ]
  },
  {
   "cell_type": "markdown",
   "metadata": {},
   "source": [
    "### Pick Sampling"
   ]
  },
  {
   "cell_type": "code",
   "execution_count": 1,
   "metadata": {},
   "outputs": [
    {
     "data": {
      "text/html": [
       "   <div id=\"7WZaL9\"></div>\n",
       "   <script type=\"text/javascript\" data-lets-plot-script=\"library\">\n",
       "       if(!window.letsPlotCallQueue) {\n",
       "           window.letsPlotCallQueue = [];\n",
       "       }; \n",
       "       window.letsPlotCall = function(f) {\n",
       "           window.letsPlotCallQueue.push(f);\n",
       "       };\n",
       "       (function() {\n",
       "           var script = document.createElement(\"script\");\n",
       "           script.type = \"text/javascript\";\n",
       "           script.src = \"https://dl.bintray.com/jetbrains/lets-plot/lets-plot-2.0.1.min.js\";\n",
       "           script.onload = function() {\n",
       "               window.letsPlotCall = function(f) {f();};\n",
       "               window.letsPlotCallQueue.forEach(function(f) {f();});\n",
       "               window.letsPlotCallQueue = [];\n",
       "               \n",
       "               \n",
       "           };\n",
       "           script.onerror = function(event) {\n",
       "               window.letsPlotCall = function(f) {};\n",
       "               window.letsPlotCallQueue = [];\n",
       "               var div = document.createElement(\"div\");\n",
       "               div.style.color = 'darkred';\n",
       "               div.textContent = 'Error loading Lets-Plot JS';\n",
       "               document.getElementById(\"7WZaL9\").appendChild(div);\n",
       "           };\n",
       "           var e = document.getElementById(\"7WZaL9\");\n",
       "           e.appendChild(script);\n",
       "       })();\n",
       "   </script>"
      ]
     },
     "metadata": {},
     "output_type": "display_data"
    }
   ],
   "source": [
    "%useLatestDescriptors\n",
    "%use lets-plot(api=1.3.0-alpha1, lib=2.0.1, js=2.0.1)"
   ]
  },
  {
   "cell_type": "code",
   "execution_count": 2,
   "metadata": {},
   "outputs": [],
   "source": [
    "fun genWord(length:Int):String {\n",
    "    val letters = ('a'..'z')\n",
    "    return List(length) { letters.random() }.joinToString(\"\")\n",
    "}    \n",
    "\n",
    "fun genWordSet(n:Int):Set<String> {\n",
    "    val words = HashSet<String>()\n",
    "    while(words.size < n) {\n",
    "        words.add(genWord(5))\n",
    "    }\n",
    "    return words\n",
    "}\n",
    "\n",
    "fun data(n:Int, words:Set<String>):Map<String, *> {\n",
    "    return mapOf(\n",
    "            \"word\" to List(n) { words.random() },\n",
    "            \"g\" to List(n) { listOf('a','b','c').random() }\n",
    "        )\n",
    "}"
   ]
  },
  {
   "cell_type": "code",
   "execution_count": 3,
   "metadata": {},
   "outputs": [],
   "source": [
    "// Number of unique words exceeds threshold (50) of default 'pick' sampling on bar chart.\n",
    "val words = genWordSet(500)\n",
    "val dat = data(1000, words)\n",
    "val p = ggplot(dat) { x = \"word\" }"
   ]
  },
  {
   "cell_type": "code",
   "execution_count": 4,
   "metadata": {},
   "outputs": [
    {
     "data": {
      "text/html": [
       "   <div id=\"jllgR4\"></div>\n",
       "   <script type=\"text/javascript\" data-lets-plot-script=\"plot\">\n",
       "       (function() {\n",
       "           var plotSpec={\n",
       "'mapping':{\n",
       "'x':\"word\"\n",
       "},\n",
       "'data':{\n",
       "},\n",
       "'kind':\"plot\",\n",
       "'scales':[],\n",
       "'layers':[{\n",
       "'mapping':{\n",
       "},\n",
       "'stat':\"count\",\n",
       "'data':{\n",
       "'..count..':[2.0,4.0,2.0,2.0,6.0,3.0,3.0,2.0,3.0,3.0,4.0,1.0,2.0,4.0,2.0,1.0,4.0,3.0,2.0,3.0,4.0,1.0,2.0,3.0,2.0,5.0,3.0,5.0,7.0,2.0,3.0,8.0,3.0,4.0,2.0,4.0,4.0,2.0,2.0,3.0,3.0,1.0,4.0,1.0,2.0,2.0,3.0,2.0,3.0,3.0,2.0,2.0,4.0,3.0,2.0,3.0,6.0,1.0,3.0,1.0,4.0,1.0,1.0,2.0,4.0,2.0,4.0,2.0,2.0,5.0,4.0,2.0,3.0,8.0,3.0,2.0,3.0,3.0,3.0,2.0,1.0,5.0,2.0,5.0,2.0,1.0,2.0,1.0,3.0,4.0,2.0,4.0,3.0,1.0,1.0,4.0,8.0,2.0,2.0,3.0,3.0,3.0,3.0,4.0,4.0,4.0,2.0,2.0,3.0,1.0,2.0,3.0,2.0,4.0,2.0,2.0,3.0,2.0,3.0,3.0,2.0,2.0,4.0,2.0,6.0,4.0,3.0,1.0,1.0,4.0,3.0,2.0,3.0,3.0,4.0,2.0,3.0,2.0,2.0,1.0,4.0,2.0,3.0,4.0,2.0,2.0,2.0,1.0,2.0,1.0,1.0,1.0,5.0,2.0,2.0,1.0,3.0,2.0,2.0,4.0,3.0,2.0,3.0,2.0,1.0,1.0,4.0,3.0,4.0,3.0,2.0,2.0,2.0,2.0,2.0,2.0,1.0,1.0,1.0,4.0,2.0,2.0,2.0,4.0,1.0,3.0,1.0,2.0,2.0,3.0,1.0,3.0,2.0,2.0,4.0,3.0,1.0,2.0,1.0,2.0,2.0,2.0,1.0,2.0,3.0,2.0,2.0,3.0,4.0,1.0,2.0,3.0,3.0,4.0,2.0,1.0,2.0,2.0,4.0,2.0,4.0,2.0,3.0,2.0,3.0,1.0,2.0,2.0,1.0,1.0,5.0,1.0,3.0,2.0,1.0,1.0,4.0,3.0,3.0,6.0,2.0,3.0,2.0,4.0,3.0,3.0,2.0,1.0,1.0,2.0,2.0,1.0,4.0,2.0,3.0,4.0,2.0,1.0,2.0,4.0,2.0,3.0,3.0,1.0,3.0,1.0,5.0,1.0,3.0,1.0,3.0,1.0,1.0,1.0,2.0,4.0,3.0,2.0,2.0,4.0,2.0,2.0,2.0,2.0,3.0,2.0,2.0,2.0,3.0,1.0,4.0,3.0,2.0,3.0,1.0,1.0,3.0,2.0,2.0,2.0,2.0,2.0,4.0,3.0,3.0,5.0,2.0,2.0,3.0,1.0,1.0,2.0,1.0,1.0,3.0,2.0,3.0,1.0,1.0,2.0,1.0,1.0,1.0,3.0,1.0,3.0,2.0,2.0,2.0,2.0,2.0,1.0,3.0,1.0,2.0,1.0,2.0,1.0,1.0,1.0,3.0,3.0,2.0,1.0,2.0,2.0,1.0,2.0,2.0,1.0,5.0,3.0,1.0,2.0,4.0,1.0,4.0,2.0,2.0,3.0,1.0,1.0,1.0,2.0,3.0,1.0,2.0,1.0,1.0,2.0,2.0,1.0,1.0,1.0,2.0,1.0,2.0,1.0,3.0,1.0,1.0,3.0,1.0,2.0,2.0,2.0,1.0,1.0,2.0,3.0,4.0,1.0,1.0,2.0,2.0,1.0,2.0,1.0,1.0,1.0,2.0,2.0,1.0,2.0,1.0,1.0,1.0,1.0,1.0,2.0,1.0,1.0,2.0,2.0,1.0,1.0,1.0,1.0,1.0,1.0,1.0,1.0,1.0,1.0,1.0,1.0,1.0,1.0,1.0,1.0,1.0,1.0,1.0,1.0,1.0,1.0,1.0],\n",
       "'word':[\"llcio\",\"dfoof\",\"tqjfs\",\"cnajv\",\"utvum\",\"yaucn\",\"qxvvw\",\"jjmlb\",\"oxjyu\",\"ownfm\",\"qwgeu\",\"xbqyd\",\"yzftm\",\"wypla\",\"lvfjn\",\"ymoly\",\"awlbb\",\"ccncj\",\"pjfmk\",\"ettvw\",\"qkyqa\",\"uzptu\",\"jztdb\",\"hfgoi\",\"paudq\",\"cfgqj\",\"mhrhs\",\"tkmlh\",\"lfsck\",\"khrri\",\"ukqss\",\"bprez\",\"ofytd\",\"ovebs\",\"roefv\",\"drhiq\",\"fmyni\",\"snohe\",\"polmu\",\"rnexj\",\"xedvm\",\"nrnmy\",\"komgt\",\"pvdrl\",\"widxn\",\"xfqtd\",\"jwyde\",\"rssfh\",\"gfxfx\",\"psvse\",\"iafet\",\"omktv\",\"epktv\",\"fshvp\",\"kuyty\",\"xapte\",\"mfvcb\",\"nnqut\",\"czoan\",\"rmuvt\",\"euhjk\",\"polhx\",\"wrafj\",\"zunnz\",\"igkoe\",\"vccvb\",\"zmmoi\",\"vxrwl\",\"ruasn\",\"mkgpi\",\"kluei\",\"ffagd\",\"mizie\",\"ljuhf\",\"oaepp\",\"cqmpm\",\"tlwgm\",\"wmgcm\",\"oibyx\",\"ediky\",\"xrikk\",\"hjnts\",\"lnjyb\",\"iglru\",\"yllvp\",\"tjuxv\",\"kyhog\",\"fqnum\",\"nheqn\",\"dnebi\",\"rewpo\",\"hqztt\",\"bsgaz\",\"yvpdu\",\"lwcxa\",\"yfhpc\",\"nhnci\",\"nrmtc\",\"rmsgg\",\"kcsmb\",\"rhhaj\",\"kxeoy\",\"waxhu\",\"rqcdc\",\"ehkpg\",\"ivuna\",\"uecrl\",\"jjgrb\",\"wdbcy\",\"lbalu\",\"mpngy\",\"oojno\",\"pbeby\",\"uljxd\",\"uwqlv\",\"ltipc\",\"qcfbo\",\"ecmgy\",\"cadbq\",\"xxkoo\",\"owdwr\",\"ycndg\",\"oqdfn\",\"ihiba\",\"kxrzk\",\"rwtru\",\"ibywh\",\"dxqbq\",\"rnrql\",\"mvopu\",\"sjywa\",\"okeou\",\"mnvva\",\"borkt\",\"rumgf\",\"qcaxu\",\"tmccs\",\"gutmc\",\"icsoq\",\"kzjrf\",\"ytmvl\",\"mkgam\",\"aqqis\",\"mgoev\",\"gxlki\",\"ckcik\",\"sifas\",\"mopsr\",\"hosri\",\"mqafs\",\"ygrqy\",\"xzvig\",\"gcmly\",\"qqqei\",\"iyief\",\"pyqsl\",\"rczhq\",\"edfna\",\"rachi\",\"jmpon\",\"kuscy\",\"bbgii\",\"xrogw\",\"rjqmd\",\"kdexz\",\"ibhzm\",\"pneap\",\"rmdvn\",\"uczgy\",\"bujme\",\"zdgnv\",\"bzkve\",\"bdato\",\"jgxaq\",\"tbcvq\",\"gzulm\",\"ofbgg\",\"oxqaa\",\"cppee\",\"xlzwn\",\"kozqw\",\"wscrf\",\"orzyc\",\"uoghs\",\"hiteu\",\"deyus\",\"wyikp\",\"chdzd\",\"feggv\",\"ypsnl\",\"msvlz\",\"asnxl\",\"qgxde\",\"uezbm\",\"bnjgo\",\"ifzjp\",\"gmxfs\",\"imprb\",\"klgrf\",\"ntukl\",\"zprng\",\"oulob\",\"njktj\",\"tckfu\",\"ggqzs\",\"ictco\",\"jkngz\",\"xwrkx\",\"noxiq\",\"gwjmv\",\"bvmrk\",\"yenla\",\"aecou\",\"vpbqm\",\"afruq\",\"aatju\",\"lzymi\",\"rlmhh\",\"pipga\",\"pbzbf\",\"uzbcn\",\"vyaor\",\"qkubj\",\"wugez\",\"dqmwf\",\"qoyaa\",\"hlwqh\",\"frbtj\",\"opezz\",\"jtdiu\",\"xfply\",\"eyxfi\",\"boezz\",\"nfopy\",\"jvggo\",\"grwkm\",\"fhooi\",\"pbrht\",\"aasds\",\"zbsig\",\"gddjk\",\"dezqu\",\"gibzr\",\"qcojc\",\"gapqz\",\"guecy\",\"imopq\",\"rwbbu\",\"egdtt\",\"fmrhv\",\"grjas\",\"dvzri\",\"wotnc\",\"gsnxe\",\"jkvsl\",\"aomhc\",\"bglrl\",\"rmooo\",\"hdtca\",\"jmajf\",\"tgocx\",\"afuvn\",\"xtwhi\",\"axkps\",\"xeznu\",\"eizrs\",\"ifndm\",\"ihasu\",\"hcxrl\",\"lfbci\",\"hujvh\",\"nwxic\",\"vgojq\",\"eupui\",\"kmmiu\",\"ohptg\",\"gbfnb\",\"upgfg\",\"aufva\",\"jimzd\",\"owoed\",\"kmcsj\",\"ykyyc\",\"dwkhp\",\"krcyr\",\"yualo\",\"xzjfv\",\"wtcpz\",\"iathv\",\"sippf\",\"pjevy\",\"vxgis\",\"racdq\",\"rkhkv\",\"dtpyr\",\"sxbzf\",\"gvmed\",\"crsxt\",\"dhzgj\",\"zwtam\",\"zzaaq\",\"cjzjf\",\"eiftc\",\"blzgl\",\"iqysk\",\"liubk\",\"jkxvh\",\"mgtzj\",\"mcuuh\",\"sveuq\",\"aalym\",\"nefey\",\"vlgov\",\"wynbr\",\"vbhlp\",\"rungf\",\"cqdwd\",\"ainsy\",\"xyhql\",\"kdtlp\",\"tnfkc\",\"kszpt\",\"iigyu\",\"vxnbw\",\"iymun\",\"vehnb\",\"oitcb\",\"zricd\",\"hodfb\",\"eqjeb\",\"nycpj\",\"nrgmt\",\"ptpeo\",\"zmxmt\",\"kxlcy\",\"ttkfn\",\"rtuze\",\"sbpvn\",\"uwxat\",\"jzsxn\",\"worux\",\"todbl\",\"gdylj\",\"ltglo\",\"sttvk\",\"bmaik\",\"jmsil\",\"zshbb\",\"uajqc\",\"sjghf\",\"blakt\",\"csauz\",\"iukdv\",\"xotuy\",\"agfhi\",\"xulya\",\"tqdoz\",\"kgnyh\",\"hkfcv\",\"wftkt\",\"ifsbq\",\"xbzyg\",\"ughkj\",\"gxnqp\",\"acuqr\",\"sowsw\",\"rubtp\",\"cqiro\",\"tmmdv\",\"aaqmd\",\"rpkil\",\"mycdr\",\"klepu\",\"ieqki\",\"hycdx\",\"cytez\",\"qrvgw\",\"ykknl\",\"fcvkp\",\"rjbue\",\"kmcmx\",\"ekhde\",\"qtugv\",\"ojupt\",\"dxyaa\",\"kccyd\",\"kwtdn\",\"banqy\",\"zmmgy\",\"lseho\",\"jbrqk\",\"cdxau\",\"yoxcp\",\"wbqtm\",\"vwfsr\",\"hhgwb\",\"jestx\",\"kbwdk\",\"htdvo\",\"rxfak\",\"vlknp\",\"xnfez\",\"ptxht\",\"zozic\",\"enscz\",\"ymref\",\"sdmkk\",\"xtvos\",\"cyemo\",\"vfqxz\",\"tdhux\",\"vzsbg\",\"vljds\",\"ejsso\",\"rpcxy\",\"syfyg\",\"yhcuj\",\"eazsp\",\"bchkf\",\"oqjcq\",\"zpnhq\",\"cvppi\",\"pxwnw\",\"bedsf\",\"koarx\",\"fgtoy\",\"xyqld\",\"esodr\",\"opxyu\",\"klhfo\",\"fkgtt\",\"lqagd\",\"xgfsm\",\"bfhhj\",\"fgzxp\",\"dzews\",\"yojty\"]\n",
       "},\n",
       "'sampling':\"none\",\n",
       "'position':\"stack\",\n",
       "'geom':\"bar\"\n",
       "}]\n",
       "};\n",
       "           var plotContainer = document.getElementById(\"jllgR4\");\n",
       "           window.letsPlotCall(function() {{\n",
       "               LetsPlot.buildPlotFromProcessedSpecs(plotSpec, -1, -1, plotContainer);\n",
       "           }});\n",
       "       })();    \n",
       "   </script>"
      ]
     },
     "execution_count": 4,
     "metadata": {
      "new_classpath": []
     },
     "output_type": "execute_result"
    }
   ],
   "source": [
    "// Disable sampling to see the overplotting.\n",
    "p + geom_bar(sampling = sampling_none)"
   ]
  },
  {
   "cell_type": "code",
   "execution_count": 5,
   "metadata": {},
   "outputs": [
    {
     "data": {
      "text/html": [
       "   <div id=\"65daNY\"></div>\n",
       "   <script type=\"text/javascript\" data-lets-plot-script=\"plot\">\n",
       "       (function() {\n",
       "           var plotSpec={\n",
       "'mapping':{\n",
       "'x':\"word\"\n",
       "},\n",
       "'data':{\n",
       "},\n",
       "'kind':\"plot\",\n",
       "'computation_messages':[\"sampling_pick(n=50) was applied to [bar/count stat] layer\"],\n",
       "'scales':[],\n",
       "'layers':[{\n",
       "'mapping':{\n",
       "},\n",
       "'stat':\"count\",\n",
       "'data':{\n",
       "'..count..':[2.0,4.0,2.0,2.0,6.0,3.0,3.0,2.0,3.0,3.0,4.0,1.0,2.0,4.0,2.0,1.0,4.0,3.0,2.0,3.0,4.0,1.0,2.0,3.0,2.0,5.0,3.0,5.0,7.0,2.0,3.0,8.0,3.0,4.0,2.0,4.0,4.0,2.0,2.0,3.0,3.0,1.0,4.0,1.0,2.0,2.0,3.0,2.0,3.0,3.0],\n",
       "'word':[\"llcio\",\"dfoof\",\"tqjfs\",\"cnajv\",\"utvum\",\"yaucn\",\"qxvvw\",\"jjmlb\",\"oxjyu\",\"ownfm\",\"qwgeu\",\"xbqyd\",\"yzftm\",\"wypla\",\"lvfjn\",\"ymoly\",\"awlbb\",\"ccncj\",\"pjfmk\",\"ettvw\",\"qkyqa\",\"uzptu\",\"jztdb\",\"hfgoi\",\"paudq\",\"cfgqj\",\"mhrhs\",\"tkmlh\",\"lfsck\",\"khrri\",\"ukqss\",\"bprez\",\"ofytd\",\"ovebs\",\"roefv\",\"drhiq\",\"fmyni\",\"snohe\",\"polmu\",\"rnexj\",\"xedvm\",\"nrnmy\",\"komgt\",\"pvdrl\",\"widxn\",\"xfqtd\",\"jwyde\",\"rssfh\",\"gfxfx\",\"psvse\"]\n",
       "},\n",
       "'position':\"stack\",\n",
       "'geom':\"bar\"\n",
       "}]\n",
       "};\n",
       "           var plotContainer = document.getElementById(\"65daNY\");\n",
       "           window.letsPlotCall(function() {{\n",
       "               LetsPlot.buildPlotFromProcessedSpecs(plotSpec, -1, -1, plotContainer);\n",
       "           }});\n",
       "       })();    \n",
       "   </script>"
      ]
     },
     "execution_count": 5,
     "metadata": {
      "new_classpath": []
     },
     "output_type": "execute_result"
    }
   ],
   "source": [
    "// Draw plot with default sampling.\n",
    "p + geom_bar()"
   ]
  },
  {
   "cell_type": "code",
   "execution_count": 6,
   "metadata": {},
   "outputs": [
    {
     "data": {
      "text/html": [
       "   <div id=\"vITuLH\"></div>\n",
       "   <script type=\"text/javascript\" data-lets-plot-script=\"plot\">\n",
       "       (function() {\n",
       "           var plotSpec={\n",
       "'mapping':{\n",
       "'x':\"word\"\n",
       "},\n",
       "'data':{\n",
       "},\n",
       "'kind':\"plot\",\n",
       "'computation_messages':[\"sampling_pick(n=50) was applied to [bar/count stat] layer\"],\n",
       "'scales':[],\n",
       "'layers':[{\n",
       "'mapping':{\n",
       "'fill':\"g\"\n",
       "},\n",
       "'stat':\"count\",\n",
       "'data':{\n",
       "'..count..':[2.0,2.0,1.0,1.0,3.0,2.0,2.0,3.0,3.0,1.0,1.0,1.0,2.0,3.0,1.0,1.0,1.0,2.0,2.0,2.0,3.0,1.0,2.0,1.0,2.0,2.0,1.0,3.0,2.0,1.0,4.0,1.0,1.0,1.0,2.0,1.0,4.0,1.0,1.0,1.0,1.0,1.0,2.0,2.0,2.0,1.0,2.0,1.0,2.0,1.0,1.0,1.0,1.0,1.0,1.0,1.0,1.0,4.0,2.0,1.0,1.0,1.0,3.0,1.0,1.0,2.0,1.0,1.0,1.0,1.0,1.0,2.0,1.0,1.0,1.0,1.0,1.0,1.0,1.0,1.0,1.0,3.0,2.0,1.0,2.0,1.0,2.0,2.0,1.0,2.0,1.0,1.0,1.0,1.0,1.0,2.0,1.0,1.0,1.0,1.0,1.0,2.0,1.0,1.0],\n",
       "'g':[\"b\",\"b\",\"b\",\"b\",\"b\",\"b\",\"b\",\"b\",\"b\",\"b\",\"b\",\"b\",\"b\",\"b\",\"b\",\"b\",\"b\",\"b\",\"b\",\"b\",\"b\",\"b\",\"b\",\"b\",\"b\",\"b\",\"b\",\"b\",\"b\",\"b\",\"b\",\"b\",\"b\",\"b\",\"b\",\"b\",\"b\",\"b\",\"b\",\"b\",\"b\",\"b\",\"b\",\"b\",\"b\",\"b\",\"b\",\"b\",\"b\",\"b\",\"a\",\"a\",\"a\",\"a\",\"a\",\"a\",\"a\",\"a\",\"a\",\"a\",\"a\",\"a\",\"a\",\"a\",\"a\",\"a\",\"a\",\"a\",\"a\",\"a\",\"a\",\"a\",\"a\",\"a\",\"a\",\"a\",\"a\",\"a\",\"a\",\"c\",\"c\",\"c\",\"c\",\"c\",\"c\",\"c\",\"c\",\"c\",\"c\",\"c\",\"c\",\"c\",\"c\",\"c\",\"c\",\"c\",\"c\",\"c\",\"c\",\"c\",\"c\",\"c\",\"c\",\"c\"],\n",
       "'word':[\"llcio\",\"dfoof\",\"tqjfs\",\"yaucn\",\"qwgeu\",\"wypla\",\"lvfjn\",\"awlbb\",\"ccncj\",\"pjfmk\",\"qkyqa\",\"cfgqj\",\"khrri\",\"ovebs\",\"nrnmy\",\"jwyde\",\"rssfh\",\"gfxfx\",\"epktv\",\"mfvcb\",\"euhjk\",\"vccvb\",\"zmmoi\",\"vxrwl\",\"ruasn\",\"mizie\",\"kyhog\",\"nheqn\",\"bsgaz\",\"lwcxa\",\"nhnci\",\"kxeoy\",\"waxhu\",\"ehkpg\",\"oojno\",\"oxjyu\",\"uljxd\",\"uwqlv\",\"ltipc\",\"qcfbo\",\"owdwr\",\"ycndg\",\"kxrzk\",\"oibyx\",\"rwtru\",\"dxqbq\",\"mvopu\",\"borkt\",\"xedvm\",\"yfhpc\",\"oxjyu\",\"ovebs\",\"xedvm\",\"qwgeu\",\"cfgqj\",\"vccvb\",\"yfhpc\",\"nhnci\",\"jwyde\",\"awlbb\",\"ehkpg\",\"qkyqa\",\"mfvcb\",\"borkt\",\"gfxfx\",\"epktv\",\"qcfbo\",\"wypla\",\"mvopu\",\"ltipc\",\"tqjfs\",\"kxrzk\",\"zmmoi\",\"yaucn\",\"pjfmk\",\"dfoof\",\"ycndg\",\"bsgaz\",\"vxrwl\",\"wypla\",\"oibyx\",\"cfgqj\",\"kxeoy\",\"mizie\",\"ehkpg\",\"zmmoi\",\"qkyqa\",\"kxrzk\",\"euhjk\",\"rwtru\",\"mvopu\",\"kyhog\",\"borkt\",\"oojno\",\"owdwr\",\"waxhu\",\"yaucn\",\"qcfbo\",\"rssfh\",\"dfoof\",\"uwqlv\",\"yfhpc\",\"mfvcb\",\"oxjyu\"]\n",
       "},\n",
       "'position':\"stack\",\n",
       "'geom':\"bar\"\n",
       "}]\n",
       "};\n",
       "           var plotContainer = document.getElementById(\"vITuLH\");\n",
       "           window.letsPlotCall(function() {{\n",
       "               LetsPlot.buildPlotFromProcessedSpecs(plotSpec, -1, -1, plotContainer);\n",
       "           }});\n",
       "       })();    \n",
       "   </script>"
      ]
     },
     "execution_count": 6,
     "metadata": {
      "new_classpath": []
     },
     "output_type": "execute_result"
    }
   ],
   "source": [
    "// 'pick' sampling preserves groups on bar chart.\n",
    "p + geom_bar { fill=\"g\" }"
   ]
  }
 ],
 "metadata": {
  "kernelspec": {
   "display_name": "Kotlin",
   "language": "kotlin",
   "name": "kotlin"
  },
  "language_info": {
   "codemirror_mode": "text/x-kotlin",
   "file_extension": ".kt",
   "mimetype": "text/x-kotlin",
   "name": "kotlin",
   "pygments_lexer": "kotlin",
   "version": "1.5.0-dev-1206"
  }
 },
 "nbformat": 4,
 "nbformat_minor": 4
}
