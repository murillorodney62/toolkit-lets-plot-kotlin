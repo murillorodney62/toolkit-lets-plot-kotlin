{
 "cells": [
  {
   "cell_type": "markdown",
   "metadata": {},
   "source": [
    "### Pick Sampling"
   ]
  },
  {
   "cell_type": "code",
   "execution_count": 1,
   "metadata": {},
   "outputs": [
    {
     "data": {
      "text/html": [
       "   <div id=\"s67yJ9\"></div>\n",
       "   <script type=\"text/javascript\" data-lets-plot-script=\"library\">\n",
       "       if(!window.letsPlotCallQueue) {\n",
       "           window.letsPlotCallQueue = [];\n",
       "       }; \n",
       "       window.letsPlotCall = function(f) {\n",
       "           window.letsPlotCallQueue.push(f);\n",
       "       };\n",
       "       (function() {\n",
       "           var script = document.createElement(\"script\");\n",
       "           script.type = \"text/javascript\";\n",
       "           script.src = \"https://cdn.jsdelivr.net/gh/JetBrains/lets-plot@v2.2.0/js-package/distr/lets-plot.min.js\";\n",
       "           script.onload = function() {\n",
       "               window.letsPlotCall = function(f) {f();};\n",
       "               window.letsPlotCallQueue.forEach(function(f) {f();});\n",
       "               window.letsPlotCallQueue = [];\n",
       "               \n",
       "               \n",
       "           };\n",
       "           script.onerror = function(event) {\n",
       "               window.letsPlotCall = function(f) {};\n",
       "               window.letsPlotCallQueue = [];\n",
       "               var div = document.createElement(\"div\");\n",
       "               div.style.color = 'darkred';\n",
       "               div.textContent = 'Error loading Lets-Plot JS';\n",
       "               document.getElementById(\"s67yJ9\").appendChild(div);\n",
       "           };\n",
       "           var e = document.getElementById(\"s67yJ9\");\n",
       "           e.appendChild(script);\n",
       "       })();\n",
       "   </script>"
      ]
     },
     "metadata": {},
     "output_type": "display_data"
    }
   ],
   "source": [
    "%useLatestDescriptors\n",
    "%use lets-plot"
   ]
  },
  {
   "cell_type": "code",
   "execution_count": 2,
   "metadata": {},
   "outputs": [],
   "source": [
    "fun genWord(length:Int):String {\n",
    "    val letters = ('a'..'z')\n",
    "    return List(length) { letters.random() }.joinToString(\"\")\n",
    "}    \n",
    "\n",
    "fun genWordSet(n:Int):Set<String> {\n",
    "    val words = HashSet<String>()\n",
    "    while(words.size < n) {\n",
    "        words.add(genWord(5))\n",
    "    }\n",
    "    return words\n",
    "}\n",
    "\n",
    "fun data(n:Int, words:Set<String>):Map<String, *> {\n",
    "    return mapOf(\n",
    "            \"word\" to List(n) { words.random() },\n",
    "            \"g\" to List(n) { listOf('a','b','c').random() }\n",
    "        )\n",
    "}"
   ]
  },
  {
   "cell_type": "code",
   "execution_count": 3,
   "metadata": {},
   "outputs": [],
   "source": [
    "// Number of unique words exceeds threshold (50) of default 'pick' sampling on bar chart.\n",
    "val words = genWordSet(500)\n",
    "val dat = data(1000, words)\n",
    "val p = ggplot(dat) { x = \"word\" }"
   ]
  },
  {
   "cell_type": "code",
   "execution_count": 4,
   "metadata": {},
   "outputs": [
    {
     "data": {
      "text/html": [
       "   <div id=\"kMhPRr\"></div>\n",
       "   <script type=\"text/javascript\" data-lets-plot-script=\"plot\">\n",
       "       (function() {\n",
       "           var plotSpec={\n",
       "\"mapping\":{\n",
       "\"x\":\"word\"\n",
       "},\n",
       "\"data\":{\n",
       "},\n",
       "\"kind\":\"plot\",\n",
       "\"scales\":[],\n",
       "\"layers\":[{\n",
       "\"mapping\":{\n",
       "},\n",
       "\"stat\":\"count\",\n",
       "\"sampling\":\"none\",\n",
       "\"position\":\"stack\",\n",
       "\"geom\":\"bar\",\n",
       "\"data\":{\n",
       "\"..count..\":[4.0,1.0,3.0,3.0,2.0,4.0,4.0,3.0,4.0,1.0,4.0,2.0,3.0,3.0,4.0,2.0,1.0,2.0,3.0,3.0,3.0,3.0,2.0,1.0,5.0,2.0,3.0,4.0,5.0,4.0,3.0,3.0,1.0,3.0,1.0,1.0,1.0,3.0,3.0,3.0,2.0,3.0,3.0,3.0,6.0,3.0,4.0,2.0,6.0,4.0,3.0,3.0,2.0,3.0,2.0,2.0,4.0,2.0,5.0,2.0,4.0,2.0,3.0,1.0,2.0,4.0,1.0,2.0,3.0,2.0,1.0,1.0,4.0,1.0,2.0,2.0,2.0,3.0,3.0,3.0,3.0,3.0,2.0,4.0,3.0,2.0,3.0,4.0,4.0,1.0,1.0,3.0,4.0,4.0,7.0,4.0,1.0,1.0,5.0,1.0,1.0,2.0,6.0,3.0,2.0,7.0,1.0,2.0,2.0,2.0,2.0,3.0,6.0,2.0,3.0,2.0,2.0,2.0,2.0,3.0,5.0,3.0,2.0,5.0,3.0,2.0,4.0,2.0,3.0,4.0,1.0,1.0,2.0,4.0,3.0,3.0,5.0,1.0,3.0,1.0,2.0,1.0,2.0,4.0,3.0,1.0,2.0,3.0,4.0,3.0,1.0,3.0,3.0,4.0,7.0,5.0,1.0,2.0,3.0,3.0,1.0,2.0,2.0,2.0,2.0,2.0,4.0,3.0,2.0,3.0,1.0,1.0,1.0,1.0,3.0,3.0,1.0,2.0,3.0,2.0,3.0,5.0,2.0,3.0,1.0,1.0,1.0,3.0,1.0,1.0,2.0,1.0,1.0,2.0,3.0,2.0,2.0,2.0,1.0,1.0,2.0,2.0,1.0,1.0,3.0,2.0,2.0,5.0,1.0,2.0,3.0,4.0,3.0,3.0,1.0,3.0,2.0,4.0,4.0,5.0,1.0,2.0,3.0,3.0,2.0,4.0,4.0,3.0,1.0,2.0,2.0,2.0,2.0,2.0,1.0,4.0,3.0,1.0,2.0,6.0,2.0,1.0,2.0,1.0,2.0,3.0,1.0,4.0,3.0,3.0,3.0,3.0,4.0,4.0,4.0,2.0,2.0,4.0,3.0,1.0,3.0,2.0,3.0,4.0,3.0,4.0,4.0,1.0,1.0,3.0,1.0,2.0,1.0,3.0,3.0,3.0,2.0,1.0,2.0,3.0,2.0,4.0,2.0,3.0,4.0,2.0,2.0,2.0,2.0,2.0,3.0,2.0,2.0,1.0,2.0,3.0,2.0,1.0,4.0,4.0,1.0,2.0,4.0,1.0,1.0,3.0,3.0,3.0,3.0,1.0,1.0,4.0,3.0,4.0,1.0,1.0,3.0,1.0,2.0,1.0,1.0,1.0,2.0,3.0,1.0,1.0,1.0,1.0,1.0,2.0,2.0,2.0,4.0,3.0,1.0,1.0,2.0,1.0,3.0,3.0,2.0,1.0,2.0,1.0,2.0,2.0,1.0,1.0,3.0,2.0,1.0,1.0,1.0,3.0,1.0,3.0,2.0,1.0,2.0,2.0,4.0,2.0,1.0,1.0,1.0,3.0,1.0,2.0,1.0,1.0,2.0,1.0,3.0,1.0,2.0,1.0,1.0,1.0,2.0,2.0,1.0,1.0,1.0,3.0,2.0,2.0,1.0,1.0,1.0,3.0,1.0,2.0,1.0,1.0,1.0,1.0,5.0,1.0,2.0,1.0,5.0,1.0,1.0,2.0,1.0,1.0,1.0,1.0,1.0,1.0,1.0,1.0,1.0,1.0,1.0,1.0,1.0,1.0,1.0,1.0,1.0,1.0,1.0,1.0,1.0,1.0,1.0,1.0,1.0,1.0,1.0,2.0,1.0,1.0,1.0],\n",
       "\"word\":[\"yfksk\",\"uwcwh\",\"pvrol\",\"tlicg\",\"qarkn\",\"talth\",\"hwhai\",\"kwoej\",\"dikdf\",\"bakyf\",\"nhdya\",\"dobrp\",\"yqpsj\",\"nkjqk\",\"tzqzr\",\"ocltn\",\"dftsl\",\"byaar\",\"qfdii\",\"wrcps\",\"abztn\",\"qpusn\",\"sljlq\",\"baxds\",\"fejth\",\"zbkir\",\"zqkxg\",\"utmav\",\"rpimg\",\"jyihe\",\"pwcsf\",\"tqzxj\",\"wpmir\",\"syuuq\",\"qsbet\",\"igkgc\",\"pgjqj\",\"ihpky\",\"urmvo\",\"goijm\",\"qltkp\",\"knbod\",\"vtdlc\",\"ukznc\",\"teoeo\",\"fsavh\",\"dneuu\",\"xwxte\",\"nzmiw\",\"smtzo\",\"ugvie\",\"guqbo\",\"rqiei\",\"ybuoa\",\"robun\",\"tnxkh\",\"glily\",\"byriw\",\"kambc\",\"cfghw\",\"phvxo\",\"xsvrc\",\"cagte\",\"kktip\",\"hzfza\",\"vnvey\",\"esdgz\",\"hcqiq\",\"mcxza\",\"pbbdz\",\"hztez\",\"bvkpg\",\"drnme\",\"zbcyr\",\"asmgy\",\"xhbft\",\"bswhk\",\"insyj\",\"qjnwm\",\"oxlcp\",\"xhvqf\",\"nkzdz\",\"tiwvc\",\"lmcdk\",\"cysde\",\"pvjba\",\"qwvkc\",\"tcbym\",\"xmdyi\",\"uxuga\",\"qqorh\",\"bgmiz\",\"nhswt\",\"kzyft\",\"csecr\",\"hzhgj\",\"vbaaj\",\"ssvuk\",\"autgm\",\"lella\",\"escvq\",\"tsylb\",\"otkjq\",\"dgjho\",\"pqmgf\",\"xrztz\",\"jkdny\",\"pqeyz\",\"msyti\",\"uljaq\",\"wmblq\",\"xhcxc\",\"ftliz\",\"ocxzm\",\"whnfl\",\"dttdb\",\"iriqu\",\"ezrdo\",\"yuqal\",\"epsgg\",\"wudzy\",\"pirwo\",\"fdwht\",\"xnnpj\",\"mdzzp\",\"qkbcp\",\"qdfuz\",\"zgria\",\"qdgej\",\"nvnzu\",\"vubcg\",\"pdakd\",\"tdaxk\",\"nmsoi\",\"mciyt\",\"qhcog\",\"ajvoc\",\"oltdg\",\"gbvtr\",\"gdewn\",\"oozdv\",\"qqkhm\",\"qeafo\",\"yaekd\",\"zmozo\",\"hvdhx\",\"peyei\",\"nykiv\",\"sxbcb\",\"uxbay\",\"rksam\",\"jezfx\",\"xrlwx\",\"ejipu\",\"ftxbp\",\"uqqcl\",\"iccch\",\"stmmh\",\"zlbvc\",\"qegrf\",\"nwffe\",\"jtyjv\",\"togko\",\"gjyhd\",\"fvqzu\",\"qvzoi\",\"nqmfh\",\"djoyv\",\"qqcam\",\"kudgy\",\"irziu\",\"cqfoy\",\"jnbvg\",\"xfyas\",\"hozpj\",\"xtmuw\",\"xvpbt\",\"sstau\",\"oioav\",\"mzzbo\",\"wlocl\",\"jrebn\",\"krhbi\",\"iyipp\",\"aqlsl\",\"kewwh\",\"qtvhp\",\"qaoot\",\"grzfi\",\"ysdxe\",\"pcyue\",\"idyfu\",\"pmjkw\",\"toydv\",\"bspfx\",\"kwnry\",\"lqhfk\",\"upski\",\"mvwkv\",\"bbtwk\",\"fwccr\",\"whqmg\",\"frrzi\",\"nunuw\",\"ziosw\",\"ppmri\",\"sboqq\",\"pdtfe\",\"bsqtp\",\"luqvd\",\"uuvoo\",\"riqcw\",\"joeky\",\"kjaco\",\"ksrcd\",\"qkmve\",\"iyogf\",\"bveni\",\"jxebp\",\"obyfd\",\"uspca\",\"inwft\",\"snfgc\",\"hamzc\",\"mmumn\",\"kuiks\",\"dklko\",\"olcfq\",\"szxel\",\"semvn\",\"eoycf\",\"jaizm\",\"kmdxr\",\"douqy\",\"wpaib\",\"cztlj\",\"shfgq\",\"ywnmo\",\"wiskf\",\"zunnk\",\"xirkt\",\"kqgjg\",\"eddgv\",\"sjvjl\",\"xrjtn\",\"ugrdg\",\"itdij\",\"lclhx\",\"jniup\",\"eijpy\",\"qajpd\",\"khaie\",\"uwdsp\",\"pdzjo\",\"lrrvd\",\"bnpov\",\"vsjpk\",\"teucm\",\"vkgic\",\"bdbxu\",\"utcjf\",\"apbqe\",\"ftrru\",\"jrafe\",\"cgcbs\",\"cubwi\",\"rejly\",\"bkiug\",\"gqmrw\",\"uiwvm\",\"xyeih\",\"vjiyl\",\"shend\",\"bvgzs\",\"htjlr\",\"yvvst\",\"coxqc\",\"ntsyo\",\"zsyzn\",\"hkodo\",\"ulccs\",\"ucfql\",\"tpidx\",\"ggzsr\",\"yidlh\",\"dewfa\",\"lviaw\",\"eqkmy\",\"wwuhw\",\"bqbrh\",\"japfy\",\"tnwga\",\"cckjv\",\"jbauj\",\"dgljf\",\"rdwrs\",\"qgtyh\",\"urzqn\",\"cnrbs\",\"agnpq\",\"shzsy\",\"wpmdu\",\"pwvxq\",\"oxabo\",\"wfugh\",\"umarn\",\"eyxhg\",\"fxyrc\",\"mbvvb\",\"oljby\",\"apyon\",\"fxmty\",\"qkdty\",\"fnzkw\",\"lfzat\",\"unkvl\",\"fxorm\",\"cglra\",\"eusaj\",\"oykzc\",\"isivt\",\"nsoxb\",\"vxcmb\",\"iucez\",\"typxs\",\"kjogh\",\"wkfgi\",\"xpybl\",\"gwwdq\",\"uktox\",\"gihzo\",\"aihyh\",\"xclwz\",\"tufls\",\"fzaeo\",\"lwawp\",\"izerm\",\"cdcez\",\"lyssc\",\"ejiaz\",\"dsgmw\",\"emtho\",\"wgbme\",\"ajbuu\",\"belpd\",\"kgfgr\",\"blgrk\",\"dmcpi\",\"affsf\",\"aifhf\",\"csrhv\",\"kjbhv\",\"ixuez\",\"zufty\",\"ltcos\",\"njmvj\",\"kouqb\",\"qabym\",\"abpzn\",\"nlidh\",\"jiwkf\",\"ymadg\",\"kxpjy\",\"wqlya\",\"zqufx\",\"sqjze\",\"ypbcw\",\"rdqny\",\"rvavk\",\"dipjh\",\"fkqgc\",\"mtrmh\",\"wmrhg\",\"jfrrd\",\"owiph\",\"eqgpy\",\"edrqr\",\"npoym\",\"lljbl\",\"tnjyr\",\"ttqoo\",\"qdnnn\",\"wlyfj\",\"segno\",\"zuhuz\",\"xupbu\",\"apsst\",\"txmer\",\"dmrth\",\"paoti\",\"lrujq\",\"jwiln\",\"wsifa\",\"ouaax\",\"zulbm\",\"ajdlq\",\"roryj\",\"mdtni\",\"dnulg\",\"uwpay\",\"ukczz\",\"gctbj\",\"diflw\",\"pfcak\",\"beuli\",\"tspex\",\"iwbar\",\"fdbjb\",\"oeopw\",\"vhiiq\",\"buzzc\",\"woqwn\",\"ogdvl\",\"lonno\",\"ftqie\",\"ijfso\",\"vrmlq\",\"ecypq\",\"qhxga\",\"hnhxx\",\"slkvu\",\"cdxlc\",\"aoxjz\",\"nhrlb\",\"hxhyu\",\"wkbrn\",\"qvtww\",\"zhauq\",\"ssbit\",\"lcdcp\",\"cykpc\",\"jpkxn\",\"cedpk\",\"onypc\",\"ebjzu\"]\n",
       "}\n",
       "}]\n",
       "};\n",
       "           var plotContainer = document.getElementById(\"kMhPRr\");\n",
       "           window.letsPlotCall(function() {{\n",
       "               LetsPlot.buildPlotFromProcessedSpecs(plotSpec, -1, -1, plotContainer);\n",
       "           }});\n",
       "       })();    \n",
       "   </script>"
      ]
     },
     "execution_count": 4,
     "metadata": {},
     "output_type": "execute_result"
    }
   ],
   "source": [
    "// Disable sampling to see the overplotting.\n",
    "p + geomBar(sampling = samplingNone)"
   ]
  },
  {
   "cell_type": "code",
   "execution_count": 5,
   "metadata": {},
   "outputs": [
    {
     "data": {
      "text/html": [
       "   <div id=\"Bv7C8C\"></div>\n",
       "   <script type=\"text/javascript\" data-lets-plot-script=\"plot\">\n",
       "       (function() {\n",
       "           var plotSpec={\n",
       "\"mapping\":{\n",
       "\"x\":\"word\"\n",
       "},\n",
       "\"data\":{\n",
       "},\n",
       "\"kind\":\"plot\",\n",
       "\"scales\":[],\n",
       "\"layers\":[{\n",
       "\"mapping\":{\n",
       "},\n",
       "\"stat\":\"count\",\n",
       "\"position\":\"stack\",\n",
       "\"geom\":\"bar\",\n",
       "\"data\":{\n",
       "\"..count..\":[4.0,1.0,3.0,3.0,2.0,4.0,4.0,3.0,4.0,1.0,4.0,2.0,3.0,3.0,4.0,2.0,1.0,2.0,3.0,3.0,3.0,3.0,2.0,1.0,5.0,2.0,3.0,4.0,5.0,4.0,3.0,3.0,1.0,3.0,1.0,1.0,1.0,3.0,3.0,3.0,2.0,3.0,3.0,3.0,6.0,3.0,4.0,2.0,6.0,4.0],\n",
       "\"word\":[\"yfksk\",\"uwcwh\",\"pvrol\",\"tlicg\",\"qarkn\",\"talth\",\"hwhai\",\"kwoej\",\"dikdf\",\"bakyf\",\"nhdya\",\"dobrp\",\"yqpsj\",\"nkjqk\",\"tzqzr\",\"ocltn\",\"dftsl\",\"byaar\",\"qfdii\",\"wrcps\",\"abztn\",\"qpusn\",\"sljlq\",\"baxds\",\"fejth\",\"zbkir\",\"zqkxg\",\"utmav\",\"rpimg\",\"jyihe\",\"pwcsf\",\"tqzxj\",\"wpmir\",\"syuuq\",\"qsbet\",\"igkgc\",\"pgjqj\",\"ihpky\",\"urmvo\",\"goijm\",\"qltkp\",\"knbod\",\"vtdlc\",\"ukznc\",\"teoeo\",\"fsavh\",\"dneuu\",\"xwxte\",\"nzmiw\",\"smtzo\"]\n",
       "}\n",
       "}],\n",
       "\"computation_messages\":[\"sampling_pick(n=50) was applied to [bar/count stat] layer\"]\n",
       "};\n",
       "           var plotContainer = document.getElementById(\"Bv7C8C\");\n",
       "           window.letsPlotCall(function() {{\n",
       "               LetsPlot.buildPlotFromProcessedSpecs(plotSpec, -1, -1, plotContainer);\n",
       "           }});\n",
       "       })();    \n",
       "   </script>"
      ]
     },
     "execution_count": 5,
     "metadata": {},
     "output_type": "execute_result"
    }
   ],
   "source": [
    "// Draw plot with default sampling.\n",
    "p + geomBar()"
   ]
  },
  {
   "cell_type": "code",
   "execution_count": 6,
   "metadata": {},
   "outputs": [
    {
     "data": {
      "text/html": [
       "   <div id=\"Dfrrzs\"></div>\n",
       "   <script type=\"text/javascript\" data-lets-plot-script=\"plot\">\n",
       "       (function() {\n",
       "           var plotSpec={\n",
       "\"mapping\":{\n",
       "\"x\":\"word\"\n",
       "},\n",
       "\"data\":{\n",
       "},\n",
       "\"kind\":\"plot\",\n",
       "\"scales\":[],\n",
       "\"layers\":[{\n",
       "\"mapping\":{\n",
       "\"fill\":\"g\"\n",
       "},\n",
       "\"stat\":\"count\",\n",
       "\"position\":\"stack\",\n",
       "\"geom\":\"bar\",\n",
       "\"data\":{\n",
       "\"..count..\":[3.0,1.0,1.0,2.0,1.0,1.0,2.0,1.0,1.0,4.0,1.0,2.0,1.0,2.0,1.0,2.0,1.0,1.0,2.0,2.0,1.0,2.0,1.0,2.0,2.0,1.0,1.0,2.0,2.0,2.0,2.0,2.0,1.0,1.0,1.0,1.0,2.0,1.0,3.0,1.0,1.0,1.0,3.0,1.0,2.0,1.0,1.0,2.0,3.0,1.0,4.0,1.0,2.0,2.0,1.0,2.0,3.0,2.0,1.0,1.0,1.0,4.0,1.0,2.0,1.0,1.0,2.0,1.0,1.0,1.0,1.0,2.0,1.0,3.0,2.0,2.0,1.0,1.0,1.0,2.0,2.0,1.0,1.0,1.0,1.0,1.0,1.0,1.0],\n",
       "\"g\":[\"c\",\"c\",\"c\",\"c\",\"c\",\"c\",\"c\",\"c\",\"c\",\"c\",\"c\",\"c\",\"c\",\"c\",\"c\",\"c\",\"c\",\"c\",\"c\",\"c\",\"c\",\"c\",\"c\",\"c\",\"c\",\"c\",\"c\",\"c\",\"c\",\"c\",\"c\",\"c\",\"c\",\"c\",\"c\",\"c\",\"c\",\"c\",\"c\",\"c\",\"c\",\"c\",\"c\",\"c\",\"c\",\"c\",\"c\",\"c\",\"c\",\"c\",\"b\",\"b\",\"b\",\"b\",\"b\",\"b\",\"b\",\"b\",\"b\",\"b\",\"b\",\"b\",\"b\",\"b\",\"b\",\"b\",\"b\",\"b\",\"a\",\"a\",\"a\",\"a\",\"a\",\"a\",\"a\",\"a\",\"a\",\"a\",\"a\",\"a\",\"a\",\"a\",\"a\",\"a\",\"a\",\"a\",\"a\",\"a\"],\n",
       "\"word\":[\"yfksk\",\"uwcwh\",\"tlicg\",\"dikdf\",\"bakyf\",\"yqpsj\",\"wrcps\",\"qpusn\",\"baxds\",\"fejth\",\"zqkxg\",\"utmav\",\"jyihe\",\"syuuq\",\"knbod\",\"ukznc\",\"fsavh\",\"dneuu\",\"ugvie\",\"rqiei\",\"ybuoa\",\"robun\",\"esdgz\",\"hcqiq\",\"mcxza\",\"pbbdz\",\"bvkpg\",\"xhbft\",\"insyj\",\"oxlcp\",\"cysde\",\"xmdyi\",\"qqorh\",\"hzhgj\",\"vbaaj\",\"ssvuk\",\"autgm\",\"escvq\",\"xrztz\",\"jkdny\",\"uljaq\",\"wmblq\",\"xhcxc\",\"ocxzm\",\"iriqu\",\"rpimg\",\"yuqal\",\"epsgg\",\"pirwo\",\"qdfuz\",\"rpimg\",\"fejth\",\"jyihe\",\"zqkxg\",\"syuuq\",\"yqpsj\",\"autgm\",\"qdfuz\",\"fsavh\",\"yuqal\",\"uljaq\",\"xrztz\",\"wmblq\",\"xmdyi\",\"hzhgj\",\"utmav\",\"knbod\",\"cysde\",\"wrcps\",\"pbbdz\",\"jyihe\",\"dikdf\",\"fsavh\",\"dneuu\",\"qpusn\",\"tlicg\",\"yfksk\",\"utmav\",\"qdfuz\",\"ybuoa\",\"hzhgj\",\"oxlcp\",\"epsgg\",\"ugvie\",\"ocxzm\",\"insyj\",\"ukznc\",\"mcxza\"]\n",
       "}\n",
       "}],\n",
       "\"computation_messages\":[\"sampling_pick(n=50) was applied to [bar/count stat] layer\"]\n",
       "};\n",
       "           var plotContainer = document.getElementById(\"Dfrrzs\");\n",
       "           window.letsPlotCall(function() {{\n",
       "               LetsPlot.buildPlotFromProcessedSpecs(plotSpec, -1, -1, plotContainer);\n",
       "           }});\n",
       "       })();    \n",
       "   </script>"
      ]
     },
     "execution_count": 6,
     "metadata": {},
     "output_type": "execute_result"
    }
   ],
   "source": [
    "// 'pick' sampling preserves groups on bar chart.\n",
    "p + geomBar { fill=\"g\" }"
   ]
  },
  {
   "cell_type": "code",
   "execution_count": 7,
   "metadata": {},
   "outputs": [
    {
     "data": {
      "text/html": [
       "   <div id=\"adnML4\"></div>\n",
       "   <script type=\"text/javascript\" data-lets-plot-script=\"plot\">\n",
       "       (function() {\n",
       "           var plotSpec={\n",
       "\"mapping\":{\n",
       "\"x\":\"word\"\n",
       "},\n",
       "\"data\":{\n",
       "},\n",
       "\"kind\":\"plot\",\n",
       "\"scales\":[],\n",
       "\"layers\":[{\n",
       "\"mapping\":{\n",
       "\"x\":\"@as_discrete@word\",\n",
       "\"fill\":\"g\"\n",
       "},\n",
       "\"stat\":\"count\",\n",
       "\"position\":\"stack\",\n",
       "\"geom\":\"bar\",\n",
       "\"data_meta\":{\n",
       "\"mapping_annotations\":[{\n",
       "\"aes\":\"x\",\n",
       "\"annotation\":\"as_discrete\",\n",
       "\"parameters\":{\n",
       "\"label\":\"word\",\n",
       "\"order_by\":\"..count..\"\n",
       "}\n",
       "}]\n",
       "},\n",
       "\"data\":{\n",
       "\"..count..\":[4.0,2.0,3.0,1.0,1.0,3.0,1.0,2.0,2.0,1.0,3.0,2.0,2.0,2.0,2.0,3.0,2.0,2.0,2.0,3.0,1.0,2.0,2.0,2.0,2.0,1.0,3.0,1.0,1.0,1.0,1.0,1.0,1.0,3.0,1.0,1.0,1.0,1.0,1.0,2.0,2.0,1.0,4.0,1.0,3.0,2.0,1.0,1.0,2.0,3.0,2.0,2.0,2.0,2.0,2.0,4.0,2.0,2.0,2.0,1.0,2.0,2.0,1.0,1.0,2.0,2.0,1.0,3.0,2.0,2.0,1.0,1.0,1.0,3.0,3.0,1.0,2.0,1.0,1.0,2.0,2.0,4.0,2.0,2.0,1.0,1.0,2.0,5.0,1.0,4.0,2.0,3.0,3.0,1.0,2.0,3.0,3.0,1.0,3.0,2.0,1.0,2.0,1.0,3.0,3.0,2.0,2.0,2.0,1.0,2.0,1.0,1.0,1.0,1.0,1.0,2.0,1.0,2.0,2.0,2.0,1.0,1.0,1.0,1.0,1.0],\n",
       "\"g\":[\"c\",\"c\",\"c\",\"c\",\"c\",\"c\",\"c\",\"c\",\"c\",\"c\",\"c\",\"c\",\"c\",\"c\",\"c\",\"c\",\"c\",\"c\",\"c\",\"c\",\"c\",\"c\",\"c\",\"c\",\"c\",\"c\",\"c\",\"c\",\"c\",\"c\",\"c\",\"c\",\"c\",\"c\",\"c\",\"c\",\"c\",\"c\",\"c\",\"c\",\"c\",\"c\",\"b\",\"b\",\"b\",\"b\",\"b\",\"b\",\"b\",\"b\",\"b\",\"b\",\"b\",\"b\",\"b\",\"b\",\"b\",\"b\",\"b\",\"b\",\"b\",\"b\",\"b\",\"b\",\"b\",\"b\",\"b\",\"b\",\"b\",\"b\",\"b\",\"b\",\"b\",\"b\",\"b\",\"b\",\"b\",\"b\",\"b\",\"b\",\"b\",\"b\",\"b\",\"b\",\"b\",\"b\",\"a\",\"a\",\"a\",\"a\",\"a\",\"a\",\"a\",\"a\",\"a\",\"a\",\"a\",\"a\",\"a\",\"a\",\"a\",\"a\",\"a\",\"a\",\"a\",\"a\",\"a\",\"a\",\"a\",\"a\",\"a\",\"a\",\"a\",\"a\",\"a\",\"a\",\"a\",\"a\",\"a\",\"a\",\"a\",\"a\",\"a\",\"a\",\"a\"],\n",
       "\"@as_discrete@word\":[\"fejth\",\"autgm\",\"xrztz\",\"rpimg\",\"nvnzu\",\"ftxbp\",\"riqcw\",\"bveni\",\"zunnk\",\"obyfd\",\"uwdsp\",\"pdzjo\",\"nqmfh\",\"ftliz\",\"lclhx\",\"uqqcl\",\"nzmiw\",\"otkjq\",\"xnnpj\",\"yidlh\",\"ajvoc\",\"dklko\",\"sxbcb\",\"rejly\",\"pdtfe\",\"jrebn\",\"lrrvd\",\"cnrbs\",\"fxmty\",\"jiwkf\",\"ejipu\",\"jrafe\",\"jxebp\",\"pwvxq\",\"ukczz\",\"agnpq\",\"nmsoi\",\"xclwz\",\"teucm\",\"teoeo\",\"ucfql\",\"kuiks\",\"rpimg\",\"fejth\",\"nzmiw\",\"nmsoi\",\"ajvoc\",\"sxbcb\",\"teoeo\",\"autgm\",\"ejipu\",\"uqqcl\",\"wudzy\",\"nqmfh\",\"jrebn\",\"xrztz\",\"xnnpj\",\"zunnk\",\"lclhx\",\"kuiks\",\"cubwi\",\"cztlj\",\"rejly\",\"ucfql\",\"jxebp\",\"otkjq\",\"riqcw\",\"fnzkw\",\"bveni\",\"fxmty\",\"ftliz\",\"dklko\",\"yidlh\",\"csecr\",\"jiwkf\",\"obyfd\",\"yaekd\",\"jrafe\",\"uwdsp\",\"ftxbp\",\"agnpq\",\"roryj\",\"cnrbs\",\"ukczz\",\"xclwz\",\"pdzjo\",\"teoeo\",\"kambc\",\"nzmiw\",\"csecr\",\"otkjq\",\"ftliz\",\"wudzy\",\"xnnpj\",\"yaekd\",\"ajvoc\",\"pdtfe\",\"jxebp\",\"obyfd\",\"kuiks\",\"dklko\",\"cztlj\",\"lrrvd\",\"teucm\",\"nvnzu\",\"zunnk\",\"riqcw\",\"jrafe\",\"rejly\",\"cubwi\",\"pdzjo\",\"cnrbs\",\"agnpq\",\"pwvxq\",\"fxmty\",\"xclwz\",\"sxbcb\",\"jrebn\",\"ftxbp\",\"ukczz\",\"ucfql\",\"nmsoi\",\"fnzkw\",\"roryj\",\"ejipu\"]\n",
       "}\n",
       "}],\n",
       "\"computation_messages\":[\"sampling_pick(n=50) was applied to [bar/count stat] layer\"]\n",
       "};\n",
       "           var plotContainer = document.getElementById(\"adnML4\");\n",
       "           window.letsPlotCall(function() {{\n",
       "               LetsPlot.buildPlotFromProcessedSpecs(plotSpec, -1, -1, plotContainer);\n",
       "           }});\n",
       "       })();    \n",
       "   </script>"
      ]
     },
     "execution_count": 7,
     "metadata": {},
     "output_type": "execute_result"
    }
   ],
   "source": [
    "// Orgering words by `count` might be a good idea.\n",
    "p + geomBar {\n",
    "    fill = \"g\"\n",
    "    x = asDiscrete(\"word\", orderBy = \"..count..\")\n",
    "}"
   ]
  }
 ],
 "metadata": {
  "kernelspec": {
   "display_name": "Kotlin",
   "language": "kotlin",
   "name": "kotlin"
  },
  "language_info": {
   "codemirror_mode": "text/x-kotlin",
   "file_extension": ".kt",
   "mimetype": "text/x-kotlin",
   "name": "kotlin",
   "nbconvert_exporter": "",
   "pygments_lexer": "kotlin",
   "version": "1.6.20-dev-3702"
  }
 },
 "nbformat": 4,
 "nbformat_minor": 4
}
