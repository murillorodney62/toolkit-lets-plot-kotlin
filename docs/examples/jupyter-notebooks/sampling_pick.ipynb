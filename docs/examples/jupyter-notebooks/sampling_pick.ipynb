{
 "cells": [
  {
   "cell_type": "markdown",
   "metadata": {},
   "source": [
    "### Pick Sampling"
   ]
  },
  {
   "cell_type": "code",
   "execution_count": 1,
   "metadata": {},
   "outputs": [
    {
     "data": {
      "text/html": [
       "   <div id=\"MweiHE\"></div>\n",
       "   <script type=\"text/javascript\" data-lets-plot-script=\"library\">\n",
       "       if(!window.letsPlotCallQueue) {\n",
       "           window.letsPlotCallQueue = [];\n",
       "       }; \n",
       "       window.letsPlotCall = function(f) {\n",
       "           window.letsPlotCallQueue.push(f);\n",
       "       };\n",
       "       (function() {\n",
       "           var script = document.createElement(\"script\");\n",
       "           script.type = \"text/javascript\";\n",
       "           script.src = \"https://cdn.jsdelivr.net/gh/JetBrains/lets-plot@v2.4.0/js-package/distr/lets-plot.min.js\";\n",
       "           script.onload = function() {\n",
       "               window.letsPlotCall = function(f) {f();};\n",
       "               window.letsPlotCallQueue.forEach(function(f) {f();});\n",
       "               window.letsPlotCallQueue = [];\n",
       "               \n",
       "               \n",
       "           };\n",
       "           script.onerror = function(event) {\n",
       "               window.letsPlotCall = function(f) {};\n",
       "               window.letsPlotCallQueue = [];\n",
       "               var div = document.createElement(\"div\");\n",
       "               div.style.color = 'darkred';\n",
       "               div.textContent = 'Error loading Lets-Plot JS';\n",
       "               document.getElementById(\"MweiHE\").appendChild(div);\n",
       "           };\n",
       "           var e = document.getElementById(\"MweiHE\");\n",
       "           e.appendChild(script);\n",
       "       })();\n",
       "   </script>"
      ]
     },
     "metadata": {},
     "output_type": "display_data"
    }
   ],
   "source": [
    "%useLatestDescriptors\n",
    "%use lets-plot"
   ]
  },
  {
   "cell_type": "code",
   "execution_count": 2,
   "metadata": {},
   "outputs": [],
   "source": [
    "fun genWord(length:Int):String {\n",
    "    val letters = ('a'..'z')\n",
    "    return List(length) { letters.random() }.joinToString(\"\")\n",
    "}    \n",
    "\n",
    "fun genWordSet(n:Int):Set<String> {\n",
    "    val words = HashSet<String>()\n",
    "    while(words.size < n) {\n",
    "        words.add(genWord(5))\n",
    "    }\n",
    "    return words\n",
    "}\n",
    "\n",
    "fun data(n:Int, words:Set<String>):Map<String, *> {\n",
    "    return mapOf(\n",
    "            \"word\" to List(n) { words.random() },\n",
    "            \"g\" to List(n) { listOf('a','b','c').random() }\n",
    "        )\n",
    "}"
   ]
  },
  {
   "cell_type": "code",
   "execution_count": 3,
   "metadata": {},
   "outputs": [],
   "source": [
    "// Number of unique words exceeds threshold (50) of default 'pick' sampling on bar chart.\n",
    "val words = genWordSet(500)\n",
    "val dat = data(1000, words)\n",
    "val p = ggplot(dat) { x = \"word\" }"
   ]
  },
  {
   "cell_type": "code",
   "execution_count": 4,
   "metadata": {},
   "outputs": [
    {
     "data": {
      "text/html": [
       "   <div id=\"glHeIG\"></div>\n",
       "   <script type=\"text/javascript\" data-lets-plot-script=\"plot\">\n",
       "       (function() {\n",
       "           var plotSpec={\n",
       "\"mapping\":{\n",
       "\"x\":\"word\"\n",
       "},\n",
       "\"data\":{\n",
       "},\n",
       "\"kind\":\"plot\",\n",
       "\"scales\":[],\n",
       "\"layers\":[{\n",
       "\"mapping\":{\n",
       "},\n",
       "\"stat\":\"count\",\n",
       "\"sampling\":\"none\",\n",
       "\"position\":\"stack\",\n",
       "\"geom\":\"bar\",\n",
       "\"data\":{\n",
       "\"..count..\":[3.0,3.0,2.0,4.0,4.0,4.0,3.0,1.0,2.0,5.0,3.0,1.0,3.0,2.0,2.0,1.0,1.0,3.0,3.0,1.0,2.0,1.0,4.0,5.0,5.0,3.0,5.0,6.0,2.0,4.0,5.0,4.0,3.0,4.0,3.0,4.0,1.0,4.0,1.0,5.0,3.0,3.0,2.0,3.0,6.0,3.0,3.0,4.0,2.0,1.0,3.0,2.0,3.0,3.0,2.0,3.0,7.0,1.0,4.0,3.0,4.0,2.0,1.0,5.0,2.0,2.0,3.0,5.0,3.0,4.0,3.0,3.0,2.0,2.0,4.0,3.0,2.0,2.0,2.0,2.0,3.0,2.0,6.0,2.0,3.0,3.0,1.0,3.0,1.0,4.0,3.0,4.0,5.0,2.0,2.0,3.0,2.0,2.0,6.0,1.0,5.0,1.0,3.0,1.0,6.0,2.0,3.0,4.0,4.0,6.0,2.0,3.0,2.0,2.0,2.0,4.0,3.0,3.0,4.0,1.0,1.0,3.0,2.0,2.0,3.0,3.0,4.0,2.0,3.0,2.0,1.0,2.0,5.0,3.0,1.0,2.0,2.0,2.0,3.0,1.0,2.0,4.0,5.0,2.0,4.0,2.0,4.0,1.0,4.0,2.0,2.0,3.0,2.0,2.0,4.0,4.0,1.0,2.0,2.0,1.0,4.0,3.0,1.0,2.0,2.0,4.0,1.0,3.0,3.0,2.0,3.0,1.0,2.0,1.0,2.0,1.0,1.0,1.0,1.0,1.0,2.0,3.0,1.0,3.0,4.0,2.0,1.0,3.0,4.0,1.0,4.0,1.0,1.0,4.0,2.0,1.0,4.0,2.0,2.0,1.0,3.0,6.0,1.0,1.0,3.0,2.0,4.0,2.0,1.0,1.0,2.0,1.0,4.0,1.0,3.0,3.0,5.0,2.0,1.0,3.0,3.0,3.0,2.0,1.0,2.0,4.0,1.0,3.0,4.0,2.0,3.0,2.0,1.0,2.0,1.0,5.0,2.0,2.0,1.0,2.0,2.0,3.0,2.0,4.0,3.0,3.0,2.0,3.0,2.0,2.0,2.0,1.0,1.0,1.0,1.0,3.0,2.0,2.0,1.0,1.0,2.0,2.0,1.0,3.0,4.0,4.0,2.0,2.0,1.0,2.0,5.0,2.0,2.0,4.0,1.0,2.0,4.0,3.0,3.0,3.0,1.0,3.0,1.0,6.0,2.0,3.0,1.0,2.0,1.0,2.0,4.0,3.0,5.0,3.0,1.0,4.0,2.0,1.0,2.0,1.0,2.0,1.0,2.0,2.0,3.0,2.0,3.0,1.0,3.0,1.0,1.0,2.0,2.0,2.0,1.0,1.0,2.0,4.0,4.0,1.0,2.0,2.0,1.0,1.0,1.0,2.0,4.0,2.0,1.0,2.0,1.0,1.0,3.0,2.0,2.0,2.0,3.0,2.0,1.0,1.0,2.0,1.0,2.0,1.0,1.0,1.0,2.0,2.0,1.0,4.0,1.0,4.0,2.0,1.0,1.0,3.0,2.0,2.0,1.0,3.0,1.0,2.0,1.0,2.0,4.0,1.0,1.0,1.0,1.0,1.0,1.0,1.0,3.0,2.0,1.0,2.0,3.0,1.0,1.0,1.0,1.0,2.0,1.0,1.0,1.0,2.0,2.0,1.0,1.0,3.0,3.0,1.0,1.0,1.0,2.0,1.0,3.0,1.0,1.0,2.0,1.0,1.0,2.0,2.0,1.0,1.0,1.0,1.0,3.0,1.0,1.0,1.0,1.0,1.0,2.0,1.0,2.0,1.0,2.0,1.0,1.0,1.0,1.0,1.0,2.0,2.0,1.0,1.0,1.0,1.0,1.0,1.0,1.0,1.0,1.0,1.0,1.0],\n",
       "\"word\":[\"auard\",\"cbeqp\",\"nuxlo\",\"nhaut\",\"jtxpr\",\"wngak\",\"dohvz\",\"agnfp\",\"meges\",\"ljmvh\",\"ihpyw\",\"zyziw\",\"tkxxi\",\"dfoll\",\"nyuni\",\"ljxox\",\"yfktz\",\"joojb\",\"mvspb\",\"buomv\",\"wgiyb\",\"fkpkd\",\"qnlyy\",\"moioh\",\"rkhaw\",\"szmcx\",\"mtfzw\",\"nlpnr\",\"uejib\",\"uwmec\",\"ldfld\",\"gchhd\",\"ctiva\",\"yvkye\",\"mfjrd\",\"ijkir\",\"eohpj\",\"eibow\",\"bcrjm\",\"mmrmo\",\"hyxtj\",\"rwvvi\",\"fzrlf\",\"syyzh\",\"abmcs\",\"ijmym\",\"hgvac\",\"nunlp\",\"hoknv\",\"sdpbk\",\"gokfu\",\"ufubu\",\"pusns\",\"medbw\",\"wudbs\",\"rusto\",\"lawoq\",\"bplep\",\"tgabt\",\"pbkmp\",\"ucipb\",\"vrwqt\",\"efmma\",\"cceab\",\"ytzqc\",\"iygzc\",\"tvzeg\",\"mjxkw\",\"answf\",\"gbbxn\",\"aownj\",\"gstrm\",\"ldeyd\",\"btoce\",\"ylrvj\",\"wybds\",\"upbti\",\"hqyjg\",\"vfbaq\",\"zdepg\",\"svjji\",\"sylzv\",\"nmnix\",\"jfpac\",\"kqyed\",\"bsoev\",\"ynutd\",\"kxmrj\",\"vszcv\",\"asvma\",\"jtueu\",\"ophvb\",\"djfvu\",\"gdhwx\",\"xviyl\",\"kykpc\",\"pkney\",\"czont\",\"fzlrq\",\"akmps\",\"izwzf\",\"fbwpy\",\"eaimb\",\"uhblt\",\"xzhhw\",\"poxwc\",\"uqiku\",\"ouwvb\",\"oczfe\",\"dedqv\",\"lsgzf\",\"nvdva\",\"bhnhg\",\"xinox\",\"kqtiv\",\"azgpj\",\"xwxgs\",\"lkcxx\",\"wxqug\",\"tsduo\",\"tuvuc\",\"hsziz\",\"jzkfq\",\"hxgbv\",\"bfwcj\",\"apwjv\",\"oadwo\",\"lalek\",\"kduar\",\"zlinq\",\"jgpsc\",\"vskut\",\"qpvaq\",\"cwmyu\",\"kzgwp\",\"bncbu\",\"twlcz\",\"ermqs\",\"ohslx\",\"pwqyn\",\"dkiii\",\"bycrq\",\"njngn\",\"zfgrb\",\"arsih\",\"ysqyr\",\"fplta\",\"nmsay\",\"oesec\",\"sxavp\",\"kmmat\",\"jqven\",\"dimzh\",\"uemac\",\"emcgg\",\"rtzmb\",\"azmis\",\"krylc\",\"qpmno\",\"oczls\",\"bxaao\",\"gbynw\",\"tjclt\",\"modzb\",\"tuzqj\",\"zjgab\",\"ttdjm\",\"ihzip\",\"pbwwo\",\"qoabi\",\"zxwto\",\"zyngd\",\"wbqmd\",\"aoqwt\",\"eslbs\",\"mcdzo\",\"dxjnz\",\"zwwqc\",\"ydksi\",\"vgfzc\",\"uhnpz\",\"isncq\",\"ypnsf\",\"kzzni\",\"matgp\",\"jtxsb\",\"wbubp\",\"fwzmk\",\"uzemg\",\"eqvpm\",\"owjwf\",\"hjltn\",\"qadbg\",\"agooc\",\"auagx\",\"dwwfn\",\"uhzue\",\"iblzz\",\"ilsqg\",\"wwics\",\"bwgro\",\"mzloz\",\"ikkrv\",\"yaeyc\",\"uwtur\",\"ovfvb\",\"whfbj\",\"qhrez\",\"fjefb\",\"enzpi\",\"cnupa\",\"ehkba\",\"dvitk\",\"uilte\",\"bvcod\",\"aruvh\",\"sjirb\",\"leppp\",\"uqatc\",\"ojjhq\",\"dqkbk\",\"nphqz\",\"moiza\",\"qyqhc\",\"otcnh\",\"bzvnj\",\"rutsz\",\"xmfsb\",\"qxeax\",\"aduxr\",\"ohyye\",\"wasnj\",\"wihlt\",\"ihxco\",\"jjlsi\",\"xyeyq\",\"fsxpu\",\"uivlk\",\"zgmdt\",\"igwhs\",\"gaqri\",\"ydlwl\",\"sqkuz\",\"pawjz\",\"kuamm\",\"hvjvv\",\"zohld\",\"awmke\",\"tcult\",\"palht\",\"jjpfo\",\"jruuc\",\"zxrno\",\"lmnzy\",\"xrsec\",\"vhrqp\",\"mnuub\",\"kofti\",\"vacqd\",\"plptp\",\"anfsz\",\"cbqzu\",\"sathw\",\"yqqid\",\"jqtuq\",\"fgcht\",\"pughb\",\"wsuqz\",\"ropyi\",\"cciaq\",\"tjouj\",\"luuhl\",\"cqeuq\",\"cwryx\",\"zbhhp\",\"opdld\",\"quagu\",\"woigh\",\"vspse\",\"calmi\",\"whtha\",\"xkcva\",\"lflez\",\"estah\",\"etbyz\",\"vyxgv\",\"pbtic\",\"aexyc\",\"dmjrw\",\"hcrtc\",\"gxqwr\",\"uguiz\",\"gkanf\",\"nlctd\",\"yosvf\",\"sqeyq\",\"ragjf\",\"awcfb\",\"whwtm\",\"sithh\",\"lbout\",\"ufeth\",\"yimdc\",\"lmsnk\",\"fxvox\",\"cccje\",\"plvpq\",\"zsltf\",\"fwzsz\",\"qxqyo\",\"eybsj\",\"xhxhy\",\"cigvg\",\"eaklv\",\"fupoo\",\"awctv\",\"ngodv\",\"mqiae\",\"gcgpt\",\"ichpl\",\"tuhlv\",\"llvbr\",\"ejtij\",\"mxfpr\",\"uapxg\",\"hqedm\",\"tylrr\",\"zyrpy\",\"xvxav\",\"itxmk\",\"fshpf\",\"oympt\",\"cmpag\",\"dscos\",\"niiiy\",\"mqgbq\",\"hvqiw\",\"jzvxx\",\"yqafb\",\"fuizp\",\"ejruh\",\"nfdty\",\"itzxn\",\"isjub\",\"eallr\",\"wqexv\",\"sptjl\",\"tvrpc\",\"hqiim\",\"niakd\",\"pbeex\",\"cfbtg\",\"tjhdu\",\"majjf\",\"kyfxj\",\"xjhrn\",\"krpsb\",\"znnca\",\"bzyti\",\"vxtin\",\"rjqzp\",\"gjoom\",\"gmkmd\",\"ghjdm\",\"vmqlo\",\"lebbw\",\"wpens\",\"kchhi\",\"aaveh\",\"mhumo\",\"gtgiq\",\"nqqfv\",\"glwud\",\"llyxl\",\"crjvu\",\"pjufy\",\"ueuec\",\"goimn\",\"kviss\",\"ggpie\",\"ggbxj\",\"mbhvr\",\"knsis\",\"snkai\",\"ghenm\",\"tfuly\",\"asszo\",\"dryms\",\"opzyo\",\"mjmsk\",\"qtkvi\",\"ddzsk\",\"psigi\",\"leybe\",\"ltrhx\",\"fmaet\",\"pfyzl\",\"urakj\",\"vkqzk\",\"dpcfj\",\"rlutz\",\"aspsc\",\"vjeor\",\"hzgzc\",\"romry\",\"gfmdm\",\"ubtze\",\"yhajv\",\"zaogu\",\"nsksw\",\"domhb\",\"ufvrv\",\"upnnn\",\"eiagq\",\"yxewt\",\"xbgql\",\"czanj\",\"zeohv\",\"oaihh\",\"kqcke\",\"vcmww\",\"uvgpa\",\"vvcjp\",\"bgibw\",\"nngxz\",\"hlarf\",\"gcliu\",\"cisqg\",\"cmlhz\",\"nvzpl\",\"cnirl\",\"anlvp\",\"rtpmw\",\"bfsvr\",\"xxdqo\",\"dkmyd\",\"taqed\"]\n",
       "}\n",
       "}]\n",
       "};\n",
       "           var plotContainer = document.getElementById(\"glHeIG\");\n",
       "           window.letsPlotCall(function() {{\n",
       "               LetsPlot.buildPlotFromProcessedSpecs(plotSpec, -1, -1, plotContainer);\n",
       "           }});\n",
       "       })();    \n",
       "   </script>"
      ]
     },
     "execution_count": 4,
     "metadata": {},
     "output_type": "execute_result"
    }
   ],
   "source": [
    "// Disable sampling to see the overplotting.\n",
    "p + geomBar(sampling = samplingNone)"
   ]
  },
  {
   "cell_type": "code",
   "execution_count": 5,
   "metadata": {},
   "outputs": [
    {
     "data": {
      "text/html": [
       "   <div id=\"iCy3oL\"></div>\n",
       "   <script type=\"text/javascript\" data-lets-plot-script=\"plot\">\n",
       "       (function() {\n",
       "           var plotSpec={\n",
       "\"mapping\":{\n",
       "\"x\":\"word\"\n",
       "},\n",
       "\"data\":{\n",
       "},\n",
       "\"kind\":\"plot\",\n",
       "\"scales\":[],\n",
       "\"layers\":[{\n",
       "\"mapping\":{\n",
       "},\n",
       "\"stat\":\"count\",\n",
       "\"position\":\"stack\",\n",
       "\"geom\":\"bar\",\n",
       "\"data\":{\n",
       "\"..count..\":[3.0,3.0,2.0,4.0,4.0,4.0,3.0,1.0,2.0,5.0,3.0,1.0,3.0,2.0,2.0,1.0,1.0,3.0,3.0,1.0,2.0,1.0,4.0,5.0,5.0,3.0,5.0,6.0,2.0,4.0,5.0,4.0,3.0,4.0,3.0,4.0,1.0,4.0,1.0,5.0,3.0,3.0,2.0,3.0,6.0,3.0,3.0,4.0,2.0,1.0],\n",
       "\"word\":[\"auard\",\"cbeqp\",\"nuxlo\",\"nhaut\",\"jtxpr\",\"wngak\",\"dohvz\",\"agnfp\",\"meges\",\"ljmvh\",\"ihpyw\",\"zyziw\",\"tkxxi\",\"dfoll\",\"nyuni\",\"ljxox\",\"yfktz\",\"joojb\",\"mvspb\",\"buomv\",\"wgiyb\",\"fkpkd\",\"qnlyy\",\"moioh\",\"rkhaw\",\"szmcx\",\"mtfzw\",\"nlpnr\",\"uejib\",\"uwmec\",\"ldfld\",\"gchhd\",\"ctiva\",\"yvkye\",\"mfjrd\",\"ijkir\",\"eohpj\",\"eibow\",\"bcrjm\",\"mmrmo\",\"hyxtj\",\"rwvvi\",\"fzrlf\",\"syyzh\",\"abmcs\",\"ijmym\",\"hgvac\",\"nunlp\",\"hoknv\",\"sdpbk\"]\n",
       "}\n",
       "}],\n",
       "\"computation_messages\":[\"sampling_pick(n=50) was applied to [bar/count stat] layer\"]\n",
       "};\n",
       "           var plotContainer = document.getElementById(\"iCy3oL\");\n",
       "           window.letsPlotCall(function() {{\n",
       "               LetsPlot.buildPlotFromProcessedSpecs(plotSpec, -1, -1, plotContainer);\n",
       "           }});\n",
       "       })();    \n",
       "   </script>"
      ]
     },
     "execution_count": 5,
     "metadata": {},
     "output_type": "execute_result"
    }
   ],
   "source": [
    "// Draw plot with default sampling.\n",
    "p + geomBar()"
   ]
  },
  {
   "cell_type": "code",
   "execution_count": 6,
   "metadata": {},
   "outputs": [
    {
     "data": {
      "text/html": [
       "   <div id=\"zulcZx\"></div>\n",
       "   <script type=\"text/javascript\" data-lets-plot-script=\"plot\">\n",
       "       (function() {\n",
       "           var plotSpec={\n",
       "\"mapping\":{\n",
       "\"x\":\"word\"\n",
       "},\n",
       "\"data\":{\n",
       "},\n",
       "\"kind\":\"plot\",\n",
       "\"scales\":[],\n",
       "\"layers\":[{\n",
       "\"mapping\":{\n",
       "\"fill\":\"g\"\n",
       "},\n",
       "\"stat\":\"count\",\n",
       "\"position\":\"stack\",\n",
       "\"geom\":\"bar\",\n",
       "\"data\":{\n",
       "\"..count..\":[2.0,1.0,1.0,3.0,1.0,2.0,3.0,2.0,1.0,2.0,1.0,2.0,1.0,1.0,1.0,2.0,2.0,1.0,1.0,2.0,2.0,3.0,2.0,3.0,1.0,2.0,1.0,2.0,1.0,1.0,1.0,1.0,2.0,1.0,1.0,2.0,1.0,2.0,1.0,2.0,2.0,1.0,2.0,1.0,1.0,1.0,1.0,1.0,1.0,2.0,2.0,1.0,2.0,3.0,3.0,2.0,1.0,2.0,1.0,1.0,1.0,2.0,1.0,1.0,1.0,2.0,1.0,1.0,1.0,1.0,1.0,1.0,2.0,2.0,2.0,2.0,1.0,1.0,1.0,1.0,1.0,3.0,1.0,1.0,1.0,2.0,1.0,1.0,1.0,2.0,2.0,2.0,1.0,1.0,1.0,1.0,1.0,1.0],\n",
       "\"g\":[\"b\",\"b\",\"b\",\"b\",\"b\",\"b\",\"b\",\"b\",\"b\",\"b\",\"b\",\"b\",\"b\",\"b\",\"b\",\"b\",\"b\",\"b\",\"b\",\"b\",\"b\",\"b\",\"b\",\"b\",\"b\",\"b\",\"b\",\"b\",\"b\",\"b\",\"b\",\"b\",\"b\",\"b\",\"b\",\"b\",\"b\",\"b\",\"b\",\"b\",\"b\",\"b\",\"b\",\"b\",\"b\",\"b\",\"b\",\"b\",\"b\",\"b\",\"c\",\"c\",\"c\",\"c\",\"c\",\"c\",\"c\",\"c\",\"c\",\"c\",\"c\",\"c\",\"c\",\"c\",\"c\",\"c\",\"c\",\"c\",\"c\",\"c\",\"c\",\"a\",\"a\",\"a\",\"a\",\"a\",\"a\",\"a\",\"a\",\"a\",\"a\",\"a\",\"a\",\"a\",\"a\",\"a\",\"a\",\"a\",\"a\",\"a\",\"a\",\"a\",\"a\",\"a\",\"a\",\"a\",\"a\",\"a\"],\n",
       "\"word\":[\"auard\",\"agnfp\",\"meges\",\"ljmvh\",\"dfoll\",\"mvspb\",\"szmcx\",\"gchhd\",\"ctiva\",\"mfjrd\",\"bcrjm\",\"mmrmo\",\"rwvvi\",\"fzrlf\",\"abmcs\",\"medbw\",\"rusto\",\"nunlp\",\"vrwqt\",\"ytzqc\",\"tvzeg\",\"ylrvj\",\"vfbaq\",\"svjji\",\"sylzv\",\"bsoev\",\"ynutd\",\"asvma\",\"xviyl\",\"pkney\",\"cceab\",\"izwzf\",\"xzhhw\",\"lsgzf\",\"nvdva\",\"bhnhg\",\"kqtiv\",\"wngak\",\"tuvuc\",\"lalek\",\"kqyed\",\"jgpsc\",\"vskut\",\"pwqyn\",\"njngn\",\"emcgg\",\"rtzmb\",\"krylc\",\"wybds\",\"qpmno\",\"wybds\",\"kqyed\",\"cceab\",\"abmcs\",\"njngn\",\"mmrmo\",\"asvma\",\"xzhhw\",\"rwvvi\",\"lsgzf\",\"auard\",\"izwzf\",\"rusto\",\"nunlp\",\"bsoev\",\"nvdva\",\"ctiva\",\"medbw\",\"krylc\",\"wngak\",\"emcgg\",\"wngak\",\"ljmvh\",\"abmcs\",\"nunlp\",\"cceab\",\"mvspb\",\"tvzeg\",\"fzrlf\",\"kqtiv\",\"mfjrd\",\"rtzmb\",\"sylzv\",\"xviyl\",\"meges\",\"gchhd\",\"njngn\",\"rwvvi\",\"vrwqt\",\"xzhhw\",\"emcgg\",\"izwzf\",\"ylrvj\",\"mmrmo\",\"ctiva\",\"pkney\",\"dfoll\",\"asvma\"]\n",
       "}\n",
       "}],\n",
       "\"computation_messages\":[\"sampling_pick(n=50) was applied to [bar/count stat] layer\"]\n",
       "};\n",
       "           var plotContainer = document.getElementById(\"zulcZx\");\n",
       "           window.letsPlotCall(function() {{\n",
       "               LetsPlot.buildPlotFromProcessedSpecs(plotSpec, -1, -1, plotContainer);\n",
       "           }});\n",
       "       })();    \n",
       "   </script>"
      ]
     },
     "execution_count": 6,
     "metadata": {},
     "output_type": "execute_result"
    }
   ],
   "source": [
    "// 'pick' sampling preserves groups on bar chart.\n",
    "p + geomBar { fill=\"g\" }"
   ]
  },
  {
   "cell_type": "code",
   "execution_count": 7,
   "metadata": {},
   "outputs": [
    {
     "data": {
      "text/html": [
       "   <div id=\"jyPZW8\"></div>\n",
       "   <script type=\"text/javascript\" data-lets-plot-script=\"plot\">\n",
       "       (function() {\n",
       "           var plotSpec={\n",
       "\"mapping\":{\n",
       "\"x\":\"word\"\n",
       "},\n",
       "\"data\":{\n",
       "},\n",
       "\"kind\":\"plot\",\n",
       "\"scales\":[],\n",
       "\"layers\":[{\n",
       "\"mapping\":{\n",
       "\"x\":\"@as_discrete@word\",\n",
       "\"fill\":\"g\"\n",
       "},\n",
       "\"stat\":\"count\",\n",
       "\"position\":\"stack\",\n",
       "\"geom\":\"bar\",\n",
       "\"data_meta\":{\n",
       "\"mapping_annotations\":[{\n",
       "\"aes\":\"x\",\n",
       "\"annotation\":\"as_discrete\",\n",
       "\"parameters\":{\n",
       "\"label\":\"word\",\n",
       "\"order_by\":\"..count..\"\n",
       "}\n",
       "}]\n",
       "},\n",
       "\"data\":{\n",
       "\"..count..\":[3.0,2.0,1.0,3.0,1.0,1.0,2.0,2.0,1.0,1.0,1.0,3.0,2.0,4.0,3.0,1.0,4.0,2.0,1.0,2.0,2.0,2.0,1.0,3.0,2.0,2.0,1.0,2.0,2.0,2.0,4.0,1.0,2.0,1.0,1.0,1.0,1.0,3.0,4.0,3.0,3.0,1.0,4.0,4.0,1.0,2.0,4.0,2.0,3.0,3.0,3.0,2.0,2.0,1.0,2.0,2.0,3.0,2.0,2.0,2.0,2.0,3.0,1.0,1.0,2.0,3.0,1.0,2.0,1.0,1.0,2.0,1.0,1.0,1.0,1.0,1.0,1.0,1.0,1.0,1.0,2.0,1.0,3.0,1.0,2.0,2.0,2.0,1.0,2.0,2.0,3.0,3.0,2.0,1.0,1.0,1.0,2.0,2.0,2.0,2.0,2.0,3.0,1.0,1.0,3.0,1.0,1.0,2.0,1.0,2.0,1.0,2.0,2.0,1.0,1.0,3.0,1.0,2.0,1.0,2.0,1.0,2.0,1.0,2.0,1.0,1.0,1.0],\n",
       "\"g\":[\"b\",\"b\",\"b\",\"b\",\"b\",\"b\",\"b\",\"b\",\"b\",\"b\",\"b\",\"b\",\"b\",\"b\",\"b\",\"b\",\"b\",\"b\",\"b\",\"b\",\"b\",\"b\",\"b\",\"b\",\"b\",\"b\",\"b\",\"b\",\"b\",\"b\",\"b\",\"b\",\"b\",\"b\",\"b\",\"b\",\"b\",\"c\",\"c\",\"c\",\"c\",\"c\",\"c\",\"c\",\"c\",\"c\",\"c\",\"c\",\"c\",\"c\",\"c\",\"c\",\"c\",\"c\",\"c\",\"c\",\"c\",\"c\",\"c\",\"c\",\"c\",\"c\",\"c\",\"c\",\"c\",\"c\",\"c\",\"c\",\"c\",\"c\",\"c\",\"c\",\"c\",\"c\",\"c\",\"c\",\"c\",\"c\",\"c\",\"a\",\"a\",\"a\",\"a\",\"a\",\"a\",\"a\",\"a\",\"a\",\"a\",\"a\",\"a\",\"a\",\"a\",\"a\",\"a\",\"a\",\"a\",\"a\",\"a\",\"a\",\"a\",\"a\",\"a\",\"a\",\"a\",\"a\",\"a\",\"a\",\"a\",\"a\",\"a\",\"a\",\"a\",\"a\",\"a\",\"a\",\"a\",\"a\",\"a\",\"a\",\"a\",\"a\",\"a\",\"a\",\"a\",\"a\",\"a\"],\n",
       "\"@as_discrete@word\":[\"ljmvh\",\"mmrmo\",\"abmcs\",\"ylrvj\",\"cceab\",\"izwzf\",\"xzhhw\",\"wngak\",\"njngn\",\"rtzmb\",\"ouwvb\",\"dedqv\",\"whfbj\",\"nmnix\",\"oczfe\",\"ldfld\",\"lawoq\",\"rkhaw\",\"pawjz\",\"tjouj\",\"xyeyq\",\"mzloz\",\"wxqug\",\"gkanf\",\"oadwo\",\"tgabt\",\"oesec\",\"uhzue\",\"qpvaq\",\"sjirb\",\"vmqlo\",\"yvkye\",\"quagu\",\"owjwf\",\"moioh\",\"estah\",\"nlpnr\",\"qnlyy\",\"moioh\",\"mtfzw\",\"ldfld\",\"ucipb\",\"mjxkw\",\"nlpnr\",\"nmnix\",\"cceab\",\"fzlrq\",\"dedqv\",\"abmcs\",\"zjgab\",\"njngn\",\"djfvu\",\"uzemg\",\"oesec\",\"mmrmo\",\"sjirb\",\"qxeax\",\"xyeyq\",\"mzloz\",\"xzhhw\",\"yvkye\",\"sqeyq\",\"oadwo\",\"lawoq\",\"izwzf\",\"estah\",\"tgabt\",\"wxqug\",\"ophvb\",\"tjouj\",\"pawjz\",\"whfbj\",\"qpvaq\",\"tylrr\",\"rkhaw\",\"owjwf\",\"uwmec\",\"wngak\",\"ouwvb\",\"wngak\",\"rkhaw\",\"nlpnr\",\"uwmec\",\"yvkye\",\"ljmvh\",\"abmcs\",\"lawoq\",\"tgabt\",\"mtfzw\",\"cceab\",\"ophvb\",\"djfvu\",\"ouwvb\",\"oczfe\",\"wxqug\",\"oadwo\",\"qpvaq\",\"oesec\",\"owjwf\",\"uhzue\",\"mzloz\",\"rtzmb\",\"sjirb\",\"qxeax\",\"ucipb\",\"xyeyq\",\"dedqv\",\"uzemg\",\"mjxkw\",\"quagu\",\"njngn\",\"tjouj\",\"estah\",\"pawjz\",\"ldfld\",\"tylrr\",\"nmnix\",\"gkanf\",\"qnlyy\",\"xzhhw\",\"zjgab\",\"izwzf\",\"ylrvj\",\"fzlrq\",\"mmrmo\",\"whfbj\",\"sqeyq\"]\n",
       "}\n",
       "}],\n",
       "\"computation_messages\":[\"sampling_pick(n=50) was applied to [bar/count stat] layer\"]\n",
       "};\n",
       "           var plotContainer = document.getElementById(\"jyPZW8\");\n",
       "           window.letsPlotCall(function() {{\n",
       "               LetsPlot.buildPlotFromProcessedSpecs(plotSpec, -1, -1, plotContainer);\n",
       "           }});\n",
       "       })();    \n",
       "   </script>"
      ]
     },
     "execution_count": 7,
     "metadata": {},
     "output_type": "execute_result"
    }
   ],
   "source": [
    "// Orgering words by `count` might be a good idea.\n",
    "p + geomBar {\n",
    "    fill = \"g\"\n",
    "    x = asDiscrete(\"word\", orderBy = \"..count..\")\n",
    "}"
   ]
  }
 ],
 "metadata": {
  "kernelspec": {
   "display_name": "Kotlin",
   "language": "kotlin",
   "name": "kotlin"
  },
  "language_info": {
   "codemirror_mode": "text/x-kotlin",
   "file_extension": ".kt",
   "mimetype": "text/x-kotlin",
   "name": "kotlin",
   "nbconvert_exporter": "",
   "pygments_lexer": "kotlin",
   "version": "1.7.20-dev-1299"
  }
 },
 "nbformat": 4,
 "nbformat_minor": 4
}
