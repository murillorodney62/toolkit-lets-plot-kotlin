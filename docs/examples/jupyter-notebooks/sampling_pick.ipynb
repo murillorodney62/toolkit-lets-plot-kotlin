{
 "cells": [
  {
   "cell_type": "markdown",
   "metadata": {},
   "source": [
    "### Pick Sampling"
   ]
  },
  {
   "cell_type": "code",
   "execution_count": 1,
   "metadata": {},
   "outputs": [
    {
     "data": {
      "text/html": [
       "   <div id=\"woOyu8\"></div>\n",
       "   <script type=\"text/javascript\" data-lets-plot-script=\"library\">\n",
       "       if(!window.letsPlotCallQueue) {\n",
       "           window.letsPlotCallQueue = [];\n",
       "       }; \n",
       "       window.letsPlotCall = function(f) {\n",
       "           window.letsPlotCallQueue.push(f);\n",
       "       };\n",
       "       (function() {\n",
       "           var script = document.createElement(\"script\");\n",
       "           script.type = \"text/javascript\";\n",
       "           script.src = \"https://cdn.jsdelivr.net/gh/JetBrains/lets-plot@v2.4.0/js-package/distr/lets-plot.min.js\";\n",
       "           script.onload = function() {\n",
       "               window.letsPlotCall = function(f) {f();};\n",
       "               window.letsPlotCallQueue.forEach(function(f) {f();});\n",
       "               window.letsPlotCallQueue = [];\n",
       "               \n",
       "               \n",
       "           };\n",
       "           script.onerror = function(event) {\n",
       "               window.letsPlotCall = function(f) {};\n",
       "               window.letsPlotCallQueue = [];\n",
       "               var div = document.createElement(\"div\");\n",
       "               div.style.color = 'darkred';\n",
       "               div.textContent = 'Error loading Lets-Plot JS';\n",
       "               document.getElementById(\"woOyu8\").appendChild(div);\n",
       "           };\n",
       "           var e = document.getElementById(\"woOyu8\");\n",
       "           e.appendChild(script);\n",
       "       })();\n",
       "   </script>"
      ]
     },
     "metadata": {},
     "output_type": "display_data"
    }
   ],
   "source": [
    "%useLatestDescriptors\n",
    "%use lets-plot"
   ]
  },
  {
   "cell_type": "code",
   "execution_count": 2,
   "metadata": {},
   "outputs": [],
   "source": [
    "fun genWord(length:Int):String {\n",
    "    val letters = ('a'..'z')\n",
    "    return List(length) { letters.random() }.joinToString(\"\")\n",
    "}    \n",
    "\n",
    "fun genWordSet(n:Int):Set<String> {\n",
    "    val words = HashSet<String>()\n",
    "    while(words.size < n) {\n",
    "        words.add(genWord(5))\n",
    "    }\n",
    "    return words\n",
    "}\n",
    "\n",
    "fun data(n:Int, words:Set<String>):Map<String, *> {\n",
    "    return mapOf(\n",
    "            \"word\" to List(n) { words.random() },\n",
    "            \"g\" to List(n) { listOf('a','b','c').random() }\n",
    "        )\n",
    "}"
   ]
  },
  {
   "cell_type": "code",
   "execution_count": 3,
   "metadata": {},
   "outputs": [],
   "source": [
    "// Number of unique words exceeds threshold (50) of default 'pick' sampling on bar chart.\n",
    "val words = genWordSet(500)\n",
    "val dat = data(1000, words)\n",
    "val p = ggplot(dat) { x = \"word\" }"
   ]
  },
  {
   "cell_type": "code",
   "execution_count": 4,
   "metadata": {},
   "outputs": [
    {
     "data": {
      "text/html": [
       "   <div id=\"0T73qv\"></div>\n",
       "   <script type=\"text/javascript\" data-lets-plot-script=\"plot\">\n",
       "       (function() {\n",
       "           var plotSpec={\n",
       "\"mapping\":{\n",
       "\"x\":\"word\"\n",
       "},\n",
       "\"data\":{\n",
       "},\n",
       "\"kind\":\"plot\",\n",
       "\"scales\":[],\n",
       "\"layers\":[{\n",
       "\"mapping\":{\n",
       "},\n",
       "\"stat\":\"count\",\n",
       "\"sampling\":\"none\",\n",
       "\"position\":\"stack\",\n",
       "\"geom\":\"bar\",\n",
       "\"data\":{\n",
       "\"..count..\":[3.0,4.0,3.0,1.0,2.0,6.0,4.0,4.0,1.0,3.0,3.0,1.0,2.0,3.0,3.0,5.0,4.0,2.0,3.0,3.0,5.0,2.0,1.0,5.0,4.0,2.0,1.0,5.0,3.0,2.0,3.0,2.0,2.0,2.0,1.0,1.0,4.0,6.0,1.0,3.0,2.0,2.0,4.0,5.0,1.0,2.0,5.0,1.0,2.0,1.0,1.0,4.0,2.0,3.0,3.0,2.0,4.0,3.0,3.0,2.0,3.0,5.0,4.0,5.0,1.0,2.0,4.0,5.0,1.0,3.0,3.0,3.0,3.0,2.0,4.0,2.0,2.0,4.0,5.0,3.0,2.0,1.0,1.0,2.0,1.0,2.0,2.0,3.0,2.0,1.0,3.0,6.0,2.0,3.0,5.0,6.0,4.0,1.0,2.0,3.0,4.0,1.0,3.0,2.0,5.0,3.0,3.0,5.0,1.0,4.0,3.0,5.0,2.0,5.0,4.0,4.0,2.0,1.0,3.0,2.0,2.0,1.0,2.0,3.0,1.0,1.0,3.0,3.0,4.0,2.0,2.0,2.0,3.0,1.0,2.0,3.0,2.0,3.0,4.0,1.0,3.0,4.0,2.0,2.0,4.0,3.0,5.0,3.0,2.0,2.0,2.0,3.0,3.0,2.0,2.0,4.0,2.0,3.0,1.0,3.0,3.0,4.0,2.0,4.0,1.0,3.0,4.0,2.0,3.0,3.0,3.0,3.0,4.0,1.0,2.0,4.0,3.0,3.0,3.0,2.0,2.0,3.0,2.0,2.0,2.0,3.0,2.0,3.0,4.0,2.0,3.0,3.0,1.0,2.0,5.0,2.0,8.0,7.0,2.0,2.0,1.0,5.0,2.0,1.0,2.0,3.0,2.0,3.0,2.0,2.0,2.0,2.0,4.0,2.0,4.0,4.0,3.0,3.0,3.0,1.0,1.0,1.0,1.0,1.0,3.0,1.0,2.0,2.0,2.0,3.0,2.0,3.0,4.0,4.0,2.0,2.0,4.0,1.0,2.0,3.0,4.0,3.0,3.0,1.0,5.0,1.0,2.0,3.0,1.0,1.0,4.0,2.0,4.0,2.0,2.0,4.0,1.0,1.0,5.0,1.0,3.0,3.0,1.0,3.0,1.0,2.0,1.0,2.0,2.0,4.0,1.0,2.0,2.0,3.0,5.0,3.0,2.0,1.0,2.0,3.0,2.0,2.0,2.0,2.0,5.0,2.0,1.0,1.0,2.0,1.0,1.0,4.0,1.0,6.0,1.0,4.0,1.0,1.0,2.0,3.0,1.0,2.0,1.0,2.0,3.0,1.0,3.0,1.0,1.0,2.0,2.0,2.0,4.0,3.0,1.0,1.0,2.0,4.0,2.0,2.0,2.0,3.0,2.0,2.0,3.0,3.0,2.0,2.0,2.0,1.0,2.0,4.0,1.0,2.0,2.0,1.0,2.0,1.0,1.0,4.0,1.0,1.0,2.0,1.0,1.0,1.0,1.0,1.0,3.0,1.0,1.0,1.0,2.0,1.0,2.0,1.0,2.0,2.0,1.0,3.0,2.0,1.0,2.0,3.0,2.0,3.0,2.0,1.0,1.0,2.0,1.0,1.0,1.0,1.0,2.0,3.0,2.0,3.0,1.0,3.0,2.0,1.0,1.0,1.0,1.0,1.0,2.0,1.0,2.0,2.0,1.0,1.0,2.0,2.0,2.0,1.0,2.0,2.0,2.0,1.0,2.0,1.0,3.0,3.0,1.0,1.0,1.0,1.0,1.0,1.0,1.0,1.0,1.0,1.0,1.0,1.0,1.0,1.0,1.0,1.0],\n",
       "\"word\":[\"dyfmw\",\"edhfu\",\"xhcwk\",\"lcasg\",\"qajll\",\"rvpvn\",\"nwuzq\",\"jpcnr\",\"ebuhk\",\"hhfru\",\"pdjab\",\"ytisi\",\"iltht\",\"jjmom\",\"qvrjx\",\"stmkd\",\"sjptn\",\"vellj\",\"cnbkg\",\"lqlha\",\"puqem\",\"lbfpd\",\"rrzqp\",\"ooida\",\"jceer\",\"jmrzp\",\"bregl\",\"pdldl\",\"ttygp\",\"gbiat\",\"dgpms\",\"weebd\",\"fngtg\",\"frjrl\",\"vhutn\",\"kqcdc\",\"hheei\",\"oxqhu\",\"unsrx\",\"xgbvb\",\"tulip\",\"yiurq\",\"kispd\",\"fstaj\",\"buwgc\",\"ncpzy\",\"mmhqb\",\"iixsy\",\"yorbl\",\"hwnyj\",\"pfvlr\",\"hofrw\",\"ywcjz\",\"gnqsq\",\"osasv\",\"polun\",\"fziza\",\"ujyff\",\"pouaw\",\"ybavj\",\"umege\",\"evcbq\",\"iiwrl\",\"wynpl\",\"tapzy\",\"xwczz\",\"wzdhw\",\"lyjms\",\"xpldz\",\"ihsin\",\"naytf\",\"wgbcv\",\"sxjbc\",\"ltdld\",\"nyslm\",\"dezml\",\"xqbyo\",\"ajhrb\",\"onvit\",\"futwn\",\"cgecb\",\"wrqxb\",\"ehgga\",\"uctjt\",\"fmsya\",\"pelwh\",\"mmtum\",\"yanok\",\"tnzeu\",\"rsnsm\",\"rojwi\",\"nmmgc\",\"xfrqw\",\"ghmaw\",\"izzqa\",\"igglr\",\"acbpo\",\"slumv\",\"uarfo\",\"wllsx\",\"qwktz\",\"uywme\",\"xakwo\",\"snlwr\",\"sxrle\",\"ghxvl\",\"baaft\",\"maqje\",\"ctagp\",\"hucro\",\"kcdnl\",\"ersju\",\"xohzf\",\"sioat\",\"hklsp\",\"rregd\",\"phobi\",\"cixax\",\"omzoz\",\"tkcwj\",\"rpwvt\",\"rdhtq\",\"zieij\",\"ujghs\",\"tslwa\",\"vsibr\",\"sqhve\",\"wevsm\",\"xdcgs\",\"zoxtg\",\"xupdn\",\"gmklv\",\"kkjnf\",\"nhudt\",\"qkuht\",\"ekqju\",\"ptacc\",\"jdphx\",\"cwzxk\",\"dppth\",\"pkwuo\",\"dsgsv\",\"kqful\",\"hbedw\",\"lokde\",\"bhgbi\",\"nzuxh\",\"cqyxj\",\"ansek\",\"puxbi\",\"cibms\",\"eizkf\",\"cyyto\",\"hggxc\",\"tmqzi\",\"ggvpu\",\"yhsdk\",\"oughc\",\"wkhqs\",\"rvksa\",\"zdhul\",\"bhjcv\",\"crndz\",\"ecwqk\",\"krfpe\",\"uedjk\",\"blzvt\",\"dxoqa\",\"bjuiu\",\"fuade\",\"uckvb\",\"cxuos\",\"cvsdp\",\"zpoov\",\"bemqf\",\"rhgqt\",\"xclvj\",\"qhrcx\",\"xvtkn\",\"ukpxt\",\"ddubi\",\"rxjxu\",\"bkqpd\",\"suswk\",\"iquhh\",\"twtpe\",\"vmeyg\",\"uqman\",\"vjxda\",\"kuzre\",\"uxuen\",\"dxqhz\",\"njjcr\",\"qotwa\",\"lwsje\",\"melod\",\"ziaqb\",\"lcvka\",\"rhdcg\",\"qthjv\",\"xrjzq\",\"idwnh\",\"ghlid\",\"qqrkl\",\"rjrdp\",\"cwzxa\",\"zzyuu\",\"dexdk\",\"srupr\",\"lsecj\",\"vczrc\",\"ofoqf\",\"xpxjy\",\"hiftw\",\"abmnj\",\"reiny\",\"wqhhz\",\"ghsqv\",\"ivaaz\",\"skybg\",\"ctyfj\",\"vvpku\",\"yycmy\",\"wirnv\",\"ocwgr\",\"akypm\",\"owhoj\",\"ncplt\",\"twwhc\",\"xgztm\",\"egazu\",\"wrpku\",\"eicsj\",\"luoib\",\"gzbep\",\"dopsk\",\"pnhfr\",\"luesd\",\"gddyt\",\"tobhy\",\"ktihq\",\"vqztr\",\"pxmce\",\"nzzum\",\"yonyk\",\"ymrgo\",\"ihrpm\",\"fretk\",\"yxqpz\",\"btcwk\",\"oxqzz\",\"pffft\",\"dzbtq\",\"xufsl\",\"nztrs\",\"ouqvv\",\"kuyeg\",\"xdiuz\",\"otgfp\",\"ullof\",\"alzoi\",\"okyam\",\"smyyx\",\"jqnzg\",\"tuafs\",\"ipuah\",\"ojbxs\",\"regip\",\"kqbsa\",\"gyuli\",\"ufqpi\",\"sgjos\",\"jfgtx\",\"ibmpi\",\"xbbbl\",\"znvrd\",\"mndxl\",\"nsphg\",\"qjvhg\",\"qplgr\",\"oysvc\",\"vdapr\",\"kwfmb\",\"bwlsq\",\"ypcnd\",\"hqouw\",\"sdhhq\",\"ioguy\",\"daqxr\",\"lyvnb\",\"urodu\",\"nzrxz\",\"tztbk\",\"cngvj\",\"zbizp\",\"xncnd\",\"tgfax\",\"ywepb\",\"caokh\",\"jhcrf\",\"llhxl\",\"nttxt\",\"wygoi\",\"zmgsc\",\"pjdyw\",\"lvrlo\",\"toqxt\",\"cxzrt\",\"caesb\",\"qvuvd\",\"qxuwh\",\"uufyz\",\"ihiof\",\"ooabv\",\"imfey\",\"mfdsr\",\"rbqzw\",\"tvwmf\",\"dvcdm\",\"pwkqd\",\"pynun\",\"noyrm\",\"asbyp\",\"uazqr\",\"wckvw\",\"iekpr\",\"fzsja\",\"ggwyk\",\"iznnu\",\"rkvua\",\"tbtvo\",\"mtuol\",\"ymzit\",\"rouss\",\"yhvsu\",\"umunn\",\"tmtam\",\"wthhb\",\"cuewb\",\"pbzad\",\"dvrge\",\"btrli\",\"vpslr\",\"obtlr\",\"vofmo\",\"xsgpe\",\"etuwm\",\"pjtni\",\"jumrd\",\"jsgmd\",\"ozznv\",\"anmua\",\"nsdjk\",\"dpuyg\",\"bekpx\",\"tpxni\",\"awqfc\",\"gklmg\",\"csmiy\",\"siteo\",\"enfyw\",\"nhezq\",\"cihso\",\"hnmgy\",\"sweph\",\"oyboe\",\"wzfqf\",\"svrhx\",\"twhte\",\"ethsr\",\"cwcyr\",\"qkpyf\",\"qqjma\",\"ohwwm\",\"uapua\",\"sdgiu\",\"cenio\",\"ibtbt\",\"gehrf\",\"sibiv\",\"jgflm\",\"leuwf\",\"dhcan\",\"lofeh\",\"qcenk\",\"xibjx\",\"oeekf\",\"qthxo\",\"zlqes\",\"mjkpu\",\"eqgvt\",\"pjpxs\",\"yvdkb\",\"xmrpc\",\"jvdsl\",\"oyifs\",\"dofem\",\"xxdtb\",\"oklzh\",\"nairx\",\"pmuna\",\"mlbim\",\"gdsah\",\"rsdop\",\"atbhq\",\"orzje\",\"lqwpb\",\"pbafr\",\"qclyw\",\"yaafy\",\"takqz\",\"rkqjw\",\"ktumx\",\"uzmep\",\"kmmlm\",\"jhiqx\",\"bypcl\",\"bynzd\",\"fpfyk\",\"xjpur\"]\n",
       "}\n",
       "}]\n",
       "};\n",
       "           var plotContainer = document.getElementById(\"0T73qv\");\n",
       "           window.letsPlotCall(function() {{\n",
       "               LetsPlot.buildPlotFromProcessedSpecs(plotSpec, -1, -1, plotContainer);\n",
       "           }});\n",
       "       })();    \n",
       "   </script>"
      ]
     },
     "execution_count": 4,
     "metadata": {},
     "output_type": "execute_result"
    }
   ],
   "source": [
    "// Disable sampling to see the overplotting.\n",
    "p + geomBar(sampling = samplingNone)"
   ]
  },
  {
   "cell_type": "code",
   "execution_count": 5,
   "metadata": {},
   "outputs": [
    {
     "data": {
      "text/html": [
       "   <div id=\"SZIeFz\"></div>\n",
       "   <script type=\"text/javascript\" data-lets-plot-script=\"plot\">\n",
       "       (function() {\n",
       "           var plotSpec={\n",
       "\"mapping\":{\n",
       "\"x\":\"word\"\n",
       "},\n",
       "\"data\":{\n",
       "},\n",
       "\"kind\":\"plot\",\n",
       "\"scales\":[],\n",
       "\"layers\":[{\n",
       "\"mapping\":{\n",
       "},\n",
       "\"stat\":\"count\",\n",
       "\"position\":\"stack\",\n",
       "\"geom\":\"bar\",\n",
       "\"data\":{\n",
       "\"..count..\":[3.0,4.0,3.0,1.0,2.0,6.0,4.0,4.0,1.0,3.0,3.0,1.0,2.0,3.0,3.0,5.0,4.0,2.0,3.0,3.0,5.0,2.0,1.0,5.0,4.0,2.0,1.0,5.0,3.0,2.0,3.0,2.0,2.0,2.0,1.0,1.0,4.0,6.0,1.0,3.0,2.0,2.0,4.0,5.0,1.0,2.0,5.0,1.0,2.0,1.0],\n",
       "\"word\":[\"dyfmw\",\"edhfu\",\"xhcwk\",\"lcasg\",\"qajll\",\"rvpvn\",\"nwuzq\",\"jpcnr\",\"ebuhk\",\"hhfru\",\"pdjab\",\"ytisi\",\"iltht\",\"jjmom\",\"qvrjx\",\"stmkd\",\"sjptn\",\"vellj\",\"cnbkg\",\"lqlha\",\"puqem\",\"lbfpd\",\"rrzqp\",\"ooida\",\"jceer\",\"jmrzp\",\"bregl\",\"pdldl\",\"ttygp\",\"gbiat\",\"dgpms\",\"weebd\",\"fngtg\",\"frjrl\",\"vhutn\",\"kqcdc\",\"hheei\",\"oxqhu\",\"unsrx\",\"xgbvb\",\"tulip\",\"yiurq\",\"kispd\",\"fstaj\",\"buwgc\",\"ncpzy\",\"mmhqb\",\"iixsy\",\"yorbl\",\"hwnyj\"]\n",
       "}\n",
       "}],\n",
       "\"computation_messages\":[\"sampling_pick(n=50) was applied to [bar/count stat] layer\"]\n",
       "};\n",
       "           var plotContainer = document.getElementById(\"SZIeFz\");\n",
       "           window.letsPlotCall(function() {{\n",
       "               LetsPlot.buildPlotFromProcessedSpecs(plotSpec, -1, -1, plotContainer);\n",
       "           }});\n",
       "       })();    \n",
       "   </script>"
      ]
     },
     "execution_count": 5,
     "metadata": {},
     "output_type": "execute_result"
    }
   ],
   "source": [
    "// Draw plot with default sampling.\n",
    "p + geomBar()"
   ]
  },
  {
   "cell_type": "code",
   "execution_count": 6,
   "metadata": {},
   "outputs": [
    {
     "data": {
      "text/html": [
       "   <div id=\"480cW4\"></div>\n",
       "   <script type=\"text/javascript\" data-lets-plot-script=\"plot\">\n",
       "       (function() {\n",
       "           var plotSpec={\n",
       "\"mapping\":{\n",
       "\"x\":\"word\"\n",
       "},\n",
       "\"data\":{\n",
       "},\n",
       "\"kind\":\"plot\",\n",
       "\"scales\":[],\n",
       "\"layers\":[{\n",
       "\"mapping\":{\n",
       "\"fill\":\"g\"\n",
       "},\n",
       "\"stat\":\"count\",\n",
       "\"position\":\"stack\",\n",
       "\"geom\":\"bar\",\n",
       "\"data\":{\n",
       "\"..count..\":[2.0,2.0,3.0,3.0,2.0,1.0,1.0,1.0,3.0,2.0,1.0,1.0,1.0,1.0,2.0,3.0,1.0,1.0,1.0,1.0,2.0,1.0,1.0,1.0,1.0,2.0,1.0,1.0,1.0,2.0,2.0,1.0,1.0,2.0,1.0,1.0,1.0,1.0,2.0,2.0,3.0,3.0,1.0,1.0,3.0,1.0,1.0,1.0,2.0,2.0,2.0,1.0,1.0,1.0,2.0,2.0,1.0,1.0,2.0,1.0,1.0,1.0,1.0,1.0,1.0,1.0,1.0,1.0,1.0,1.0,1.0,1.0,1.0,1.0,1.0,2.0,2.0,1.0,1.0,1.0,2.0,2.0,2.0,1.0,1.0,2.0,2.0,1.0,1.0,1.0,2.0,1.0,1.0,1.0,2.0,1.0,1.0,2.0],\n",
       "\"g\":[\"b\",\"b\",\"b\",\"b\",\"b\",\"b\",\"b\",\"b\",\"b\",\"b\",\"b\",\"b\",\"b\",\"b\",\"b\",\"b\",\"b\",\"b\",\"b\",\"b\",\"b\",\"b\",\"b\",\"b\",\"b\",\"b\",\"b\",\"b\",\"b\",\"b\",\"b\",\"b\",\"b\",\"b\",\"b\",\"b\",\"b\",\"b\",\"b\",\"b\",\"b\",\"b\",\"b\",\"b\",\"b\",\"b\",\"b\",\"b\",\"b\",\"b\",\"a\",\"a\",\"a\",\"a\",\"a\",\"a\",\"a\",\"a\",\"a\",\"a\",\"a\",\"a\",\"a\",\"a\",\"a\",\"a\",\"a\",\"a\",\"a\",\"a\",\"a\",\"a\",\"a\",\"a\",\"a\",\"c\",\"c\",\"c\",\"c\",\"c\",\"c\",\"c\",\"c\",\"c\",\"c\",\"c\",\"c\",\"c\",\"c\",\"c\",\"c\",\"c\",\"c\",\"c\",\"c\",\"c\",\"c\",\"c\"],\n",
       "\"word\":[\"dyfmw\",\"edhfu\",\"rvpvn\",\"nwuzq\",\"jpcnr\",\"ebuhk\",\"cnbkg\",\"lbfpd\",\"pdldl\",\"ttygp\",\"gbiat\",\"unsrx\",\"xgbvb\",\"yiurq\",\"kispd\",\"fstaj\",\"buwgc\",\"iixsy\",\"pfvlr\",\"ywcjz\",\"pouaw\",\"ybavj\",\"umege\",\"iiwrl\",\"xwczz\",\"lyjms\",\"xpldz\",\"sxjbc\",\"jceer\",\"ltdld\",\"futwn\",\"uctjt\",\"fmsya\",\"pelwh\",\"mmtum\",\"yanok\",\"tnzeu\",\"rsnsm\",\"nmmgc\",\"uarfo\",\"sxrle\",\"maqje\",\"ctagp\",\"kcdnl\",\"ersju\",\"xohzf\",\"phobi\",\"omzoz\",\"rpwvt\",\"zieij\",\"jceer\",\"pouaw\",\"rvpvn\",\"mmtum\",\"omzoz\",\"nmmgc\",\"cnbkg\",\"iiwrl\",\"kcdnl\",\"xohzf\",\"futwn\",\"phobi\",\"maqje\",\"dyfmw\",\"gbiat\",\"pdldl\",\"umege\",\"sxrle\",\"yiurq\",\"ttygp\",\"lyjms\",\"tnzeu\",\"xwczz\",\"yanok\",\"kispd\",\"jpcnr\",\"ersju\",\"lbfpd\",\"ywcjz\",\"umege\",\"sxjbc\",\"iiwrl\",\"rvpvn\",\"maqje\",\"pdldl\",\"xgbvb\",\"fstaj\",\"cnbkg\",\"ybavj\",\"nwuzq\",\"lyjms\",\"yanok\",\"kispd\",\"jceer\",\"edhfu\",\"sxrle\",\"uctjt\",\"nmmgc\"]\n",
       "}\n",
       "}],\n",
       "\"computation_messages\":[\"sampling_pick(n=50) was applied to [bar/count stat] layer\"]\n",
       "};\n",
       "           var plotContainer = document.getElementById(\"480cW4\");\n",
       "           window.letsPlotCall(function() {{\n",
       "               LetsPlot.buildPlotFromProcessedSpecs(plotSpec, -1, -1, plotContainer);\n",
       "           }});\n",
       "       })();    \n",
       "   </script>"
      ]
     },
     "execution_count": 6,
     "metadata": {},
     "output_type": "execute_result"
    }
   ],
   "source": [
    "// 'pick' sampling preserves groups on bar chart.\n",
    "p + geomBar { fill=\"g\" }"
   ]
  },
  {
   "cell_type": "code",
   "execution_count": 7,
   "metadata": {},
   "outputs": [
    {
     "data": {
      "text/html": [
       "   <div id=\"AWfFLJ\"></div>\n",
       "   <script type=\"text/javascript\" data-lets-plot-script=\"plot\">\n",
       "       (function() {\n",
       "           var plotSpec={\n",
       "\"mapping\":{\n",
       "\"x\":\"word\"\n",
       "},\n",
       "\"data\":{\n",
       "},\n",
       "\"kind\":\"plot\",\n",
       "\"scales\":[],\n",
       "\"layers\":[{\n",
       "\"mapping\":{\n",
       "\"x\":\"@as_discrete@word\",\n",
       "\"fill\":\"g\"\n",
       "},\n",
       "\"stat\":\"count\",\n",
       "\"position\":\"stack\",\n",
       "\"geom\":\"bar\",\n",
       "\"data_meta\":{\n",
       "\"mapping_annotations\":[{\n",
       "\"aes\":\"x\",\n",
       "\"annotation\":\"as_discrete\",\n",
       "\"parameters\":{\n",
       "\"label\":\"word\",\n",
       "\"order_by\":\"..count..\"\n",
       "}\n",
       "}]\n",
       "},\n",
       "\"data\":{\n",
       "\"..count..\":[3.0,3.0,3.0,3.0,2.0,2.0,3.0,3.0,3.0,2.0,2.0,2.0,5.0,2.0,2.0,2.0,3.0,3.0,2.0,3.0,2.0,1.0,1.0,2.0,2.0,3.0,2.0,1.0,2.0,2.0,2.0,2.0,3.0,1.0,1.0,2.0,1.0,1.0,2.0,1.0,1.0,1.0,1.0,1.0,2.0,1.0,1.0,2.0,1.0,1.0,1.0,2.0,1.0,1.0,2.0,1.0,2.0,1.0,1.0,5.0,2.0,3.0,2.0,2.0,1.0,2.0,2.0,1.0,1.0,2.0,2.0,2.0,2.0,2.0,1.0,1.0,3.0,1.0,1.0,2.0,1.0,1.0,1.0,1.0,2.0,2.0,2.0,3.0,3.0,3.0,3.0,2.0,1.0,3.0,1.0,3.0,2.0,2.0,3.0,2.0,1.0,3.0,3.0,2.0,2.0,2.0,2.0,1.0,2.0,1.0,2.0,2.0,1.0,1.0,1.0,1.0,2.0,2.0,3.0,3.0,1.0,1.0,1.0,1.0,2.0,1.0,1.0,2.0],\n",
       "\"@as_discrete@word\":[\"rvpvn\",\"nwuzq\",\"pdldl\",\"fstaj\",\"lyjms\",\"nmmgc\",\"sxrle\",\"maqje\",\"ersju\",\"stmkd\",\"nyslm\",\"vjxda\",\"ziaqb\",\"xpxjy\",\"oxqhu\",\"pnhfr\",\"lokde\",\"ooida\",\"rregd\",\"otgfp\",\"rhgqt\",\"xbbbl\",\"ypcnd\",\"ouqvv\",\"nzrxz\",\"cngvj\",\"xncnd\",\"qwktz\",\"igglr\",\"puqem\",\"idwnh\",\"wzdhw\",\"xdcgs\",\"evcbq\",\"mtuol\",\"izzqa\",\"yonyk\",\"mmhqb\",\"sjptn\",\"tvwmf\",\"lcvka\",\"onvit\",\"luoib\",\"reiny\",\"puqem\",\"evcbq\",\"rvpvn\",\"wynpl\",\"mmhqb\",\"izzqa\",\"igglr\",\"qwktz\",\"xdcgs\",\"onvit\",\"sioat\",\"lokde\",\"nmmgc\",\"nyslm\",\"vjxda\",\"lcvka\",\"lwsje\",\"luoib\",\"yonyk\",\"oxqzz\",\"reiny\",\"ouqvv\",\"ypcnd\",\"pnhfr\",\"maqje\",\"xbbbl\",\"nzuxh\",\"nzrxz\",\"tvwmf\",\"otgfp\",\"pdldl\",\"sxrle\",\"pbzad\",\"stmkd\",\"oxqhu\",\"mtuol\",\"lyjms\",\"xncnd\",\"rhgqt\",\"idwnh\",\"stmkd\",\"sjptn\",\"ooida\",\"oxqhu\",\"mmhqb\",\"evcbq\",\"wynpl\",\"wzdhw\",\"nyslm\",\"onvit\",\"qwktz\",\"sioat\",\"rregd\",\"ersju\",\"nzuxh\",\"izzqa\",\"rhgqt\",\"igglr\",\"lwsje\",\"idwnh\",\"reiny\",\"xpxjy\",\"rvpvn\",\"maqje\",\"yonyk\",\"pdldl\",\"fstaj\",\"ypcnd\",\"xncnd\",\"puqem\",\"nwuzq\",\"vjxda\",\"lyjms\",\"xbbbl\",\"cngvj\",\"ziaqb\",\"lcvka\",\"mtuol\",\"pnhfr\",\"sxrle\",\"nmmgc\",\"tvwmf\",\"pbzad\",\"oxqzz\"],\n",
       "\"g\":[\"b\",\"b\",\"b\",\"b\",\"b\",\"b\",\"b\",\"b\",\"b\",\"b\",\"b\",\"b\",\"b\",\"b\",\"b\",\"b\",\"b\",\"b\",\"b\",\"b\",\"b\",\"b\",\"b\",\"b\",\"b\",\"b\",\"b\",\"b\",\"b\",\"b\",\"b\",\"b\",\"b\",\"b\",\"b\",\"b\",\"b\",\"b\",\"b\",\"b\",\"b\",\"b\",\"b\",\"b\",\"a\",\"a\",\"a\",\"a\",\"a\",\"a\",\"a\",\"a\",\"a\",\"a\",\"a\",\"a\",\"a\",\"a\",\"a\",\"a\",\"a\",\"a\",\"a\",\"a\",\"a\",\"a\",\"a\",\"a\",\"a\",\"a\",\"a\",\"a\",\"a\",\"a\",\"a\",\"a\",\"a\",\"a\",\"a\",\"a\",\"a\",\"a\",\"a\",\"a\",\"c\",\"c\",\"c\",\"c\",\"c\",\"c\",\"c\",\"c\",\"c\",\"c\",\"c\",\"c\",\"c\",\"c\",\"c\",\"c\",\"c\",\"c\",\"c\",\"c\",\"c\",\"c\",\"c\",\"c\",\"c\",\"c\",\"c\",\"c\",\"c\",\"c\",\"c\",\"c\",\"c\",\"c\",\"c\",\"c\",\"c\",\"c\",\"c\",\"c\",\"c\",\"c\",\"c\",\"c\"]\n",
       "}\n",
       "}],\n",
       "\"computation_messages\":[\"sampling_pick(n=50) was applied to [bar/count stat] layer\"]\n",
       "};\n",
       "           var plotContainer = document.getElementById(\"AWfFLJ\");\n",
       "           window.letsPlotCall(function() {{\n",
       "               LetsPlot.buildPlotFromProcessedSpecs(plotSpec, -1, -1, plotContainer);\n",
       "           }});\n",
       "       })();    \n",
       "   </script>"
      ]
     },
     "execution_count": 7,
     "metadata": {},
     "output_type": "execute_result"
    }
   ],
   "source": [
    "// Orgering words by `count` might be a good idea.\n",
    "p + geomBar {\n",
    "    fill = \"g\"\n",
    "    x = asDiscrete(\"word\", orderBy = \"..count..\")\n",
    "}"
   ]
  }
 ],
 "metadata": {
  "kernelspec": {
   "display_name": "Kotlin",
   "language": "kotlin",
   "name": "kotlin"
  },
  "language_info": {
   "codemirror_mode": "text/x-kotlin",
   "file_extension": ".kt",
   "mimetype": "text/x-kotlin",
   "name": "kotlin",
   "nbconvert_exporter": "",
   "pygments_lexer": "kotlin",
   "version": "1.7.20-dev-1299"
  }
 },
 "nbformat": 4,
 "nbformat_minor": 4
}
