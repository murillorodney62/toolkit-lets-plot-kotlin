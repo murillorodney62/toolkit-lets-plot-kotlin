{
 "cells": [
  {
   "cell_type": "markdown",
   "metadata": {},
   "source": [
    "<em><sub>This page is available as an executable or viewable <strong>Jupyter Notebook</strong>:</sub></em>\n",
    "<br/><br/>\n",
    "<a href=\"https://mybinder.org/v2/gh/JetBrains/lets-plot-kotlin/v1.0.0demos1?filepath=docs%2Fexamples%2Fjupyter-notebooks%2Fsampling_pick.ipynb\"\n",
    "   target=\"_parent\">\n",
    "   <img align=\"left\"\n",
    "        src=\"https://mybinder.org/badge_logo.svg\">\n",
    "</a>\n",
    "<a href=\"https://nbviewer.jupyter.org/github/JetBrains/lets-plot-kotlin/blob/master/docs/examples/jupyter-notebooks/sampling_pick.ipynb\"\n",
    "   target=\"_parent\">\n",
    "   <img align=\"right\"\n",
    "        src=\"https://raw.githubusercontent.com/jupyter/design/master/logos/Badges/nbviewer_badge.png\"\n",
    "        width=\"109\" height=\"20\">\n",
    "</a>\n",
    "<br/>\n",
    "<br/>"
   ]
  },
  {
   "cell_type": "markdown",
   "metadata": {},
   "source": [
    "### Pick Sampling"
   ]
  },
  {
   "cell_type": "code",
   "execution_count": 1,
   "metadata": {},
   "outputs": [
    {
     "data": {
      "text/html": [
       "   <div id=\"wTlJHj\"></div>\n",
       "   <script type=\"text/javascript\" data-lets-plot-script=\"library\">\n",
       "       if(!window.letsPlotCallQueue) {\n",
       "           window.letsPlotCallQueue = [];\n",
       "       }; \n",
       "       window.letsPlotCall = function(f) {\n",
       "           window.letsPlotCallQueue.push(f);\n",
       "       };\n",
       "       (function() {\n",
       "           var script = document.createElement(\"script\");\n",
       "           script.type = \"text/javascript\";\n",
       "           script.src = \"https://dl.bintray.com/jetbrains/lets-plot/lets-plot-1.5.2.min.js\";\n",
       "           script.onload = function() {\n",
       "               window.letsPlotCall = function(f) {f();};\n",
       "               window.letsPlotCallQueue.forEach(function(f) {f();});\n",
       "               window.letsPlotCallQueue = [];\n",
       "               \n",
       "               \n",
       "           };\n",
       "           script.onerror = function(event) {\n",
       "               window.letsPlotCall = function(f) {};\n",
       "               window.letsPlotCallQueue = [];\n",
       "               var div = document.createElement(\"div\");\n",
       "               div.style.color = 'darkred';\n",
       "               div.textContent = 'Error loading Lets-Plot JS';\n",
       "               document.getElementById(\"wTlJHj\").appendChild(div);\n",
       "           };\n",
       "           var e = document.getElementById(\"wTlJHj\");\n",
       "           e.appendChild(script);\n",
       "       })();\n",
       "   </script>"
      ]
     },
     "metadata": {},
     "output_type": "display_data"
    }
   ],
   "source": [
    "%use lets-plot\n"
   ]
  },
  {
   "cell_type": "code",
   "execution_count": 2,
   "metadata": {},
   "outputs": [],
   "source": [
    "fun genWord(length:Int):String {\n",
    "    val letters = ('a'..'z')\n",
    "    return List(length) { letters.random() }.joinToString(\"\")\n",
    "}    \n",
    "\n",
    "fun genWordSet(n:Int):Set<String> {\n",
    "    val words = HashSet<String>()\n",
    "    while(words.size < n) {\n",
    "        words.add(genWord(5))\n",
    "    }\n",
    "    return words\n",
    "}\n",
    "\n",
    "fun data(n:Int, words:Set<String>):Map<String, *> {\n",
    "    return mapOf(\n",
    "            \"word\" to List(n) { words.random() },\n",
    "            \"g\" to List(n) { listOf('a','b','c').random() }\n",
    "        )\n",
    "}"
   ]
  },
  {
   "cell_type": "code",
   "execution_count": 3,
   "metadata": {},
   "outputs": [],
   "source": [
    "// Number of unique words exceeds threshold (50) of default 'pick' sampling on bar chart.\n",
    "val words = genWordSet(500)\n",
    "val dat = data(1000, words)\n",
    "val p = ggplot(dat) { x = \"word\" }"
   ]
  },
  {
   "cell_type": "code",
   "execution_count": 4,
   "metadata": {},
   "outputs": [
    {
     "data": {
      "text/html": [
       "   <div id=\"xHvUX3\"></div>\n",
       "   <script type=\"text/javascript\" data-lets-plot-script=\"plot\">\n",
       "       (function() {\n",
       "           var plotSpec={\n",
       "'mapping':{\n",
       "'x':\"word\"\n",
       "},\n",
       "'data':{\n",
       "},\n",
       "'kind':\"plot\",\n",
       "'scales':[],\n",
       "'layers':[{\n",
       "'stat':\"count\",\n",
       "'mapping':{\n",
       "},\n",
       "'data':{\n",
       "'..count..':[3.0,3.0,4.0,1.0,6.0,3.0,4.0,6.0,5.0,4.0,4.0,3.0,2.0,2.0,2.0,4.0,2.0,3.0,2.0,2.0,5.0,2.0,6.0,2.0,1.0,2.0,3.0,3.0,5.0,5.0,1.0,2.0,2.0,1.0,1.0,4.0,3.0,4.0,4.0,3.0,4.0,5.0,3.0,3.0,3.0,4.0,2.0,1.0,5.0,6.0,3.0,1.0,5.0,3.0,4.0,3.0,1.0,2.0,1.0,1.0,3.0,2.0,3.0,3.0,3.0,4.0,2.0,3.0,3.0,1.0,5.0,1.0,1.0,6.0,3.0,3.0,2.0,3.0,7.0,3.0,5.0,5.0,2.0,2.0,3.0,4.0,3.0,2.0,2.0,1.0,4.0,3.0,4.0,3.0,1.0,1.0,1.0,5.0,3.0,3.0,3.0,1.0,3.0,1.0,2.0,3.0,3.0,4.0,4.0,4.0,3.0,3.0,2.0,3.0,2.0,2.0,3.0,3.0,4.0,2.0,2.0,1.0,3.0,2.0,1.0,1.0,4.0,5.0,2.0,2.0,2.0,4.0,3.0,2.0,4.0,6.0,3.0,1.0,2.0,2.0,4.0,1.0,4.0,4.0,3.0,2.0,3.0,1.0,1.0,3.0,1.0,3.0,2.0,2.0,2.0,3.0,4.0,4.0,2.0,4.0,5.0,3.0,1.0,3.0,2.0,4.0,2.0,2.0,4.0,3.0,3.0,3.0,3.0,1.0,4.0,1.0,1.0,1.0,1.0,5.0,2.0,5.0,4.0,1.0,4.0,2.0,2.0,3.0,2.0,2.0,9.0,1.0,1.0,3.0,3.0,2.0,3.0,3.0,2.0,4.0,2.0,2.0,3.0,4.0,1.0,2.0,2.0,3.0,4.0,1.0,4.0,3.0,1.0,2.0,1.0,4.0,2.0,3.0,4.0,2.0,3.0,4.0,2.0,2.0,2.0,1.0,1.0,1.0,5.0,3.0,3.0,1.0,2.0,1.0,2.0,3.0,2.0,1.0,1.0,3.0,2.0,2.0,2.0,2.0,1.0,4.0,2.0,2.0,2.0,3.0,2.0,3.0,2.0,2.0,2.0,2.0,3.0,2.0,2.0,3.0,1.0,2.0,2.0,1.0,2.0,3.0,1.0,1.0,3.0,3.0,3.0,1.0,1.0,2.0,2.0,4.0,2.0,1.0,3.0,3.0,3.0,3.0,1.0,2.0,1.0,2.0,3.0,2.0,3.0,1.0,2.0,4.0,2.0,3.0,3.0,2.0,2.0,1.0,2.0,1.0,1.0,1.0,5.0,1.0,4.0,1.0,1.0,1.0,3.0,3.0,2.0,1.0,2.0,4.0,2.0,4.0,2.0,1.0,2.0,2.0,2.0,1.0,2.0,2.0,1.0,4.0,3.0,2.0,1.0,3.0,2.0,2.0,2.0,2.0,1.0,3.0,2.0,2.0,1.0,1.0,1.0,1.0,1.0,1.0,3.0,3.0,2.0,3.0,1.0,2.0,2.0,1.0,3.0,1.0,2.0,1.0,1.0,1.0,1.0,2.0,2.0,1.0,1.0,2.0,1.0,1.0,1.0,1.0,1.0,1.0,1.0,2.0,2.0,2.0,1.0,1.0,4.0,1.0,2.0,2.0,2.0,1.0,1.0,1.0,1.0,3.0,1.0,1.0,1.0,1.0,3.0,1.0,2.0,2.0,3.0,1.0,1.0,1.0,1.0,1.0,1.0,2.0,1.0,2.0,1.0,1.0,1.0,1.0,1.0,1.0,1.0,1.0,1.0,2.0,1.0,1.0,1.0,1.0,1.0,1.0,1.0,1.0,1.0,1.0,1.0,1.0,1.0,1.0,1.0],\n",
       "'word':[\"fuiwb\",\"gybpj\",\"kjytq\",\"qdsbs\",\"rthpr\",\"vqyim\",\"fsaqw\",\"oyiin\",\"tjlqo\",\"mlxjs\",\"zfrxr\",\"szsxq\",\"byhrf\",\"jaiiq\",\"zuppo\",\"nmpnv\",\"iapyf\",\"wighj\",\"whwra\",\"hlxed\",\"dtnjh\",\"ymztl\",\"ilfgp\",\"rfyzb\",\"ewibs\",\"zmexe\",\"oqidd\",\"xeikz\",\"xbhnc\",\"ravvu\",\"fkpih\",\"hvgif\",\"kwwym\",\"tsbck\",\"zmkmz\",\"dezac\",\"rgeal\",\"poijw\",\"znrwd\",\"wegiw\",\"yccpu\",\"fcqvt\",\"ysyee\",\"ekdjz\",\"mxpry\",\"tszov\",\"htbow\",\"asoxv\",\"xfxtr\",\"zdqoa\",\"notsx\",\"tinwx\",\"ryuyj\",\"revlh\",\"dbanx\",\"zxuey\",\"kmlct\",\"fnysp\",\"ldlhj\",\"yipuq\",\"zfotc\",\"bybnq\",\"dgvqz\",\"ytkwl\",\"nwmeu\",\"mhelo\",\"sjxxb\",\"kjepl\",\"fyjpt\",\"dysrv\",\"ilbex\",\"hspfo\",\"vlddu\",\"vkwbj\",\"yjvci\",\"iflmq\",\"qepas\",\"mkhmb\",\"kxqci\",\"cikzd\",\"lfeev\",\"mjzzr\",\"ngylo\",\"bwcex\",\"gpqpd\",\"mvjdx\",\"lxczu\",\"qbneu\",\"bpkvo\",\"mpwqn\",\"xdite\",\"vvmcf\",\"cqlbj\",\"kwbsm\",\"idynj\",\"ytwoq\",\"jwbsa\",\"afjyz\",\"oyumr\",\"upwue\",\"nkbhj\",\"fmjuw\",\"ehnsx\",\"zhlnh\",\"gwlrd\",\"bohnf\",\"fygkt\",\"gqaow\",\"bimms\",\"zjjrm\",\"zgfpr\",\"unjgx\",\"ghemt\",\"fdyge\",\"vbuxj\",\"ifjrl\",\"qncut\",\"etqnw\",\"tlnlb\",\"woaoe\",\"cqots\",\"mqkvw\",\"pimno\",\"lewhg\",\"teecb\",\"hrhyz\",\"ptcbn\",\"sxtjf\",\"zvlkl\",\"dfmdn\",\"jdhlj\",\"gvasu\",\"ixhnf\",\"kgmpx\",\"ygfct\",\"obyno\",\"xbmgi\",\"vwebq\",\"djiwq\",\"ojlsa\",\"hqhnq\",\"izqck\",\"nugoa\",\"znpkd\",\"pjzly\",\"hhzwl\",\"xnblj\",\"ixppm\",\"fucyw\",\"wkgvn\",\"rongj\",\"ilktn\",\"zusqz\",\"xkxzy\",\"anyvk\",\"coisz\",\"ozkok\",\"gygvp\",\"zgnay\",\"ivlho\",\"wnnzc\",\"yfgdf\",\"fsypu\",\"ltxbf\",\"ibqbm\",\"anuwm\",\"vqifx\",\"gsqss\",\"tshwx\",\"uothi\",\"dafjb\",\"gbsqb\",\"wxpgu\",\"smxcw\",\"xwycw\",\"bvcxo\",\"eynbt\",\"uyigb\",\"hpyri\",\"trjoc\",\"jjonx\",\"lwnno\",\"lkyrz\",\"fwvvg\",\"psekb\",\"weubn\",\"bpvoh\",\"uzgcb\",\"qdibl\",\"eldhw\",\"npbfp\",\"kxjpc\",\"uigjq\",\"tdrtt\",\"aapfi\",\"gpjyt\",\"clsaz\",\"nozqp\",\"suzbr\",\"erzcs\",\"utysl\",\"ubysv\",\"tepfr\",\"tqxcv\",\"slnjl\",\"hwmcp\",\"vnmim\",\"qmlkp\",\"wtfas\",\"bhscy\",\"flajk\",\"thnjl\",\"kicwc\",\"qmmgf\",\"jrwkb\",\"vknqh\",\"hzdbt\",\"ztqtx\",\"aoobk\",\"rybqc\",\"rcfzb\",\"nbqgj\",\"ahkql\",\"frqcb\",\"imdgc\",\"hhryo\",\"hhlvg\",\"hgyxg\",\"zczyj\",\"cdtns\",\"tmfkw\",\"eismj\",\"wbupn\",\"hfzuv\",\"yxdut\",\"szoxa\",\"jviwi\",\"oqqlr\",\"qpjkz\",\"fhkgr\",\"logdj\",\"mywqk\",\"ifumr\",\"pjapp\",\"bfkcz\",\"wzanb\",\"zrlih\",\"onfvb\",\"fjvmj\",\"auqsd\",\"sfrtc\",\"kvovm\",\"engnn\",\"egblk\",\"zbzyg\",\"nptdm\",\"ezqpk\",\"bebgg\",\"pqsau\",\"dasup\",\"vdzby\",\"mivrz\",\"hryqv\",\"cwbmq\",\"dhjwf\",\"glgjf\",\"muyps\",\"beknl\",\"tnfns\",\"awzcy\",\"kynji\",\"sfchg\",\"yorjh\",\"xgatr\",\"pqcag\",\"qcalv\",\"uexjw\",\"xcsmf\",\"wmpul\",\"fwfnq\",\"tmmlj\",\"phffp\",\"yderg\",\"sevhw\",\"gppvu\",\"jrhzz\",\"lldzs\",\"gxfca\",\"sujkr\",\"nybwk\",\"jrxvb\",\"ujjgc\",\"mngxa\",\"ejkhb\",\"iubwl\",\"omotb\",\"cmitp\",\"ryauk\",\"dpryz\",\"ilahm\",\"pzqsp\",\"jpvki\",\"bfelv\",\"szylg\",\"tbcvj\",\"pbker\",\"pecpb\",\"vvrsw\",\"evobe\",\"tszzn\",\"ltfar\",\"iraen\",\"auljk\",\"rkfeb\",\"tnswv\",\"diuai\",\"kcpws\",\"fgfzp\",\"hcgtp\",\"qjnin\",\"drgrl\",\"fivmk\",\"lperj\",\"kqxji\",\"eklhl\",\"admzq\",\"jidgy\",\"znxdv\",\"ytqou\",\"nmhqt\",\"liivi\",\"kcyqd\",\"tdkpx\",\"ufsfw\",\"dxpzz\",\"ekjoe\",\"jmumj\",\"uxxch\",\"pghng\",\"hrhgp\",\"fyyks\",\"kjyiz\",\"tapha\",\"yzqnl\",\"jysln\",\"ielsx\",\"xujqz\",\"ubzxq\",\"fzvyi\",\"nnmiu\",\"evfcz\",\"qfdid\",\"hxwum\",\"dfafe\",\"twjcq\",\"tamen\",\"nxynq\",\"exlkd\",\"qiwvb\",\"kstpx\",\"ioxkl\",\"flgmt\",\"mkxrp\",\"htdxy\",\"wzupk\",\"rkajf\",\"jjhri\",\"awgag\",\"jjtvq\",\"pbviw\",\"dznnh\",\"oaqod\",\"bocvs\",\"spqlo\",\"idtqg\",\"xhzvj\",\"cwwbc\",\"mafot\",\"qlent\",\"ilgol\",\"zenkz\",\"sgenq\",\"eoaer\",\"uxbft\",\"ozjap\",\"xreea\",\"aaepg\",\"jjupg\",\"rpeuk\",\"dgfsy\",\"ibivu\",\"gvnte\",\"nafkc\",\"iebvr\",\"gpfil\",\"crtzf\",\"zjjiq\",\"mihqd\",\"fvtra\",\"ckozs\",\"hjroi\",\"jrtlw\",\"emupu\",\"wcfvf\",\"khluf\",\"prwhh\",\"mcnjw\",\"qejys\",\"rnuod\",\"lwjdf\",\"yztrb\",\"ercum\",\"xatwh\",\"unqzs\",\"fovxk\",\"yqzuo\",\"lxnga\",\"ocdml\",\"apuzo\",\"dkfid\",\"jmqfx\",\"rbqmh\",\"bgjvr\",\"ajndx\",\"mmmlc\",\"xmubc\",\"lqaym\",\"mrlfi\",\"myikl\"]\n",
       "},\n",
       "'sampling':\"none\",\n",
       "'position':\"stack\",\n",
       "'geom':\"bar\"\n",
       "}]\n",
       "};\n",
       "           var plotContainer = document.getElementById(\"xHvUX3\");\n",
       "           window.letsPlotCall(function() {{\n",
       "               LetsPlot.buildPlotFromProcessedSpecs(plotSpec, -1, -1, plotContainer);\n",
       "           }});\n",
       "       })();    \n",
       "   </script>"
      ]
     },
     "execution_count": 4,
     "metadata": {},
     "output_type": "execute_result"
    }
   ],
   "source": [
    "// Disable sampling to see the overplotting.\n",
    "p + geom_bar(sampling = sampling_none)"
   ]
  },
  {
   "cell_type": "code",
   "execution_count": 5,
   "metadata": {},
   "outputs": [
    {
     "data": {
      "text/html": [
       "   <div id=\"GXByki\"></div>\n",
       "   <script type=\"text/javascript\" data-lets-plot-script=\"plot\">\n",
       "       (function() {\n",
       "           var plotSpec={\n",
       "'mapping':{\n",
       "'x':\"word\"\n",
       "},\n",
       "'data':{\n",
       "},\n",
       "'kind':\"plot\",\n",
       "'computation_messages':[\"sampling_pick(n=50) was applied to [bar/count stat] layer\"],\n",
       "'scales':[],\n",
       "'layers':[{\n",
       "'stat':\"count\",\n",
       "'mapping':{\n",
       "},\n",
       "'data':{\n",
       "'..count..':[3.0,3.0,4.0,1.0,6.0,3.0,4.0,6.0,5.0,4.0,4.0,3.0,2.0,2.0,2.0,4.0,2.0,3.0,2.0,2.0,5.0,2.0,6.0,2.0,1.0,2.0,3.0,3.0,5.0,5.0,1.0,2.0,2.0,1.0,1.0,4.0,3.0,4.0,4.0,3.0,4.0,5.0,3.0,3.0,3.0,4.0,2.0,1.0,5.0,6.0],\n",
       "'word':[\"fuiwb\",\"gybpj\",\"kjytq\",\"qdsbs\",\"rthpr\",\"vqyim\",\"fsaqw\",\"oyiin\",\"tjlqo\",\"mlxjs\",\"zfrxr\",\"szsxq\",\"byhrf\",\"jaiiq\",\"zuppo\",\"nmpnv\",\"iapyf\",\"wighj\",\"whwra\",\"hlxed\",\"dtnjh\",\"ymztl\",\"ilfgp\",\"rfyzb\",\"ewibs\",\"zmexe\",\"oqidd\",\"xeikz\",\"xbhnc\",\"ravvu\",\"fkpih\",\"hvgif\",\"kwwym\",\"tsbck\",\"zmkmz\",\"dezac\",\"rgeal\",\"poijw\",\"znrwd\",\"wegiw\",\"yccpu\",\"fcqvt\",\"ysyee\",\"ekdjz\",\"mxpry\",\"tszov\",\"htbow\",\"asoxv\",\"xfxtr\",\"zdqoa\"]\n",
       "},\n",
       "'position':\"stack\",\n",
       "'geom':\"bar\"\n",
       "}]\n",
       "};\n",
       "           var plotContainer = document.getElementById(\"GXByki\");\n",
       "           window.letsPlotCall(function() {{\n",
       "               LetsPlot.buildPlotFromProcessedSpecs(plotSpec, -1, -1, plotContainer);\n",
       "           }});\n",
       "       })();    \n",
       "   </script>"
      ]
     },
     "execution_count": 5,
     "metadata": {},
     "output_type": "execute_result"
    }
   ],
   "source": [
    "// Draw plot with default sampling.\n",
    "p + geom_bar()"
   ]
  },
  {
   "cell_type": "code",
   "execution_count": 6,
   "metadata": {},
   "outputs": [
    {
     "data": {
      "text/html": [
       "   <div id=\"Xi6wCi\"></div>\n",
       "   <script type=\"text/javascript\" data-lets-plot-script=\"plot\">\n",
       "       (function() {\n",
       "           var plotSpec={\n",
       "'mapping':{\n",
       "'x':\"word\"\n",
       "},\n",
       "'data':{\n",
       "},\n",
       "'kind':\"plot\",\n",
       "'computation_messages':[\"sampling_pick(n=50) was applied to [bar/count stat] layer\"],\n",
       "'scales':[],\n",
       "'layers':[{\n",
       "'stat':\"count\",\n",
       "'mapping':{\n",
       "'fill':\"g\"\n",
       "},\n",
       "'data':{\n",
       "'..count..':[1.0,1.0,1.0,2.0,2.0,1.0,2.0,1.0,1.0,2.0,1.0,2.0,1.0,2.0,1.0,1.0,1.0,1.0,1.0,2.0,3.0,2.0,1.0,2.0,2.0,1.0,1.0,1.0,1.0,4.0,4.0,2.0,1.0,2.0,3.0,1.0,3.0,2.0,4.0,2.0,2.0,1.0,1.0,2.0,1.0,3.0,2.0,2.0,1.0,1.0,1.0,2.0,1.0,1.0,1.0,1.0,3.0,1.0,2.0,1.0,2.0,2.0,1.0,2.0,1.0,1.0,1.0,3.0,1.0,1.0,1.0,1.0,1.0,1.0,1.0,3.0,1.0,1.0,2.0,1.0,1.0,2.0,1.0,1.0,1.0,1.0,1.0,2.0,1.0,1.0,1.0,1.0,1.0,1.0,1.0,2.0,1.0,1.0,1.0,1.0,2.0,1.0,1.0],\n",
       "'g':[\"b\",\"b\",\"b\",\"b\",\"b\",\"b\",\"b\",\"b\",\"b\",\"b\",\"b\",\"b\",\"b\",\"b\",\"b\",\"b\",\"b\",\"b\",\"b\",\"b\",\"b\",\"b\",\"b\",\"b\",\"b\",\"b\",\"b\",\"b\",\"b\",\"b\",\"b\",\"b\",\"b\",\"b\",\"b\",\"b\",\"b\",\"b\",\"b\",\"b\",\"b\",\"b\",\"b\",\"b\",\"b\",\"b\",\"b\",\"b\",\"b\",\"b\",\"a\",\"a\",\"a\",\"a\",\"a\",\"a\",\"a\",\"a\",\"a\",\"a\",\"a\",\"a\",\"a\",\"a\",\"a\",\"a\",\"a\",\"a\",\"a\",\"a\",\"a\",\"a\",\"a\",\"a\",\"a\",\"c\",\"c\",\"c\",\"c\",\"c\",\"c\",\"c\",\"c\",\"c\",\"c\",\"c\",\"c\",\"c\",\"c\",\"c\",\"c\",\"c\",\"c\",\"c\",\"c\",\"c\",\"c\",\"c\",\"c\",\"c\",\"c\",\"c\",\"c\"],\n",
       "'word':[\"fuiwb\",\"qdsbs\",\"vqyim\",\"fsaqw\",\"oyiin\",\"mlxjs\",\"zfrxr\",\"byhrf\",\"jaiiq\",\"nmpnv\",\"iapyf\",\"wighj\",\"ymztl\",\"xeikz\",\"fkpih\",\"tsbck\",\"dezac\",\"rgeal\",\"znrwd\",\"fcqvt\",\"xfxtr\",\"zdqoa\",\"tinwx\",\"revlh\",\"zxuey\",\"kmlct\",\"fnysp\",\"bybnq\",\"nwmeu\",\"ilbex\",\"kxqci\",\"bwcex\",\"gpqpd\",\"qbneu\",\"vvmcf\",\"idynj\",\"ehnsx\",\"bohnf\",\"gqaow\",\"bimms\",\"zjjrm\",\"zgfpr\",\"ghemt\",\"fdyge\",\"ifjrl\",\"vkwbj\",\"qncut\",\"woaoe\",\"pimno\",\"zuppo\",\"zuppo\",\"znrwd\",\"nmpnv\",\"ymztl\",\"vkwbj\",\"nwmeu\",\"oyiin\",\"kxqci\",\"zdqoa\",\"gpqpd\",\"fuiwb\",\"pimno\",\"zgfpr\",\"vqyim\",\"xfxtr\",\"zxuey\",\"zfrxr\",\"fcqvt\",\"rgeal\",\"byhrf\",\"bohnf\",\"zjjrm\",\"ifjrl\",\"mlxjs\",\"bimms\",\"dezac\",\"revlh\",\"zfrxr\",\"kxqci\",\"bybnq\",\"fnysp\",\"vkwbj\",\"zjjrm\",\"gpqpd\",\"bimms\",\"wighj\",\"znrwd\",\"mlxjs\",\"xfxtr\",\"ghemt\",\"fdyge\",\"qncut\",\"rgeal\",\"xeikz\",\"zgfpr\",\"fsaqw\",\"oyiin\",\"iapyf\",\"jaiiq\",\"nwmeu\",\"zdqoa\",\"ilbex\",\"nmpnv\"]\n",
       "},\n",
       "'position':\"stack\",\n",
       "'geom':\"bar\"\n",
       "}]\n",
       "};\n",
       "           var plotContainer = document.getElementById(\"Xi6wCi\");\n",
       "           window.letsPlotCall(function() {{\n",
       "               LetsPlot.buildPlotFromProcessedSpecs(plotSpec, -1, -1, plotContainer);\n",
       "           }});\n",
       "       })();    \n",
       "   </script>"
      ]
     },
     "execution_count": 6,
     "metadata": {},
     "output_type": "execute_result"
    }
   ],
   "source": [
    "// 'pick' sampling preserves groups on bar chart.\n",
    "p + geom_bar { fill=\"g\" }"
   ]
  }
 ],
 "metadata": {
  "kernelspec": {
   "display_name": "Kotlin",
   "language": "kotlin",
   "name": "kotlin"
  },
  "language_info": {
   "codemirror_mode": "text/x-kotlin",
   "file_extension": ".kt",
   "mimetype": "text/x-kotlin",
   "name": "kotlin",
   "pygments_lexer": "kotlin",
   "version": "1.4.20-dev-2342"
  }
 },
 "nbformat": 4,
 "nbformat_minor": 4
}
