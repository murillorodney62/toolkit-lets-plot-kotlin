{
 "cells": [
  {
   "cell_type": "markdown",
   "metadata": {
    "pycharm": {
     "name": "#%% md\n"
    }
   },
   "source": [
    "<em><sub>This page is available as an executable or viewable <strong>Jupyter Notebook</strong>:</sub></em>\n",
    "<br/><br/>\n",
    "<a href=\"https://mybinder.org/v2/gh/JetBrains/lets-plot-kotlin/v0.0.27demos2?filepath=docs%2Fguide%2Fuser_guide.ipynb\"\n",
    "   target=\"_parent\"> \n",
    "   <img align=\"left\" \n",
    "        src=\"https://mybinder.org/badge_logo.svg\">\n",
    "</a>\n",
    "<a href=\"https://nbviewer.jupyter.org/github/JetBrains/lets-plot-kotlin/blob/master/docs/guide/user_guide.ipynb\" \n",
    "   target=\"_parent\"> \n",
    "   <img align=\"right\" \n",
    "        src=\"https://raw.githubusercontent.com/jupyter/design/master/logos/Badges/nbviewer_badge.png\" \n",
    "        width=\"109\" height=\"20\">\n",
    "</a>\n",
    "<br/>\n",
    "<br/>\n",
    "\n",
    "# Lets-Plot Usage Guide\n",
    "\n",
    "<a href=\"https://opensource.org/licenses/MIT\">\n",
    "<img src=\"https://img.shields.io/badge/License-MIT-yellow.svg\" alt=\"Couldn't load MIT license svg\"/>\n",
    "</a>\n",
    "\n",
    "\n",
    "- [System requirements](#sys)\n",
    "- [Installation](#install)\n",
    "- [Understanding architecture](#implementation)\n",
    "- [Learning API](#api)\n",
    "- [Getting started](#gsg)\n",
    "\n",
    "\n",
    "**Lets-Plot** is an open-source plotting library for statistical data. It is implemented using the \n",
    "[Kotlin programming language](https://kotlinlang.org/) that has a multi-platform nature.\n",
    "That's why Lets-Plot provides the plotting functionality that \n",
    "is packaged as a JavaScript library, a JVM library, and a native Python extension.\n",
    "\n",
    "The design of the Lets-Plot library is heavily influenced by [ggplot2](https://ggplot2.tidyverse.org) library.\n",
    "\n",
    "<a name=\"Installation\" id=\"install\"></a>\n",
    "## Installation\n",
    "\n",
    "Library is distributed via [Maven Repository](https://bintray.com/jetbrains/lets-plot-maven/lets-plot-kotlin-api-jars). You may include it in your project using Maven or Gradle configuration files, or include it in your script via `@file:DependsOn()` annotation.\n",
    "\n",
    "<a name=\"Implementation\" id=\"implementation\"></a>\n",
    "## Understanding Lets-Plot architecture\n",
    "In `lets-plot`, the **plot** is represented at least by one\n",
    "**layer**. It can be built based on the default dataset with the aesthetics mappings, set of scales, or additional \n",
    "features applied.\n",
    "\n",
    "The **Layer** is responsible for creating the objects painted on the ‘canvas’ and it contains the following elements:\n",
    "- **Data** - the set of data specified either once for all layers or on a per layer basis.\n",
    "One plot can combine multiple different datasets (one per layer).\n",
    "- **Aesthetic mapping** - describes how variables in the dataset are mapped to the visual properties of the layer, such as color, shape, size, or position.\n",
    "- **Geometric object** - a geometric object that represents a particular type of charts.\n",
    "- **Statistical transformation** - computes some kind of statistical summary on the raw input data. \n",
    "For example, `bin` statistics is used for histograms and `smooth` is used for regression lines. \n",
    "Most stats take additional parameters to specify details of the statistical transformation of data.\n",
    "- **Position adjustment** - a method used to compute the final coordinates of geometry. \n",
    "Used to build variants of the same `geom` object or to avoid overplotting.\n",
    "\n",
    "![layer diagram](images/layer-small.png)\n",
    "\n",
    "<a name=\"API\" id=\"api\"></a>\n",
    "## Learning API\n",
    "The typical code fragment that plots a Lets-Plot chart looks as follows:\n",
    "\n",
    "```\n",
    "import jetbrains.letsPlot.*\n",
    "import jetbrains.letsPlot.geom.*\n",
    "import jetbrains.letsPlot.stat.*\n",
    "\n",
    "p = lets_plot(<dataframe>) \n",
    "p + geom_<chart_type>(stat=<stat>, position=<adjustment>) { <aesthetics mapping> }\n",
    "```\n",
    "\n",
    "### Geometric objects `geom`\n",
    "\n",
    "There are two abstract classes which present every graphics object: `Layer` and `LayerBase`, which is inherited from `Layer`. All other classes are straight descendants of `LayerBase`. They all are described below. You may add such an object to `lets_plot`:\n",
    "\n",
    "```\n",
    "p = lets_plot(data=df)\n",
    "p + geom_point()\n",
    "```\n",
    "\n",
    "The following charts are [supported](../../plot-api/docs/plot-api/jetbrains.lets-plot.geom/index.html):\n",
    "\n",
    "- Area chart: [`geom_area()`](../../plot-api/docs/plot-api/jetbrains.lets-plot.geom/geom_area/index.html)\n",
    "- Bar chart: [`geom_bar()`](../../plot-api/docs/plot-api/jetbrains.lets-plot.geom/geom_bar/index.html)\n",
    "- Boxplot chart: [`geom_boxplot()`](../../plot-api/docs/plot-api/jetbrains.lets-plot.geom/geom_boxplot/index.html)\n",
    "- Contour chart: [`geom_contour(), geom_contourf()`](../../plot-api/docs/plot-api/jetbrains.lets-plot.geom/geom_contour/index.html)\n",
    "- Density chart: [`geom_density()`](../../plot-api/docs/plot-api/jetbrains.lets-plot.geom/geom_density/index.html)\n",
    "  and [`geom_density2d()`](../../plot-api/docs/plot-api/jetbrains.lets-plot.geom/geom_density2d/index.html)\n",
    "- Error bar chart: [`geom_errorbar()`](../../plot-api/docs/plot-api/jetbrains.lets-plot.geom/geom_errorbar/index.html)\n",
    "- Historgam: [`geom_histogram()`](../../plot-api/docs/plot-api/jetbrains.lets-plot.geom/geom_histogram/index.html)\n",
    "- Line chart: [`geom_line()`](../../plot-api/docs/plot-api/jetbrains.lets-plot.geom/geom_line/index.html)\n",
    "- Scatter chart: [`geom_point()`](../../plot-api/docs/plot-api/jetbrains.lets-plot.geom/geom_point/index.html)\n",
    "- Polygon chart:  [`geom_polygon`](../../plot-api/docs/plot-api/jetbrains.lets-plot.geom/geom_polygon/index.html)\n",
    "- Rectangle chart, Tile chart: [`geom_rect()`, `geom_tile()`](../../plot-api/docs/plot-api/jetbrains.lets-plot.geom/geom_rect/index.html)\n",
    "- Image plot: [`geom_image()`](../../plot-api/docs/plot-api/jetbrains.lets-plot.geom/geom_image/index.html)\n",
    "\n",
    "See the [geom reference](../../plot-api/docs/plot-api/jetbrains.lets-plot.geom/index.html) for more information about the supported\n",
    "geometric methods, their arguments, and default values.\n",
    "\n",
    "### Stat `stat`\n",
    "\n",
    "Add `stat` as an argument to `layer` or `geom` methods to define data transformations:\n",
    "\n",
    "`geom_point(stat=Stat.count())`\n",
    "\n",
    "Supported transformations:\n",
    "\n",
    "- `identity`:  leaves the data unchanged\n",
    "- `count`:  calculates the number of points with same x-axis coordinate\n",
    "- `bin`:  calculates the number of points with x-axis coordinate in the same level\n",
    "- `boxplot`: calculate components of a box plot.\n",
    "- `density`: perform a kernel density estimation\n",
    "\n",
    "### Aesthetic mappings `mapping`\n",
    "With mappings, you can define how variables in dataset are mapped to the visual elements of the chart.\n",
    "Add the `{x=< >; y=< >; ...}` method to `geom`, where\n",
    "- `x`: the dataframe column to map to the x axis. \n",
    "- `y`: the dataframe column to map to the y axis.\n",
    "- `...`: other visual properties of the chart, such as color, shape, size, or position.\n",
    "\n",
    "`geom_point(){x = \"cty\"; y = \"hwy\"; color=\"cyl\"}`\n",
    "\n",
    "### Position `position`\n",
    "\n",
    "All layers have a position adjustment that resolves overlapping geoms. \n",
    "Override the default settings by using the `position` argument in the `geom` methods:\n",
    "\n",
    "`geom_bar(position=position(PosKind.DODGE))`\n",
    "\n",
    "Available adjustments:\n",
    "- `dodge` (`position(PosKind.DODGE)`)\n",
    "- `jitter` (`position(PosKind.JITTER)`)\n",
    "- `jitterdodge` (`position(PosKind.JITTER_DODGE)`)\n",
    "- `nudge` (`position(PosKind.NUDGE)`)\n",
    "\n",
    "See the [position reference](../../plot-api/docs/plot-api/jetbrains.lets-plot.intern/-pos-kind) for more information about position adjustments.\n",
    "\n",
    "### Features affecting the entire plot\n",
    "\n",
    "#### Scales\n",
    "\n",
    "Scales enable tailored adjustment of data values to visual properties and aesthetics. Override default scales to tweak \n",
    "details like the axis labels or legend keys, or to use a completely different translation from data to aesthetic.\n",
    "For example, to override the fill color on the histogram:\n",
    "\n",
    "`p + geom_histogram() + scale_color_continuous(\"red\", \"green\")`\n",
    "\n",
    "See the list of the available `scale` methods in the [scale reference](../../plot-api/docs/plot-api/jetbrains.lets-plot.scale/index.html)\n",
    "\n",
    "#### Legend\n",
    "The axes and legends help users interpret plots.\n",
    "Use the `guide` methods or the `guide` argument of the `scale` method to customize the legend.\n",
    "For example, to define the number of columns in the legend:\n",
    "\n",
    "`p + scale_color_discrete(guide=guide_legend(ncol=2))`\n",
    "\n",
    "See more information in the [guide reference](../../plot-api/docs/plot-api/jetbrains.lets-plot.intern/-pos-kind)\n",
    "\n",
    "#### Sampling\n",
    "\n",
    "Sampling is a special technique of data transformation built into Lets-Plot and it is applied after stat transformation.\n",
    "Sampling helps prevents UI freezes and out-pf-memory crashes when attempting to plot an excessively large number of geometries.\n",
    "By default, the technique applies automatically when the data volume exceeds a certain threshold.\n",
    "The `none` value disables any sampling for the given layer. The sampling methods can be chained together using the + operator.\n",
    "\n",
    "Available methods:\n",
    "- `sampling_random_stratified`: randomly selects points from each group proportionally to the group size but also ensures \n",
    "that each group is represented by at least a specified minimum number of points.\n",
    "- `sampling_random`: selects data points at randomly chosen indices without replacement.\n",
    "- `sampling_pick`: analyses X-values and selects all points which X-values get in the set of first `n` X-values found in the population.\n",
    "- `sampling_systematic`: selects data points at evenly distributed indices.\n",
    "- `sampling_vertex_dp`, `sampling_vertex_vw`: simplifies plotting of polygons. \n",
    "There is a choice of two implementation algorithms: Douglas-Peucker (`_dp`) and \n",
    "Visvalingam-Whyatt (`_vw`).\n",
    "\n",
    "For more details, see the [sampling reference](../../plot-api/docs/plot-api/jetbrains.lets-plot.intern/-pos-kind)."
   ]
  },
  {
   "cell_type": "markdown",
   "metadata": {
    "pycharm": {
     "name": "#%% md\n"
    }
   },
   "source": [
    "<a name=\"GSG\" id=\"gsg\"></a>\n",
    "### Getting started\n",
    "\n",
    "Let's plot a point chart built using the mpg dataset.\n",
    "\n",
    "Create the `DataFrame` object and retrieve the data."
   ]
  },
  {
   "cell_type": "code",
   "execution_count": 1,
   "metadata": {
    "jupyter": {
     "outputs_hidden": false
    },
    "pycharm": {
     "is_executing": false,
     "name": "#%%\n"
    }
   },
   "outputs": [
    {
     "data": {
      "text/html": [
       "   <div id=\"8Agvge\"></div>\n",
       "   <script type=\"text/javascript\" data-lets-plot-script=\"library\">\n",
       "       if(!window.letsPlotCallQueue) {\n",
       "           window.letsPlotCallQueue = [];\n",
       "       }; \n",
       "       window.letsPlotCall = function(f) {\n",
       "           window.letsPlotCallQueue.push(f);\n",
       "       };\n",
       "       (function() {\n",
       "           var script = document.createElement(\"script\");\n",
       "           script.type = \"text/javascript\";\n",
       "           script.src = \"https://dl.bintray.com/jetbrains/lets-plot/lets-plot-1.5.0.min.js\";\n",
       "           script.onload = function() {\n",
       "               window.letsPlotCall = function(f) {f();};\n",
       "               window.letsPlotCallQueue.forEach(function(f) {f();});\n",
       "               window.letsPlotCallQueue = [];\n",
       "               \n",
       "               \n",
       "           };\n",
       "           script.onerror = function(event) {\n",
       "               window.letsPlotCall = function(f) {};\n",
       "               window.letsPlotCallQueue = [];\n",
       "               var div = document.createElement(\"div\");\n",
       "               div.style.color = 'darkred';\n",
       "               div.textContent = 'Error loading Lets-Plot JS';\n",
       "               document.getElementById(\"8Agvge\").appendChild(div);\n",
       "           };\n",
       "           var e = document.getElementById(\"8Agvge\");\n",
       "           e.appendChild(script);\n",
       "       })();\n",
       "   </script>"
      ]
     },
     "metadata": {},
     "output_type": "display_data"
    }
   ],
   "source": [
    "%use lets-plot\n",
    "@file:DependsOn(\"com.github.doyaaaaaken:kotlin-csv-jvm:0.7.3\")\n",
    "\n",
    "import com.github.doyaaaaaken.kotlincsv.client.*\n",
    "\n",
    "val csvData = java.io.File(\"mpg.csv\")\n",
    "\n",
    "val mpg: List<Map<String, String>> = CsvReader().readAllWithHeader(csvData)\n",
    "\n",
    "fun col(name: String, discrete: Boolean=false): List<*> {\n",
    "    return mpg.map {\n",
    "        val v = it[name]\n",
    "        if(discrete) v else v?.toDouble()\n",
    "    }\n",
    "}\n",
    "\n",
    "val df = mapOf(\n",
    "    \"displ\" to col(\"displ\"),\n",
    "    \"hwy\" to col(\"hwy\"),\n",
    "    \"cyl\" to col(\"cyl\"),\n",
    "    \"index\" to col(\"\"),\n",
    "    \"cty\" to col(\"cty\"),\n",
    "    \"drv\" to col(\"drv\", true),\n",
    "    \"year\" to col(\"year\")\n",
    ")"
   ]
  },
  {
   "cell_type": "markdown",
   "metadata": {},
   "source": [
    "Plot the basic point chart."
   ]
  },
  {
   "cell_type": "markdown",
   "metadata": {},
   "source": [
    "Perform the following aesthetic mappings:\n",
    " - `x` = displ (the **displ** column of the dataframe)\n",
    " - `y` = hwy  (the **hwy** column of the dataframe)\n",
    " - `color` = cyl (the **cyl** column of the dataframe)"
   ]
  },
  {
   "cell_type": "code",
   "execution_count": 3,
   "metadata": {
    "jupyter": {
     "outputs_hidden": false
    },
    "pycharm": {
     "is_executing": false,
     "name": "#%%\n"
    }
   },
   "outputs": [
    {
     "data": {
      "text/html": [
       "   <div id=\"y5Qxbk\"></div>\n",
       "   <script type=\"text/javascript\" data-lets-plot-script=\"plot\">\n",
       "       (function() {\n",
       "           var plotSpec={\n",
       "'mapping':{\n",
       "'color':\"cyl\",\n",
       "'x':\"displ\",\n",
       "'y':\"hwy\"\n",
       "},\n",
       "'data':{\n",
       "},\n",
       "'kind':\"plot\",\n",
       "'scales':[],\n",
       "'layers':[{\n",
       "'stat':\"identity\",\n",
       "'mapping':{\n",
       "},\n",
       "'data':{\n",
       "'cyl':[4.0,4.0,4.0,4.0,6.0,6.0,6.0,4.0,4.0,4.0,4.0,6.0,6.0,6.0,6.0,6.0,6.0,8.0,8.0,8.0,8.0,8.0,8.0,8.0,8.0,8.0,8.0,8.0,8.0,8.0,8.0,8.0,4.0,4.0,6.0,6.0,6.0,4.0,6.0,6.0,6.0,6.0,6.0,6.0,6.0,6.0,6.0,6.0,6.0,6.0,6.0,6.0,8.0,8.0,8.0,8.0,8.0,6.0,8.0,8.0,8.0,8.0,8.0,8.0,8.0,8.0,8.0,8.0,8.0,8.0,8.0,8.0,8.0,8.0,8.0,8.0,8.0,6.0,6.0,6.0,6.0,8.0,8.0,6.0,6.0,8.0,8.0,8.0,8.0,8.0,6.0,6.0,6.0,6.0,8.0,8.0,8.0,8.0,8.0,4.0,4.0,4.0,4.0,4.0,4.0,4.0,4.0,4.0,4.0,4.0,4.0,4.0,6.0,6.0,6.0,4.0,4.0,4.0,4.0,6.0,6.0,6.0,6.0,6.0,6.0,8.0,8.0,8.0,8.0,8.0,8.0,8.0,8.0,8.0,8.0,8.0,8.0,6.0,6.0,8.0,8.0,4.0,4.0,4.0,4.0,6.0,6.0,6.0,6.0,6.0,6.0,6.0,6.0,8.0,6.0,6.0,6.0,6.0,8.0,4.0,4.0,4.0,4.0,4.0,4.0,4.0,4.0,4.0,4.0,4.0,4.0,4.0,4.0,4.0,4.0,6.0,6.0,6.0,8.0,4.0,4.0,4.0,4.0,6.0,6.0,6.0,4.0,4.0,4.0,4.0,6.0,6.0,6.0,4.0,4.0,4.0,4.0,4.0,8.0,8.0,4.0,4.0,4.0,6.0,6.0,6.0,6.0,4.0,4.0,4.0,4.0,6.0,4.0,4.0,4.0,4.0,4.0,5.0,5.0,6.0,6.0,4.0,4.0,4.0,4.0,5.0,5.0,4.0,4.0,4.0,4.0,6.0,6.0,6.0],\n",
       "'displ':[1.8,1.8,2.0,2.0,2.8,2.8,3.1,1.8,1.8,2.0,2.0,2.8,2.8,3.1,3.1,2.8,3.1,4.2,5.3,5.3,5.3,5.7,6.0,5.7,5.7,6.2,6.2,7.0,5.3,5.3,5.7,6.5,2.4,2.4,3.1,3.5,3.6,2.4,3.0,3.3,3.3,3.3,3.3,3.3,3.8,3.8,3.8,4.0,3.7,3.7,3.9,3.9,4.7,4.7,4.7,5.2,5.2,3.9,4.7,4.7,4.7,5.2,5.7,5.9,4.7,4.7,4.7,4.7,4.7,4.7,5.2,5.2,5.7,5.9,4.6,5.4,5.4,4.0,4.0,4.0,4.0,4.6,5.0,4.2,4.2,4.6,4.6,4.6,5.4,5.4,3.8,3.8,4.0,4.0,4.6,4.6,4.6,4.6,5.4,1.6,1.6,1.6,1.6,1.6,1.8,1.8,1.8,2.0,2.4,2.4,2.4,2.4,2.5,2.5,3.3,2.0,2.0,2.0,2.0,2.7,2.7,2.7,3.0,3.7,4.0,4.7,4.7,4.7,5.7,6.1,4.0,4.2,4.4,4.6,5.4,5.4,5.4,4.0,4.0,4.6,5.0,2.4,2.4,2.5,2.5,3.5,3.5,3.0,3.0,3.5,3.3,3.3,4.0,5.6,3.1,3.8,3.8,3.8,5.3,2.5,2.5,2.5,2.5,2.5,2.5,2.2,2.2,2.5,2.5,2.5,2.5,2.5,2.5,2.7,2.7,3.4,3.4,4.0,4.7,2.2,2.2,2.4,2.4,3.0,3.0,3.5,2.2,2.2,2.4,2.4,3.0,3.0,3.3,1.8,1.8,1.8,1.8,1.8,4.7,5.7,2.7,2.7,2.7,3.4,3.4,4.0,4.0,2.0,2.0,2.0,2.0,2.8,1.9,2.0,2.0,2.0,2.0,2.5,2.5,2.8,2.8,1.9,1.9,2.0,2.0,2.5,2.5,1.8,1.8,2.0,2.0,2.8,2.8,3.6],\n",
       "'hwy':[29.0,29.0,31.0,30.0,26.0,26.0,27.0,26.0,25.0,28.0,27.0,25.0,25.0,25.0,25.0,24.0,25.0,23.0,20.0,15.0,20.0,17.0,17.0,26.0,23.0,26.0,25.0,24.0,19.0,14.0,15.0,17.0,27.0,30.0,26.0,29.0,26.0,24.0,24.0,22.0,22.0,24.0,24.0,17.0,22.0,21.0,23.0,23.0,19.0,18.0,17.0,17.0,19.0,19.0,12.0,17.0,15.0,17.0,17.0,12.0,17.0,16.0,18.0,15.0,16.0,12.0,17.0,17.0,16.0,12.0,15.0,16.0,17.0,15.0,17.0,17.0,18.0,17.0,19.0,17.0,19.0,19.0,17.0,17.0,17.0,16.0,16.0,17.0,15.0,17.0,26.0,25.0,26.0,24.0,21.0,22.0,23.0,22.0,20.0,33.0,32.0,32.0,29.0,32.0,34.0,36.0,36.0,29.0,26.0,27.0,30.0,31.0,26.0,26.0,28.0,26.0,29.0,28.0,27.0,24.0,24.0,24.0,22.0,19.0,20.0,17.0,12.0,19.0,18.0,14.0,15.0,18.0,18.0,15.0,17.0,16.0,18.0,17.0,19.0,19.0,17.0,29.0,27.0,31.0,32.0,27.0,26.0,26.0,25.0,25.0,17.0,17.0,20.0,18.0,26.0,26.0,27.0,28.0,25.0,25.0,24.0,27.0,25.0,26.0,23.0,26.0,26.0,26.0,26.0,25.0,27.0,25.0,27.0,20.0,20.0,19.0,17.0,20.0,17.0,29.0,27.0,31.0,31.0,26.0,26.0,28.0,27.0,29.0,31.0,31.0,26.0,26.0,27.0,30.0,33.0,35.0,37.0,35.0,15.0,18.0,20.0,20.0,22.0,17.0,19.0,18.0,20.0,29.0,26.0,29.0,29.0,24.0,44.0,29.0,26.0,29.0,29.0,29.0,29.0,23.0,24.0,44.0,41.0,29.0,26.0,28.0,29.0,29.0,29.0,28.0,29.0,26.0,26.0,26.0]\n",
       "},\n",
       "'position':\"identity\",\n",
       "'geom':\"point\"\n",
       "}]\n",
       "};\n",
       "           var plotContainer = document.getElementById(\"y5Qxbk\");\n",
       "           window.letsPlotCall(function() {{\n",
       "               LetsPlot.buildPlotFromProcessedSpecs(plotSpec, -1, -1, plotContainer);\n",
       "           }});\n",
       "       })();    \n",
       "   </script>"
      ]
     },
     "execution_count": 3,
     "metadata": {},
     "output_type": "execute_result"
    }
   ],
   "source": [
    "// Mapping\n",
    "lets_plot(df) {x = \"displ\"; y = \"hwy\"; color = \"cyl\"} + geom_point(df)"
   ]
  },
  {
   "cell_type": "markdown",
   "metadata": {},
   "source": [
    "Apply statistical data transformation to count the number of cases at each x position."
   ]
  },
  {
   "cell_type": "code",
   "execution_count": 8,
   "metadata": {
    "jupyter": {
     "outputs_hidden": false
    },
    "pycharm": {
     "is_executing": false,
     "name": "#%%\n"
    }
   },
   "outputs": [
    {
     "data": {
      "text/html": [
       "   <div id=\"XetVYI\"></div>\n",
       "   <script type=\"text/javascript\" data-lets-plot-script=\"plot\">\n",
       "       (function() {\n",
       "           var plotSpec={\n",
       "'mapping':{\n",
       "},\n",
       "'data':{\n",
       "},\n",
       "'kind':\"plot\",\n",
       "'scales':[],\n",
       "'layers':[{\n",
       "'stat':\"count\",\n",
       "'mapping':{\n",
       "'color':\"..count..\",\n",
       "'size':\"..count..\",\n",
       "'x':\"displ\"\n",
       "},\n",
       "'data':{\n",
       "'..count..':[14.0,21.0,10.0,6.0,4.0,6.0,8.0,1.0,2.0,1.0,1.0,13.0,5.0,2.0,8.0,9.0,8.0,15.0,3.0,3.0,17.0,5.0,2.0,11.0,8.0,2.0,5.0,20.0,8.0,1.0,1.0,1.0,6.0,4.0,3.0],\n",
       "'displ':[1.8,2.0,2.8,3.1,4.2,5.3,5.7,6.0,6.2,7.0,6.5,2.4,3.5,3.6,3.0,3.3,3.8,4.0,3.7,3.9,4.7,5.2,5.9,4.6,5.4,5.0,1.6,2.5,2.7,6.1,4.4,5.6,2.2,3.4,1.9]\n",
       "},\n",
       "'position':\"identity\",\n",
       "'geom':\"point\"\n",
       "}]\n",
       "};\n",
       "           var plotContainer = document.getElementById(\"XetVYI\");\n",
       "           window.letsPlotCall(function() {{\n",
       "               LetsPlot.buildPlotFromProcessedSpecs(plotSpec, -1, -1, plotContainer);\n",
       "           }});\n",
       "       })();    \n",
       "   </script>"
      ]
     },
     "execution_count": 8,
     "metadata": {},
     "output_type": "execute_result"
    }
   ],
   "source": [
    "val p = lets_plot(df)\n",
    "p + geom_point(df, stat = Stat.count()) {x = \"displ\"; color = \"..count..\"; size = \"..count..\"}"
   ]
  },
  {
   "cell_type": "markdown",
   "metadata": {},
   "source": [
    "Change the pallete and the legend, add the title. "
   ]
  },
  {
   "cell_type": "code",
   "execution_count": 5,
   "metadata": {
    "jupyter": {
     "outputs_hidden": false
    },
    "pycharm": {
     "is_executing": false,
     "name": "#%%\n"
    }
   },
   "outputs": [
    {
     "data": {
      "text/html": [
       "   <div id=\"ZyrZIq\"></div>\n",
       "   <script type=\"text/javascript\" data-lets-plot-script=\"plot\">\n",
       "       (function() {\n",
       "           var plotSpec={\n",
       "'ggtitle':{\n",
       "'text':\"Displacement by horsepower\"\n",
       "},\n",
       "'mapping':{\n",
       "'color':\"cyl\",\n",
       "'x':\"displ\",\n",
       "'y':\"hwy\"\n",
       "},\n",
       "'data':{\n",
       "},\n",
       "'kind':\"plot\",\n",
       "'scales':[{\n",
       "'aesthetic':\"color\",\n",
       "'scale_mapper_kind':\"color_gradient\",\n",
       "'high':\"green\",\n",
       "'low':\"red\",\n",
       "'guide':{\n",
       "'ncol':2,\n",
       "'name':\"legend\"\n",
       "}\n",
       "}],\n",
       "'layers':[{\n",
       "'stat':\"identity\",\n",
       "'mapping':{\n",
       "},\n",
       "'data':{\n",
       "'cyl':[4.0,4.0,4.0,4.0,6.0,6.0,6.0,4.0,4.0,4.0,4.0,6.0,6.0,6.0,6.0,6.0,6.0,8.0,8.0,8.0,8.0,8.0,8.0,8.0,8.0,8.0,8.0,8.0,8.0,8.0,8.0,8.0,4.0,4.0,6.0,6.0,6.0,4.0,6.0,6.0,6.0,6.0,6.0,6.0,6.0,6.0,6.0,6.0,6.0,6.0,6.0,6.0,8.0,8.0,8.0,8.0,8.0,6.0,8.0,8.0,8.0,8.0,8.0,8.0,8.0,8.0,8.0,8.0,8.0,8.0,8.0,8.0,8.0,8.0,8.0,8.0,8.0,6.0,6.0,6.0,6.0,8.0,8.0,6.0,6.0,8.0,8.0,8.0,8.0,8.0,6.0,6.0,6.0,6.0,8.0,8.0,8.0,8.0,8.0,4.0,4.0,4.0,4.0,4.0,4.0,4.0,4.0,4.0,4.0,4.0,4.0,4.0,6.0,6.0,6.0,4.0,4.0,4.0,4.0,6.0,6.0,6.0,6.0,6.0,6.0,8.0,8.0,8.0,8.0,8.0,8.0,8.0,8.0,8.0,8.0,8.0,8.0,6.0,6.0,8.0,8.0,4.0,4.0,4.0,4.0,6.0,6.0,6.0,6.0,6.0,6.0,6.0,6.0,8.0,6.0,6.0,6.0,6.0,8.0,4.0,4.0,4.0,4.0,4.0,4.0,4.0,4.0,4.0,4.0,4.0,4.0,4.0,4.0,4.0,4.0,6.0,6.0,6.0,8.0,4.0,4.0,4.0,4.0,6.0,6.0,6.0,4.0,4.0,4.0,4.0,6.0,6.0,6.0,4.0,4.0,4.0,4.0,4.0,8.0,8.0,4.0,4.0,4.0,6.0,6.0,6.0,6.0,4.0,4.0,4.0,4.0,6.0,4.0,4.0,4.0,4.0,4.0,5.0,5.0,6.0,6.0,4.0,4.0,4.0,4.0,5.0,5.0,4.0,4.0,4.0,4.0,6.0,6.0,6.0],\n",
       "'displ':[1.8,1.8,2.0,2.0,2.8,2.8,3.1,1.8,1.8,2.0,2.0,2.8,2.8,3.1,3.1,2.8,3.1,4.2,5.3,5.3,5.3,5.7,6.0,5.7,5.7,6.2,6.2,7.0,5.3,5.3,5.7,6.5,2.4,2.4,3.1,3.5,3.6,2.4,3.0,3.3,3.3,3.3,3.3,3.3,3.8,3.8,3.8,4.0,3.7,3.7,3.9,3.9,4.7,4.7,4.7,5.2,5.2,3.9,4.7,4.7,4.7,5.2,5.7,5.9,4.7,4.7,4.7,4.7,4.7,4.7,5.2,5.2,5.7,5.9,4.6,5.4,5.4,4.0,4.0,4.0,4.0,4.6,5.0,4.2,4.2,4.6,4.6,4.6,5.4,5.4,3.8,3.8,4.0,4.0,4.6,4.6,4.6,4.6,5.4,1.6,1.6,1.6,1.6,1.6,1.8,1.8,1.8,2.0,2.4,2.4,2.4,2.4,2.5,2.5,3.3,2.0,2.0,2.0,2.0,2.7,2.7,2.7,3.0,3.7,4.0,4.7,4.7,4.7,5.7,6.1,4.0,4.2,4.4,4.6,5.4,5.4,5.4,4.0,4.0,4.6,5.0,2.4,2.4,2.5,2.5,3.5,3.5,3.0,3.0,3.5,3.3,3.3,4.0,5.6,3.1,3.8,3.8,3.8,5.3,2.5,2.5,2.5,2.5,2.5,2.5,2.2,2.2,2.5,2.5,2.5,2.5,2.5,2.5,2.7,2.7,3.4,3.4,4.0,4.7,2.2,2.2,2.4,2.4,3.0,3.0,3.5,2.2,2.2,2.4,2.4,3.0,3.0,3.3,1.8,1.8,1.8,1.8,1.8,4.7,5.7,2.7,2.7,2.7,3.4,3.4,4.0,4.0,2.0,2.0,2.0,2.0,2.8,1.9,2.0,2.0,2.0,2.0,2.5,2.5,2.8,2.8,1.9,1.9,2.0,2.0,2.5,2.5,1.8,1.8,2.0,2.0,2.8,2.8,3.6],\n",
       "'hwy':[29.0,29.0,31.0,30.0,26.0,26.0,27.0,26.0,25.0,28.0,27.0,25.0,25.0,25.0,25.0,24.0,25.0,23.0,20.0,15.0,20.0,17.0,17.0,26.0,23.0,26.0,25.0,24.0,19.0,14.0,15.0,17.0,27.0,30.0,26.0,29.0,26.0,24.0,24.0,22.0,22.0,24.0,24.0,17.0,22.0,21.0,23.0,23.0,19.0,18.0,17.0,17.0,19.0,19.0,12.0,17.0,15.0,17.0,17.0,12.0,17.0,16.0,18.0,15.0,16.0,12.0,17.0,17.0,16.0,12.0,15.0,16.0,17.0,15.0,17.0,17.0,18.0,17.0,19.0,17.0,19.0,19.0,17.0,17.0,17.0,16.0,16.0,17.0,15.0,17.0,26.0,25.0,26.0,24.0,21.0,22.0,23.0,22.0,20.0,33.0,32.0,32.0,29.0,32.0,34.0,36.0,36.0,29.0,26.0,27.0,30.0,31.0,26.0,26.0,28.0,26.0,29.0,28.0,27.0,24.0,24.0,24.0,22.0,19.0,20.0,17.0,12.0,19.0,18.0,14.0,15.0,18.0,18.0,15.0,17.0,16.0,18.0,17.0,19.0,19.0,17.0,29.0,27.0,31.0,32.0,27.0,26.0,26.0,25.0,25.0,17.0,17.0,20.0,18.0,26.0,26.0,27.0,28.0,25.0,25.0,24.0,27.0,25.0,26.0,23.0,26.0,26.0,26.0,26.0,25.0,27.0,25.0,27.0,20.0,20.0,19.0,17.0,20.0,17.0,29.0,27.0,31.0,31.0,26.0,26.0,28.0,27.0,29.0,31.0,31.0,26.0,26.0,27.0,30.0,33.0,35.0,37.0,35.0,15.0,18.0,20.0,20.0,22.0,17.0,19.0,18.0,20.0,29.0,26.0,29.0,29.0,24.0,44.0,29.0,26.0,29.0,29.0,29.0,29.0,23.0,24.0,44.0,41.0,29.0,26.0,28.0,29.0,29.0,29.0,28.0,29.0,26.0,26.0,26.0]\n",
       "},\n",
       "'position':\"nudge\",\n",
       "'geom':\"point\"\n",
       "}]\n",
       "};\n",
       "           var plotContainer = document.getElementById(\"ZyrZIq\");\n",
       "           window.letsPlotCall(function() {{\n",
       "               LetsPlot.buildPlotFromProcessedSpecs(plotSpec, -1, -1, plotContainer);\n",
       "           }});\n",
       "       })();    \n",
       "   </script>"
      ]
     },
     "execution_count": 5,
     "metadata": {},
     "output_type": "execute_result"
    }
   ],
   "source": [
    "val p = lets_plot(df) {x = \"displ\"; y = \"hwy\"; color = \"cyl\"}\n",
    "p + \n",
    "    geom_point(df, position = Pos.nudge) + \n",
    "    scale_color_continuous(\"red\", \"green\", guide = guide_legend(ncol=2)) + \n",
    "    ggtitle(\"Displacement by horsepower\")    "
   ]
  },
  {
   "cell_type": "markdown",
   "metadata": {},
   "source": [
    "Apply the randomly stratified sampling to select points from each group proportionally \n",
    "to the group size."
   ]
  },
  {
   "cell_type": "code",
   "execution_count": 6,
   "metadata": {
    "jupyter": {
     "outputs_hidden": false
    },
    "pycharm": {
     "is_executing": false,
     "name": "#%%\n"
    }
   },
   "outputs": [
    {
     "data": {
      "text/html": [
       "   <div id=\"8baFlF\"></div>\n",
       "   <script type=\"text/javascript\" data-lets-plot-script=\"plot\">\n",
       "       (function() {\n",
       "           var plotSpec={\n",
       "'mapping':{\n",
       "'color':\"cyl\",\n",
       "'x':\"displ\",\n",
       "'y':\"hwy\"\n",
       "},\n",
       "'data':{\n",
       "},\n",
       "'kind':\"plot\",\n",
       "'computation_messages':[\"sampling_random_stratified(n=40) was applied to [point/identity stat] layer\"],\n",
       "'scales':[{\n",
       "'aesthetic':\"color\",\n",
       "'scale_mapper_kind':\"color_gradient\",\n",
       "'high':\"pink\",\n",
       "'low':\"blue\",\n",
       "'guide':{\n",
       "'ncol':2,\n",
       "'name':\"legend\"\n",
       "}\n",
       "}],\n",
       "'layers':[{\n",
       "'stat':\"identity\",\n",
       "'mapping':{\n",
       "},\n",
       "'data':{\n",
       "'cyl':[6.0,4.0,4.0,6.0,8.0,8.0,8.0,6.0,6.0,8.0,8.0,6.0,6.0,8.0,4.0,4.0,6.0,4.0,4.0,8.0,8.0,8.0,6.0,6.0,6.0,6.0,6.0,4.0,4.0,4.0,4.0,6.0,6.0,6.0,6.0,8.0,4.0,6.0,6.0,4.0],\n",
       "'displ':[3.1,1.8,2.0,3.1,5.7,5.3,6.5,3.1,3.3,5.7,4.6,4.0,4.2,4.6,1.8,2.4,2.5,2.0,2.0,4.6,5.4,5.0,3.0,3.0,3.3,3.8,3.8,2.5,2.5,2.2,2.5,4.0,3.0,3.0,3.5,4.7,2.7,4.0,2.8,2.0],\n",
       "'hwy':[27.0,25.0,27.0,25.0,26.0,14.0,17.0,26.0,24.0,17.0,17.0,19.0,17.0,23.0,34.0,27.0,26.0,26.0,28.0,15.0,16.0,17.0,26.0,25.0,17.0,26.0,27.0,25.0,26.0,26.0,25.0,20.0,26.0,26.0,28.0,15.0,22.0,20.0,24.0,26.0]\n",
       "},\n",
       "'sampling':{\n",
       "'name':\"random_stratified\",\n",
       "'n':40\n",
       "},\n",
       "'position':\"nudge\",\n",
       "'geom':\"point\"\n",
       "}]\n",
       "};\n",
       "           var plotContainer = document.getElementById(\"8baFlF\");\n",
       "           window.letsPlotCall(function() {{\n",
       "               LetsPlot.buildPlotFromProcessedSpecs(plotSpec, -1, -1, plotContainer);\n",
       "           }});\n",
       "       })();    \n",
       "   </script>"
      ]
     },
     "execution_count": 6,
     "metadata": {},
     "output_type": "execute_result"
    }
   ],
   "source": [
    "val p = lets_plot(df) {x = \"displ\"; y = \"hwy\"; color = \"cyl\"}\n",
    "p   + geom_point(\n",
    "      data=df, position=Pos.nudge, \n",
    "      sampling = sampling_random_stratified(40)\n",
    "  ) + scale_color_continuous(\n",
    "      \"blue\", \"pink\",\n",
    "      guide = guide_legend(ncol=2)\n",
    "  )"
   ]
  }
 ],
 "metadata": {
  "kernelspec": {
   "display_name": "Kotlin",
   "language": "kotlin",
   "name": "kotlin"
  },
  "language_info": {
   "codemirror_mode": "text/x-kotlin",
   "file_extension": ".kt",
   "mimetype": "text/x-kotlin",
   "name": "kotlin",
   "pygments_lexer": "kotlin",
   "version": "1.4.20-dev-2342"
  }
 },
 "nbformat": 4,
 "nbformat_minor": 4
}